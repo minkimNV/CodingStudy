{
 "cells": [
  {
   "cell_type": "markdown",
   "id": "9550a5f0",
   "metadata": {},
   "source": [
    "# K-NN (K-Nearest Neighbor) Classifier"
   ]
  },
  {
   "cell_type": "markdown",
   "id": "78903688",
   "metadata": {},
   "source": [
    "- '비슷한 특성을 가진 데이터는 비슷한 범주에 속한다'는 가정 하에 정답(y/ target)을 예측하는 가장 간단한 머신러닝 알고리즘"
   ]
  },
  {
   "cell_type": "markdown",
   "id": "0dc78a47",
   "metadata": {},
   "source": [
    "# 1. 데이터 준비"
   ]
  },
  {
   "cell_type": "markdown",
   "id": "f24b1ff0",
   "metadata": {},
   "source": [
    "- **도미 데이터**"
   ]
  },
  {
   "cell_type": "code",
   "execution_count": 1,
   "id": "e7b3583a",
   "metadata": {},
   "outputs": [],
   "source": [
    "bream_length = [25.4, 26.3, 26.5, 29.0, 29.0, 29.7, 29.7, 30.0, 30.0, 30.7, 31.0, 31.0, 31.5, 32.0, 32.0, 32.0, 33.0, 33.0, 33.5, 33.5, 34.0, 34.0, 34.5, 35.0, 35.0, 35.0, 35.0, 36.0, 36.0, 37.0, 38.5, 38.5, 39.5, 41.0, 41.0]\n",
    "bream_weight = [242.0, 290.0, 340.0, 363.0, 430.0, 450.0, 500.0, 390.0, 450.0, 500.0, 475.0, 500.0, 500.0, 340.0, 600.0, 600.0, 700.0, 700.0, 610.0, 650.0, 575.0, 685.0, 620.0, 680.0, 700.0, 725.0, 720.0, 714.0, 850.0, 1000.0, 920.0, 955.0, 925.0, 975.0, 950.0]"
   ]
  },
  {
   "cell_type": "markdown",
   "id": "805db566",
   "metadata": {},
   "source": [
    "- **빙어 데이터**"
   ]
  },
  {
   "cell_type": "code",
   "execution_count": 2,
   "id": "fd1faee8",
   "metadata": {},
   "outputs": [],
   "source": [
    "smelt_length = [9.8, 10.5, 10.6, 11.0, 11.2, 11.3, 11.8, 11.8, 12.0, 12.2, 12.4, 13.0, 14.3, 15.0]\n",
    "smelt_weight = [6.7, 7.5, 7.0, 9.7, 9.8, 8.7, 10.0, 9.9, 9.8, 12.2, 13.4, 12.2, 19.7, 19.9]"
   ]
  },
  {
   "cell_type": "markdown",
   "id": "a1612878",
   "metadata": {},
   "source": [
    "- **도미, 빙어 데이터 합치기**"
   ]
  },
  {
   "cell_type": "code",
   "execution_count": 3,
   "id": "a668d219",
   "metadata": {},
   "outputs": [
    {
     "name": "stdout",
     "output_type": "stream",
     "text": [
      "length.shape: 49\n",
      "weight.shape: 49\n"
     ]
    }
   ],
   "source": [
    "length = bream_length + smelt_length # 도미와 빙어의 '길이' 리스트를 합친 length 리스트 생성.\n",
    "weight = bream_weight + smelt_weight # 도미와 빙어의 '무게' 리스트를 합친 weight 리스트 생성.\n",
    "\n",
    "print('length.shape:', len(length))\n",
    "print('weight.shape:', len(weight)) # 리스트 길이 출력"
   ]
  },
  {
   "cell_type": "markdown",
   "id": "fdb004d3",
   "metadata": {},
   "source": [
    "- **scikit-learn 패키지를 사용하기 위해 리스트 형식의 데이터를 '2차원 리스트'로 변환하기**: `zip` 함수와 리스트 내포 구문을 이용\n",
    "- **2차원 리스트 형태의 데이터를 넘파이 배열로 변환하기**: `numpy.array()` method 이용\n",
    "    - 2차원 리스트가 가지런한 행 & 열을 가질 수 있다."
   ]
  },
  {
   "cell_type": "code",
   "execution_count": 4,
   "id": "707b9a88",
   "metadata": {},
   "outputs": [],
   "source": [
    "import numpy as np\n",
    "\n",
    "fish_data = [\n",
    "             [length, weight] for length, weight in zip(length, weight)\n",
    "            ]\n",
    "\n",
    "fish_data = np.array(fish_data)"
   ]
  },
  {
   "cell_type": "markdown",
   "id": "9197edbd",
   "metadata": {},
   "source": [
    "- **타겟이 도미, 빙어 두 종류이기 때문에 이진분류**\n",
    "- 다음 챕터에서는 다른 방식으로 이진분류를 해보겠다."
   ]
  },
  {
   "cell_type": "code",
   "execution_count": 5,
   "id": "d9713e7e",
   "metadata": {},
   "outputs": [],
   "source": [
    "fish_target = [1] * 35 + [0] * 14 # 도미 35 마리, 빙어 14 마리\n",
    "fish_target = np.array(fish_target)"
   ]
  },
  {
   "cell_type": "markdown",
   "id": "0792b716",
   "metadata": {},
   "source": [
    "# 2. 머신러닝 훈련"
   ]
  },
  {
   "cell_type": "code",
   "execution_count": 6,
   "id": "1c209c7f",
   "metadata": {},
   "outputs": [
    {
     "data": {
      "text/plain": [
       "1.0"
      ]
     },
     "execution_count": 6,
     "metadata": {},
     "output_type": "execute_result"
    }
   ],
   "source": [
    "from sklearn.neighbors import KNeighborsClassifier # K-NN Classifier 호출\n",
    "kn = KNeighborsClassifier() # 분류 모델 객체 정의\n",
    "kn.fit(fish_data, fish_target) # 분류 모델 학습\n",
    "kn.score(fish_data, fish_target) # 잘 학습되었는지 R^2 값 확인"
   ]
  },
  {
   "cell_type": "markdown",
   "id": "acca9162",
   "metadata": {},
   "source": [
    "# 3. 데이터 분리\n",
    "- 위의 과정은 훈련 세트와 테스트 세트를 분리하지 않았다. 훈련 데이터 그대로 테스트해서 완벽하게 훈련되었다는 점수 (1.0)이 나온 것이다. 알고리즘의 성능을 제대로 평가하기 위해서는 훈련 세트와 테스트 세트를 분리해서 모델 학습을 해야한다."
   ]
  },
  {
   "cell_type": "code",
   "execution_count": 7,
   "id": "acefb8fc",
   "metadata": {},
   "outputs": [
    {
     "name": "stdout",
     "output_type": "stream",
     "text": [
      "(39, 2) (10, 2)\n",
      "[1 1 1 1 1 1 0 0 0 1 1 1 1 1 1 1 0 1 1 1 1 0 1 1 1 0 0 1 0 1 1 1 0 1 1 0 1\n",
      " 1 0] [1 0 0 0 1 1 1 1 1 1]\n"
     ]
    }
   ],
   "source": [
    "from sklearn.model_selection import train_test_split\n",
    "train_data, test_data, train_target, test_target = train_test_split(fish_data, fish_target, test_size = 0.2, random_state = 42)\n",
    "print(train_data.shape, test_data.shape)\n",
    "print(train_target, test_target)"
   ]
  },
  {
   "cell_type": "markdown",
   "id": "093ef854",
   "metadata": {},
   "source": [
    "- 주로 `scikit-learn` 에서 `train_test_split`을 호출해 훈련 세트와 테스트 세트를 나눈다. 하지만 여기서는 랜덤 샘플링을 위해 다른 방식을 써볼 것이다. "
   ]
  },
  {
   "cell_type": "markdown",
   "id": "f76ac7f7",
   "metadata": {},
   "source": [
    "## 3-1. Random Sampling (랜덤 샘플링)\n",
    "- 데이터를 분리할 때에는 각 타겟이 골고루 섞여야한다.\n",
    "- `numpy`에서 제공하는 함수를 이용한다.\n",
    "- 각 넘파이 배열에서 동일한 인덱스에 대응되는 원소가 같이 선택되기 때문에, 0 ~ 48의 인덱스 중 임의로 35개의 인덱스를 선택하고 해당 원소를 뽑아내는 방식으로 훈련 세트를 만들 수 있다."
   ]
  },
  {
   "cell_type": "code",
   "execution_count": 8,
   "id": "d3cee84d",
   "metadata": {},
   "outputs": [
    {
     "name": "stdout",
     "output_type": "stream",
     "text": [
      "[13 45 47 44 17 27 26 25 31 19 12  4 34  8  3  6 40 41 46 15  9 16 24 33\n",
      " 30  0 43 32  5 29 11 36  1 21  2 37 35 23 39 10 22 18 48 20  7 42 14 28\n",
      " 38]\n"
     ]
    }
   ],
   "source": [
    "np.random.seed(42) # 무작위 결과를 만드는 함수를 실행할 때에는 일정한 결과를 얻기 위해 random.seed 값을 설정해주어야 한다.\n",
    "                        # random_state 매개변수를 설정하는 것과 같은 이유이다.\n",
    "index = np.arange(49) # [0, 1, 2, 3, 4, ..., 48]\n",
    "np.random.shuffle(index) # 인덱스 기준으로 샘플들을 섞어준다.\n",
    "print(index) # 잘 섞였는지 확인"
   ]
  },
  {
   "cell_type": "code",
   "execution_count": 9,
   "id": "b7bca340",
   "metadata": {},
   "outputs": [
    {
     "name": "stdout",
     "output_type": "stream",
     "text": [
      "[1 0 0 0 1 1 1 1 1 1 1 1 1 1 1 1 0 0 0 1 1 1 1 1 1 1 0 1 1 1 1 0 1 1 1] [0 0 1 0 1 1 1 0 1 1 0 1 1 0]\n",
      "(35, 2) (14, 2)\n"
     ]
    }
   ],
   "source": [
    "train_data = fish_data[index[:35]]\n",
    "train_target = fish_target[index[:35]]\n",
    "\n",
    "test_data = fish_data[index[35:]]\n",
    "test_target = fish_target[index[35:]]\n",
    "\n",
    "print(train_target, test_target)\n",
    "print(train_data.shape, test_data.shape)"
   ]
  },
  {
   "cell_type": "markdown",
   "id": "32985483",
   "metadata": {},
   "source": [
    "##### numpy의 Array Indexing 기능\n",
    "- 배열 인덱싱은 여러 개의 인덱스로 한 번에 여러 원소를 선택할 수 있다. `예시: fish_data[[1, 3]]`\n",
    "- 따라서 `fish_data[index[:35]`는  인덱스 0 부터 34까지에 해당하는 원소들을 배열로 반환한다."
   ]
  },
  {
   "cell_type": "markdown",
   "id": "1f5ea98e",
   "metadata": {},
   "source": [
    "# 5. 분리한 데이터 시각화"
   ]
  },
  {
   "cell_type": "code",
   "execution_count": 10,
   "id": "1b33aaa7",
   "metadata": {},
   "outputs": [
    {
     "data": {
      "image/png": "[encoded data removed]",
      "text/plain": [
       "<Figure size 640x480 with 1 Axes>"
      ]
     },
     "metadata": {},
     "output_type": "display_data"
    }
   ],
   "source": [
    "import matplotlib.pyplot as plt\n",
    "\n",
    "plt.scatter(train_data[:, 0], train_data[:, 1], label = 'train_data')\n",
    "plt.scatter(test_data[:, 0], test_data[:, 1], label = 'test_data')\n",
    "plt.legend(loc = 0)\n",
    "\n",
    "plt.xlabel('length')\n",
    "plt.ylabel('weight')\n",
    "plt.show()"
   ]
  },
  {
   "cell_type": "markdown",
   "id": "8f4d7c24",
   "metadata": {},
   "source": [
    "# 6. 머신러닝 재훈련"
   ]
  },
  {
   "cell_type": "code",
   "execution_count": 11,
   "id": "926ed64d",
   "metadata": {},
   "outputs": [
    {
     "name": "stdout",
     "output_type": "stream",
     "text": [
      "1.0\n",
      "1.0\n"
     ]
    }
   ],
   "source": [
    "kn.fit(train_data, train_target)\n",
    "print(kn.score(train_data, train_target))\n",
    "print(kn.score(test_data, test_target))"
   ]
  },
  {
   "cell_type": "markdown",
   "id": "6020d343",
   "metadata": {},
   "source": [
    "# 7. 정확도 비교, 평가"
   ]
  },
  {
   "cell_type": "code",
   "execution_count": 12,
   "id": "095a3565",
   "metadata": {},
   "outputs": [
    {
     "name": "stdout",
     "output_type": "stream",
     "text": [
      "1.0\n"
     ]
    }
   ],
   "source": [
    "from sklearn.metrics import accuracy_score\n",
    "\n",
    "pred = kn.predict(test_data)\n",
    "print(accuracy_score(test_target, pred))"
   ]
  },
  {
   "cell_type": "code",
   "execution_count": 13,
   "id": "e5efa539",
   "metadata": {},
   "outputs": [
    {
     "name": "stdout",
     "output_type": "stream",
     "text": [
      "[0 0 1 0 1 1 1 0 1 1 0 1 1 0]\n",
      "[0 0 1 0 1 1 1 0 1 1 0 1 1 0]\n"
     ]
    }
   ],
   "source": [
    "print(pred)\n",
    "print(test_target) # 예측한 결과와 테스트 타겟 데이터와 일치."
   ]
  },
  {
   "cell_type": "code",
   "execution_count": null,
   "id": "81ec43cc",
   "metadata": {},
   "outputs": [],
   "source": []
  }
 ],
 "metadata": {
  "kernelspec": {
   "display_name": "Python 3 (ipykernel)",
   "language": "python",
   "name": "python3"
  },
  "language_info": {
   "codemirror_mode": {
    "name": "ipython",
    "version": 3
   },
   "file_extension": ".py",
   "mimetype": "text/x-python",
   "name": "python",
   "nbconvert_exporter": "python",
   "pygments_lexer": "ipython3",
   "version": "3.10.9"
  }
 },
 "nbformat": 4,
 "nbformat_minor": 5
}

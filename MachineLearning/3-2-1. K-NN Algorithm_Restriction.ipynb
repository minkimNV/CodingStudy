{
 "cells": [
  {
   "cell_type": "markdown",
   "id": "55742a0c",
   "metadata": {},
   "source": [
    "### 농어(perch)의 길이 데이터를 통해 농어 무게 예측하는 모델 만들기"
   ]
  },
  {
   "cell_type": "markdown",
   "id": "cd472915",
   "metadata": {},
   "source": [
    "# 1. 데이터 준비"
   ]
  },
  {
   "cell_type": "code",
   "execution_count": 1,
   "id": "9576ae1b",
   "metadata": {},
   "outputs": [],
   "source": [
    "import numpy as np\n",
    "\n",
    "perch_length = np.array(\n",
    "    [8.4, 13.7, 15.0, 16.2, 17.4, 18.0, 18.7, 19.0, 19.6, 20.0, \n",
    "     21.0, 21.0, 21.0, 21.3, 22.0, 22.0, 22.0, 22.0, 22.0, 22.5, \n",
    "     22.5, 22.7, 23.0, 23.5, 24.0, 24.0, 24.6, 25.0, 25.6, 26.5, \n",
    "     27.3, 27.5, 27.5, 27.5, 28.0, 28.7, 30.0, 32.8, 34.5, 35.0, \n",
    "     36.5, 36.0, 37.0, 37.0, 39.0, 39.0, 39.0, 40.0, 40.0, 40.0, \n",
    "     40.0, 42.0, 43.0, 43.0, 43.5, 44.0]\n",
    "     ) # 농어 길이에 해당하는 값의 리스트 - np.array에 전달\n",
    "\n",
    "perch_weight = np.array(\n",
    "    [5.9, 32.0, 40.0, 51.5, 70.0, 100.0, 78.0, 80.0, 85.0, 85.0, \n",
    "     110.0, 115.0, 125.0, 130.0, 120.0, 120.0, 130.0, 135.0, 110.0, \n",
    "     130.0, 150.0, 145.0, 150.0, 170.0, 225.0, 145.0, 188.0, 180.0, \n",
    "     197.0, 218.0, 300.0, 260.0, 265.0, 250.0, 250.0, 300.0, 320.0, \n",
    "     514.0, 556.0, 840.0, 685.0, 700.0, 700.0, 690.0, 900.0, 650.0, \n",
    "     820.0, 850.0, 900.0, 1015.0, 820.0, 1100.0, 1000.0, 1100.0, \n",
    "     1000.0, 1000.0]\n",
    "     ) # 농어 무게에 해당하는 값의 리스트 - np.array에 전달\n"
   ]
  },
  {
   "cell_type": "code",
   "execution_count": 2,
   "id": "cbc94be5",
   "metadata": {},
   "outputs": [],
   "source": [
    "from sklearn.model_selection import train_test_split\n",
    "    # 훈련 데이터와 테스트 데이터 분리하기\n",
    "    \n",
    "train_data, test_data, train_target, test_target = train_test_split(\n",
    "    perch_length, perch_weight, random_state = 42)\n",
    "\n",
    "train_data = train_data.reshape(-1,1) # 2차원 배열로 변경하기\n",
    "test_data = test_data.reshape(-1,1) # 2차원 배열로 변경하기"
   ]
  },
  {
   "cell_type": "markdown",
   "id": "a0b45a9f",
   "metadata": {},
   "source": [
    "# 2. 모델 학습 (K-NN Regression)"
   ]
  },
  {
   "cell_type": "code",
   "execution_count": 3,
   "id": "28008680",
   "metadata": {},
   "outputs": [
    {
     "data": {
      "text/html": [
       "<style>#sk-container-id-1 {color: black;background-color: white;}#sk-container-id-1 pre{padding: 0;}#sk-container-id-1 div.sk-toggleable {background-color: white;}#sk-container-id-1 label.sk-toggleable__label {cursor: pointer;display: block;width: 100%;margin-bottom: 0;padding: 0.3em;box-sizing: border-box;text-align: center;}#sk-container-id-1 label.sk-toggleable__label-arrow:before {content: \"▸\";float: left;margin-right: 0.25em;color: #696969;}#sk-container-id-1 label.sk-toggleable__label-arrow:hover:before {color: black;}#sk-container-id-1 div.sk-estimator:hover label.sk-toggleable__label-arrow:before {color: black;}#sk-container-id-1 div.sk-toggleable__content {max-height: 0;max-width: 0;overflow: hidden;text-align: left;background-color: #f0f8ff;}#sk-container-id-1 div.sk-toggleable__content pre {margin: 0.2em;color: black;border-radius: 0.25em;background-color: #f0f8ff;}#sk-container-id-1 input.sk-toggleable__control:checked~div.sk-toggleable__content {max-height: 200px;max-width: 100%;overflow: auto;}#sk-container-id-1 input.sk-toggleable__control:checked~label.sk-toggleable__label-arrow:before {content: \"▾\";}#sk-container-id-1 div.sk-estimator input.sk-toggleable__control:checked~label.sk-toggleable__label {background-color: #d4ebff;}#sk-container-id-1 div.sk-label input.sk-toggleable__control:checked~label.sk-toggleable__label {background-color: #d4ebff;}#sk-container-id-1 input.sk-hidden--visually {border: 0;clip: rect(1px 1px 1px 1px);clip: rect(1px, 1px, 1px, 1px);height: 1px;margin: -1px;overflow: hidden;padding: 0;position: absolute;width: 1px;}#sk-container-id-1 div.sk-estimator {font-family: monospace;background-color: #f0f8ff;border: 1px dotted black;border-radius: 0.25em;box-sizing: border-box;margin-bottom: 0.5em;}#sk-container-id-1 div.sk-estimator:hover {background-color: #d4ebff;}#sk-container-id-1 div.sk-parallel-item::after {content: \"\";width: 100%;border-bottom: 1px solid gray;flex-grow: 1;}#sk-container-id-1 div.sk-label:hover label.sk-toggleable__label {background-color: #d4ebff;}#sk-container-id-1 div.sk-serial::before {content: \"\";position: absolute;border-left: 1px solid gray;box-sizing: border-box;top: 0;bottom: 0;left: 50%;z-index: 0;}#sk-container-id-1 div.sk-serial {display: flex;flex-direction: column;align-items: center;background-color: white;padding-right: 0.2em;padding-left: 0.2em;position: relative;}#sk-container-id-1 div.sk-item {position: relative;z-index: 1;}#sk-container-id-1 div.sk-parallel {display: flex;align-items: stretch;justify-content: center;background-color: white;position: relative;}#sk-container-id-1 div.sk-item::before, #sk-container-id-1 div.sk-parallel-item::before {content: \"\";position: absolute;border-left: 1px solid gray;box-sizing: border-box;top: 0;bottom: 0;left: 50%;z-index: -1;}#sk-container-id-1 div.sk-parallel-item {display: flex;flex-direction: column;z-index: 1;position: relative;background-color: white;}#sk-container-id-1 div.sk-parallel-item:first-child::after {align-self: flex-end;width: 50%;}#sk-container-id-1 div.sk-parallel-item:last-child::after {align-self: flex-start;width: 50%;}#sk-container-id-1 div.sk-parallel-item:only-child::after {width: 0;}#sk-container-id-1 div.sk-dashed-wrapped {border: 1px dashed gray;margin: 0 0.4em 0.5em 0.4em;box-sizing: border-box;padding-bottom: 0.4em;background-color: white;}#sk-container-id-1 div.sk-label label {font-family: monospace;font-weight: bold;display: inline-block;line-height: 1.2em;}#sk-container-id-1 div.sk-label-container {text-align: center;}#sk-container-id-1 div.sk-container {/* jupyter's `normalize.less` sets `[hidden] { display: none; }` but bootstrap.min.css set `[hidden] { display: none !important; }` so we also need the `!important` here to be able to override the default hidden behavior on the sphinx rendered scikit-learn.org. See: https://github.com/scikit-learn/scikit-learn/issues/21755 */display: inline-block !important;position: relative;}#sk-container-id-1 div.sk-text-repr-fallback {display: none;}</style><div id=\"sk-container-id-1\" class=\"sk-top-container\"><div class=\"sk-text-repr-fallback\"><pre>KNeighborsRegressor(n_neighbors=3)</pre><b>In a Jupyter environment, please rerun this cell to show the HTML representation or trust the notebook. <br />On GitHub, the HTML representation is unable to render, please try loading this page with nbviewer.org.</b></div><div class=\"sk-container\" hidden><div class=\"sk-item\"><div class=\"sk-estimator sk-toggleable\"><input class=\"sk-toggleable__control sk-hidden--visually\" id=\"sk-estimator-id-1\" type=\"checkbox\" checked><label for=\"sk-estimator-id-1\" class=\"sk-toggleable__label sk-toggleable__label-arrow\">KNeighborsRegressor</label><div class=\"sk-toggleable__content\"><pre>KNeighborsRegressor(n_neighbors=3)</pre></div></div></div></div></div>"
      ],
      "text/plain": [
       "KNeighborsRegressor(n_neighbors=3)"
      ]
     },
     "execution_count": 3,
     "metadata": {},
     "output_type": "execute_result"
    }
   ],
   "source": [
    "from sklearn.neighbors import KNeighborsRegressor\n",
    "   \n",
    "knr = KNeighborsRegressor(n_neighbors = 3) # 객체 지정, 이웃의 수 설정\n",
    "knr.fit(train_data, train_target) # 훈련 세트를 모델 객체에 전달해 모델 학습시키기"
   ]
  },
  {
   "cell_type": "markdown",
   "id": "61af3467",
   "metadata": {},
   "source": [
    "# 3. 예측 및 이웃 샘플 구하기"
   ]
  },
  {
   "cell_type": "code",
   "execution_count": 4,
   "id": "2fd6728f",
   "metadata": {},
   "outputs": [
    {
     "data": {
      "text/plain": [
       "array([1033.33333333])"
      ]
     },
     "execution_count": 4,
     "metadata": {},
     "output_type": "execute_result"
    }
   ],
   "source": [
    "knr.predict([[50]]) # 길이가 50인 농어의 몸무게를 예측하기 output = 1033"
   ]
  },
  {
   "cell_type": "code",
   "execution_count": 5,
   "id": "f55480f2",
   "metadata": {},
   "outputs": [
    {
     "name": "stdout",
     "output_type": "stream",
     "text": [
      "distances:  [[6. 7. 7.]]\n",
      "indexes:  [[34  8 14]]\n"
     ]
    }
   ],
   "source": [
    "distances, indexes = knr.kneighbors([[50]])\n",
    "print('distances: ', distances)\n",
    "print('indexes: ', indexes)"
   ]
  },
  {
   "cell_type": "markdown",
   "id": "49ac2797",
   "metadata": {},
   "source": [
    "## 3-1. 데이터 시각화 (이웃 샘플 포함)"
   ]
  },
  {
   "cell_type": "code",
   "execution_count": 6,
   "id": "9727844b",
   "metadata": {},
   "outputs": [
    {
     "data": {
      "image/png": "[encoded data removed]",
      "text/plain": [
       "<Figure size 640x480 with 1 Axes>"
      ]
     },
     "metadata": {},
     "output_type": "display_data"
    }
   ],
   "source": [
    "import matplotlib.pyplot as plt\n",
    "\n",
    "plt.scatter(train_data, train_target)\n",
    "plt.scatter(50, 1033, marker = '^')\n",
    "plt.scatter(train_data[indexes], train_target[indexes], marker = 'D')\n",
    "plt.show()"
   ]
  },
  {
   "cell_type": "code",
   "execution_count": 7,
   "id": "b18f755f",
   "metadata": {},
   "outputs": [
    {
     "data": {
      "text/plain": [
       "1033.3333333333333"
      ]
     },
     "execution_count": 7,
     "metadata": {},
     "output_type": "execute_result"
    }
   ],
   "source": [
    "np.mean(train_target[indexes]) # 가까운 이웃에 해당하는 물고기들의 평균 몸무게(target)"
   ]
  },
  {
   "cell_type": "markdown",
   "id": "37804f22",
   "metadata": {},
   "source": [
    "# 4. K-NN 알고리즘의 한계"
   ]
  },
  {
   "cell_type": "code",
   "execution_count": 8,
   "id": "6631704c",
   "metadata": {},
   "outputs": [
    {
     "data": {
      "text/plain": [
       "array([1033.33333333])"
      ]
     },
     "execution_count": 8,
     "metadata": {},
     "output_type": "execute_result"
    }
   ],
   "source": [
    "# knr.predict([[50]]) = 1033\n",
    "knr.predict([[100]])"
   ]
  },
  {
   "cell_type": "code",
   "execution_count": 9,
   "id": "483efc7e",
   "metadata": {},
   "outputs": [
    {
     "data": {
      "image/png": "[encoded data removed]",
      "text/plain": [
       "<Figure size 640x480 with 1 Axes>"
      ]
     },
     "metadata": {},
     "output_type": "display_data"
    }
   ],
   "source": [
    "distances, indexes = knr.kneighbors([[100]])\n",
    "    # 100 cm 농어의 이웃을 구한다.\n",
    "\n",
    "plt.scatter(train_data, train_target)\n",
    "plt.scatter(100, 1033, marker = '^')\n",
    "plt.scatter(train_data[indexes], train_target[indexes], marker = 'D')\n",
    "plt.show()"
   ]
  },
  {
   "cell_type": "markdown",
   "id": "9fa48abc",
   "metadata": {},
   "source": [
    "- **K-NN 알고리즘은 가장 가까운 거리에 있는 데이터와 같은 범주에 있다는 가정 하에 예측을 하기 때문에 길이가 길어질수록 무게가 증가함에도 불구하고 데이터 상에서는 일정 길이 이상부터는 무게가 증가하지 않는 예측을 할 것이다. 이런 오류를 피하기 위해서 독립 변수가 1개일 때는 단순선형회귀를, 1개의 독립 변수의 차수를 증가 시키는 다항선형회귀를, 2개 이상의 독립변수를 가질 때에는 다중선형회귀를 사용할 수 있다.**"
   ]
  }
 ],
 "metadata": {
  "kernelspec": {
   "display_name": "Python 3 (ipykernel)",
   "language": "python",
   "name": "python3"
  },
  "language_info": {
   "codemirror_mode": {
    "name": "ipython",
    "version": 3
   },
   "file_extension": ".py",
   "mimetype": "text/x-python",
   "name": "python",
   "nbconvert_exporter": "python",
   "pygments_lexer": "ipython3",
   "version": "3.10.9"
  }
 },
 "nbformat": 4,
 "nbformat_minor": 5
}

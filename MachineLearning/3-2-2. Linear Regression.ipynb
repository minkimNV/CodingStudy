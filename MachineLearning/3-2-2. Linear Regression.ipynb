{
 "cells": [
  {
   "cell_type": "markdown",
   "id": "389ffeeb",
   "metadata": {},
   "source": [
    "### 농어(perch)의 길이 데이터를 통해 농어 무게 예측하는 모델 만들기"
   ]
  },
  {
   "cell_type": "markdown",
   "id": "cd472915",
   "metadata": {},
   "source": [
    "# 1. 데이터 준비"
   ]
  },
  {
   "cell_type": "code",
   "execution_count": 1,
   "id": "9576ae1b",
   "metadata": {},
   "outputs": [],
   "source": [
    "import numpy as np\n",
    "\n",
    "perch_length = np.array(\n",
    "    [8.4, 13.7, 15.0, 16.2, 17.4, 18.0, 18.7, 19.0, 19.6, 20.0, \n",
    "     21.0, 21.0, 21.0, 21.3, 22.0, 22.0, 22.0, 22.0, 22.0, 22.5, \n",
    "     22.5, 22.7, 23.0, 23.5, 24.0, 24.0, 24.6, 25.0, 25.6, 26.5, \n",
    "     27.3, 27.5, 27.5, 27.5, 28.0, 28.7, 30.0, 32.8, 34.5, 35.0, \n",
    "     36.5, 36.0, 37.0, 37.0, 39.0, 39.0, 39.0, 40.0, 40.0, 40.0, \n",
    "     40.0, 42.0, 43.0, 43.0, 43.5, 44.0]\n",
    "     ) # 농어 길이에 해당하는 값의 리스트 - np.array에 전달\n",
    "\n",
    "perch_weight = np.array(\n",
    "    [5.9, 32.0, 40.0, 51.5, 70.0, 100.0, 78.0, 80.0, 85.0, 85.0, \n",
    "     110.0, 115.0, 125.0, 130.0, 120.0, 120.0, 130.0, 135.0, 110.0, \n",
    "     130.0, 150.0, 145.0, 150.0, 170.0, 225.0, 145.0, 188.0, 180.0, \n",
    "     197.0, 218.0, 300.0, 260.0, 265.0, 250.0, 250.0, 300.0, 320.0, \n",
    "     514.0, 556.0, 840.0, 685.0, 700.0, 700.0, 690.0, 900.0, 650.0, \n",
    "     820.0, 850.0, 900.0, 1015.0, 820.0, 1100.0, 1000.0, 1100.0, \n",
    "     1000.0, 1000.0]\n",
    "     ) # 농어 무게에 해당하는 값의 리스트 - np.array에 전달\n",
    "\n",
    "from sklearn.model_selection import train_test_split\n",
    "train_data, test_data, train_target, test_target = train_test_split(perch_length, perch_weight, random_state = 42)\n",
    "\n",
    "train_data = train_data.reshape(-1,1)\n",
    "test_data = test_data.reshape(-1,1)\n"
   ]
  },
  {
   "cell_type": "markdown",
   "id": "3c3392b7",
   "metadata": {},
   "source": [
    "# 2. 모델 학습 (Linear Regression)\n",
    "\n",
    "##### 선형회귀\n",
    "- 널리 사용되는 대표적인 회귀 알고리즘\n",
    "- 하나의 독립변수 사용\n",
    "- $y = Wx + b : (y = dependent variable, W = weight, x = independent variable, b = bias)$\n",
    "- 직선의 그래프\n",
    "- W = coef_ 변수에 저장\n",
    "- b = intercept_ 변수에 저장"
   ]
  },
  {
   "cell_type": "code",
   "execution_count": 2,
   "id": "f0bc5696",
   "metadata": {},
   "outputs": [
    {
     "name": "stdout",
     "output_type": "stream",
     "text": [
      "[3192.69585141]\n"
     ]
    }
   ],
   "source": [
    "from sklearn.linear_model import LinearRegression\n",
    "    # 선형 회귀 사용을 위해 sklearn 에서 LinearRegression 호출\n",
    "\n",
    "lr = LinearRegression() # 객체 정의\n",
    "lr.fit(train_data, train_target) # 훈련 세트로 모델 학습시키기\n",
    "print(lr.predict([[100]])) # 길이가 100인 농어의 몸무게를 예측하기"
   ]
  },
  {
   "cell_type": "markdown",
   "id": "d38bd5b4",
   "metadata": {},
   "source": [
    "- **K-NN 회귀를 이용했을 때 길이가 아무리 커져도 무게는 늘어나지 않는 결과를 봤었다. K-NN 회귀를 이용했을 때보다 약 3배 이상 무거운 무게가 나왔다.**"
   ]
  },
  {
   "cell_type": "code",
   "execution_count": 3,
   "id": "3417e2e0",
   "metadata": {},
   "outputs": [
    {
     "name": "stdout",
     "output_type": "stream",
     "text": [
      "[39.01714496] -709.0186449535477\n"
     ]
    }
   ],
   "source": [
    "print(lr.coef_, lr.intercept_)"
   ]
  },
  {
   "cell_type": "markdown",
   "id": "7b500472",
   "metadata": {},
   "source": [
    "$y = (lr.coef_)x + (lr.intercept_)$\n",
    "$y = 39.01x - 709.01$"
   ]
  },
  {
   "cell_type": "code",
   "execution_count": 4,
   "id": "e2e9c10a",
   "metadata": {},
   "outputs": [
    {
     "data": {
      "image/png": "[encoded data removed]",
      "text/plain": [
       "<Figure size 640x480 with 1 Axes>"
      ]
     },
     "metadata": {},
     "output_type": "display_data"
    }
   ],
   "source": [
    "import matplotlib.pyplot as plt\n",
    "\n",
    "plt.scatter(train_data, train_target)\n",
    "plt.plot([15, 100], [15 * lr.coef_ + lr.intercept_, 100 * lr.coef_ + lr.intercept_])\n",
    "    # 구한 직선의 방정식을 y = f(x)라고 한다면, 직선은 두 점 (15, f(15))와 (100, f(100))을 연결하는 직선일 것.\n",
    "plt.scatter(100, 3192, marker = '^')\n",
    "plt.show()"
   ]
  },
  {
   "cell_type": "markdown",
   "id": "fda7cad5",
   "metadata": {},
   "source": [
    "# 3. $R^2$ 확인"
   ]
  },
  {
   "cell_type": "code",
   "execution_count": 5,
   "id": "543ee447",
   "metadata": {},
   "outputs": [
    {
     "name": "stdout",
     "output_type": "stream",
     "text": [
      "0.939846333997604\n",
      "0.8247503123313558\n"
     ]
    }
   ],
   "source": [
    "print(lr.score(train_data, train_target)) # 모델 학습이 잘 되었는지 훈련 세트와 테스트 세트를 전달해 정확도 점수를 산출.\n",
    "print(lr.score(test_data, test_target))"
   ]
  },
  {
   "cell_type": "markdown",
   "id": "758829f7",
   "metadata": {},
   "source": [
    "- **두 세트에 대한 훈련 모델의 $R^2$ 점수에 차이가 있을 뿐더러, 훈련 세트의 점수도 그렇게 높지 않다. 훈련 세트에 대한 overfitting이 있다. 그 이유는 실제 농어의 데이터는 직선보다는 곡선에 가깝기 때문이다.**"
   ]
  },
  {
   "cell_type": "code",
   "execution_count": null,
   "id": "a88035c1",
   "metadata": {},
   "outputs": [],
   "source": []
  }
 ],
 "metadata": {
  "kernelspec": {
   "display_name": "Python 3 (ipykernel)",
   "language": "python",
   "name": "python3"
  },
  "language_info": {
   "codemirror_mode": {
    "name": "ipython",
    "version": 3
   },
   "file_extension": ".py",
   "mimetype": "text/x-python",
   "name": "python",
   "nbconvert_exporter": "python",
   "pygments_lexer": "ipython3",
   "version": "3.10.9"
  }
 },
 "nbformat": 4,
 "nbformat_minor": 5
}

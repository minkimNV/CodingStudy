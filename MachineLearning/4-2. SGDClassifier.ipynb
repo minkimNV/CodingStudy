{
 "cells": [
  {
   "cell_type": "markdown",
   "metadata": {},
   "source": [
    "### 점진적 학습\n",
    "- 앞서 훈련한 모델을 버리지 않고 새로운 데이터에 대해서 조금씩 더 훈련하는 방법.\n",
    "- 점진적 학습이 가능하다면 훈련에 사용한 데이터를 모두 유지할 필요도 없고 앞서 학습한 데이터를 까먹을 일도 없을 것이다.\n",
    "- 대표적인 점진적 학습 알고리즘은 \"확률적 경사 하강법(Stochastic Gradient Descent)\"이다."
   ]
  },
  {
   "cell_type": "markdown",
   "metadata": {},
   "source": [
    "## Stochastic Gradient Descent (확률적 경사 하강법)\n",
    "- 훈련 세트에서 딱 하나의 샘플을 '랜덤하게' 골라 가장 가파른 길을 찾는 *확률적 경사 하강법*\n",
    "- 또 다른 샘플을 랜덤하게 선택해 가파른 길을 조금씩 조금씩 내려오면서 전체 훈련 샘플을 다 사용할 때까지 계속한다.\n",
    "- 다시 처음부터 시작해 훈련 세트에 모든 샘플을 다시 채워 넣고, 다시 랜덤 샘플을 골라 만족할만한 위치에 도달할 때까지 계속 경사를 내려간다.\n",
    "- **미니배치 경사 하강법 (Minibatch Gradient Descent)**: 여러 개의 샘플을 사용해 경사 하강법을 수행하는 방식\n",
    "- **배치 경사 하강법(Batch Gradient Descent)**: 한 번 경사로를 따라 이동하기 위해 전체 샘플을 사용하는 방식\n",
    "<br/><br/>\n",
    "- **Epoch (에포크)**: 훈련 세트를 한 번 모두 사용하는 과정 (수십, 수백 번 이상 에포크를 수행함)\n"
   ]
  },
  {
   "cell_type": "markdown",
   "metadata": {},
   "source": [
    "## Loss Function (손실 함수)\n",
    "- Cost Function (비용 함수)\n",
    "- 머신러닝 알고리즘이 얼마나 엉터리인지 측정하는 기준\n",
    "- **Logistic Loss Function (로지스틱 손실 함수)**: 이진 분류에서 사용\n",
    "    - Binary Cross-Entropy Loss Function (이진 크로스엔트로피 손실 함수)\n",
    "    - 타겟이 1일 때, $ 손실 함수 = -log(예측 확률) $\n",
    "    - 타겟이 0일 때, $ 손실 함수 = -log(1-예측 확률) $\n",
    "- **Cross-Entropy Loss Function (크로스엔트로피 손실 함수)**: 다중 분류에서 사용\n",
    "<br/><br/>\n",
    "- mean_squared_error: 회귀 모델에서 사용하는 손실 함수\n",
    "- 손실 함수를 직접 만드는 일은 거의 없다. 문제에 잘 맞는 손실 함수가 개발되어 있기 때문이다.\n",
    "\n"
   ]
  },
  {
   "cell_type": "markdown",
   "metadata": {},
   "source": [
    "# 1. 데이터 준비"
   ]
  },
  {
   "cell_type": "code",
   "execution_count": 2,
   "metadata": {},
   "outputs": [
    {
     "name": "stdout",
     "output_type": "stream",
     "text": [
      "(119, 5) (119,) (40, 5) (40,)\n"
     ]
    }
   ],
   "source": [
    "import pandas as pd\n",
    "fish = pd.read_csv('https://bit.ly/fish_csv')\n",
    "\n",
    "fish_data = fish[['Weight', 'Length', 'Diagonal', 'Height', 'Width']].to_numpy()\n",
    "fish_target = fish['Species'].to_numpy()\n",
    "\n",
    "from sklearn.model_selection import train_test_split\n",
    "train_data, test_data, train_target, test_target = train_test_split(fish_data, fish_target, random_state = 42)\n",
    "print(train_data.shape, train_target.shape, test_data.shape, test_target.shape)"
   ]
  },
  {
   "cell_type": "markdown",
   "metadata": {},
   "source": [
    "## 1-1. 데이터 표준화 처리"
   ]
  },
  {
   "cell_type": "code",
   "execution_count": 3,
   "metadata": {},
   "outputs": [],
   "source": [
    "from sklearn.preprocessing import StandardScaler\n",
    "scale = StandardScaler()\n",
    "scale.fit(train_data)\n",
    "train_scaled = scale.transform(train_data)\n",
    "test_scaled = scale.transform(test_data)"
   ]
  },
  {
   "cell_type": "markdown",
   "metadata": {
    "colab_type": "text",
    "id": "3x4OwaSIR50l"
   },
   "source": [
    "# 2. 모델 학습 (SGDClassifier)\n",
    "- SGDClassifier: scikit learn package에서 *확률적 경사 하강법*을 제공하는 대표적인 분류용 클래스\n",
    "- SGDClassifier 객체를 만들 때 2개의 매개변수 `loss`(손실 함수), `max_iter`(에포크 반복 횟수) 지정\n",
    "<br/><br/>\n",
    "- 다중 분류의 경우, SGDClassifier에 loss = 'log'로 지정하면 클래스마다 이진 분류 모델을 만든다.\n",
    "- 도미는 양성 클래스로 두고 나머지를 모두 음성 클래스로 두는 방식 **OvR (One versus Rest)** 이다."
   ]
  },
  {
   "cell_type": "code",
   "execution_count": 4,
   "metadata": {},
   "outputs": [
    {
     "name": "stdout",
     "output_type": "stream",
     "text": [
      "0.773109243697479\n",
      "0.775\n"
     ]
    },
    {
     "name": "stderr",
     "output_type": "stream",
     "text": [
      "/Users/minkim/anaconda3/lib/python3.10/site-packages/sklearn/linear_model/_stochastic_gradient.py:163: FutureWarning: The loss 'log' was deprecated in v1.1 and will be removed in version 1.3. Use `loss='log_loss'` which is equivalent.\n",
      "  warnings.warn(\n",
      "/Users/minkim/anaconda3/lib/python3.10/site-packages/sklearn/linear_model/_stochastic_gradient.py:702: ConvergenceWarning: Maximum number of iteration reached before convergence. Consider increasing max_iter to improve the fit.\n",
      "  warnings.warn(\n"
     ]
    }
   ],
   "source": [
    "from sklearn.linear_model import SGDClassifier\n",
    "sc = SGDClassifier(loss = 'log', max_iter = 10, random_state = 42)\n",
    "                            # 10 번의 에포크를 수행하겠다.\n",
    "sc.fit(train_scaled, train_target)\n",
    "print(sc.score(train_scaled, train_target))\n",
    "print(sc.score(test_scaled, test_target))\n"
   ]
  },
  {
   "cell_type": "code",
   "execution_count": 8,
   "metadata": {},
   "outputs": [
    {
     "name": "stdout",
     "output_type": "stream",
     "text": [
      "0.8487394957983193\n",
      "0.85\n"
     ]
    }
   ],
   "source": [
    "sc.partial_fit(train_scaled, train_target)\n",
    "    # 모델을 추가로 훈련시킬 때 사용하는 method \n",
    "print(sc.score(train_scaled, train_target))\n",
    "print(sc.score(test_scaled, test_target))"
   ]
  },
  {
   "cell_type": "markdown",
   "metadata": {
    "colab_type": "text",
    "id": "TEtfnUQhzKO2"
   },
   "source": [
    "# 3. 에포크와 과대/과소적합\n",
    "- 에포크를 실행할수록 정확도가 향상한다. 무작정 반복하기 보다는 에포크를 얼마나 수행해야 하는지 기준이 필요하다.\n",
    "- 에포크 횟수에 따라 과대/과소적합이 발생할 수 있다.\n",
    "- 에포크가 진행될수록 훈련 세트 점수는 꾸준히 증가하지만 테스트 세트는 점수가 감소하는 시점이 발생한다 (과대적합).\n",
    "- **조기종료**: 과대 적합이 발생하기 전에 훈련을 멈추는 것 "
   ]
  },
  {
   "cell_type": "code",
   "execution_count": 10,
   "metadata": {},
   "outputs": [
    {
     "name": "stderr",
     "output_type": "stream",
     "text": [
      "/Users/minkim/anaconda3/lib/python3.10/site-packages/sklearn/linear_model/_stochastic_gradient.py:163: FutureWarning: The loss 'log' was deprecated in v1.1 and will be removed in version 1.3. Use `loss='log_loss'` which is equivalent.\n",
      "  warnings.warn(\n"
     ]
    }
   ],
   "source": [
    "import numpy as np\n",
    "\n",
    "sc = SGDClassifier(loss = 'log', random_state = 42)\n",
    "train_score = []\n",
    "test_score = []\n",
    "classes = np.unique(train_target)\n",
    "\n",
    "for _ in range(0, 300):\n",
    "    sc.partial_fit(train_scaled, train_target, classes = classes)\n",
    "            # partial_fit method 사용할 때는 훈련 세트에 있는 전체 클래스의 레이블을 전달해주어야 한다.\n",
    "    train_score.append(sc.score(train_scaled, train_target))\n",
    "    test_score.append(sc.score(test_scaled, test_target))"
   ]
  },
  {
   "cell_type": "code",
   "execution_count": 12,
   "metadata": {},
   "outputs": [
    {
     "data": {
      "image/png": "[encoded data removed]",
      "text/plain": [
       "<Figure size 640x480 with 1 Axes>"
      ]
     },
     "metadata": {},
     "output_type": "display_data"
    }
   ],
   "source": [
    "import matplotlib.pyplot as plt\n",
    "\n",
    "plt.plot(train_score, label = 'train score')\n",
    "plt.plot(test_score, label = 'test score')\n",
    "plt.legend(loc = 0)\n",
    "\n",
    "plt.xlabel('epoch')\n",
    "plt.ylabel('score')\n",
    "\n",
    "plt.grid()\n",
    "plt.show()\n"
   ]
  },
  {
   "cell_type": "markdown",
   "metadata": {},
   "source": [
    "- 초기: 과소적합. 훈련 세트와 테스트 세트의 점수가 낮다.\n",
    "- 100 번: 이후부터 과대적합. 점수 차이가 벌어지고 있다.\n",
    "- 적절한 에포크 횟수는 100!"
   ]
  },
  {
   "cell_type": "markdown",
   "metadata": {
    "colab_type": "text",
    "id": "3x4OwaSIR50l"
   },
   "source": [
    "# 4. 모델 재학습 (SGDClassifier)\n",
    "`SGDClassifier(loss = '손실 함수 지정', max_iter = 에포크 횟수, tol = 향상될 최솟값 지정)`\n",
    "SGDClassifier는 일정 에포크 동안 성능이 향상되지 않으면 더 훈련하지 않고 자동으로 멈추는데, `tol = None`은 SGDClassifier가 자동으로 멈추지 않고 max_iter 값만큼 에포크를 수행하도록 한다."
   ]
  },
  {
   "cell_type": "code",
   "execution_count": 14,
   "metadata": {},
   "outputs": [
    {
     "name": "stdout",
     "output_type": "stream",
     "text": [
      "0.957983193277311\n",
      "0.925\n"
     ]
    },
    {
     "name": "stderr",
     "output_type": "stream",
     "text": [
      "/Users/minkim/anaconda3/lib/python3.10/site-packages/sklearn/linear_model/_stochastic_gradient.py:163: FutureWarning: The loss 'log' was deprecated in v1.1 and will be removed in version 1.3. Use `loss='log_loss'` which is equivalent.\n",
      "  warnings.warn(\n"
     ]
    }
   ],
   "source": [
    "sc = SGDClassifier(loss = 'log', max_iter = 100, tol = None, random_state = 42)\n",
    "sc.fit(train_scaled, train_target)\n",
    "print(sc.score(train_scaled, train_target))\n",
    "print(sc.score(test_scaled, test_target))"
   ]
  },
  {
   "cell_type": "code",
   "execution_count": null,
   "metadata": {},
   "outputs": [],
   "source": []
  }
 ],
 "metadata": {
  "colab": {
   "authorship_tag": "ABX9TyO/1RmkE12HtRitdZGliJe4",
   "collapsed_sections": [],
   "name": "4-2 확률적 경사 하강법.ipynb",
   "provenance": []
  },
  "kernelspec": {
   "display_name": "Python 3 (ipykernel)",
   "language": "python",
   "name": "python3"
  },
  "language_info": {
   "codemirror_mode": {
    "name": "ipython",
    "version": 3
   },
   "file_extension": ".py",
   "mimetype": "text/x-python",
   "name": "python",
   "nbconvert_exporter": "python",
   "pygments_lexer": "ipython3",
   "version": "3.10.9"
  }
 },
 "nbformat": 4,
 "nbformat_minor": 1
}

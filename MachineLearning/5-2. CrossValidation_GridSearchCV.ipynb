{
 "cells": [
  {
   "cell_type": "markdown",
   "id": "acdcd0ce",
   "metadata": {},
   "source": [
    "# 1. 데이터 준비"
   ]
  },
  {
   "cell_type": "code",
   "execution_count": 1,
   "id": "588b73a6",
   "metadata": {},
   "outputs": [],
   "source": [
    "import pandas as pd\n",
    "\n",
    "wine = pd.read_csv('https://bit.ly/wine-date')\n",
    "data = wine[['alcohol', 'sugar', 'pH']].to_numpy()\n",
    "target = wine['class'].to_numpy()"
   ]
  },
  {
   "cell_type": "code",
   "execution_count": 2,
   "id": "dc2c424c",
   "metadata": {},
   "outputs": [
    {
     "name": "stdout",
     "output_type": "stream",
     "text": [
      "(5197, 3) (1300, 3)\n"
     ]
    }
   ],
   "source": [
    "from sklearn.model_selection import train_test_split\n",
    "\n",
    "train_data, test_data, train_target, test_target = train_test_split(data, target, test_size = 0.2, random_state = 42)\n",
    "print(train_data.shape, test_data.shape)"
   ]
  },
  {
   "cell_type": "markdown",
   "id": "93999996",
   "metadata": {},
   "source": [
    "# 2. 검증 세트 준비\n",
    "- 앞서 나눈 훈련 세트와 테스트 세트에서 훈련 세트를 다시 한 번 더 나누어 검증 세트를 준비한다."
   ]
  },
  {
   "cell_type": "code",
   "execution_count": 3,
   "id": "d00fb8e1",
   "metadata": {},
   "outputs": [
    {
     "name": "stdout",
     "output_type": "stream",
     "text": [
      "(4157, 3) (1040, 3)\n"
     ]
    }
   ],
   "source": [
    "sub_data, val_data, sub_target, val_target = train_test_split(train_data, train_target, test_size = 0.2, random_state = 42)\n",
    "print(sub_data.shape, val_data.shape)\n"
   ]
  },
  {
   "cell_type": "markdown",
   "id": "e96d5eb3",
   "metadata": {},
   "source": [
    "# 3. 훈련/검증 세트 이용해 모델 학습 (Decision Tree Classification)\n",
    "- 훈련 세트와 검증 세트를 이용해 모델을 학습한다.\n",
    "- 과대/과소적합이 발생하면 모델의 매개변수를 조절해 과적합을 줄인다."
   ]
  },
  {
   "cell_type": "code",
   "execution_count": 4,
   "id": "d3662713",
   "metadata": {},
   "outputs": [
    {
     "name": "stdout",
     "output_type": "stream",
     "text": [
      "0.9971133028626413\n",
      "0.864423076923077\n"
     ]
    }
   ],
   "source": [
    "from sklearn.tree import DecisionTreeClassifier\n",
    "dt = DecisionTreeClassifier(random_state = 42)\n",
    "dt.fit(sub_data, sub_target)\n",
    "print(dt.score(sub_data, sub_target))\n",
    "print(dt.score(val_data, val_target)) # overfitting "
   ]
  },
  {
   "cell_type": "markdown",
   "id": "036b76a0",
   "metadata": {},
   "source": [
    "# 4. 교차 검증 (Cross Validation)\n",
    "- 검증 세트를 적게 떼어두면 검증 점수가 들쭉날쭉하고 불안정할텐데 이럴 때 교차 검증을 이용하면 안정적인 검증 점수를 얻을 수 있고, 더 많은 데이터를 사용할 수 있다. 좋은 모델을 만들려면 데이터가 많을수록 좋다.\n",
    "- 검증 세트를 떼어 내어 평가하는 과정을 *여러 번* 반복하는 것이 *교차 검증*\n",
    "<br/><br/>\n",
    "- **K-fold Cross Validation**: 교차 검증을 k 번 수행하고 검증 점수의 평균을 내는 것.\n",
    "- `cross_validate(모델 객체, 훈련 세트 (X, y) 전체)`\n",
    "    - 기본적으로 5 폴드 교차 검증 수행 (매개변수 `cv` 조정해서 폴드 수 설정 가능)\n",
    "    - fit time, score time, test score 반환\n",
    "- `cross_val_score(모델 객체, 훈련 세트 전체)`: test_score 만 반환"
   ]
  },
  {
   "cell_type": "markdown",
   "id": "49e226d0",
   "metadata": {},
   "source": [
    "- **`cross_val_score()`, `cross_validate()` 함수를 이용해 각 검증 세트의 점수를 확인할 수 있다.**"
   ]
  },
  {
   "cell_type": "code",
   "execution_count": 5,
   "id": "b853ab3e",
   "metadata": {},
   "outputs": [
    {
     "name": "stdout",
     "output_type": "stream",
     "text": [
      "{'fit_time': array([0.00487208, 0.00489283, 0.00527096, 0.00504303, 0.00461268]), 'score_time': array([0.00045681, 0.0005672 , 0.00070715, 0.00042534, 0.00038719]), 'test_score': array([0.86923077, 0.84615385, 0.87680462, 0.84889317, 0.83541867])}\n"
     ]
    }
   ],
   "source": [
    "from sklearn.model_selection import cross_validate\n",
    "\n",
    "scores = cross_validate(dt, train_data, train_target)\n",
    "print(scores)"
   ]
  },
  {
   "cell_type": "code",
   "execution_count": 6,
   "id": "505c71c9",
   "metadata": {},
   "outputs": [],
   "source": [
    "    # test_score(검증 세트 정확도 점수)만 반환해주는 cross_val_score 함수\n",
    "# from sklearn.model_selection import cross_val_score\n",
    "\n",
    "# scores = cross_val_score(dt, train_data, train_target)\n",
    "# print(scores)"
   ]
  },
  {
   "cell_type": "markdown",
   "id": "8bfbebd2",
   "metadata": {},
   "source": [
    "- **교차 검증의 최종 점수는 test score를 합산해 평균하여 얻을 수 있다.**"
   ]
  },
  {
   "cell_type": "code",
   "execution_count": 7,
   "id": "15770ae0",
   "metadata": {},
   "outputs": [
    {
     "name": "stdout",
     "output_type": "stream",
     "text": [
      "0.855300214703487\n"
     ]
    }
   ],
   "source": [
    "import numpy as np\n",
    "print(np.mean(scores['test_score']))"
   ]
  },
  {
   "cell_type": "markdown",
   "id": "ed068619",
   "metadata": {},
   "source": [
    "## 4-1. 훈련 세트를 섞고 교차 검증 (Splitter)\n",
    "- 앞선 교차 검증 단계에서는 `train_test_split()` 함수를 이용해 전체 데이터를 섞은 후 훈련 세트를 준비했기 때문에 훈련 세트를 따로 섞을 필요가 없다.\n",
    "- 교차 검증을 할 때에는 *분할기(Splitter)* 를 지정해 훈련 세트를 섞어줘야 한다.\n",
    "<br/><br/>\n",
    "**Splitter**<br>\n",
    "- 교차 검증에서 폴드를 어떻게 나눌지 결정\n",
    "- `cross_validate()` 함수: 회귀 모델의 경우 `KFold` 사용, 분류 모델의 경우 `StratifiedKFold` 사용"
   ]
  },
  {
   "cell_type": "code",
   "execution_count": 8,
   "id": "e861281a",
   "metadata": {},
   "outputs": [
    {
     "name": "stdout",
     "output_type": "stream",
     "text": [
      "0.855300214703487\n"
     ]
    }
   ],
   "source": [
    "from sklearn.model_selection import StratifiedKFold\n",
    "scores = cross_validate(dt, train_data, train_target, cv = StratifiedKFold())\n",
    "print(np.mean(scores['test_score']))"
   ]
  },
  {
   "cell_type": "markdown",
   "id": "463ba8b1",
   "metadata": {},
   "source": [
    "- **`cross_validate()` 함수에서 `cv` 매개변수를 조정해 폴드 수를 지정할 수 있다고 했다. 분할기를 사용하는 경우에도 `cv` 매개변수를 이용한다. 폴드 수도 지정하고, 분할기도 쓰려고 할 때에는 분할기 객체 정의 해주고 `n_splits` 매개변수로 폴드 수를 지정할 수 있다.**"
   ]
  },
  {
   "cell_type": "code",
   "execution_count": 9,
   "id": "7f769e40",
   "metadata": {},
   "outputs": [
    {
     "name": "stdout",
     "output_type": "stream",
     "text": [
      "0.8574181117533719\n"
     ]
    }
   ],
   "source": [
    "splitter = StratifiedKFold(n_splits = 10, shuffle = True, random_state = 42)\n",
    "scores = cross_validate(dt, train_data, train_target, cv = splitter)\n",
    "print(np.mean(scores['test_score']))"
   ]
  },
  {
   "cell_type": "markdown",
   "id": "b063dfed",
   "metadata": {},
   "source": [
    "# 5. Hyper Parameter Tuning\n",
    "- 사용자 지정 파라미터: 클래스나 메서드의 매개변수로 표현\n",
    "- 하이퍼 파라미터 튜닝 자동 수행 기술 'AutoML'"
   ]
  },
  {
   "cell_type": "markdown",
   "id": "917236cc",
   "metadata": {},
   "source": [
    "## 5-1. GridSearchCV()\n",
    "- 여러 매개변수에 대한 최적의 값을 자동으로 찾아주는 클래스\n",
    "- 자동으로 교차 검증을 해주기 때문에 `cross_validate()` 함수를 호출할 필요가 없다.\n",
    "```parameter = {'hyper parameters': [values-list]}``` <br>\n",
    "```GridSearchCV(model, parameter, n_jobs = 1, cv(default = 5))```"
   ]
  },
  {
   "cell_type": "code",
   "execution_count": 10,
   "id": "b34d45fd",
   "metadata": {},
   "outputs": [
    {
     "data": {
      "text/html": [
       "<style>#sk-container-id-1 {color: black;background-color: white;}#sk-container-id-1 pre{padding: 0;}#sk-container-id-1 div.sk-toggleable {background-color: white;}#sk-container-id-1 label.sk-toggleable__label {cursor: pointer;display: block;width: 100%;margin-bottom: 0;padding: 0.3em;box-sizing: border-box;text-align: center;}#sk-container-id-1 label.sk-toggleable__label-arrow:before {content: \"▸\";float: left;margin-right: 0.25em;color: #696969;}#sk-container-id-1 label.sk-toggleable__label-arrow:hover:before {color: black;}#sk-container-id-1 div.sk-estimator:hover label.sk-toggleable__label-arrow:before {color: black;}#sk-container-id-1 div.sk-toggleable__content {max-height: 0;max-width: 0;overflow: hidden;text-align: left;background-color: #f0f8ff;}#sk-container-id-1 div.sk-toggleable__content pre {margin: 0.2em;color: black;border-radius: 0.25em;background-color: #f0f8ff;}#sk-container-id-1 input.sk-toggleable__control:checked~div.sk-toggleable__content {max-height: 200px;max-width: 100%;overflow: auto;}#sk-container-id-1 input.sk-toggleable__control:checked~label.sk-toggleable__label-arrow:before {content: \"▾\";}#sk-container-id-1 div.sk-estimator input.sk-toggleable__control:checked~label.sk-toggleable__label {background-color: #d4ebff;}#sk-container-id-1 div.sk-label input.sk-toggleable__control:checked~label.sk-toggleable__label {background-color: #d4ebff;}#sk-container-id-1 input.sk-hidden--visually {border: 0;clip: rect(1px 1px 1px 1px);clip: rect(1px, 1px, 1px, 1px);height: 1px;margin: -1px;overflow: hidden;padding: 0;position: absolute;width: 1px;}#sk-container-id-1 div.sk-estimator {font-family: monospace;background-color: #f0f8ff;border: 1px dotted black;border-radius: 0.25em;box-sizing: border-box;margin-bottom: 0.5em;}#sk-container-id-1 div.sk-estimator:hover {background-color: #d4ebff;}#sk-container-id-1 div.sk-parallel-item::after {content: \"\";width: 100%;border-bottom: 1px solid gray;flex-grow: 1;}#sk-container-id-1 div.sk-label:hover label.sk-toggleable__label {background-color: #d4ebff;}#sk-container-id-1 div.sk-serial::before {content: \"\";position: absolute;border-left: 1px solid gray;box-sizing: border-box;top: 0;bottom: 0;left: 50%;z-index: 0;}#sk-container-id-1 div.sk-serial {display: flex;flex-direction: column;align-items: center;background-color: white;padding-right: 0.2em;padding-left: 0.2em;position: relative;}#sk-container-id-1 div.sk-item {position: relative;z-index: 1;}#sk-container-id-1 div.sk-parallel {display: flex;align-items: stretch;justify-content: center;background-color: white;position: relative;}#sk-container-id-1 div.sk-item::before, #sk-container-id-1 div.sk-parallel-item::before {content: \"\";position: absolute;border-left: 1px solid gray;box-sizing: border-box;top: 0;bottom: 0;left: 50%;z-index: -1;}#sk-container-id-1 div.sk-parallel-item {display: flex;flex-direction: column;z-index: 1;position: relative;background-color: white;}#sk-container-id-1 div.sk-parallel-item:first-child::after {align-self: flex-end;width: 50%;}#sk-container-id-1 div.sk-parallel-item:last-child::after {align-self: flex-start;width: 50%;}#sk-container-id-1 div.sk-parallel-item:only-child::after {width: 0;}#sk-container-id-1 div.sk-dashed-wrapped {border: 1px dashed gray;margin: 0 0.4em 0.5em 0.4em;box-sizing: border-box;padding-bottom: 0.4em;background-color: white;}#sk-container-id-1 div.sk-label label {font-family: monospace;font-weight: bold;display: inline-block;line-height: 1.2em;}#sk-container-id-1 div.sk-label-container {text-align: center;}#sk-container-id-1 div.sk-container {/* jupyter's `normalize.less` sets `[hidden] { display: none; }` but bootstrap.min.css set `[hidden] { display: none !important; }` so we also need the `!important` here to be able to override the default hidden behavior on the sphinx rendered scikit-learn.org. See: https://github.com/scikit-learn/scikit-learn/issues/21755 */display: inline-block !important;position: relative;}#sk-container-id-1 div.sk-text-repr-fallback {display: none;}</style><div id=\"sk-container-id-1\" class=\"sk-top-container\"><div class=\"sk-text-repr-fallback\"><pre>GridSearchCV(estimator=DecisionTreeClassifier(random_state=42), n_jobs=-1,\n",
       "             param_grid={&#x27;min_impurity_decrease&#x27;: [0.0001, 0.0002, 0.0003,\n",
       "                                                   0.0004, 0.0005]})</pre><b>In a Jupyter environment, please rerun this cell to show the HTML representation or trust the notebook. <br />On GitHub, the HTML representation is unable to render, please try loading this page with nbviewer.org.</b></div><div class=\"sk-container\" hidden><div class=\"sk-item sk-dashed-wrapped\"><div class=\"sk-label-container\"><div class=\"sk-label sk-toggleable\"><input class=\"sk-toggleable__control sk-hidden--visually\" id=\"sk-estimator-id-1\" type=\"checkbox\" ><label for=\"sk-estimator-id-1\" class=\"sk-toggleable__label sk-toggleable__label-arrow\">GridSearchCV</label><div class=\"sk-toggleable__content\"><pre>GridSearchCV(estimator=DecisionTreeClassifier(random_state=42), n_jobs=-1,\n",
       "             param_grid={&#x27;min_impurity_decrease&#x27;: [0.0001, 0.0002, 0.0003,\n",
       "                                                   0.0004, 0.0005]})</pre></div></div></div><div class=\"sk-parallel\"><div class=\"sk-parallel-item\"><div class=\"sk-item\"><div class=\"sk-label-container\"><div class=\"sk-label sk-toggleable\"><input class=\"sk-toggleable__control sk-hidden--visually\" id=\"sk-estimator-id-2\" type=\"checkbox\" ><label for=\"sk-estimator-id-2\" class=\"sk-toggleable__label sk-toggleable__label-arrow\">estimator: DecisionTreeClassifier</label><div class=\"sk-toggleable__content\"><pre>DecisionTreeClassifier(random_state=42)</pre></div></div></div><div class=\"sk-serial\"><div class=\"sk-item\"><div class=\"sk-estimator sk-toggleable\"><input class=\"sk-toggleable__control sk-hidden--visually\" id=\"sk-estimator-id-3\" type=\"checkbox\" ><label for=\"sk-estimator-id-3\" class=\"sk-toggleable__label sk-toggleable__label-arrow\">DecisionTreeClassifier</label><div class=\"sk-toggleable__content\"><pre>DecisionTreeClassifier(random_state=42)</pre></div></div></div></div></div></div></div></div></div></div>"
      ],
      "text/plain": [
       "GridSearchCV(estimator=DecisionTreeClassifier(random_state=42), n_jobs=-1,\n",
       "             param_grid={'min_impurity_decrease': [0.0001, 0.0002, 0.0003,\n",
       "                                                   0.0004, 0.0005]})"
      ]
     },
     "execution_count": 10,
     "metadata": {},
     "output_type": "execute_result"
    }
   ],
   "source": [
    "from sklearn.model_selection import GridSearchCV\n",
    "params = {'min_impurity_decrease': [0.0001, 0.0002, 0.0003, 0.0004, 0.0005]}\n",
    "gs = GridSearchCV(DecisionTreeClassifier(random_state=42), params, n_jobs = -1)\n",
    "\n",
    "gs.fit(train_data, train_target)"
   ]
  },
  {
   "cell_type": "markdown",
   "id": "3b8a4eac",
   "metadata": {},
   "source": [
    "- 그리드 서치 훈련 후 가장 높은 검증 점수를 가진 모델의 매개 변수 조합이 훈련 세트로 학습된 후 `GridSearchCv().best_estimator_` 속성에 저장됨"
   ]
  },
  {
   "cell_type": "code",
   "execution_count": 11,
   "id": "c7021635",
   "metadata": {},
   "outputs": [
    {
     "name": "stdout",
     "output_type": "stream",
     "text": [
      "0.9615162593804117\n"
     ]
    }
   ],
   "source": [
    "dt = gs.best_estimator_\n",
    "print(dt.score(train_data, train_target))"
   ]
  },
  {
   "cell_type": "markdown",
   "id": "e759b2aa",
   "metadata": {},
   "source": [
    "- 그리드 서치로 찾은 최적의 매개 변수 값은 `GridSearchCv().best_params_` 속성에 저장됨"
   ]
  },
  {
   "cell_type": "code",
   "execution_count": 12,
   "id": "b4312899",
   "metadata": {},
   "outputs": [
    {
     "name": "stdout",
     "output_type": "stream",
     "text": [
      "{'min_impurity_decrease': 0.0001}\n"
     ]
    }
   ],
   "source": [
    "print(gs.best_params_)"
   ]
  },
  {
   "cell_type": "markdown",
   "id": "34e7ff16",
   "metadata": {},
   "source": [
    "- 각 매개 변수에서 수행한 교차 검증의 평균 점수 값 `cv_results_['mean_test_score']`에 저장됨"
   ]
  },
  {
   "cell_type": "code",
   "execution_count": 13,
   "id": "16c4f3d4",
   "metadata": {},
   "outputs": [
    {
     "name": "stdout",
     "output_type": "stream",
     "text": [
      "[0.86819297 0.86453617 0.86492226 0.86780891 0.86761605]\n"
     ]
    }
   ],
   "source": [
    "print(gs.cv_results_['mean_test_score'])"
   ]
  },
  {
   "cell_type": "markdown",
   "id": "20d30776",
   "metadata": {},
   "source": [
    "- `cv_results['mean_test_score']`를 확인하지 않고 `np.argmax()`함수를 사용해 가장 큰 값의 인덱스를 추출할 수 있다. 인덱스를 이용해 최상의 값을 만든 파라미터를 확인하거나, 최상의 점수를 확인할 수 있다."
   ]
  },
  {
   "cell_type": "code",
   "execution_count": 14,
   "id": "205aae02",
   "metadata": {},
   "outputs": [
    {
     "name": "stdout",
     "output_type": "stream",
     "text": [
      "{'min_impurity_decrease': 0.0001}\n",
      "0.8681929740134745\n",
      "{'min_impurity_decrease': 0.0001}\n"
     ]
    }
   ],
   "source": [
    "best_index = np.argmax(gs.cv_results_['mean_test_score'])\n",
    "print(gs.cv_results_['params'][best_index])\n",
    "print(gs.cv_results_['mean_test_score'][best_index])\n",
    "print(gs.best_params_)"
   ]
  },
  {
   "cell_type": "markdown",
   "id": "d8d31843",
   "metadata": {},
   "source": [
    "## 5-2. GridSearchCV 심화학습"
   ]
  },
  {
   "cell_type": "code",
   "execution_count": 15,
   "id": "46d2d660",
   "metadata": {},
   "outputs": [
    {
     "name": "stdout",
     "output_type": "stream",
     "text": [
      "best scores: 0.8615384615384616\n",
      "best parameters: {'max_depth': 14, 'min_impurity_decrease': 0.0004, 'min_samples_split': 12}\n"
     ]
    }
   ],
   "source": [
    "params = {'min_impurity_decrease': np.arange(0.0001, 0.001, 0.0001),\n",
    "          'max_depth': range(5, 20, 1),\n",
    "          'min_samples_split': range(2, 100, 10)\n",
    "          }\n",
    "# np.arange(1, 100, 10): 1부터 100까지 10 단위로 증가하면서 10개의 값을 만들겠다 \n",
    "\n",
    "gs = GridSearchCV(DecisionTreeClassifier(random_state=42), params, n_jobs=-1)\n",
    "gs.fit(train_data, train_target)\n",
    "dt = gs.best_estimator_\n",
    "print('best scores:', dt.score(test_data, test_target))\n",
    "print('best parameters:', gs.best_params_)\n"
   ]
  },
  {
   "cell_type": "markdown",
   "id": "8a49b30e",
   "metadata": {},
   "source": [
    "## 5-3. Random Search (랜덤서치)\n",
    "- 매개 변수 값이 수치일 때 값의 범위나 간격을 미리 정하기 어렵기 때문에 샘플링할 수 있는 확률 분포 객체를 전달한다.\n",
    "- `uniform`, `randint`를 이용해 '균등 분포에서 샘플링을 한다'."
   ]
  },
  {
   "cell_type": "markdown",
   "id": "f1db6aac",
   "metadata": {},
   "source": [
    "- 그리드 서치는 말그대로 모든 경우를 테이블로 만든뒤 격자로 탐색하는 방식\n",
    "- 랜덤 서치는 하이퍼 파라미터 값을 *랜덤하게* 넣어보고 그중 우수한 값을 보인 하이퍼 파라미터를 활용해 모델을 생성한다는 것이다.\n",
    "\n",
    "- 랜덤 서치가 더 성능이 좋다.\n",
    ">* 불필요한 탐색 횟수를 줄인다.\n",
    ">* 그리드 서치는 우리가 딕셔너리에 지정한 모든 값을 다 탐색해야만 한다. 이는 사람이 임의로 정한 값이기 때문에, 어떤 값이 효과적일지는 알 수 없고, 쨌든 입력은 되었으니 한번씩 모델은 다 생성되어야 하는 상황\n",
    ">* 랜덤 서치는 위와 같은 상황을 방지한다. 랜덤하게 숫자를 넣은 뒤, 정해진 간격(grid) 사이에 위치한 값들에 대해서도 확률적으로 탐색이 가능하므로, 최적 hyperparameter 값을 더 빨리 찾을 수 있다. \n"
   ]
  },
  {
   "cell_type": "markdown",
   "id": "1d8a2b1c",
   "metadata": {},
   "source": [
    "##### randint (정수값을 뽑는 확률 분포)"
   ]
  },
  {
   "cell_type": "code",
   "execution_count": 16,
   "id": "3244aa36",
   "metadata": {},
   "outputs": [
    {
     "data": {
      "text/plain": [
       "array([2, 8, 1, 6, 4, 9, 9, 7, 0, 1])"
      ]
     },
     "execution_count": 16,
     "metadata": {},
     "output_type": "execute_result"
    }
   ],
   "source": [
    "from scipy.stats import uniform, randint\n",
    "rgen = randint(0, 10) # 0 부터 10사이의 범위를 갖는 randint 객체를 만들고\n",
    "rgen.rvs(10) # 10개의 숫자를 샘플링한다."
   ]
  },
  {
   "cell_type": "code",
   "execution_count": 17,
   "id": "b3934b6b",
   "metadata": {},
   "outputs": [
    {
     "data": {
      "text/plain": [
       "(array([0, 1, 2, 3, 4, 5, 6, 7, 8, 9]),\n",
       " array([100, 101, 104, 106,  98,  88, 106, 101, 103,  93]))"
      ]
     },
     "execution_count": 17,
     "metadata": {},
     "output_type": "execute_result"
    }
   ],
   "source": [
    "np.unique(rgen.rvs(1000), return_counts = True)"
   ]
  },
  {
   "cell_type": "markdown",
   "id": "4995f57a",
   "metadata": {},
   "source": [
    "##### uniform (실수값을 뽑는 확률 분포)"
   ]
  },
  {
   "cell_type": "code",
   "execution_count": 18,
   "id": "82d9f2f6",
   "metadata": {},
   "outputs": [
    {
     "data": {
      "text/plain": [
       "array([0.38823308, 0.06157385, 0.03735566, 0.99710438, 0.45594965,\n",
       "       0.61030704, 0.61133746, 0.69980265, 0.08643009, 0.84916067])"
      ]
     },
     "execution_count": 18,
     "metadata": {},
     "output_type": "execute_result"
    }
   ],
   "source": [
    "ugen = uniform(0,1)\n",
    "ugen.rvs(10)"
   ]
  },
  {
   "cell_type": "markdown",
   "id": "f4f1cfe5",
   "metadata": {},
   "source": [
    "## 5-4. Randomized Search 실습\n",
    "- **랜덤서치에 randint와 uniform 클래스 객체를 넘겨주고 총 몇 번을 샘플링해서 최적의 매개변수를 찾으라고 명령할 수 있다. 샘플링 횟수는 시스템 자원이 허락하는 범위 내에서 최대한 크게 하는 것이 좋다.**\n",
    "- **`RandomizedSearchCV`에서는 `n_iter` 매개변수를 조절해 샘플링 횟수를 지정한다.**"
   ]
  },
  {
   "cell_type": "code",
   "execution_count": 19,
   "id": "9f4d2d80",
   "metadata": {},
   "outputs": [],
   "source": [
    "params = {'min_impurity_decrease': uniform(0.0001, 0.001), # 불순도\n",
    "         'max_depth': randint(20, 50), #가지치기 횟수\n",
    "         'min_samples_split': randint(2, 25), \n",
    "         'min_samples_leaf': randint(1, 25), # 리프 노드가 되기 위한 최소 샘플의 갯수. 자식 노드의 샘플 수가 이 값보다 작을 경우 분할 x\n",
    "         }"
   ]
  },
  {
   "cell_type": "code",
   "execution_count": 20,
   "id": "98732615",
   "metadata": {},
   "outputs": [
    {
     "name": "stdout",
     "output_type": "stream",
     "text": [
      "{'max_depth': 39, 'min_impurity_decrease': 0.00034102546602601173, 'min_samples_leaf': 7, 'min_samples_split': 13}\n"
     ]
    }
   ],
   "source": [
    "from sklearn.model_selection import RandomizedSearchCV\n",
    "gs = RandomizedSearchCV(DecisionTreeClassifier(random_state = 42), params\n",
    "                        , n_iter = 100, n_jobs = -1, random_state = 42)\n",
    "    # RandomizedSearchCV 객체 정의: 결정 트리 모델, 매개변수 딕셔너리, 샘플링 100회 반복, 모든 CPU 사용\n",
    "\n",
    "gs.fit(train_data, train_target) # RandomizedSearchCV 학습\n",
    "print(gs.best_params_) # 최적의 모델이 갖는 최적의 매개변수 값"
   ]
  },
  {
   "cell_type": "code",
   "execution_count": 21,
   "id": "2b6164ab",
   "metadata": {},
   "outputs": [
    {
     "name": "stdout",
     "output_type": "stream",
     "text": [
      "0.8928227823744468\n"
     ]
    }
   ],
   "source": [
    "dt = gs.best_estimator_ # RandomizedSearchCV 클래스를 이용해 얻은 최적의 매개변수 값을 갖춘 최적의 모델\n",
    "print(dt.score(train_data, train_target)) # 모델 정확도 훈련 세트로 확인"
   ]
  },
  {
   "cell_type": "code",
   "execution_count": 22,
   "id": "d8653af5",
   "metadata": {},
   "outputs": [
    {
     "name": "stdout",
     "output_type": "stream",
     "text": [
      "0.8695428296438884\n",
      "0.86\n"
     ]
    }
   ],
   "source": [
    "print(np.max(gs.cv_results_['mean_test_score'])) # 검증 세트의 모델 정확도 중 가장 높은 점수 확인\n",
    "print(dt.score(test_data, test_target)) # 실제 테스트 세트의 모델 정확도 점수 확인"
   ]
  },
  {
   "cell_type": "markdown",
   "id": "88aaa80e",
   "metadata": {},
   "source": [
    "### Hyper Parameter Tuning 정리\n",
    "1. GridSearchCV()\n",
    "- 여러 매개변수에 대한 최적의 값을 자동으로 찾아준다.\n",
    "- 매개변수 수치 값에 대한 범위와 간격 지정 (`np.arange(a, b, c)`, `arange(a, b, c)` 이용)\n",
    "- 자동 교차 검증 (`cross_validate()` 함수 호출 불필요)\n",
    "<br/><br/>\n",
    "2. RandomizedSearchCV()\n",
    "- 여러 매개변수에 대한 최적의 값을 자동으로 찾아준다.\n",
    "- 수치 값의 범위를 지정 불필요 (`uniform(a, b)`,`randint(a, b)` 이용)\n",
    "- 자동 교차 검증 (샘플링 반복 횟수 `n_iter` 매개변수로 지정)\n",
    "<br/><br/>\n",
    "\n",
    "### Hyper Parameter Tuning 순서\n",
    "1. 서치 방법 객체 정의\n",
    "2. 매개변수 딕셔너리 서치 객체 전달\n",
    "3. 서치방법 학습 (`fit`)\n",
    "4. `best_estimator_`: 최적의 매개변수로 이루어진 모델을 훈련세트로 훈련까지 마친 최적의 모델 저장\n",
    "5. `best_params_`: 최적의 매개변수 값 저장\n",
    "6. `cv_results_`: fit time, score time, test score 값을 딕셔너리로 반환\n",
    "7. `np.argmax()`: `cv_results_` 속성 사용시 인덱스 반환\n",
    "8. `np.max()`: `cv_results_` 속성 사용시 최고 값 반환 (e.g., `np.max(gs.cv_results_['mean_test_score'])`)"
   ]
  },
  {
   "cell_type": "markdown",
   "id": "8178ee0a",
   "metadata": {
    "colab_type": "text",
    "id": "cA42IsMdhgE7"
   },
   "source": [
    "### 확인문제\n",
    "- 위에 있는 매개변수 딕셔너리 그대로 이용하는데 splitter 매개변수를 'random'으로 지정했을 때 최적의 매개변수값과 최적의 모델에 테스트 세트 적용했을 때의 정확도 점수를 확인해보자"
   ]
  },
  {
   "cell_type": "code",
   "execution_count": 23,
   "id": "293d0a28",
   "metadata": {
    "colab": {
     "base_uri": "https://localhost:8080/",
     "height": 373
    },
    "colab_type": "code",
    "executionInfo": {
     "elapsed": 37299,
     "status": "ok",
     "timestamp": 1591523219504,
     "user": {
      "displayName": "Haesun Park",
      "photoUrl": "https://lh3.googleusercontent.com/a-/AOh14GhsWlS7sKQL-9fIkg3FmxpTMz_u-KDSs8y__P1ngQ=s64",
      "userId": "14935388527648823821"
     },
     "user_tz": -540
    },
    "id": "8qxg36iThiUm",
    "outputId": "41f7f4cc-9c0a-45ac-f41d-5af9ed18b058"
   },
   "outputs": [
    {
     "data": {
      "text/html": [
       "<style>#sk-container-id-2 {color: black;background-color: white;}#sk-container-id-2 pre{padding: 0;}#sk-container-id-2 div.sk-toggleable {background-color: white;}#sk-container-id-2 label.sk-toggleable__label {cursor: pointer;display: block;width: 100%;margin-bottom: 0;padding: 0.3em;box-sizing: border-box;text-align: center;}#sk-container-id-2 label.sk-toggleable__label-arrow:before {content: \"▸\";float: left;margin-right: 0.25em;color: #696969;}#sk-container-id-2 label.sk-toggleable__label-arrow:hover:before {color: black;}#sk-container-id-2 div.sk-estimator:hover label.sk-toggleable__label-arrow:before {color: black;}#sk-container-id-2 div.sk-toggleable__content {max-height: 0;max-width: 0;overflow: hidden;text-align: left;background-color: #f0f8ff;}#sk-container-id-2 div.sk-toggleable__content pre {margin: 0.2em;color: black;border-radius: 0.25em;background-color: #f0f8ff;}#sk-container-id-2 input.sk-toggleable__control:checked~div.sk-toggleable__content {max-height: 200px;max-width: 100%;overflow: auto;}#sk-container-id-2 input.sk-toggleable__control:checked~label.sk-toggleable__label-arrow:before {content: \"▾\";}#sk-container-id-2 div.sk-estimator input.sk-toggleable__control:checked~label.sk-toggleable__label {background-color: #d4ebff;}#sk-container-id-2 div.sk-label input.sk-toggleable__control:checked~label.sk-toggleable__label {background-color: #d4ebff;}#sk-container-id-2 input.sk-hidden--visually {border: 0;clip: rect(1px 1px 1px 1px);clip: rect(1px, 1px, 1px, 1px);height: 1px;margin: -1px;overflow: hidden;padding: 0;position: absolute;width: 1px;}#sk-container-id-2 div.sk-estimator {font-family: monospace;background-color: #f0f8ff;border: 1px dotted black;border-radius: 0.25em;box-sizing: border-box;margin-bottom: 0.5em;}#sk-container-id-2 div.sk-estimator:hover {background-color: #d4ebff;}#sk-container-id-2 div.sk-parallel-item::after {content: \"\";width: 100%;border-bottom: 1px solid gray;flex-grow: 1;}#sk-container-id-2 div.sk-label:hover label.sk-toggleable__label {background-color: #d4ebff;}#sk-container-id-2 div.sk-serial::before {content: \"\";position: absolute;border-left: 1px solid gray;box-sizing: border-box;top: 0;bottom: 0;left: 50%;z-index: 0;}#sk-container-id-2 div.sk-serial {display: flex;flex-direction: column;align-items: center;background-color: white;padding-right: 0.2em;padding-left: 0.2em;position: relative;}#sk-container-id-2 div.sk-item {position: relative;z-index: 1;}#sk-container-id-2 div.sk-parallel {display: flex;align-items: stretch;justify-content: center;background-color: white;position: relative;}#sk-container-id-2 div.sk-item::before, #sk-container-id-2 div.sk-parallel-item::before {content: \"\";position: absolute;border-left: 1px solid gray;box-sizing: border-box;top: 0;bottom: 0;left: 50%;z-index: -1;}#sk-container-id-2 div.sk-parallel-item {display: flex;flex-direction: column;z-index: 1;position: relative;background-color: white;}#sk-container-id-2 div.sk-parallel-item:first-child::after {align-self: flex-end;width: 50%;}#sk-container-id-2 div.sk-parallel-item:last-child::after {align-self: flex-start;width: 50%;}#sk-container-id-2 div.sk-parallel-item:only-child::after {width: 0;}#sk-container-id-2 div.sk-dashed-wrapped {border: 1px dashed gray;margin: 0 0.4em 0.5em 0.4em;box-sizing: border-box;padding-bottom: 0.4em;background-color: white;}#sk-container-id-2 div.sk-label label {font-family: monospace;font-weight: bold;display: inline-block;line-height: 1.2em;}#sk-container-id-2 div.sk-label-container {text-align: center;}#sk-container-id-2 div.sk-container {/* jupyter's `normalize.less` sets `[hidden] { display: none; }` but bootstrap.min.css set `[hidden] { display: none !important; }` so we also need the `!important` here to be able to override the default hidden behavior on the sphinx rendered scikit-learn.org. See: https://github.com/scikit-learn/scikit-learn/issues/21755 */display: inline-block !important;position: relative;}#sk-container-id-2 div.sk-text-repr-fallback {display: none;}</style><div id=\"sk-container-id-2\" class=\"sk-top-container\"><div class=\"sk-text-repr-fallback\"><pre>RandomizedSearchCV(estimator=DecisionTreeClassifier(random_state=42,\n",
       "                                                    splitter=&#x27;random&#x27;),\n",
       "                   n_iter=100, n_jobs=-1,\n",
       "                   param_distributions={&#x27;max_depth&#x27;: &lt;scipy.stats._distn_infrastructure.rv_discrete_frozen object at 0x7fc2f8e1e4d0&gt;,\n",
       "                                        &#x27;min_impurity_decrease&#x27;: &lt;scipy.stats._distn_infrastructure.rv_continuous_frozen object at 0x7fc32b3ef400&gt;,\n",
       "                                        &#x27;min_samples_leaf&#x27;: &lt;scipy.stats._distn_infrastructure.rv_discrete_frozen object at 0x7fc2f8e1fc10&gt;,\n",
       "                                        &#x27;min_samples_split&#x27;: &lt;scipy.stats._distn_infrastructure.rv_discrete_frozen object at 0x7fc32b3ef2e0&gt;},\n",
       "                   random_state=42)</pre><b>In a Jupyter environment, please rerun this cell to show the HTML representation or trust the notebook. <br />On GitHub, the HTML representation is unable to render, please try loading this page with nbviewer.org.</b></div><div class=\"sk-container\" hidden><div class=\"sk-item sk-dashed-wrapped\"><div class=\"sk-label-container\"><div class=\"sk-label sk-toggleable\"><input class=\"sk-toggleable__control sk-hidden--visually\" id=\"sk-estimator-id-4\" type=\"checkbox\" ><label for=\"sk-estimator-id-4\" class=\"sk-toggleable__label sk-toggleable__label-arrow\">RandomizedSearchCV</label><div class=\"sk-toggleable__content\"><pre>RandomizedSearchCV(estimator=DecisionTreeClassifier(random_state=42,\n",
       "                                                    splitter=&#x27;random&#x27;),\n",
       "                   n_iter=100, n_jobs=-1,\n",
       "                   param_distributions={&#x27;max_depth&#x27;: &lt;scipy.stats._distn_infrastructure.rv_discrete_frozen object at 0x7fc2f8e1e4d0&gt;,\n",
       "                                        &#x27;min_impurity_decrease&#x27;: &lt;scipy.stats._distn_infrastructure.rv_continuous_frozen object at 0x7fc32b3ef400&gt;,\n",
       "                                        &#x27;min_samples_leaf&#x27;: &lt;scipy.stats._distn_infrastructure.rv_discrete_frozen object at 0x7fc2f8e1fc10&gt;,\n",
       "                                        &#x27;min_samples_split&#x27;: &lt;scipy.stats._distn_infrastructure.rv_discrete_frozen object at 0x7fc32b3ef2e0&gt;},\n",
       "                   random_state=42)</pre></div></div></div><div class=\"sk-parallel\"><div class=\"sk-parallel-item\"><div class=\"sk-item\"><div class=\"sk-label-container\"><div class=\"sk-label sk-toggleable\"><input class=\"sk-toggleable__control sk-hidden--visually\" id=\"sk-estimator-id-5\" type=\"checkbox\" ><label for=\"sk-estimator-id-5\" class=\"sk-toggleable__label sk-toggleable__label-arrow\">estimator: DecisionTreeClassifier</label><div class=\"sk-toggleable__content\"><pre>DecisionTreeClassifier(random_state=42, splitter=&#x27;random&#x27;)</pre></div></div></div><div class=\"sk-serial\"><div class=\"sk-item\"><div class=\"sk-estimator sk-toggleable\"><input class=\"sk-toggleable__control sk-hidden--visually\" id=\"sk-estimator-id-6\" type=\"checkbox\" ><label for=\"sk-estimator-id-6\" class=\"sk-toggleable__label sk-toggleable__label-arrow\">DecisionTreeClassifier</label><div class=\"sk-toggleable__content\"><pre>DecisionTreeClassifier(random_state=42, splitter=&#x27;random&#x27;)</pre></div></div></div></div></div></div></div></div></div></div>"
      ],
      "text/plain": [
       "RandomizedSearchCV(estimator=DecisionTreeClassifier(random_state=42,\n",
       "                                                    splitter='random'),\n",
       "                   n_iter=100, n_jobs=-1,\n",
       "                   param_distributions={'max_depth': <scipy.stats._distn_infrastructure.rv_discrete_frozen object at 0x7fc2f8e1e4d0>,\n",
       "                                        'min_impurity_decrease': <scipy.stats._distn_infrastructure.rv_continuous_frozen object at 0x7fc32b3ef400>,\n",
       "                                        'min_samples_leaf': <scipy.stats._distn_infrastructure.rv_discrete_frozen object at 0x7fc2f8e1fc10>,\n",
       "                                        'min_samples_split': <scipy.stats._distn_infrastructure.rv_discrete_frozen object at 0x7fc32b3ef2e0>},\n",
       "                   random_state=42)"
      ]
     },
     "execution_count": 23,
     "metadata": {},
     "output_type": "execute_result"
    }
   ],
   "source": [
    "gs = RandomizedSearchCV(DecisionTreeClassifier(splitter='random', random_state=42), params, \n",
    "                        n_iter=100, n_jobs=-1, random_state=42)\n",
    "    # RandomizedSearchCV 객제 정의: 결정 트리 모델(랜덤 분할), 매개 변수 딕셔너리, 100회 반복 \n",
    "gs.fit(train_data, train_target)"
   ]
  },
  {
   "cell_type": "code",
   "execution_count": 24,
   "id": "033ce526",
   "metadata": {
    "colab": {
     "base_uri": "https://localhost:8080/",
     "height": 87
    },
    "colab_type": "code",
    "executionInfo": {
     "elapsed": 37292,
     "status": "ok",
     "timestamp": 1591523219505,
     "user": {
      "displayName": "Haesun Park",
      "photoUrl": "https://lh3.googleusercontent.com/a-/AOh14GhsWlS7sKQL-9fIkg3FmxpTMz_u-KDSs8y__P1ngQ=s64",
      "userId": "14935388527648823821"
     },
     "user_tz": -540
    },
    "id": "CMZ4UE8ihqwg",
    "outputId": "2e3dfbec-7187-4e52-c012-33e21c16a4f6"
   },
   "outputs": [
    {
     "name": "stdout",
     "output_type": "stream",
     "text": [
      "{'max_depth': 43, 'min_impurity_decrease': 0.00011407982271508446, 'min_samples_leaf': 19, 'min_samples_split': 18}\n",
      "0.8458726956392981\n",
      "0.786923076923077\n"
     ]
    }
   ],
   "source": [
    "print(gs.best_params_)\n",
    "print(np.max(gs.cv_results_['mean_test_score']))\n",
    "\n",
    "dt = gs.best_estimator_\n",
    "print(dt.score(test_data, test_target))"
   ]
  },
  {
   "cell_type": "code",
   "execution_count": null,
   "id": "009244fe",
   "metadata": {},
   "outputs": [],
   "source": []
  }
 ],
 "metadata": {
  "kernelspec": {
   "display_name": "Python 3 (ipykernel)",
   "language": "python",
   "name": "python3"
  },
  "language_info": {
   "codemirror_mode": {
    "name": "ipython",
    "version": 3
   },
   "file_extension": ".py",
   "mimetype": "text/x-python",
   "name": "python",
   "nbconvert_exporter": "python",
   "pygments_lexer": "ipython3",
   "version": "3.10.9"
  }
 },
 "nbformat": 4,
 "nbformat_minor": 5
}

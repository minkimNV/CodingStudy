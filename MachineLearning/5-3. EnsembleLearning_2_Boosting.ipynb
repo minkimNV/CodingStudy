{
 "cells": [
  {
   "cell_type": "markdown",
   "id": "e7cbcc5f",
   "metadata": {},
   "source": [
    "# 1. 데이터 준비"
   ]
  },
  {
   "cell_type": "code",
   "execution_count": 1,
   "id": "7e858adb",
   "metadata": {},
   "outputs": [
    {
     "name": "stdout",
     "output_type": "stream",
     "text": [
      "(5197, 3) (1300, 3)\n"
     ]
    }
   ],
   "source": [
    "import numpy as np\n",
    "import pandas as pd\n",
    "from sklearn.model_selection import train_test_split\n",
    "\n",
    "wine = pd.read_csv('https://bit.ly/wine-date')\n",
    "wine.head()\n",
    "data = wine[['alcohol', 'sugar', 'pH']].to_numpy()\n",
    "target = wine['class'].to_numpy()\n",
    "\n",
    "train_data, test_data, train_target, test_target = train_test_split(data, target, test_size = 0.2, random_state = 42)\n",
    "print(train_data.shape, test_data.shape)"
   ]
  },
  {
   "cell_type": "markdown",
   "id": "f68b8854",
   "metadata": {},
   "source": [
    "# 2. Review"
   ]
  },
  {
   "cell_type": "markdown",
   "id": "4b6e8bd1",
   "metadata": {},
   "source": [
    "## 2-1. RandomForestClassifier"
   ]
  },
  {
   "cell_type": "code",
   "execution_count": 2,
   "id": "6bda40e9",
   "metadata": {},
   "outputs": [
    {
     "name": "stdout",
     "output_type": "stream",
     "text": [
      "0.9973541965122431\n",
      "0.8905151032797809\n",
      "0.8934000384837406\n",
      "[0.23167441 0.50039841 0.26792718]\n",
      "0.8892307692307693\n"
     ]
    }
   ],
   "source": [
    "from sklearn.ensemble import RandomForestClassifier\n",
    "rf = RandomForestClassifier(oob_score = True, n_jobs = -1, random_state = 42)\n",
    "rf.fit(train_data, train_target)\n",
    "\n",
    "from sklearn.model_selection import cross_validate\n",
    "scores = cross_validate(rf, train_data, train_target,\n",
    "                       return_train_score = True, n_jobs = -1)\n",
    "\n",
    "print(np.mean(scores['train_score']))\n",
    "print(np.mean(scores['test_score'])) # overfitting\n",
    "print(rf.oob_score_)\n",
    "print(rf.feature_importances_)\n",
    "\n",
    "print(rf.score(test_data, test_target))"
   ]
  },
  {
   "cell_type": "markdown",
   "id": "ed34267a",
   "metadata": {},
   "source": [
    "## 2-2. ExtraTreeClassifier"
   ]
  },
  {
   "cell_type": "code",
   "execution_count": 3,
   "id": "d414f3fc",
   "metadata": {},
   "outputs": [
    {
     "name": "stdout",
     "output_type": "stream",
     "text": [
      "0.9974503966084433 0.8887848893166506\n",
      "[0.20183568 0.52242907 0.27573525]\n",
      "0.8861538461538462\n"
     ]
    }
   ],
   "source": [
    "from sklearn.ensemble import ExtraTreesClassifier\n",
    "et = ExtraTreesClassifier(n_jobs = -1, random_state = 42)\n",
    "et.fit(train_data, train_target)\n",
    "\n",
    "from sklearn.model_selection import cross_validate\n",
    "scores = cross_validate(et, train_data, train_target\n",
    "                       , return_train_score = True, n_jobs = -1)\n",
    "\n",
    "print(np.mean(scores['train_score']), np.mean(scores['test_score'])) # overfitting\n",
    "print(et.feature_importances_)\n",
    "print(et.score(test_data, test_target))"
   ]
  },
  {
   "cell_type": "markdown",
   "id": "cf34d895",
   "metadata": {},
   "source": [
    "# 3. Gradient Boosting 모델 학습\n",
    "- 깊이가 얕은 결정 트리를 사용해 이전 트리의 오차를 보완하는 방식으로 앙상블 하는 방법\n",
    "    - default `max_depth = 3, n_estimators = 100`: 깊이가 3인 트리 100개\n",
    "    - 과대적합에 강하고, 높은 일반화 성능!\n",
    "    - 경사하강법을 사용해 트리를 앙상블에 추가한다.\n",
    "    - 학습률 `learning_rate` 매개변수(default=1)로 속도를 조절한다."
   ]
  },
  {
   "cell_type": "markdown",
   "id": "9e794153",
   "metadata": {},
   "source": [
    "## 3-1. 첫 번째 Gradient Boosting"
   ]
  },
  {
   "cell_type": "code",
   "execution_count": 4,
   "id": "b148cd18",
   "metadata": {},
   "outputs": [
    {
     "data": {
      "text/html": [
       "<style>#sk-container-id-1 {color: black;background-color: white;}#sk-container-id-1 pre{padding: 0;}#sk-container-id-1 div.sk-toggleable {background-color: white;}#sk-container-id-1 label.sk-toggleable__label {cursor: pointer;display: block;width: 100%;margin-bottom: 0;padding: 0.3em;box-sizing: border-box;text-align: center;}#sk-container-id-1 label.sk-toggleable__label-arrow:before {content: \"▸\";float: left;margin-right: 0.25em;color: #696969;}#sk-container-id-1 label.sk-toggleable__label-arrow:hover:before {color: black;}#sk-container-id-1 div.sk-estimator:hover label.sk-toggleable__label-arrow:before {color: black;}#sk-container-id-1 div.sk-toggleable__content {max-height: 0;max-width: 0;overflow: hidden;text-align: left;background-color: #f0f8ff;}#sk-container-id-1 div.sk-toggleable__content pre {margin: 0.2em;color: black;border-radius: 0.25em;background-color: #f0f8ff;}#sk-container-id-1 input.sk-toggleable__control:checked~div.sk-toggleable__content {max-height: 200px;max-width: 100%;overflow: auto;}#sk-container-id-1 input.sk-toggleable__control:checked~label.sk-toggleable__label-arrow:before {content: \"▾\";}#sk-container-id-1 div.sk-estimator input.sk-toggleable__control:checked~label.sk-toggleable__label {background-color: #d4ebff;}#sk-container-id-1 div.sk-label input.sk-toggleable__control:checked~label.sk-toggleable__label {background-color: #d4ebff;}#sk-container-id-1 input.sk-hidden--visually {border: 0;clip: rect(1px 1px 1px 1px);clip: rect(1px, 1px, 1px, 1px);height: 1px;margin: -1px;overflow: hidden;padding: 0;position: absolute;width: 1px;}#sk-container-id-1 div.sk-estimator {font-family: monospace;background-color: #f0f8ff;border: 1px dotted black;border-radius: 0.25em;box-sizing: border-box;margin-bottom: 0.5em;}#sk-container-id-1 div.sk-estimator:hover {background-color: #d4ebff;}#sk-container-id-1 div.sk-parallel-item::after {content: \"\";width: 100%;border-bottom: 1px solid gray;flex-grow: 1;}#sk-container-id-1 div.sk-label:hover label.sk-toggleable__label {background-color: #d4ebff;}#sk-container-id-1 div.sk-serial::before {content: \"\";position: absolute;border-left: 1px solid gray;box-sizing: border-box;top: 0;bottom: 0;left: 50%;z-index: 0;}#sk-container-id-1 div.sk-serial {display: flex;flex-direction: column;align-items: center;background-color: white;padding-right: 0.2em;padding-left: 0.2em;position: relative;}#sk-container-id-1 div.sk-item {position: relative;z-index: 1;}#sk-container-id-1 div.sk-parallel {display: flex;align-items: stretch;justify-content: center;background-color: white;position: relative;}#sk-container-id-1 div.sk-item::before, #sk-container-id-1 div.sk-parallel-item::before {content: \"\";position: absolute;border-left: 1px solid gray;box-sizing: border-box;top: 0;bottom: 0;left: 50%;z-index: -1;}#sk-container-id-1 div.sk-parallel-item {display: flex;flex-direction: column;z-index: 1;position: relative;background-color: white;}#sk-container-id-1 div.sk-parallel-item:first-child::after {align-self: flex-end;width: 50%;}#sk-container-id-1 div.sk-parallel-item:last-child::after {align-self: flex-start;width: 50%;}#sk-container-id-1 div.sk-parallel-item:only-child::after {width: 0;}#sk-container-id-1 div.sk-dashed-wrapped {border: 1px dashed gray;margin: 0 0.4em 0.5em 0.4em;box-sizing: border-box;padding-bottom: 0.4em;background-color: white;}#sk-container-id-1 div.sk-label label {font-family: monospace;font-weight: bold;display: inline-block;line-height: 1.2em;}#sk-container-id-1 div.sk-label-container {text-align: center;}#sk-container-id-1 div.sk-container {/* jupyter's `normalize.less` sets `[hidden] { display: none; }` but bootstrap.min.css set `[hidden] { display: none !important; }` so we also need the `!important` here to be able to override the default hidden behavior on the sphinx rendered scikit-learn.org. See: https://github.com/scikit-learn/scikit-learn/issues/21755 */display: inline-block !important;position: relative;}#sk-container-id-1 div.sk-text-repr-fallback {display: none;}</style><div id=\"sk-container-id-1\" class=\"sk-top-container\"><div class=\"sk-text-repr-fallback\"><pre>GradientBoostingClassifier(random_state=42)</pre><b>In a Jupyter environment, please rerun this cell to show the HTML representation or trust the notebook. <br />On GitHub, the HTML representation is unable to render, please try loading this page with nbviewer.org.</b></div><div class=\"sk-container\" hidden><div class=\"sk-item\"><div class=\"sk-estimator sk-toggleable\"><input class=\"sk-toggleable__control sk-hidden--visually\" id=\"sk-estimator-id-1\" type=\"checkbox\" checked><label for=\"sk-estimator-id-1\" class=\"sk-toggleable__label sk-toggleable__label-arrow\">GradientBoostingClassifier</label><div class=\"sk-toggleable__content\"><pre>GradientBoostingClassifier(random_state=42)</pre></div></div></div></div></div>"
      ],
      "text/plain": [
       "GradientBoostingClassifier(random_state=42)"
      ]
     },
     "execution_count": 4,
     "metadata": {},
     "output_type": "execute_result"
    }
   ],
   "source": [
    "from sklearn.ensemble import GradientBoostingClassifier\n",
    "gb = GradientBoostingClassifier(random_state = 42)\n",
    "gb.fit(train_data, train_target)"
   ]
  },
  {
   "cell_type": "markdown",
   "id": "589d635b",
   "metadata": {},
   "source": [
    "**교차 검증 `cross_validate()` 함수 이용**"
   ]
  },
  {
   "cell_type": "code",
   "execution_count": 5,
   "id": "3b205327",
   "metadata": {},
   "outputs": [],
   "source": [
    "from sklearn.model_selection import cross_validate\n",
    "scores = cross_validate(gb, train_data, train_target\n",
    "                       , return_train_score = True, n_jobs = -1)"
   ]
  },
  {
   "cell_type": "markdown",
   "id": "ce097d02",
   "metadata": {},
   "source": [
    "**검증 세트의 정확도 확인**"
   ]
  },
  {
   "cell_type": "code",
   "execution_count": 6,
   "id": "ce19b01e",
   "metadata": {},
   "outputs": [
    {
     "name": "stdout",
     "output_type": "stream",
     "text": [
      "0.8881086892152563 0.8720430147331015\n"
     ]
    }
   ],
   "source": [
    "print(np.mean(scores['train_score']), np.mean(scores['test_score'])) # 거의 과대적합되지 않았다. 결정 트리 개수를 늘려도 강함."
   ]
  },
  {
   "cell_type": "markdown",
   "id": "e10f60b9",
   "metadata": {},
   "source": [
    "## 3-2. 두 번째 Gradient Boosting\n",
    "- 결정 트리 개수를 늘려서 다시 한 번 `n_estimators` 매개변수 사용"
   ]
  },
  {
   "cell_type": "code",
   "execution_count": 7,
   "id": "cbc72dfd",
   "metadata": {},
   "outputs": [],
   "source": [
    "gb = GradientBoostingClassifier(n_estimators = 500, learning_rate = 0.2\n",
    "                               , random_state = 42)\n",
    "scores = cross_validate(gb, train_data, train_target\n",
    "                       , return_train_score = True, n_jobs = -1)"
   ]
  },
  {
   "cell_type": "markdown",
   "id": "2be60c0f",
   "metadata": {},
   "source": [
    "**검증 세트의 정확도 확인**"
   ]
  },
  {
   "cell_type": "code",
   "execution_count": 8,
   "id": "56efa330",
   "metadata": {},
   "outputs": [
    {
     "name": "stdout",
     "output_type": "stream",
     "text": [
      "0.9464595437171814 0.8780082549788999\n"
     ]
    }
   ],
   "source": [
    "print(np.mean(scores['train_score']), np.mean(scores['test_score']))\n",
    "    # 트리 개수를 늘려도 과대적합되지 않고 검증 세트 정확도 점수를 유지하고 있다."
   ]
  },
  {
   "cell_type": "markdown",
   "id": "808348c6",
   "metadata": {},
   "source": [
    "**특징 중요도 `feature_importances`**"
   ]
  },
  {
   "cell_type": "code",
   "execution_count": 9,
   "id": "d3e9be9a",
   "metadata": {},
   "outputs": [
    {
     "ename": "NotFittedError",
     "evalue": "This GradientBoostingClassifier instance is not fitted yet. Call 'fit' with appropriate arguments before using this estimator.",
     "output_type": "error",
     "traceback": [
      "\u001b[0;31m---------------------------------------------------------------------------\u001b[0m",
      "\u001b[0;31mNotFittedError\u001b[0m                            Traceback (most recent call last)",
      "Cell \u001b[0;32mIn[9], line 1\u001b[0m\n\u001b[0;32m----> 1\u001b[0m \u001b[38;5;28mprint\u001b[39m(\u001b[43mgb\u001b[49m\u001b[38;5;241;43m.\u001b[39;49m\u001b[43mfeature_importances_\u001b[49m)\n",
      "File \u001b[0;32m~/anaconda3/lib/python3.10/site-packages/sklearn/ensemble/_gb.py:744\u001b[0m, in \u001b[0;36mBaseGradientBoosting.feature_importances_\u001b[0;34m(self)\u001b[0m\n\u001b[1;32m    724\u001b[0m \u001b[38;5;129m@property\u001b[39m\n\u001b[1;32m    725\u001b[0m \u001b[38;5;28;01mdef\u001b[39;00m \u001b[38;5;21mfeature_importances_\u001b[39m(\u001b[38;5;28mself\u001b[39m):\n\u001b[1;32m    726\u001b[0m     \u001b[38;5;124;03m\"\"\"The impurity-based feature importances.\u001b[39;00m\n\u001b[1;32m    727\u001b[0m \n\u001b[1;32m    728\u001b[0m \u001b[38;5;124;03m    The higher, the more important the feature.\u001b[39;00m\n\u001b[0;32m   (...)\u001b[0m\n\u001b[1;32m    742\u001b[0m \u001b[38;5;124;03m        array of zeros.\u001b[39;00m\n\u001b[1;32m    743\u001b[0m \u001b[38;5;124;03m    \"\"\"\u001b[39;00m\n\u001b[0;32m--> 744\u001b[0m     \u001b[38;5;28;43mself\u001b[39;49m\u001b[38;5;241;43m.\u001b[39;49m\u001b[43m_check_initialized\u001b[49m\u001b[43m(\u001b[49m\u001b[43m)\u001b[49m\n\u001b[1;32m    746\u001b[0m     relevant_trees \u001b[38;5;241m=\u001b[39m [\n\u001b[1;32m    747\u001b[0m         tree\n\u001b[1;32m    748\u001b[0m         \u001b[38;5;28;01mfor\u001b[39;00m stage \u001b[38;5;129;01min\u001b[39;00m \u001b[38;5;28mself\u001b[39m\u001b[38;5;241m.\u001b[39mestimators_\n\u001b[1;32m    749\u001b[0m         \u001b[38;5;28;01mfor\u001b[39;00m tree \u001b[38;5;129;01min\u001b[39;00m stage\n\u001b[1;32m    750\u001b[0m         \u001b[38;5;28;01mif\u001b[39;00m tree\u001b[38;5;241m.\u001b[39mtree_\u001b[38;5;241m.\u001b[39mnode_count \u001b[38;5;241m>\u001b[39m \u001b[38;5;241m1\u001b[39m\n\u001b[1;32m    751\u001b[0m     ]\n\u001b[1;32m    752\u001b[0m     \u001b[38;5;28;01mif\u001b[39;00m \u001b[38;5;129;01mnot\u001b[39;00m relevant_trees:\n\u001b[1;32m    753\u001b[0m         \u001b[38;5;66;03m# degenerate case where all trees have only one node\u001b[39;00m\n",
      "File \u001b[0;32m~/anaconda3/lib/python3.10/site-packages/sklearn/ensemble/_gb.py:382\u001b[0m, in \u001b[0;36mBaseGradientBoosting._check_initialized\u001b[0;34m(self)\u001b[0m\n\u001b[1;32m    380\u001b[0m \u001b[38;5;28;01mdef\u001b[39;00m \u001b[38;5;21m_check_initialized\u001b[39m(\u001b[38;5;28mself\u001b[39m):\n\u001b[1;32m    381\u001b[0m     \u001b[38;5;124;03m\"\"\"Check that the estimator is initialized, raising an error if not.\"\"\"\u001b[39;00m\n\u001b[0;32m--> 382\u001b[0m     \u001b[43mcheck_is_fitted\u001b[49m\u001b[43m(\u001b[49m\u001b[38;5;28;43mself\u001b[39;49m\u001b[43m)\u001b[49m\n",
      "File \u001b[0;32m~/anaconda3/lib/python3.10/site-packages/sklearn/utils/validation.py:1390\u001b[0m, in \u001b[0;36mcheck_is_fitted\u001b[0;34m(estimator, attributes, msg, all_or_any)\u001b[0m\n\u001b[1;32m   1385\u001b[0m     fitted \u001b[38;5;241m=\u001b[39m [\n\u001b[1;32m   1386\u001b[0m         v \u001b[38;5;28;01mfor\u001b[39;00m v \u001b[38;5;129;01min\u001b[39;00m \u001b[38;5;28mvars\u001b[39m(estimator) \u001b[38;5;28;01mif\u001b[39;00m v\u001b[38;5;241m.\u001b[39mendswith(\u001b[38;5;124m\"\u001b[39m\u001b[38;5;124m_\u001b[39m\u001b[38;5;124m\"\u001b[39m) \u001b[38;5;129;01mand\u001b[39;00m \u001b[38;5;129;01mnot\u001b[39;00m v\u001b[38;5;241m.\u001b[39mstartswith(\u001b[38;5;124m\"\u001b[39m\u001b[38;5;124m__\u001b[39m\u001b[38;5;124m\"\u001b[39m)\n\u001b[1;32m   1387\u001b[0m     ]\n\u001b[1;32m   1389\u001b[0m \u001b[38;5;28;01mif\u001b[39;00m \u001b[38;5;129;01mnot\u001b[39;00m fitted:\n\u001b[0;32m-> 1390\u001b[0m     \u001b[38;5;28;01mraise\u001b[39;00m NotFittedError(msg \u001b[38;5;241m%\u001b[39m {\u001b[38;5;124m\"\u001b[39m\u001b[38;5;124mname\u001b[39m\u001b[38;5;124m\"\u001b[39m: \u001b[38;5;28mtype\u001b[39m(estimator)\u001b[38;5;241m.\u001b[39m\u001b[38;5;18m__name__\u001b[39m})\n",
      "\u001b[0;31mNotFittedError\u001b[0m: This GradientBoostingClassifier instance is not fitted yet. Call 'fit' with appropriate arguments before using this estimator."
     ]
    }
   ],
   "source": [
    "print(gb.feature_importances_)"
   ]
  },
  {
   "cell_type": "markdown",
   "id": "f8061dd0",
   "metadata": {},
   "source": [
    "## 3-3. 테스트 세트의 정확도 확인"
   ]
  },
  {
   "cell_type": "code",
   "execution_count": null,
   "id": "877e17fc",
   "metadata": {},
   "outputs": [],
   "source": [
    "gb.score(test_data, test_target)"
   ]
  },
  {
   "cell_type": "markdown",
   "id": "13be59d4",
   "metadata": {},
   "source": [
    "# 4. 히스토그램 기반 그레이디언트 부스팅\n",
    "- 정형 데이터를 다루는 머신러닝 알고리즘 중에 가장 인기가 높은 알고리즘\n",
    "- 입력 특성을 256개 구간으로 나누어 노드를 분할할 때 최적의 분할을 빠르게 찾을 수 있다.\n",
    "- `max_iter` 사용"
   ]
  },
  {
   "cell_type": "code",
   "execution_count": null,
   "id": "6ee99680",
   "metadata": {},
   "outputs": [],
   "source": [
    "from sklearn.ensemble import HistGradientBoostingClassifier\n",
    "hgb = HistGradientBoostingClassifier(random_state = 42)"
   ]
  },
  {
   "cell_type": "markdown",
   "id": "b347ecd3",
   "metadata": {},
   "source": [
    "**교차 검증 `cross_validate()` 함수 이용**"
   ]
  },
  {
   "cell_type": "code",
   "execution_count": null,
   "id": "743de173",
   "metadata": {},
   "outputs": [],
   "source": [
    "from sklearn.model_selection import cross_validate\n",
    "score = cross_validate(hgb, train_data, train_target\n",
    "                      , return_train_score = True)"
   ]
  },
  {
   "cell_type": "markdown",
   "id": "a927b21c",
   "metadata": {},
   "source": [
    "**검증 세트의 정확도 확인**"
   ]
  },
  {
   "cell_type": "code",
   "execution_count": null,
   "id": "1e18c854",
   "metadata": {},
   "outputs": [],
   "source": [
    "print(np.mean(scores['train_score']), np.mean(scores['test_score']))"
   ]
  },
  {
   "cell_type": "markdown",
   "id": "aedce005",
   "metadata": {},
   "source": [
    "## 4-1. 특징 중요도 `permutation_importance`\n",
    "- 반복해서 얻은 특성 중요도(importances), 평균(importances_mean), 표준 편차(importances_std)"
   ]
  },
  {
   "cell_type": "markdown",
   "id": "d1e8f26c",
   "metadata": {},
   "source": [
    "**훈련 세트의 특성 중요도 계산**"
   ]
  },
  {
   "cell_type": "code",
   "execution_count": null,
   "id": "bf69a89a",
   "metadata": {},
   "outputs": [],
   "source": [
    "from sklearn.inspection import permutation_importance\n",
    "\n",
    "hgb.fit(train_data, train_target)\n",
    "result = permutation_importance(hgb, train_data, train_target\n",
    "                               , n_repeats = 10, random_state = 42, n_jobs = -1)\n",
    "print(result.importances_mean)"
   ]
  },
  {
   "cell_type": "markdown",
   "id": "f53cbaa3",
   "metadata": {},
   "source": [
    "**테스트 세트의 특성 중요도 계산**"
   ]
  },
  {
   "cell_type": "code",
   "execution_count": null,
   "id": "32521c31",
   "metadata": {},
   "outputs": [],
   "source": [
    "result = permutation_importance(hgb, test_data, test_target\n",
    "                               , n_repeats = 10, random_state = 42, n_jobs = -1)\n",
    "print(result.importances_mean)"
   ]
  },
  {
   "cell_type": "markdown",
   "id": "5923f58b",
   "metadata": {},
   "source": [
    "## 4-2. 테스트 세트의 정확도 확인"
   ]
  },
  {
   "cell_type": "code",
   "execution_count": null,
   "id": "972a4402",
   "metadata": {},
   "outputs": [],
   "source": [
    "hgb.score(test_data, test_target)"
   ]
  },
  {
   "cell_type": "markdown",
   "id": "a49f09c2",
   "metadata": {},
   "source": [
    "# 5. XGBoost\n",
    "- 다양한 부스팅 알고리즘을 지원하는 라이브러리\n",
    "- `tree_method = 'hist'` 지정하면 히스토그램 기반 그레이디언트 부스팅 사용할 수 있다."
   ]
  },
  {
   "cell_type": "code",
   "execution_count": null,
   "id": "99116f5d",
   "metadata": {},
   "outputs": [],
   "source": [
    "from xgboost import XGBClassifier\n",
    "xgb = XGBClassifier(tree_method = 'hist', random_state = 42)"
   ]
  },
  {
   "cell_type": "code",
   "execution_count": null,
   "id": "5f477fb6",
   "metadata": {},
   "outputs": [],
   "source": [
    "scores = cross_validate(xgb, train_data, train_target\n",
    "                       , return_train_score = True)"
   ]
  },
  {
   "cell_type": "markdown",
   "id": "505297ef",
   "metadata": {},
   "source": [
    "**검증 세트의 정확도 확인**"
   ]
  },
  {
   "cell_type": "code",
   "execution_count": null,
   "id": "d0d38452",
   "metadata": {
    "scrolled": true
   },
   "outputs": [],
   "source": [
    "print(np.mean(scores['train_score']), np.mean(scores['test_score']))"
   ]
  },
  {
   "cell_type": "markdown",
   "id": "46315834",
   "metadata": {},
   "source": [
    "# 6. LightGBM"
   ]
  },
  {
   "cell_type": "code",
   "execution_count": null,
   "id": "cb809ece",
   "metadata": {},
   "outputs": [],
   "source": [
    "from lightgbm import LGBMClassifier\n",
    "lgb = LGBMClassifier(random_state = 42)"
   ]
  },
  {
   "cell_type": "code",
   "execution_count": null,
   "id": "bebbfd23",
   "metadata": {},
   "outputs": [],
   "source": [
    "scores = cross_validate(lgb, train_data, train_target\n",
    "                       , return_train_score = True, n_jobs = -1)"
   ]
  },
  {
   "cell_type": "markdown",
   "id": "56642d31",
   "metadata": {},
   "source": [
    "**검증 세트의 정확도 확인**"
   ]
  },
  {
   "cell_type": "code",
   "execution_count": null,
   "id": "e61f23b4",
   "metadata": {},
   "outputs": [],
   "source": [
    "print(np.mean(scores['train_score']), np.mean(scores['test_score']))"
   ]
  },
  {
   "cell_type": "code",
   "execution_count": null,
   "id": "de04c4a4",
   "metadata": {},
   "outputs": [],
   "source": []
  }
 ],
 "metadata": {
  "kernelspec": {
   "display_name": "Python 3 (ipykernel)",
   "language": "python",
   "name": "python3"
  },
  "language_info": {
   "codemirror_mode": {
    "name": "ipython",
    "version": 3
   },
   "file_extension": ".py",
   "mimetype": "text/x-python",
   "name": "python",
   "nbconvert_exporter": "python",
   "pygments_lexer": "ipython3",
   "version": "3.10.9"
  }
 },
 "nbformat": 4,
 "nbformat_minor": 5
}

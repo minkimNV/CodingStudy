{
 "cells": [
  {
   "cell_type": "markdown",
   "id": "f586929c",
   "metadata": {},
   "source": [
    "패션 이미지 분류 문제에서 로지스틱 회귀를 쓰는 것보다 인공 신경망 모델을 쓰는 게 더 성능이 좋았다. 다른 방법을 사용해서 성능을 더 향상시켜보자."
   ]
  },
  {
   "cell_type": "markdown",
   "id": "a54d6ee8",
   "metadata": {},
   "source": [
    "## 1. 데이터 준비\n",
    "#### <7-1. 인공 신경망> 에서 했던대로 데이터를 준비하기\n"
   ]
  },
  {
   "cell_type": "code",
   "execution_count": 1,
   "id": "7243a7fe",
   "metadata": {},
   "outputs": [
    {
     "name": "stderr",
     "output_type": "stream",
     "text": [
      "2023-06-08 15:43:48.308547: I tensorflow/core/platform/cpu_feature_guard.cc:193] This TensorFlow binary is optimized with oneAPI Deep Neural Network Library (oneDNN) to use the following CPU instructions in performance-critical operations:  SSE4.1 SSE4.2\n",
      "To enable them in other operations, rebuild TensorFlow with the appropriate compiler flags.\n"
     ]
    },
    {
     "name": "stdout",
     "output_type": "stream",
     "text": [
      "(48000, 784) (48000,)\n",
      "(12000, 784) (12000,)\n"
     ]
    }
   ],
   "source": [
    "from tensorflow import keras\n",
    "\n",
    "# 1. 데이터를 불러오고\n",
    "(train_input, train_target), (test_input, test_target) = keras.datasets.fashion_mnist.load_data()\n",
    "\n",
    "# 2. 픽셀값 0~255 범위를 0~1범위로 변환하고\n",
    "train_scaled = train_input / 255.0\n",
    "\n",
    "# 3. 28* 28 크기의 3차원 배열을 가진 60,000개 샘플을 2차원 배열로 바꿔주고\n",
    "train_scaled = train_scaled.reshape(-1, 28*28)\n",
    "\n",
    "# 4. train_test_split() 함수 사용해서 검증 세트를 떼어놓고\n",
    "from sklearn.model_selection import train_test_split\n",
    "train_scaled, val_scaled, train_target, val_target = train_test_split(\n",
    "    train_scaled, train_target, test_size = 0.2, random_state = 42)\n",
    "\n",
    "# 5. 데이터 크기 확인\n",
    "print(train_scaled.shape, train_target.shape)\n",
    "print(val_scaled.shape, val_target.shape)\n"
   ]
  },
  {
   "cell_type": "markdown",
   "id": "9037cbf1",
   "metadata": {},
   "source": [
    "## 2. 심층 신경망 모델 만들기\n",
    "- 심층 신경망(Deep Neural Network, DNN)은 입력층(input layer)과 출력층(output layer) 사이에 여러 개의 은닉층(hidden layer)들로 이뤄진 인공신경망(Artificial Neural Network, ANN)이다."
   ]
  },
  {
   "cell_type": "markdown",
   "id": "d4ed63d5",
   "metadata": {},
   "source": [
    "### 2-1. 인공 신경망 모델에 층을 2개 추가하는 방법\n",
    "- 입력층과 출력층 사이에 은닉층을 추가한다.\n",
    "\n",
    "##### 활성화 함수\n",
    "- 밀집층을 추가할 때 `activation` 매개변수에 활성화 함수를 지정해준다.\n",
    "- 분류를 위한 확률 출력의 경우, 활성화 함수를 사용하는데, '은닉층'이라는 밀집층을 추가할 때는 활성화 함수를 비교적 자유롭게 선택할 수 있다.\n",
    "    - 대표적 활성화 함수: 시그모이드, 렐루 등...\n",
    "- 회귀를 위한 확률 출력의 경우, 회귀는 임의의 숫자이므로 활성화 함수를 적용할 필요가 없다. Dense 층의 `activation` 매개변수에 값을 지정하지 않고 출력층의 선형 방정식 계산을 그대로 출력한다.    \n"
   ]
  },
  {
   "cell_type": "code",
   "execution_count": 2,
   "id": "614a31fc",
   "metadata": {},
   "outputs": [],
   "source": [
    "dense1 = keras.layers.Dense(100, activation = 'sigmoid', input_shape = (784,))\n",
    "dense2 = keras.layers.Dense(10, activation = 'softmax')"
   ]
  },
  {
   "cell_type": "markdown",
   "id": "2692e8bf",
   "metadata": {},
   "source": [
    "- `model = keras.Sequential([hidden layer, output layer])`: 은닉층 - 출력층 순으로 작성해준다. "
   ]
  },
  {
   "cell_type": "code",
   "execution_count": 3,
   "id": "c98fbeeb",
   "metadata": {},
   "outputs": [
    {
     "name": "stderr",
     "output_type": "stream",
     "text": [
      "2023-06-08 15:43:51.727807: I tensorflow/core/platform/cpu_feature_guard.cc:193] This TensorFlow binary is optimized with oneAPI Deep Neural Network Library (oneDNN) to use the following CPU instructions in performance-critical operations:  SSE4.1 SSE4.2\n",
      "To enable them in other operations, rebuild TensorFlow with the appropriate compiler flags.\n"
     ]
    }
   ],
   "source": [
    "model = keras.Sequential([dense1, dense2])\n",
    "# 2개의 밀집층을 가진 신경망 모델을 만들기 위해 케라스의 Sequential() 클래스 이용\n",
    "# Sequential() 클래스의 객체에 밀집층의 객체인 [dense1, dense2]를 전달\n",
    "# `name` 매개변수로 모델의 이름을 지정할 수 있다."
   ]
  },
  {
   "cell_type": "code",
   "execution_count": 4,
   "id": "eed5b842",
   "metadata": {},
   "outputs": [
    {
     "name": "stdout",
     "output_type": "stream",
     "text": [
      "Model: \"sequential\"\n",
      "_________________________________________________________________\n",
      " Layer (type)                Output Shape              Param #   \n",
      "=================================================================\n",
      " dense (Dense)               (None, 100)               78500     \n",
      "                                                                 \n",
      " dense_1 (Dense)             (None, 10)                1010      \n",
      "                                                                 \n",
      "=================================================================\n",
      "Total params: 79,510\n",
      "Trainable params: 79,510\n",
      "Non-trainable params: 0\n",
      "_________________________________________________________________\n"
     ]
    }
   ],
   "source": [
    "model.summary()\n",
    "# 모델 정보 확인하기"
   ]
  },
  {
   "cell_type": "markdown",
   "id": "1fabf52d",
   "metadata": {},
   "source": [
    "### 2-2. 인공 신경망 모델에 층을 추가하는 방법"
   ]
  },
  {
   "cell_type": "code",
   "execution_count": 5,
   "id": "94a67fc9",
   "metadata": {},
   "outputs": [
    {
     "name": "stdout",
     "output_type": "stream",
     "text": [
      "Model: \"패션 MNIST 모델\"\n",
      "_________________________________________________________________\n",
      " Layer (type)                Output Shape              Param #   \n",
      "=================================================================\n",
      " hidden (Dense)              (None, 100)               78500     \n",
      "                                                                 \n",
      " output (Dense)              (None, 10)                1010      \n",
      "                                                                 \n",
      "=================================================================\n",
      "Total params: 79,510\n",
      "Trainable params: 79,510\n",
      "Non-trainable params: 0\n",
      "_________________________________________________________________\n"
     ]
    }
   ],
   "source": [
    "# not running: only for practice\n",
    "\n",
    "model = keras.Sequential([\n",
    "    keras.layers.Dense(100, activation = 'sigmoid', input_shape = (784,), name = 'hidden')\n",
    "    , keras.layers.Dense(10, activation = 'softmax', name = 'output')\n",
    "], name = '패션 MNIST 모델')\n",
    "\n",
    "model.summary()"
   ]
  },
  {
   "cell_type": "markdown",
   "id": "0fed12cf",
   "metadata": {},
   "source": [
    "### 2-3. 인공 신경망 모델에 층을 추가하는 방법"
   ]
  },
  {
   "cell_type": "code",
   "execution_count": 6,
   "id": "9847dcd6",
   "metadata": {},
   "outputs": [
    {
     "name": "stdout",
     "output_type": "stream",
     "text": [
      "Model: \"sequential_1\"\n",
      "_________________________________________________________________\n",
      " Layer (type)                Output Shape              Param #   \n",
      "=================================================================\n",
      " dense_2 (Dense)             (None, 100)               78500     \n",
      "                                                                 \n",
      " dense_3 (Dense)             (None, 10)                1010      \n",
      "                                                                 \n",
      "=================================================================\n",
      "Total params: 79,510\n",
      "Trainable params: 79,510\n",
      "Non-trainable params: 0\n",
      "_________________________________________________________________\n"
     ]
    }
   ],
   "source": [
    "# only for practice\n",
    "\n",
    "model = keras.Sequential()\n",
    "model.add(keras.layers.Dense(100, activation = 'sigmoid', input_shape = (784,)))\n",
    "model.add(keras.layers.Dense(10, activation = 'softmax'))\n",
    "\n",
    "model.summary()"
   ]
  },
  {
   "cell_type": "markdown",
   "id": "75c16c92",
   "metadata": {},
   "source": [
    "## 3. 모델 훈련\n",
    "- 케라스는 모델 훈련 전 설정 단계에서 손실함수를 꼭 지정해주고 훈련을 시켜야 한다."
   ]
  },
  {
   "cell_type": "code",
   "execution_count": 7,
   "id": "0ef17d6c",
   "metadata": {},
   "outputs": [
    {
     "name": "stdout",
     "output_type": "stream",
     "text": [
      "Epoch 1/5\n",
      "1500/1500 [==============================] - 2s 878us/step - loss: 0.5597 - accuracy: 0.8074\n",
      "Epoch 2/5\n",
      "1500/1500 [==============================] - 1s 861us/step - loss: 0.4066 - accuracy: 0.8535\n",
      "Epoch 3/5\n",
      "1500/1500 [==============================] - 1s 867us/step - loss: 0.3717 - accuracy: 0.8654\n",
      "Epoch 4/5\n",
      "1500/1500 [==============================] - 1s 869us/step - loss: 0.3501 - accuracy: 0.8741\n",
      "Epoch 5/5\n",
      "1500/1500 [==============================] - 1s 857us/step - loss: 0.3325 - accuracy: 0.8802\n"
     ]
    },
    {
     "data": {
      "text/plain": [
       "<keras.callbacks.History at 0x7fef09f95840>"
      ]
     },
     "execution_count": 7,
     "metadata": {},
     "output_type": "execute_result"
    }
   ],
   "source": [
    "model.compile(loss = 'sparse_categorical_crossentropy', metrics = 'accuracy')\n",
    "model.fit(train_scaled, train_target, epochs = 5)"
   ]
  },
  {
   "cell_type": "code",
   "execution_count": 8,
   "id": "01430ea2",
   "metadata": {},
   "outputs": [
    {
     "name": "stdout",
     "output_type": "stream",
     "text": [
      "375/375 [==============================] - 0s 587us/step - loss: 0.3474 - accuracy: 0.8733\n"
     ]
    },
    {
     "data": {
      "text/plain": [
       "[0.3473699688911438, 0.8733333349227905]"
      ]
     },
     "execution_count": 8,
     "metadata": {},
     "output_type": "execute_result"
    }
   ],
   "source": [
    "model.evaluate(val_scaled, val_target)"
   ]
  },
  {
   "cell_type": "markdown",
   "id": "fe6b6bbf",
   "metadata": {},
   "source": [
    "- **이전에 만든 인공 신경망에 밀집층을 2개를 사용해서 모델 훈련을 했을 때 정확도가 약간은 높아진 것을 확인할 수 있다. (인공 신경망 검증 세트 정확도 점수 0.850)**"
   ]
  },
  {
   "cell_type": "code",
   "execution_count": null,
   "id": "a30776e7",
   "metadata": {},
   "outputs": [],
   "source": []
  }
 ],
 "metadata": {
  "kernelspec": {
   "display_name": "Python 3 (ipykernel)",
   "language": "python",
   "name": "python3"
  },
  "language_info": {
   "codemirror_mode": {
    "name": "ipython",
    "version": 3
   },
   "file_extension": ".py",
   "mimetype": "text/x-python",
   "name": "python",
   "nbconvert_exporter": "python",
   "pygments_lexer": "ipython3",
   "version": "3.10.9"
  }
 },
 "nbformat": 4,
 "nbformat_minor": 5
}

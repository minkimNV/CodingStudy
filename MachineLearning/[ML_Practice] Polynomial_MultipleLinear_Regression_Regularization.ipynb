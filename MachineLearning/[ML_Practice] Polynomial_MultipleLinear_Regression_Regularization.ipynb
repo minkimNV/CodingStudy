{
 "cells": [
  {
   "cell_type": "markdown",
   "id": "aa3b069f",
   "metadata": {},
   "source": [
    "# Polynomial Regression (다항 회귀)\n",
    "\n",
    "- 데이터를 표현함에 있어서 선형이 아닌 <U>곡선</U> 으로 나타나는 경우에 사용한다.\n",
    "- 다항 회귀는 '항(차수, degree)'이 많다는 것.\n",
    "<br> <br>\n",
    "- 차수를 높이면 기존 모델보다 더 적은 오차를 만들어 낸다는 장점 ( $ R^2 $ 값 증가)\n",
    "- 다항회귀는 1개의 독립 변수를 이용해 **차수(degree)** 를 높인다.\n",
    "- feature에 대한 데이터를 변형시켜 다항으로 표현 ( $ W_1 * f + W_2 * f^2 + ... + b $ )"
   ]
  },
  {
   "cell_type": "markdown",
   "id": "34c24dd2",
   "metadata": {},
   "source": [
    "## 데이터 준비\n",
    "- 다항 회귀를 이용해 농어의 길이 데이터를 이용해서 몸무게를 예측하기"
   ]
  },
  {
   "cell_type": "code",
   "execution_count": 2,
   "id": "4bcf781c",
   "metadata": {},
   "outputs": [],
   "source": [
    "import numpy as np\n",
    "\n",
    "perch_length = np.array(\n",
    "    [8.4, 13.7, 15.0, 16.2, 17.4, 18.0, 18.7, 19.0, 19.6, 20.0, \n",
    "     21.0, 21.0, 21.0, 21.3, 22.0, 22.0, 22.0, 22.0, 22.0, 22.5, \n",
    "     22.5, 22.7, 23.0, 23.5, 24.0, 24.0, 24.6, 25.0, 25.6, 26.5, \n",
    "     27.3, 27.5, 27.5, 27.5, 28.0, 28.7, 30.0, 32.8, 34.5, 35.0, \n",
    "     36.5, 36.0, 37.0, 37.0, 39.0, 39.0, 39.0, 40.0, 40.0, 40.0, \n",
    "     40.0, 42.0, 43.0, 43.0, 43.5, 44.0]\n",
    "     ) # 농어 길이에 해당하는 값의 리스트 - np.array에 전달\n",
    "\n",
    "perch_weight = np.array(\n",
    "    [5.9, 32.0, 40.0, 51.5, 70.0, 100.0, 78.0, 80.0, 85.0, 85.0, \n",
    "     110.0, 115.0, 125.0, 130.0, 120.0, 120.0, 130.0, 135.0, 110.0, \n",
    "     130.0, 150.0, 145.0, 150.0, 170.0, 225.0, 145.0, 188.0, 180.0, \n",
    "     197.0, 218.0, 300.0, 260.0, 265.0, 250.0, 250.0, 300.0, 320.0, \n",
    "     514.0, 556.0, 840.0, 685.0, 700.0, 700.0, 690.0, 900.0, 650.0, \n",
    "     820.0, 850.0, 900.0, 1015.0, 820.0, 1100.0, 1000.0, 1100.0, \n",
    "     1000.0, 1000.0]\n",
    "     ) # 농어 무게에 해당하는 값의 리스트 - np.array에 전달"
   ]
  },
  {
   "cell_type": "code",
   "execution_count": 3,
   "id": "d6a110e7",
   "metadata": {},
   "outputs": [
    {
     "name": "stdout",
     "output_type": "stream",
     "text": [
      "(42,) (14,)\n"
     ]
    }
   ],
   "source": [
    "from sklearn.model_selection import train_test_split\n",
    "\n",
    "train_d, test_d, train_t, test_t = train_test_split(perch_length, perch_weight, random_state = 42)\n",
    "\n",
    "print(train_d.shape, test_d.shape)"
   ]
  },
  {
   "cell_type": "markdown",
   "id": "67f7f751",
   "metadata": {},
   "source": [
    "**머신러닝에서 column = target (y 값), row = feature data (X 값)으로 보기 때문에, target data (y)는 1차원 배열, feature data (X 값)는 2차원 배열을 가져야 한다. ```np.reshape(r, c)``` 사용해서 2차원 배열로 바꿔주자.**"
   ]
  },
  {
   "cell_type": "code",
   "execution_count": 4,
   "id": "5a89e6a8",
   "metadata": {},
   "outputs": [
    {
     "name": "stdout",
     "output_type": "stream",
     "text": [
      "(42, 1) (14, 1)\n"
     ]
    }
   ],
   "source": [
    "train_d = train_d.reshape(-1, 1)\n",
    "test_d = test_d.reshape(-1, 1)\n",
    "\n",
    "print(train_d.shape, test_d.shape)"
   ]
  },
  {
   "cell_type": "markdown",
   "id": "6d09f059",
   "metadata": {},
   "source": [
    "## 모델학습\n",
    "\n",
    "- 차수를 높일 때 특징으로 존재하는 독립변수를 제곱한 항을 데이터에 추가해야 한다.\n",
    "- 지금의 경우에는 '길이'를 이용해 '무게'를 예측할 것이니까 '길이'를 제곱한 항을 추가해야 한다.\n",
    "- ```np.column_stack(([a, b]))```: 두 개의 1차원 배열을 칼럼/세로/열 방향으로 붙여서 2차원 배열로 만드는 넘파이 기능\n"
   ]
  },
  {
   "cell_type": "code",
   "execution_count": 12,
   "id": "01522f49",
   "metadata": {},
   "outputs": [
    {
     "name": "stdout",
     "output_type": "stream",
     "text": [
      "(42, 2) (14, 2)\n"
     ]
    }
   ],
   "source": [
    "train_poly = np.column_stack((train_d**2, train_d))\n",
    "test_poly = np.column_stack((test_d**2, test_d))\n",
    "\n",
    "print(train_poly.shape, test_poly.shape)"
   ]
  },
  {
   "cell_type": "code",
   "execution_count": 6,
   "id": "1c8ccb58",
   "metadata": {},
   "outputs": [
    {
     "name": "stdout",
     "output_type": "stream",
     "text": [
      "0.9706807451768623\n",
      "0.9775935108325121\n"
     ]
    }
   ],
   "source": [
    "from sklearn.linear_model import LinearRegression\n",
    "lr = LinearRegression()\n",
    "lr.fit(train_poly, train_t)\n",
    "print(lr.score(train_poly, train_t))\n",
    "print(lr.score(test_poly, test_t))"
   ]
  },
  {
   "cell_type": "code",
   "execution_count": 11,
   "id": "1e1dbf49",
   "metadata": {},
   "outputs": [
    {
     "data": {
      "text/plain": [
       "array([1573.98423528])"
      ]
     },
     "execution_count": 11,
     "metadata": {},
     "output_type": "execute_result"
    }
   ],
   "source": [
    "lr.predict([[50**2, 50]])"
   ]
  },
  {
   "cell_type": "code",
   "execution_count": 7,
   "id": "ec32cb37",
   "metadata": {},
   "outputs": [
    {
     "name": "stdout",
     "output_type": "stream",
     "text": [
      "[  1.01433211 -21.55792498] 116.05021078278259\n"
     ]
    }
   ],
   "source": [
    "print(lr.coef_, lr.intercept_)"
   ]
  },
  {
   "cell_type": "code",
   "execution_count": 14,
   "id": "e0854b20",
   "metadata": {},
   "outputs": [
    {
     "data": {
      "image/png": "[encoded data removed]",
      "text/plain": [
       "<Figure size 640x480 with 1 Axes>"
      ]
     },
     "metadata": {},
     "output_type": "display_data"
    }
   ],
   "source": [
    "import matplotlib.pyplot as plt\n",
    "\n",
    "point = np.arange(15, 50)\n",
    "plt.scatter(train_d, train_t)\n",
    "plt.plot(point, 1.01 * point**2 + (-21.6) * point + 116.05)\n",
    "plt.scatter(50, 1573, marker = '^')\n",
    "plt.show()"
   ]
  },
  {
   "cell_type": "code",
   "execution_count": 15,
   "id": "ab85b8cf",
   "metadata": {},
   "outputs": [
    {
     "name": "stdout",
     "output_type": "stream",
     "text": [
      "0.9706807451768623\n",
      "0.9775935108325121\n"
     ]
    }
   ],
   "source": [
    "print(lr.score(train_poly, train_t))\n",
    "print(lr.score(test_poly, test_t))\n",
    "# 정확도가 선형회귀를 이용했을 때보다 더 높아졌다. 약간의 과소적합은 있음."
   ]
  },
  {
   "cell_type": "markdown",
   "id": "817b7cce",
   "metadata": {},
   "source": [
    "**위의 다항회귀 예시에서 생선의 길이라는 하나의 특징에 차수를 부여해 하나의 특징을 더 만들어냈다. 이처럼 차수가 1인 생선의 길이라는 단순한 특징을 제곱하여 또 다른 특징을 만들어 낼 수 있다.**\n",
    "- 여러 특징이 있을 때 정확도 높아진다.\n",
    "- 너무 많은 차수를 사용하면 overfitting 가능성 높아질 수 있다.\n",
    "- overfitting 막으면서 차수를 적절히 조절할 수 있는 Ridge, Lasso라는 규제 클래스가 있다."
   ]
  },
  {
   "cell_type": "markdown",
   "id": "d60f14f1",
   "metadata": {},
   "source": [
    "# Multiple Linear Regression (다중선형회귀)\n",
    "- 독립변수가 여러개 (feature)"
   ]
  },
  {
   "cell_type": "markdown",
   "id": "7a7451df",
   "metadata": {},
   "source": [
    "## 데이터 준비"
   ]
  },
  {
   "cell_type": "code",
   "execution_count": 1,
   "id": "7c74ce4e",
   "metadata": {},
   "outputs": [
    {
     "name": "stdout",
     "output_type": "stream",
     "text": [
      "[[ 8.4   2.11  1.41]\n",
      " [13.7   3.53  2.  ]\n",
      " [15.    3.82  2.43]\n",
      " [16.2   4.59  2.63]\n",
      " [17.4   4.59  2.94]\n",
      " [18.    5.22  3.32]\n",
      " [18.7   5.2   3.12]\n",
      " [19.    5.64  3.05]\n",
      " [19.6   5.14  3.04]\n",
      " [20.    5.08  2.77]\n",
      " [21.    5.69  3.56]\n",
      " [21.    5.92  3.31]\n",
      " [21.    5.69  3.67]\n",
      " [21.3   6.38  3.53]\n",
      " [22.    6.11  3.41]\n",
      " [22.    5.64  3.52]\n",
      " [22.    6.11  3.52]\n",
      " [22.    5.88  3.52]\n",
      " [22.    5.52  4.  ]\n",
      " [22.5   5.86  3.62]\n",
      " [22.5   6.79  3.62]\n",
      " [22.7   5.95  3.63]\n",
      " [23.    5.22  3.63]\n",
      " [23.5   6.28  3.72]\n",
      " [24.    7.29  3.72]\n",
      " [24.    6.38  3.82]\n",
      " [24.6   6.73  4.17]\n",
      " [25.    6.44  3.68]\n",
      " [25.6   6.56  4.24]\n",
      " [26.5   7.17  4.14]\n",
      " [27.3   8.32  5.14]\n",
      " [27.5   7.17  4.34]\n",
      " [27.5   7.05  4.34]\n",
      " [27.5   7.28  4.57]\n",
      " [28.    7.82  4.2 ]\n",
      " [28.7   7.59  4.64]\n",
      " [30.    7.62  4.77]\n",
      " [32.8  10.03  6.02]\n",
      " [34.5  10.26  6.39]\n",
      " [35.   11.49  7.8 ]\n",
      " [36.5  10.88  6.86]\n",
      " [36.   10.61  6.74]\n",
      " [37.   10.84  6.26]\n",
      " [37.   10.57  6.37]\n",
      " [39.   11.14  7.49]\n",
      " [39.   11.14  6.  ]\n",
      " [39.   12.43  7.35]\n",
      " [40.   11.93  7.11]\n",
      " [40.   11.73  7.22]\n",
      " [40.   12.38  7.46]\n",
      " [40.   11.14  6.63]\n",
      " [42.   12.8   6.87]\n",
      " [43.   11.93  7.28]\n",
      " [43.   12.51  7.42]\n",
      " [43.5  12.6   8.14]\n",
      " [44.   12.49  7.6 ]]\n"
     ]
    }
   ],
   "source": [
    "import pandas as pd # pandas에서 feature 데이터를 불러오기\n",
    "\n",
    "df = pd.read_csv('https://bit.ly/perch_csv')\n",
    "perch_full = df.to_numpy()\n",
    "print(perch_full) # length, height, width of perch\n",
    "# 세 가지 특징을 가지고 있어 다중선형회귀 구현 가능"
   ]
  },
  {
   "cell_type": "code",
   "execution_count": 2,
   "id": "b1553e59",
   "metadata": {},
   "outputs": [],
   "source": [
    "import numpy as np\n",
    "\n",
    "perch_weight = np.array(\n",
    "    [5.9, 32.0, 40.0, 51.5, 70.0, 100.0, 78.0, 80.0, 85.0, 85.0, \n",
    "     110.0, 115.0, 125.0, 130.0, 120.0, 120.0, 130.0, 135.0, 110.0, \n",
    "     130.0, 150.0, 145.0, 150.0, 170.0, 225.0, 145.0, 188.0, 180.0, \n",
    "     197.0, 218.0, 300.0, 260.0, 265.0, 250.0, 250.0, 300.0, 320.0, \n",
    "     514.0, 556.0, 840.0, 685.0, 700.0, 700.0, 690.0, 900.0, 650.0, \n",
    "     820.0, 850.0, 900.0, 1015.0, 820.0, 1100.0, 1000.0, 1100.0, \n",
    "     1000.0, 1000.0]\n",
    "     ) # target(y) feature = weight"
   ]
  },
  {
   "cell_type": "code",
   "execution_count": 3,
   "id": "795adc7d",
   "metadata": {},
   "outputs": [],
   "source": [
    "from sklearn.model_selection import train_test_split\n",
    "\n",
    "train_input, test_input, train_target, test_target = train_test_split(perch_full, perch_weight, random_state = 42)"
   ]
  },
  {
   "cell_type": "markdown",
   "id": "a023e843",
   "metadata": {},
   "source": [
    "## Scikit Learn - Transformation"
   ]
  },
  {
   "cell_type": "code",
   "execution_count": 4,
   "id": "454b0f27",
   "metadata": {},
   "outputs": [
    {
     "name": "stdout",
     "output_type": "stream",
     "text": [
      "[[1. 2. 3. 4. 6. 9.]]\n"
     ]
    }
   ],
   "source": [
    "from sklearn.preprocessing import PolynomialFeatures\n",
    "    # 데이터를 다항으로 나타내기 위해 PolynomialFeature() 클래스 호출\n",
    "    # 데이터를 자동으로 다항식으로 변형시켜주는 클래스\n",
    "\n",
    "poly = PolynomialFeatures() # 클래스 객체 정의\n",
    "poly.fit([[2, 3]]) # 데이터 리스트를 2차원 형태로 입력해준다.\n",
    "\n",
    "print(poly.transform([[2, 3]]))"
   ]
  },
  {
   "cell_type": "code",
   "execution_count": 5,
   "id": "308094f4",
   "metadata": {},
   "outputs": [
    {
     "name": "stdout",
     "output_type": "stream",
     "text": [
      "[[2. 3. 4. 6. 9.]]\n"
     ]
    }
   ],
   "source": [
    "poly = PolynomialFeatures(include_bias = False) # 클래스 객체 정의 (편향 포함 하지말란 의미)\n",
    "poly.fit([[2, 3]]) # 데이터 리스트를 2차원 형태로 입력해준다.\n",
    "\n",
    "print(poly.transform([[2, 3]]))"
   ]
  },
  {
   "cell_type": "markdown",
   "id": "56cfdc3c",
   "metadata": {},
   "source": [
    "**PolynomialFeatures()를 이용하면 degree라는 매개변수로 최대 몇 차식까지 변형시킬지 설정할 수 있다. degree의 기본값은 2 이므로, 2의 제곱, 3의 제곱, 그리고 서로를 곱한 값으로 변형된 것을 확인할 수 있다.**"
   ]
  },
  {
   "cell_type": "code",
   "execution_count": 6,
   "id": "75af72ec",
   "metadata": {},
   "outputs": [
    {
     "name": "stdout",
     "output_type": "stream",
     "text": [
      "[[ 2.  3.  4.  6.  9.  8. 12. 18. 27.]]\n"
     ]
    }
   ],
   "source": [
    "poly = PolynomialFeatures(degree = 3, include_bias = False) # 3차식으로 표현하겠다는 의미 (편향 포함 하지말란 의미)\n",
    "\n",
    "poly.fit([[2, 3]]) # 데이터 리스트를 2차원 형태로 입력해준다.\n",
    "print(poly.transform([[2, 3]]))\n",
    "    # print(poly.fit_transform([[2, 3]]))\n",
    "    # fit() + transform() 훈련 + 변형 한 번에 할 수 있음"
   ]
  },
  {
   "cell_type": "code",
   "execution_count": 7,
   "id": "38cfb573",
   "metadata": {},
   "outputs": [],
   "source": [
    "poly = PolynomialFeatures(include_bias = False)\n",
    "\n",
    "train_poly = poly.fit_transform(train_input)\n",
    "test_poly = poly.transform(test_input)"
   ]
  },
  {
   "cell_type": "code",
   "execution_count": 8,
   "id": "7899cbd8",
   "metadata": {},
   "outputs": [
    {
     "name": "stdout",
     "output_type": "stream",
     "text": [
      "(14, 9)\n",
      "(42, 9)\n"
     ]
    }
   ],
   "source": [
    "print(test_poly.shape)\n",
    "print(train_poly.shape)"
   ]
  },
  {
   "cell_type": "markdown",
   "id": "35729787",
   "metadata": {},
   "source": [
    "## 다중 회귀 모델 훈련하기"
   ]
  },
  {
   "cell_type": "code",
   "execution_count": 9,
   "id": "da92696d",
   "metadata": {},
   "outputs": [
    {
     "data": {
      "text/plain": [
       "0.9903183436982124"
      ]
     },
     "execution_count": 9,
     "metadata": {},
     "output_type": "execute_result"
    }
   ],
   "source": [
    "from sklearn.linear_model import LinearRegression\n",
    "\n",
    "lr = LinearRegression() # 모델 객체 정의 \n",
    "lr.fit(train_poly, train_target) # 모델 학습\n",
    "lr.score(train_poly, train_target) # 정확도 확인\n"
   ]
  },
  {
   "cell_type": "code",
   "execution_count": 10,
   "id": "bf1a4628",
   "metadata": {},
   "outputs": [
    {
     "data": {
      "text/plain": [
       "0.971455991159406"
      ]
     },
     "execution_count": 10,
     "metadata": {},
     "output_type": "execute_result"
    }
   ],
   "source": [
    "lr.score(test_poly, test_target)"
   ]
  },
  {
   "cell_type": "markdown",
   "id": "284ca479",
   "metadata": {},
   "source": [
    "**정확도 상승, 과대적합 어느정도 해결. degree 높이면 정확도가 더 높아지지 않을까?**"
   ]
  },
  {
   "cell_type": "code",
   "execution_count": 11,
   "id": "31502d12",
   "metadata": {},
   "outputs": [
    {
     "name": "stdout",
     "output_type": "stream",
     "text": [
      "(42, 55)\n",
      "(14, 55)\n"
     ]
    }
   ],
   "source": [
    "poly = PolynomialFeatures(degree = 5, include_bias = False) # PolynomialFeatures() 클래스 객체 정의, 차수 = 5, bias 제외\n",
    "\n",
    "train_poly = poly.fit_transform(train_input) # 학습 + 변형\n",
    "test_poly = poly.transform(test_input)\n",
    "print(train_poly.shape) # 형태\n",
    "print(test_poly.shape)"
   ]
  },
  {
   "cell_type": "code",
   "execution_count": 12,
   "id": "67af4296",
   "metadata": {},
   "outputs": [
    {
     "name": "stdout",
     "output_type": "stream",
     "text": [
      "0.9999999999998099\n",
      "-144.40606225090627\n"
     ]
    }
   ],
   "source": [
    "lr.fit(train_poly, train_target) # 변형 데이터 학습\n",
    "print(lr.score(train_poly, train_target))# 변형 데이터 정확도 확인\n",
    "print(lr.score(test_poly, test_target))"
   ]
  },
  {
   "cell_type": "markdown",
   "id": "67bd96cb",
   "metadata": {},
   "source": [
    "**결과는 그렇지 않다. 왜냠 특성이 적절하게 많으면 정확도가 올라가지만 특성이 과하게 많으면 과대적합이 발생할 수 있기 때문이다. 규제(regularization)을 통해 과대적합을 방지할 수 있다.**"
   ]
  },
  {
   "cell_type": "markdown",
   "id": "8490154c",
   "metadata": {},
   "source": [
    "# Regularization\n",
    "- overfitting 막을 수 있도록 모델의 Parameter를 조정하는 것\n",
    "<br><br>\n",
    "- **Ridge**: 변형된 데이터 변수 모두 사용하되, 계수를 줄이는 방식 사용\n",
    "- **Lasso**: 일정 변수들의 계수를 0으로 만들어 사용하지 않는 방식 사용. 데이터 손실로 정확도가 떨어지는 위험성 존재."
   ]
  },
  {
   "cell_type": "code",
   "execution_count": null,
   "id": "b0781369",
   "metadata": {},
   "outputs": [],
   "source": [
    "# data preprocessing\n",
    "from sklearn.preprocessing import StandardScaler\n",
    "scale = StandardScaler()\n",
    "scale.fit(train_poly)\n",
    "train_scaled = scale.transform(train_poly)\n",
    "test_scaled = scale.transform(test_poly)"
   ]
  },
  {
   "cell_type": "markdown",
   "id": "5c824909",
   "metadata": {},
   "source": [
    "**각 데이터의 범위 차이때문에 정확도 떨어질 수 있다. 따라서 각 데이터들을 표준점수로 변환해 비슷한 범위 내에서 데이터를 처리할 수 있도록 StandardScaler() 사용.**"
   ]
  },
  {
   "cell_type": "markdown",
   "id": "ac44724d",
   "metadata": {},
   "source": [
    "## Ridge (릿지)\n",
    "\n",
    "- 변형된 데이터 변수 모두 사용, 계수를 줄이는 방식\n",
    "- Ridge() 클래스에는 ```alpha (0.001~100)```라는 매개변수를 통해 변수의 계수를 조절할 수 있는 Hyper Parameter가 존재한다."
   ]
  },
  {
   "cell_type": "code",
   "execution_count": 15,
   "id": "a206abe9",
   "metadata": {},
   "outputs": [
    {
     "name": "stdout",
     "output_type": "stream",
     "text": [
      "0.9896101671037343\n",
      "0.9790693977615391\n"
     ]
    }
   ],
   "source": [
    "from sklearn.linear_model import Ridge\n",
    "rid = Ridge()\n",
    "rid.fit(train_scaled, train_target)\n",
    "print(rid.score(train_scaled, train_target))\n",
    "print(rid.score(test_scaled, test_target))"
   ]
  },
  {
   "cell_type": "code",
   "execution_count": 18,
   "id": "cf6d3bd3",
   "metadata": {},
   "outputs": [
    {
     "data": {
      "image/png": "[encoded data removed]",
      "text/plain": [
       "<Figure size 640x480 with 1 Axes>"
      ]
     },
     "metadata": {},
     "output_type": "display_data"
    }
   ],
   "source": [
    "# 0.001 ~ 100 값을 조절하며 최적의 alpha 값을 찾기\n",
    "\n",
    "import matplotlib.pyplot as plt\n",
    "\n",
    "train_score = []\n",
    "test_score = []\n",
    "\n",
    "alpha_list = [0.001, 0.01, 0.1, 1, 10, 100]\n",
    "\n",
    "for alpha in alpha_list:\n",
    "    rid = Ridge(alpha = alpha)\n",
    "    rid.fit(train_scaled, train_target)\n",
    "    train_score.append(rid.score(train_scaled, train_target))\n",
    "    test_score.append(rid.score(test_scaled, test_target))\n",
    "\n",
    "\n",
    "plt.plot(np.log10(alpha_list), train_score)\n",
    "plt.plot(np.log10(alpha_list), test_score)\n",
    "plt.xlabel('alpha')\n",
    "plt.ylabel('R^2')\n",
    "plt.show()"
   ]
  },
  {
   "cell_type": "markdown",
   "id": "afe77afe",
   "metadata": {},
   "source": [
    "**최적의 alpha값은 0.1**"
   ]
  },
  {
   "cell_type": "code",
   "execution_count": 19,
   "id": "5b8ec11e",
   "metadata": {},
   "outputs": [
    {
     "name": "stdout",
     "output_type": "stream",
     "text": [
      "0.9903815817570367\n",
      "0.9827976465386918\n"
     ]
    }
   ],
   "source": [
    "rid = Ridge(alpha = 0.1)\n",
    "rid.fit(train_scaled, train_target)\n",
    "\n",
    "print(rid.score(train_scaled, train_target))\n",
    "print(rid.score(test_scaled, test_target))\n"
   ]
  },
  {
   "cell_type": "markdown",
   "id": "fc82985e",
   "metadata": {},
   "source": [
    "## Lasso (라쏘)"
   ]
  },
  {
   "cell_type": "code",
   "execution_count": 20,
   "id": "bd8d95a4",
   "metadata": {},
   "outputs": [
    {
     "name": "stdout",
     "output_type": "stream",
     "text": [
      "0.989789897208096\n",
      "0.9800593698421884\n"
     ]
    }
   ],
   "source": [
    "from sklearn.linear_model import Lasso\n",
    "\n",
    "las = Lasso()\n",
    "las.fit(train_scaled, train_target)\n",
    "print(las.score(train_scaled, train_target))\n",
    "print(las.score(test_scaled, test_target))"
   ]
  },
  {
   "cell_type": "code",
   "execution_count": 23,
   "id": "d4da3873",
   "metadata": {},
   "outputs": [
    {
     "name": "stderr",
     "output_type": "stream",
     "text": [
      "/Users/minkim/anaconda3/lib/python3.10/site-packages/sklearn/linear_model/_coordinate_descent.py:631: ConvergenceWarning: Objective did not converge. You might want to increase the number of iterations, check the scale of the features or consider increasing regularisation. Duality gap: 1.878e+04, tolerance: 5.183e+02\n",
      "  model = cd_fast.enet_coordinate_descent(\n",
      "/Users/minkim/anaconda3/lib/python3.10/site-packages/sklearn/linear_model/_coordinate_descent.py:631: ConvergenceWarning: Objective did not converge. You might want to increase the number of iterations, check the scale of the features or consider increasing regularisation. Duality gap: 1.297e+04, tolerance: 5.183e+02\n",
      "  model = cd_fast.enet_coordinate_descent(\n"
     ]
    },
    {
     "data": {
      "image/png": "[encoded data removed]",
      "text/plain": [
       "<Figure size 640x480 with 1 Axes>"
      ]
     },
     "metadata": {},
     "output_type": "display_data"
    }
   ],
   "source": [
    "train_score = []\n",
    "test_score = []\n",
    "\n",
    "alpha_list = [0.001, 0.01, 0.1, 1, 10, 100]\n",
    "\n",
    "for alp in alpha_list:\n",
    "    las = Lasso(alpha = alp, max_iter = 10000)\n",
    "    las.fit(train_scaled, train_target)\n",
    "    train_score.append(las.score(train_scaled, train_target))\n",
    "    test_score.append(las.score(test_scaled, test_target))\n",
    "\n",
    "plt.plot(np.log10(alpha_list), train_score)\n",
    "plt.plot(np.log10(alpha_list), test_score)\n",
    "plt.show()"
   ]
  },
  {
   "cell_type": "markdown",
   "id": "fcc10bce",
   "metadata": {},
   "source": [
    "**최적의 alpha값은 10**"
   ]
  },
  {
   "cell_type": "code",
   "execution_count": 24,
   "id": "f83a2b80",
   "metadata": {},
   "outputs": [
    {
     "name": "stdout",
     "output_type": "stream",
     "text": [
      "0.9888067471131866\n",
      "0.9824470598706695\n"
     ]
    }
   ],
   "source": [
    "las = Lasso(alpha = 10)\n",
    "las.fit(train_scaled, train_target)\n",
    "print(las.score(train_scaled, train_target))\n",
    "print(las.score(test_scaled, test_target))"
   ]
  },
  {
   "cell_type": "markdown",
   "id": "b3ab1819",
   "metadata": {},
   "source": [
    "**사용되지 않은 계수가 몇개인지 알기**"
   ]
  },
  {
   "cell_type": "code",
   "execution_count": 25,
   "id": "bf8067d3",
   "metadata": {},
   "outputs": [
    {
     "name": "stdout",
     "output_type": "stream",
     "text": [
      "40\n"
     ]
    }
   ],
   "source": [
    "print(np.sum(las.coef_ == 0))"
   ]
  },
  {
   "cell_type": "code",
   "execution_count": null,
   "id": "42f02f8b",
   "metadata": {},
   "outputs": [],
   "source": []
  }
 ],
 "metadata": {
  "kernelspec": {
   "display_name": "Python 3 (ipykernel)",
   "language": "python",
   "name": "python3"
  },
  "language_info": {
   "codemirror_mode": {
    "name": "ipython",
    "version": 3
   },
   "file_extension": ".py",
   "mimetype": "text/x-python",
   "name": "python",
   "nbconvert_exporter": "python",
   "pygments_lexer": "ipython3",
   "version": "3.10.9"
  }
 },
 "nbformat": 4,
 "nbformat_minor": 5
}

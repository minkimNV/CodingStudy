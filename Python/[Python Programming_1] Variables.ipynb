{
 "cells": [
  {
   "cell_type": "markdown",
   "id": "971c6a3a",
   "metadata": {
    "id": "971c6a3a"
   },
   "source": [
    "\n",
    "## print 기초\n",
    "### print 함수와 관련된 문제를 풀어봅시다."
   ]
  },
  {
   "cell_type": "markdown",
   "id": "be35decc",
   "metadata": {
    "id": "be35decc"
   },
   "source": [
    "#### 001. 화면에 Hello World 문자열을 출력하세요.\n",
    "\n",
    "\n"
   ]
  },
  {
   "cell_type": "code",
   "execution_count": 1,
   "id": "dc10438f",
   "metadata": {
    "id": "dc10438f"
   },
   "outputs": [
    {
     "name": "stdout",
     "output_type": "stream",
     "text": [
      "Hello World\n"
     ]
    }
   ],
   "source": [
    "print(\"Hello World\")"
   ]
  },
  {
   "cell_type": "code",
   "execution_count": 1,
   "id": "372f0dc4",
   "metadata": {},
   "outputs": [
    {
     "name": "stdout",
     "output_type": "stream",
     "text": [
      "[삼중 작은 따옴표 사용 가능]\n",
      "여러 행의 문자열 입력 가능\n",
      "큰 따옴표(\") 작은 따옴표(') 사용가능.\n",
      "[삼중 큰따옴표를 사용 가능]\n",
      "여러 행의 문자열 입력 가능\n",
      "큰 따옴표(\") 작은 따옴표(') 사용가능.\n"
     ]
    }
   ],
   "source": [
    "string1 = '''[삼중 작은 따옴표 사용 가능]\n",
    "여러 행의 문자열 입력 가능\n",
    "큰 따옴표(\") 작은 따옴표(') 사용가능.'''\n",
    "\n",
    "string2 = \"\"\"[삼중 큰따옴표를 사용 가능]\n",
    "여러 행의 문자열 입력 가능\n",
    "큰 따옴표(\") 작은 따옴표(') 사용가능.\"\"\" \n",
    "\n",
    "print(string1)\n",
    "print(string2)"
   ]
  },
  {
   "cell_type": "markdown",
   "id": "f7ecd1b1",
   "metadata": {
    "id": "f7ecd1b1"
   },
   "source": [
    "#### 002. 화면에 Mary's cosmetics을 출력하세요. (중간에 '가 있음에 주의하세요)"
   ]
  },
  {
   "cell_type": "code",
   "execution_count": 3,
   "id": "03f827cb",
   "metadata": {
    "id": "03f827cb"
   },
   "outputs": [
    {
     "name": "stdout",
     "output_type": "stream",
     "text": [
      "Mary's cosmetics\n",
      "Mary's cosmetics\n",
      "Mary's cosmetics\n"
     ]
    }
   ],
   "source": [
    "print(\"Mary\\'s cosmetics\")\n",
    "print(\"Mary's cosmetics\")\n",
    "# print('Mary's cosmetics') Error\n",
    "print('Mary\\'s cosmetics')"
   ]
  },
  {
   "cell_type": "markdown",
   "id": "388278da",
   "metadata": {
    "id": "388278da"
   },
   "source": [
    "#### 003. 화면에 아래 문장을 출력하세요. (중간에 \"가 있음에 주의하세요.)\n",
    "\n",
    "신씨가 소리질렀다. \"도둑이야\".\n",
    "\n"
   ]
  },
  {
   "cell_type": "code",
   "execution_count": 3,
   "id": "05f8148f",
   "metadata": {
    "id": "05f8148f"
   },
   "outputs": [
    {
     "name": "stdout",
     "output_type": "stream",
     "text": [
      "신씨가 소리질렀다. \"도둑이야\".\n"
     ]
    }
   ],
   "source": [
    "print(\"신씨가 소리질렀다. \\\"도둑이야\\\".\")"
   ]
  },
  {
   "cell_type": "markdown",
   "id": "cdabfd63",
   "metadata": {
    "id": "cdabfd63"
   },
   "source": [
    "#### 004. 화면에 \"C:\\Windows\"를 출력하세요.\n",
    "\n",
    "\n"
   ]
  },
  {
   "cell_type": "code",
   "execution_count": 4,
   "id": "f22bd850",
   "metadata": {
    "id": "f22bd850"
   },
   "outputs": [
    {
     "name": "stdout",
     "output_type": "stream",
     "text": [
      "C:\\Windows\n"
     ]
    }
   ],
   "source": [
    "print(\"C:\\Windows\")"
   ]
  },
  {
   "cell_type": "markdown",
   "id": "82307f1c",
   "metadata": {
    "id": "82307f1c"
   },
   "source": [
    "#### 005. print 탭과 줄바꿈\n",
    "다음 코드를 실행해보고 \\t와 \\n의 역할을 설명해보세요.\n",
    "\n",
    "\n",
    "\n",
    " \n",
    "\n"
   ]
  },
  {
   "cell_type": "code",
   "execution_count": 5,
   "id": "e0082580",
   "metadata": {
    "id": "e0082580"
   },
   "outputs": [
    {
     "name": "stdout",
     "output_type": "stream",
     "text": [
      "안녕하세요.\n",
      "만나서\t\t반갑습니다.\n"
     ]
    }
   ],
   "source": [
    "print(\"안녕하세요.\\n만나서\\t\\t반갑습니다.\")\n",
    "# \\n 줄바꿈\n",
    "# \\t 탭 키"
   ]
  },
  {
   "cell_type": "markdown",
   "id": "233e1ec7",
   "metadata": {
    "id": "233e1ec7"
   },
   "source": [
    "#### 006. print 여러 데이터 출력\n",
    "print 함수에 두 개의 단어를 입력한 예제입니다. 아래 코드의 출력 결과를 예상해봅시다.\n",
    "\n",
    "print (\"오늘은\", \"일요일\")\n",
    "\n"
   ]
  },
  {
   "cell_type": "code",
   "execution_count": 6,
   "id": "a71e1c7b",
   "metadata": {
    "id": "a71e1c7b"
   },
   "outputs": [
    {
     "name": "stdout",
     "output_type": "stream",
     "text": [
      "Today is Sunday\n"
     ]
    }
   ],
   "source": [
    "print(\"Today is\", \"Sunday\")"
   ]
  },
  {
   "cell_type": "markdown",
   "id": "99d7223f",
   "metadata": {
    "id": "99d7223f"
   },
   "source": [
    "#### 007. print() 함수를 사용하여 다음과 같이 출력하세요.\n",
    "\n",
    "\n"
   ]
  },
  {
   "cell_type": "code",
   "execution_count": 7,
   "id": "8a188289",
   "metadata": {
    "id": "8a188289"
   },
   "outputs": [
    {
     "name": "stdout",
     "output_type": "stream",
     "text": [
      "naver;kakao;sk;samsung\n",
      "naver/kakao/sk/samsung\n"
     ]
    }
   ],
   "source": [
    "# sep method 사용해서 문자열 분리 출력\n",
    "print('naver', 'kakao', 'sk', 'samsung', sep =';')\n",
    "print('naver', 'kakao', 'sk', 'samsung', sep ='/')"
   ]
  },
  {
   "cell_type": "markdown",
   "id": "4e59489c",
   "metadata": {
    "id": "4e59489c"
   },
   "source": [
    "#### 009 print 줄바꿈\n",
    "다음 코드를 수정하여 줄바꿈이 없이 출력하세요. (힌트: end='') print 함수는 두 번 사용합니다. 세미콜론 (;)은 한줄에 여러 개의 명령을 작성하기 위해 사용합니다.\n",
    "\n",
    "print(\"first\"); <br/>\n",
    "print(\"second\")\n",
    "\n"
   ]
  },
  {
   "cell_type": "code",
   "execution_count": 10,
   "id": "6b7e66cf",
   "metadata": {
    "id": "6b7e66cf"
   },
   "outputs": [
    {
     "name": "stdout",
     "output_type": "stream",
     "text": [
      "first\n",
      "second\n",
      "fisrt\n",
      "second\n",
      "first\n",
      "second\n",
      "first second\n"
     ]
    }
   ],
   "source": [
    "# 줄바꿈 있는 상태로 출력\n",
    "print(\"first\")\n",
    "print(\"second\")\n",
    "\n",
    "print(\"fisrt\", \"second\", sep=\"\\n\")\n",
    "print('first'); print('second')\n",
    "\n",
    "# 줄바꿈 없이 출력\n",
    "print('first', end = \" \")\n",
    "print('second')\n"
   ]
  },
  {
   "cell_type": "markdown",
   "id": "2b808a24",
   "metadata": {
    "id": "2b808a24"
   },
   "source": [
    "#### 010 연산 결과 출력\n",
    "5/3의 결과를 화면에 출력하세요.\n"
   ]
  },
  {
   "cell_type": "code",
   "execution_count": 9,
   "id": "b7fb0fe6",
   "metadata": {
    "id": "b7fb0fe6"
   },
   "outputs": [
    {
     "name": "stdout",
     "output_type": "stream",
     "text": [
      "1.6666666666666667\n"
     ]
    }
   ],
   "source": [
    "print(5/3)"
   ]
  },
  {
   "cell_type": "markdown",
   "id": "34e36b16",
   "metadata": {},
   "source": [
    "## Variables\n",
    "### 파이썬 변수는 자주 사용되는 값을 바인딩합니다. 파이썬 변수의 개념을 이해하고 문제를 풀어봅시다"
   ]
  },
  {
   "cell_type": "markdown",
   "id": "027453ee",
   "metadata": {},
   "source": [
    "#### 011 변수 사용하기\n",
    "삼성전자라는 변수로 50,000원을 바인딩해보세요. 삼성전자 주식 10주를 보유하고 있을 때 총 평가금액을 출력하세요."
   ]
  },
  {
   "cell_type": "code",
   "execution_count": 10,
   "id": "8514a833",
   "metadata": {},
   "outputs": [
    {
     "name": "stdout",
     "output_type": "stream",
     "text": [
      "500000\n"
     ]
    }
   ],
   "source": [
    "samsung = 50000 # '삼성전자' 변수로 50,000원 바인딩\n",
    "stucks_number = 10 # 보유 주식 수\n",
    "market_value = samsung * stucks_number # 총 평가 금액\n",
    "\n",
    "print(market_value)"
   ]
  },
  {
   "cell_type": "markdown",
   "id": "f24d0574",
   "metadata": {},
   "source": [
    "#### 012 변수 사용하기\n",
    "다음 표는 삼성전자의 일부 투자정보입니다. 변수를 사용해서 시가총액, 현재가, PER 등을 바인딩해보세요.\n",
    "- 항목\t값\n",
    "- 시가총액\t298조\n",
    "- 현재가\t50,000원\n",
    "- PER\t15.79"
   ]
  },
  {
   "cell_type": "code",
   "execution_count": 11,
   "id": "7cb64c9f",
   "metadata": {},
   "outputs": [],
   "source": [
    "# 각 변수에 바인딩\n",
    "market_cap = 298\n",
    "current = 50000\n",
    "per = 15.79"
   ]
  },
  {
   "cell_type": "markdown",
   "id": "e5e5e1fe",
   "metadata": {},
   "source": [
    "#### 013 문자열 출력\n",
    "변수 s와 t를 이용하여 아래와 같이 출력해보세요.<br/>\n",
    "<br/>\n",
    "실행 예:<br/>\n",
    "hello! python"
   ]
  },
  {
   "cell_type": "code",
   "execution_count": 12,
   "id": "31570506",
   "metadata": {},
   "outputs": [
    {
     "name": "stdout",
     "output_type": "stream",
     "text": [
      "hello! python\n",
      "hello! python\n",
      "hello! python\n"
     ]
    }
   ],
   "source": [
    "s = \"hello\"\n",
    "t = \"python\"\n",
    "\n",
    "print(s, t, sep='! ')\n",
    "print(s + '! ' + t)\n",
    "print(s + '!' + ' ' + t)"
   ]
  },
  {
   "cell_type": "markdown",
   "id": "a456c073",
   "metadata": {},
   "source": [
    "#### 014 파이썬을 이용한 값 계산\n",
    "아래 코드의 실행 결과를 예상해보세요.\n",
    "- 2 + 2 * 3 "
   ]
  },
  {
   "cell_type": "code",
   "execution_count": 13,
   "id": "986fb85f",
   "metadata": {},
   "outputs": [
    {
     "name": "stdout",
     "output_type": "stream",
     "text": [
      "8\n"
     ]
    }
   ],
   "source": [
    "print(2+2*3)"
   ]
  },
  {
   "cell_type": "markdown",
   "id": "112d71fd",
   "metadata": {},
   "source": [
    "#### 015 type 함수\n",
    "type() 함수는 데이터 타입을 판별합니다. 변수 a에는 128 숫자가 바인딩되어 있고 type 함수가 int (정수)형임을 알려줍니다.\n",
    "아래 변수에 바인딩된 값의 타입을 판별해보세요.\n",
    "\n",
    "a = \"132\""
   ]
  },
  {
   "cell_type": "code",
   "execution_count": 14,
   "id": "73c4f959",
   "metadata": {},
   "outputs": [
    {
     "name": "stdout",
     "output_type": "stream",
     "text": [
      "<class 'int'>\n",
      "<class 'str'>\n"
     ]
    }
   ],
   "source": [
    "a = 128\n",
    "print(type(a))\n",
    "\n",
    "a = \"132\"\n",
    "print(type(a))"
   ]
  },
  {
   "cell_type": "markdown",
   "id": "08f2e04a",
   "metadata": {},
   "source": [
    "#### 016 문자열을 정수로 변환\n",
    "문자열 '720'를 정수형으로 변환해보세요.\n",
    "\n",
    "num_str = \"720\""
   ]
  },
  {
   "cell_type": "code",
   "execution_count": 15,
   "id": "d9bce64d",
   "metadata": {},
   "outputs": [
    {
     "name": "stdout",
     "output_type": "stream",
     "text": [
      "720\n",
      "<class 'int'>\n"
     ]
    }
   ],
   "source": [
    "num_str = \"720\"\n",
    "str_to_int = int(num_str)\n",
    "print(str_to_int)\n",
    "print(type(str_to_int))"
   ]
  },
  {
   "cell_type": "markdown",
   "id": "07d27107",
   "metadata": {},
   "source": [
    "#### 017 정수를 문자열 100으로 변환\n",
    "정수 100을 문자열 '100'으로 변환해보세요."
   ]
  },
  {
   "cell_type": "code",
   "execution_count": 16,
   "id": "c2dd9559",
   "metadata": {},
   "outputs": [
    {
     "name": "stdout",
     "output_type": "stream",
     "text": [
      "<class 'str'>\n"
     ]
    }
   ],
   "source": [
    "num = 100\n",
    "num_to_str = str(num)\n",
    "print(type(num_to_str))"
   ]
  },
  {
   "cell_type": "markdown",
   "id": "cc8194e3",
   "metadata": {},
   "source": [
    "#### 018 문자열을 실수로 변환\n",
    "문자열 \"15.79\"를 실수(float) 타입으로 변환해보세요."
   ]
  },
  {
   "cell_type": "code",
   "execution_count": 17,
   "id": "8e9b9448",
   "metadata": {},
   "outputs": [
    {
     "name": "stdout",
     "output_type": "stream",
     "text": [
      "<class 'float'>\n"
     ]
    }
   ],
   "source": [
    "str = \"15.79\"\n",
    "str_to_float = float(str)\n",
    "print(type(str_to_float))"
   ]
  },
  {
   "cell_type": "markdown",
   "id": "1910cc95",
   "metadata": {},
   "source": [
    "#### 019 문자열을 정수로 변환\n",
    "year라는 변수가 문자열 타입의 연도를 바인딩하고 있습니다. 이를 정수로 변환한 후 최근 3년의 연도를 화면에 출력해보세요.\n",
    "\n",
    "year = \"2020\""
   ]
  },
  {
   "cell_type": "code",
   "execution_count": 18,
   "id": "97f36de2",
   "metadata": {},
   "outputs": [
    {
     "name": "stdout",
     "output_type": "stream",
     "text": [
      "[2020, 2021, 2022]\n"
     ]
    }
   ],
   "source": [
    "year = \"2020\"\n",
    "year_int = int(year)\n",
    "year_list = [year_int, year_int + 1, year_int + 2]\n",
    "print(year_list)"
   ]
  },
  {
   "cell_type": "markdown",
   "id": "c43342fb",
   "metadata": {},
   "source": [
    "#### 020 파이썬 계산\n",
    "에이컨이 월 48,584원에 무이자 36개월의 조건으로 홈쇼핑에서 판매되고 있습니다. <br/> \n",
    "총 금액은 계산한 후 이를 화면에 출력해보세요. (변수사용하기)"
   ]
  },
  {
   "cell_type": "code",
   "execution_count": 19,
   "id": "e4519587",
   "metadata": {},
   "outputs": [
    {
     "name": "stdout",
     "output_type": "stream",
     "text": [
      "1749024\n"
     ]
    }
   ],
   "source": [
    "month_pay = 48584\n",
    "installments = 36\n",
    "price = month_pay * installments\n",
    "print(price)"
   ]
  },
  {
   "cell_type": "markdown",
   "id": "85629df6",
   "metadata": {},
   "source": [
    "input 기능 사용하기"
   ]
  },
  {
   "cell_type": "code",
   "execution_count": 20,
   "id": "97cd10da",
   "metadata": {},
   "outputs": [
    {
     "name": "stdout",
     "output_type": "stream",
     "text": [
      "How many months installment would you like?36\n",
      "Enter the montly payment: 48584\n",
      "The total price you have to pay is 1749024\n",
      "You will pay 48584 for 36 months.\n"
     ]
    }
   ],
   "source": [
    "months = int(input(\"How many months installment would you like?\"))\n",
    "monthly_payment = int(input(\"Enter the montly payment: \"))\n",
    "total_price = months * monthly_payment\n",
    "print(\"The total price you have to pay is\", total_price)\n",
    "print(\"You will pay\", monthly_payment, \"for\", months, \"months.\")"
   ]
  }
 ],
 "metadata": {
  "colab": {
   "provenance": []
  },
  "kernelspec": {
   "display_name": "Python 3 (ipykernel)",
   "language": "python",
   "name": "python3"
  },
  "language_info": {
   "codemirror_mode": {
    "name": "ipython",
    "version": 3
   },
   "file_extension": ".py",
   "mimetype": "text/x-python",
   "name": "python",
   "nbconvert_exporter": "python",
   "pygments_lexer": "ipython3",
   "version": "3.10.9"
  }
 },
 "nbformat": 4,
 "nbformat_minor": 5
}

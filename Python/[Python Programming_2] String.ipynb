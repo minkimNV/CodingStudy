{
 "cells": [
  {
   "cell_type": "markdown",
   "id": "b470889f",
   "metadata": {},
   "source": [
    "# String\n",
    "## Indexing, Slicing"
   ]
  },
  {
   "cell_type": "markdown",
   "id": "f6c102bf",
   "metadata": {},
   "source": [
    "#### 021 문자열 인덱싱\n",
    "letters가 바인딩하는 문자열에서 첫번째와 세번째 문자를 출력하세요. <br/>\n",
    " <br/>\n",
    "letters = 'python' <br/>"
   ]
  },
  {
   "cell_type": "code",
   "execution_count": 21,
   "id": "58efcc2e",
   "metadata": {},
   "outputs": [
    {
     "name": "stdout",
     "output_type": "stream",
     "text": [
      "p t\n"
     ]
    }
   ],
   "source": [
    "letters = 'python'\n",
    "\n",
    "print(letters[0], letters[2])"
   ]
  },
  {
   "cell_type": "markdown",
   "id": "742369ee",
   "metadata": {},
   "source": [
    "#### 022 문자열 슬라이싱\n",
    "자동차 번호가 다음과 같을 때 뒤에 4자리만 출력하세요.\n",
    "\n",
    "license_plate = \"24가 2210\" <br/>\n",
    "실행 예: 2210"
   ]
  },
  {
   "cell_type": "code",
   "execution_count": 23,
   "id": "8bb9bcbb",
   "metadata": {},
   "outputs": [
    {
     "name": "stdout",
     "output_type": "stream",
     "text": [
      "2210\n",
      "2210\n"
     ]
    }
   ],
   "source": [
    "# slicing\n",
    "license_plate = \"24가 2210\"\n",
    "print(license_plate[4:])\n",
    "print(license_plate[-4:])"
   ]
  },
  {
   "cell_type": "code",
   "execution_count": 26,
   "id": "90b4b381",
   "metadata": {},
   "outputs": [
    {
     "name": "stdout",
     "output_type": "stream",
     "text": [
      "0\n",
      "4\n"
     ]
    }
   ],
   "source": [
    "# indexing\n",
    "print(license_plate[-1])\n",
    "print(license_plate[1])"
   ]
  },
  {
   "cell_type": "markdown",
   "id": "a7d8c36d",
   "metadata": {},
   "source": [
    "#### 023 문자열 인덱싱\n",
    "아래의 문자열에서 '홀' 만 출력하세요.\n",
    "\n",
    "string = \"홀짝홀짝홀짝\" <br/>\n",
    "<br/>\n",
    "실행 예: <br/>\n",
    "홀홀홀"
   ]
  },
  {
   "cell_type": "code",
   "execution_count": 27,
   "id": "aaeeb47f",
   "metadata": {},
   "outputs": [
    {
     "name": "stdout",
     "output_type": "stream",
     "text": [
      "홀홀홀\n"
     ]
    }
   ],
   "source": [
    "# slicing\n",
    "string = \"홀짝홀짝홀짝\"\n",
    "print(string[::2])"
   ]
  },
  {
   "cell_type": "markdown",
   "id": "0bdc1bae",
   "metadata": {},
   "source": [
    "#### 024 문자열 슬라이싱\n",
    "문자열을 거꾸로 뒤집어 출력하세요.\n",
    "\n",
    "string = \"PYTHON\" <br/>\n",
    "실행 예: NOHTYP"
   ]
  },
  {
   "cell_type": "code",
   "execution_count": 29,
   "id": "9ebcc37a",
   "metadata": {},
   "outputs": [
    {
     "name": "stdout",
     "output_type": "stream",
     "text": [
      "NOHTYP\n"
     ]
    }
   ],
   "source": [
    "string = \"PYTHON\"\n",
    "\n",
    "# slicing\n",
    "print(string[::-1])"
   ]
  },
  {
   "cell_type": "code",
   "execution_count": 33,
   "id": "c3e0fa0a",
   "metadata": {},
   "outputs": [
    {
     "name": "stdout",
     "output_type": "stream",
     "text": [
      "NOHTYP\n"
     ]
    }
   ],
   "source": [
    "# reversed function (reversed(x))\n",
    "print(''.join(reversed(string)))"
   ]
  },
  {
   "cell_type": "code",
   "execution_count": 32,
   "id": "714cd74c",
   "metadata": {},
   "outputs": [
    {
     "data": {
      "text/plain": [
       "'NOHTYP'"
      ]
     },
     "execution_count": 32,
     "metadata": {},
     "output_type": "execute_result"
    }
   ],
   "source": [
    "# reverse function (list.reverse())\n",
    "ls = list(string) # 문자열 - 리스트 치환\n",
    "ls.reverse() # reverse 함수 사용해 리스트 거꾸로 뒤집기\n",
    "string_reverse = ''.join(ls) # join 함수 이용, 새로운 변수에 거꾸로 뒤집은 리스트 값(문자열) 바인딩 \n",
    "print(string_reverse) # 출력\n"
   ]
  },
  {
   "cell_type": "markdown",
   "id": "e96e7073",
   "metadata": {},
   "source": [
    "#### 027 문자열 다루기\n",
    "url 에 저장된 웹 페이지 주소에서 도메인을 출력하세요.\n",
    "\n",
    "url = \"http://sharebook.kr\" <br/>\n",
    " <br/>\n",
    "실행 예: <br/>\n",
    "kr"
   ]
  },
  {
   "cell_type": "code",
   "execution_count": 45,
   "id": "cf293997",
   "metadata": {},
   "outputs": [
    {
     "name": "stdout",
     "output_type": "stream",
     "text": [
      "kr\n",
      "kr\n"
     ]
    }
   ],
   "source": [
    "url = \"http://sharebook.kr\"\n",
    "print(url[-2:])\n",
    "print(url[17:]) # len(url) = 19"
   ]
  },
  {
   "cell_type": "markdown",
   "id": "6ba023ed",
   "metadata": {},
   "source": [
    "#### 039 문자열 슬라이싱\n",
    "다음과 같은 문자열에서 '2020/03'만 출력하세요.\n",
    "\n",
    "분기 = \"2020/03(E) (IFRS연결)\""
   ]
  },
  {
   "cell_type": "code",
   "execution_count": 20,
   "id": "80b6fe84",
   "metadata": {},
   "outputs": [
    {
     "name": "stdout",
     "output_type": "stream",
     "text": [
      "2020/03\n"
     ]
    }
   ],
   "source": [
    "quater = \"2020/03(E) (IFRS연결)\"\n",
    "print(quater[:7])\n",
    "\n",
    "# 3번째 자리까지 출력하고 싶으면 index[4]"
   ]
  },
  {
   "cell_type": "markdown",
   "id": "afafee2c",
   "metadata": {},
   "source": [
    "### String"
   ]
  },
  {
   "cell_type": "markdown",
   "id": "88cb4733",
   "metadata": {},
   "source": [
    "#### 031 문자열 합치기"
   ]
  },
  {
   "cell_type": "code",
   "execution_count": 1,
   "id": "cc3287b9",
   "metadata": {},
   "outputs": [
    {
     "name": "stdout",
     "output_type": "stream",
     "text": [
      "34\n"
     ]
    }
   ],
   "source": [
    "a = \"3\"\n",
    "b = \"4\"\n",
    "print(a + b)"
   ]
  },
  {
   "cell_type": "markdown",
   "id": "8422bfad",
   "metadata": {},
   "source": [
    "#### 032 문자열 곱하기"
   ]
  },
  {
   "cell_type": "code",
   "execution_count": 2,
   "id": "dbf1f42a",
   "metadata": {},
   "outputs": [
    {
     "name": "stdout",
     "output_type": "stream",
     "text": [
      "HiHiHi\n"
     ]
    }
   ],
   "source": [
    "print(\"Hi\" * 3)"
   ]
  },
  {
   "cell_type": "markdown",
   "id": "120facf5",
   "metadata": {},
   "source": [
    "#### 033 문자열 곱하기\n",
    "화면에 '-'를 80개 출력하세요. <br/>\n",
    " <br/>\n",
    "실행 예: <br/>\n",
    "\"--------------------------------------------------------------------------------\""
   ]
  },
  {
   "cell_type": "code",
   "execution_count": 3,
   "id": "c21a19ff",
   "metadata": {},
   "outputs": [
    {
     "name": "stdout",
     "output_type": "stream",
     "text": [
      "--------------------------------------------------------------------------------\n"
     ]
    }
   ],
   "source": [
    "print('-' * 80)"
   ]
  },
  {
   "cell_type": "markdown",
   "id": "9e8d806c",
   "metadata": {},
   "source": [
    "#### 034 문자열 곱하기\n",
    "변수에 다음과 같은 문자열이 바인딩되어 있습니다.\n",
    "\n",
    "t1 = 'python' <br/>\n",
    "t2 = 'java' <br/>\n",
    "변수에 문자열 더하기와 문자열 곱하기를 사용해서 아래와 같이 출력해보세요. <br/>\n",
    " <br/>\n",
    "실행 예: <br/>\n",
    "python java python java python java python java"
   ]
  },
  {
   "cell_type": "code",
   "execution_count": 6,
   "id": "4b7388af",
   "metadata": {},
   "outputs": [
    {
     "name": "stdout",
     "output_type": "stream",
     "text": [
      "python java python java python java python java \n"
     ]
    }
   ],
   "source": [
    "t1 = 'python'\n",
    "t2 = 'java'\n",
    "\n",
    "print((t1 + ' ' + t2 + ' ') * 4)"
   ]
  },
  {
   "cell_type": "markdown",
   "id": "d1163c32",
   "metadata": {},
   "source": [
    "## %formatting/ format(), f-string"
   ]
  },
  {
   "cell_type": "markdown",
   "id": "601ba1e4",
   "metadata": {},
   "source": [
    "#### 035 문자열 출력\n",
    "변수에 다음과 같이 문자열과 정수가 바인딩되어 있을 때 % formatting을 사용해서 다음과 같이 출력해보세요.\n",
    "\n",
    "name1 = \"김민수\"  <br/>\n",
    "age1 = 10 <br/>\n",
    "name2 = \"이철희\" <br/>\n",
    "age2 = 13 <br/>\n",
    " <br/>\n",
    "이름: 김민수 나이: 10 <br/>\n",
    "이름: 이철희 나이: 13"
   ]
  },
  {
   "cell_type": "code",
   "execution_count": 8,
   "id": "5f37f888",
   "metadata": {},
   "outputs": [
    {
     "name": "stdout",
     "output_type": "stream",
     "text": [
      "name: 김민수 age: 10\n",
      "name: 이철희 age: 13\n",
      "name: 김민수 age: 10\n",
      "name: 이철희 age: 13\n"
     ]
    }
   ],
   "source": [
    "name1 = \"김민수\"\n",
    "age1 = 10\n",
    "name2 = \"이철희\"\n",
    "age2 = 13\n",
    "\n",
    "print(\"name: %s age: %d\"%(name1, age1), \"name: %s age: %d\"%(name2,age2), sep ='\\n')\n",
    "\n",
    "\n",
    "print(\"name: %s age: %d\"%(name1, age1))\n",
    "print(\"name: %s age: %d\"%(name2, age2))"
   ]
  },
  {
   "cell_type": "markdown",
   "id": "96683605",
   "metadata": {},
   "source": [
    "#### 036 문자열 출력\n",
    "문자열의 format( ) 메서드를 사용해서 035번 문제를 다시 풀어보세요.\n",
    "\n",
    " "
   ]
  },
  {
   "cell_type": "code",
   "execution_count": 15,
   "id": "d99d52e1",
   "metadata": {},
   "outputs": [
    {
     "name": "stdout",
     "output_type": "stream",
     "text": [
      "name: 김민수, age: 10\n",
      "name: 이철희, age: 13\n",
      "name: 김민수, age: 10\n",
      "name: 이철희, age: 13\n",
      "name: 김민수, age: 10\n",
      "name: 이철희, age: 13\n",
      "name: 김민수, age: 10\n",
      "name: 이철희, age: 13\n"
     ]
    }
   ],
   "source": [
    "print(\"name: {}, age: {}\".format(name1, age1), \"name: {}, age: {}\".format(name2,age2), sep = '\\n')\n",
    "\n",
    "print(\"name: {}, age: {}\".format(name1, age1))\n",
    "print(\"name: {}, age: {}\".format(name2,age2))\n",
    "\n",
    "print(\"name: {0}, age: {1}\".format(name1, age1), \"name: {0}, age: {1}\".format(name2,age2), sep = '\\n')\n",
    "\n",
    "print(\"name: {1}, age: {0}\".format(age1, name1), \"name: {1}, age: {0}\".format(age2,name2), sep = '\\n')\n"
   ]
  },
  {
   "cell_type": "markdown",
   "id": "748f419e",
   "metadata": {},
   "source": [
    "#### 037 문자열 출력\n",
    "파이썬 3.6부터 지원하는 f-string을 사용해서 035번 문제를 다시 풀어보세요."
   ]
  },
  {
   "cell_type": "code",
   "execution_count": 17,
   "id": "b8b6a268",
   "metadata": {},
   "outputs": [
    {
     "name": "stdout",
     "output_type": "stream",
     "text": [
      "name: 김민수, age: 10\n",
      "name: 이철희, age: 13\n",
      "name: 김민수, age: 10\n",
      "name: 이철희, age: 13\n"
     ]
    }
   ],
   "source": [
    "print(f\"name: {name1}, age: {age1}\", f\"name: {name2}, age: {age2}\", sep = '\\n')\n",
    "\n",
    "print(f\"name: {name1}, age: {age1}\")\n",
    "print(f\"name: {name2}, age: {age2}\")"
   ]
  },
  {
   "cell_type": "markdown",
   "id": "f02e3eef",
   "metadata": {},
   "source": [
    "## Replace Method (var.replace()) : 문자 변경해줄 때 사용"
   ]
  },
  {
   "cell_type": "markdown",
   "id": "4c49cfb5",
   "metadata": {},
   "source": [
    "#### 028 문자열은 immutable\n",
    "아래 코드의 실행 결과를 예상해보세요.\n",
    "\n",
    "lang = 'python' <br/>\n",
    "lang[0] = 'P' <br/>\n",
    "print(lang)"
   ]
  },
  {
   "cell_type": "code",
   "execution_count": 49,
   "id": "2deae1dd",
   "metadata": {},
   "outputs": [
    {
     "name": "stdout",
     "output_type": "stream",
     "text": [
      "Python\n",
      "P\n"
     ]
    }
   ],
   "source": [
    "lang = 'python'\n",
    "\n",
    "    # lang[0]는 소문자 p 출력.\n",
    "    # lang[0] = 'P' 변경 불가능.\n",
    "    \"\"\"TypeError: 'str' object does not support item assignment.\"\"\"\n",
    "\n",
    "lang = lang.replace('p', 'P')\n",
    "print(lang)\n",
    "print(lang[0])"
   ]
  },
  {
   "cell_type": "markdown",
   "id": "36f32f0d",
   "metadata": {},
   "source": [
    "#### 025 문자열 치환\n",
    "아래의 전화번호에서 하이푼 ('-')을 제거하고 출력하세요.\n",
    "\n",
    "phone_number = \"010-1111-2222\" <br/>\n",
    "실행 예 <br/>\n",
    "010 1111 2222"
   ]
  },
  {
   "cell_type": "code",
   "execution_count": 36,
   "id": "57637f63",
   "metadata": {},
   "outputs": [
    {
     "name": "stdout",
     "output_type": "stream",
     "text": [
      "010 1111 2222\n"
     ]
    }
   ],
   "source": [
    "phone_number = \"010-1111-2222\"\n",
    "\n",
    "use_replace = phone_number.replace('-', ' ')\n",
    "print(use_replace)"
   ]
  },
  {
   "cell_type": "markdown",
   "id": "582dff6b",
   "metadata": {},
   "source": [
    "#### 026 문자열 다루기\n",
    "25번 문제의 전화번호를 아래와 같이 모두 붙여 출력하세요. <br/>\n",
    " <br/>\n",
    "실행 예 <br/>\n",
    "01011112222"
   ]
  },
  {
   "cell_type": "code",
   "execution_count": 40,
   "id": "343a01c5",
   "metadata": {},
   "outputs": [
    {
     "name": "stdout",
     "output_type": "stream",
     "text": [
      "01011112222\n"
     ]
    }
   ],
   "source": [
    "no_space = use_replace.replace(' ', '')\n",
    "print(no_space)"
   ]
  },
  {
   "cell_type": "markdown",
   "id": "2c5ae7e0",
   "metadata": {},
   "source": [
    "#### 029 replace 메서드\n",
    "아래 문자열에서 소문자 'a'를 대문자 'A'로 변경하세요.\n",
    "\n",
    "string = 'abcdfe2a354a32a' <br/>\n",
    "실행 예: <br/>\n",
    "Abcdfe2A354A32A"
   ]
  },
  {
   "cell_type": "code",
   "execution_count": 50,
   "id": "fc5fb942",
   "metadata": {},
   "outputs": [
    {
     "name": "stdout",
     "output_type": "stream",
     "text": [
      "Abcdfe2A354A32A\n"
     ]
    }
   ],
   "source": [
    "string = 'abcdfe2a354a32a'\n",
    "string = string.replace('a', 'A')\n",
    "print(string)"
   ]
  },
  {
   "cell_type": "code",
   "execution_count": 51,
   "id": "6710fe22",
   "metadata": {},
   "outputs": [
    {
     "name": "stdout",
     "output_type": "stream",
     "text": [
      "ABCDFE2A354A32A\n",
      "abcdfe2a354a32a\n"
     ]
    }
   ],
   "source": [
    "# 전체 대문자화\n",
    "# var.upper() Method\n",
    "\n",
    "string_up = string.upper()\n",
    "print(string_up)\n",
    "\n",
    "\n",
    "# 전체 소문자화 \n",
    "# var.lower() Method\n",
    "\n",
    "string_low = string_up.lower()\n",
    "print(string_low)"
   ]
  },
  {
   "cell_type": "markdown",
   "id": "ff17cccf",
   "metadata": {},
   "source": [
    "#### 030 replace 메서드\n",
    "아래 코드의 실행 결과를 예상해보세요.\n",
    "\n",
    "string = 'abcd' <br/>\n",
    "string.replace('b', 'B') <br/>\n",
    "print(string)"
   ]
  },
  {
   "cell_type": "code",
   "execution_count": 53,
   "id": "87e6a65a",
   "metadata": {},
   "outputs": [
    {
     "name": "stdout",
     "output_type": "stream",
     "text": [
      "abcd\n",
      "aBcd\n"
     ]
    }
   ],
   "source": [
    "string = 'abcd'\n",
    "string.replace('b', 'B')\n",
    "\"\"\" print(string)\n",
    "    >>> abcd\n",
    "    string 변수에 replace method 사용한 값을 바인딩 해주지 않았기 때문에\n",
    "    'abcd' 출력됨\n",
    "    \"\"\"\n",
    "print(string)\n",
    "\n",
    "string = string.replace('b', 'B')\n",
    "print(string)"
   ]
  },
  {
   "cell_type": "markdown",
   "id": "0ba9772d",
   "metadata": {},
   "source": [
    "#### 038 컴마 제거하기\n",
    "삼성전자의 상장주식수가 다음과 같습니다.  <br/>\n",
    "컴마를 제거한 후 이를 정수 타입으로 변환해보세요. <br/>\n",
    " <br/>\n",
    "상장주식수 = \"5,969,782,550\""
   ]
  },
  {
   "cell_type": "code",
   "execution_count": 18,
   "id": "991057c1",
   "metadata": {},
   "outputs": [
    {
     "name": "stdout",
     "output_type": "stream",
     "text": [
      "5969782550\n"
     ]
    }
   ],
   "source": [
    "stocks = \"5,969,782,550\"\n",
    "stocks = stocks.replace(',', '')\n",
    "print(stocks)"
   ]
  },
  {
   "cell_type": "markdown",
   "id": "d76c9f8f",
   "metadata": {},
   "source": [
    "## Strip Method (var.strip()): 좌우 공백 제거할 때 사용\n",
    "\n",
    "- var.rstrip(): 오른쪽 공백 제거\n",
    "- var.lstrip(): 왼쪽 공백 제거"
   ]
  },
  {
   "cell_type": "markdown",
   "id": "e05dbf5e",
   "metadata": {},
   "source": [
    "#### 040 strip 메서드\n",
    "문자열의 좌우의 공백이 있을 때 이를 제거해보세요.\n",
    "\n",
    "data = \"   삼성전자    \""
   ]
  },
  {
   "cell_type": "code",
   "execution_count": 23,
   "id": "8bef68d2",
   "metadata": {},
   "outputs": [
    {
     "data": {
      "text/plain": [
       "'삼성전자'"
      ]
     },
     "execution_count": 23,
     "metadata": {},
     "output_type": "execute_result"
    }
   ],
   "source": [
    "data = \" 삼성전자 \"\n",
    "data = data.strip()\n",
    "data"
   ]
  },
  {
   "cell_type": "markdown",
   "id": "cd124aa2",
   "metadata": {},
   "source": [
    "#### 050 rstrip 메서드\n",
    "문자열의 오른쪽에 공백이 있을 때 이를 제거해보세요. <br/>\n",
    " <br/>\n",
    "data = \"039490     \""
   ]
  },
  {
   "cell_type": "code",
   "execution_count": 24,
   "id": "7721ca29",
   "metadata": {
    "scrolled": true
   },
   "outputs": [
    {
     "data": {
      "text/plain": [
       "'039490'"
      ]
     },
     "execution_count": 24,
     "metadata": {},
     "output_type": "execute_result"
    }
   ],
   "source": [
    "data = \"039490 \"\n",
    "data = data.rstrip()\n",
    "data"
   ]
  },
  {
   "cell_type": "markdown",
   "id": "80661e29",
   "metadata": {},
   "source": [
    "#### 050 lstrip 메서드\n",
    "문자열의 왼쪽에 공백이 있을 때 이를 제거해보세요. <br/>\n",
    " <br/>\n",
    "data = \"      039490\""
   ]
  },
  {
   "cell_type": "code",
   "execution_count": 25,
   "id": "2b37c530",
   "metadata": {
    "scrolled": true
   },
   "outputs": [
    {
     "data": {
      "text/plain": [
       "'파이썬'"
      ]
     },
     "execution_count": 25,
     "metadata": {},
     "output_type": "execute_result"
    }
   ],
   "source": [
    "data = \" 파이썬\"\n",
    "data = data.lstrip()\n",
    "data"
   ]
  },
  {
   "cell_type": "markdown",
   "id": "86edc042",
   "metadata": {},
   "source": [
    "## 다양한.. Methods\n"
   ]
  },
  {
   "cell_type": "markdown",
   "id": "4e0771f5",
   "metadata": {},
   "source": [
    "#### 041 upper 메서드\n",
    "다음과 같은 문자열이 있을 때 이를 대문자 BTC_KRW로 변경하세요. <br/>\n",
    " <br/>\n",
    "ticker = \"btc_krw\""
   ]
  },
  {
   "cell_type": "code",
   "execution_count": 26,
   "id": "59dc376d",
   "metadata": {},
   "outputs": [
    {
     "data": {
      "text/plain": [
       "'BTC_KRW'"
      ]
     },
     "execution_count": 26,
     "metadata": {},
     "output_type": "execute_result"
    }
   ],
   "source": [
    "ticker = \"btc_krw\"\n",
    "ticker = ticker.upper()\n",
    "ticker"
   ]
  },
  {
   "cell_type": "markdown",
   "id": "047994a4",
   "metadata": {},
   "source": [
    "#### 042 lower 메서드\n",
    "다음과 같은 문자열이 있을 때 이를 소문자 btc_krw로 변경하세요. <br/>\n",
    " <br/>\n",
    "ticker = \"BTC_KRW\""
   ]
  },
  {
   "cell_type": "code",
   "execution_count": 27,
   "id": "d6cca9b4",
   "metadata": {},
   "outputs": [
    {
     "data": {
      "text/plain": [
       "'btc_krw'"
      ]
     },
     "execution_count": 27,
     "metadata": {},
     "output_type": "execute_result"
    }
   ],
   "source": [
    "ticker = ticker.lower()\n",
    "ticker"
   ]
  },
  {
   "cell_type": "markdown",
   "id": "53ca4146",
   "metadata": {},
   "source": [
    "#### 043 capitalize 메서드\n",
    "문자열 'hello'가 있을 때 이를 'Hello'로 변경해보세요."
   ]
  },
  {
   "cell_type": "code",
   "execution_count": 28,
   "id": "5ef80153",
   "metadata": {},
   "outputs": [
    {
     "data": {
      "text/plain": [
       "'Hello'"
      ]
     },
     "execution_count": 28,
     "metadata": {},
     "output_type": "execute_result"
    }
   ],
   "source": [
    "string = 'hello'\n",
    "string = string.capitalize()\n",
    "string"
   ]
  },
  {
   "cell_type": "markdown",
   "id": "ef8add29",
   "metadata": {},
   "source": [
    "#### 044 endswith 메서드: end-word searching\n",
    "파일 이름이 문자열로 저장되어 있을 때 endswith 메서드를 사용해서 파일 이름이 'xlsx'로 끝나는지 확인해보세요. <br/>\n",
    " <br/>\n",
    "file_name = \"보고서.xlsx\""
   ]
  },
  {
   "cell_type": "code",
   "execution_count": 30,
   "id": "4fcebc1e",
   "metadata": {},
   "outputs": [
    {
     "name": "stdout",
     "output_type": "stream",
     "text": [
      "True\n"
     ]
    }
   ],
   "source": [
    "file_name = \"보고서.xlsx\"\n",
    "print(file_name.endswith('.xlsx'))"
   ]
  },
  {
   "cell_type": "markdown",
   "id": "81bd3c99",
   "metadata": {},
   "source": [
    "#### 045 endswith 메서드\n",
    "파일 이름이 문자열로 저장되어 있을 때 endswith 메서드를 사용해서 파일 이름이 'xlsx' 또는 'xls'로 끝나는지 확인해보세요. <br/>\n",
    " <br/>\n",
    "file_name = \"보고서.xlsx\""
   ]
  },
  {
   "cell_type": "code",
   "execution_count": 33,
   "id": "e03c253a",
   "metadata": {},
   "outputs": [
    {
     "data": {
      "text/plain": [
       "True"
      ]
     },
     "execution_count": 33,
     "metadata": {},
     "output_type": "execute_result"
    }
   ],
   "source": [
    "file_name = \"보고서.xlsx\"\n",
    "file_name.endswith('.xlsx' or 'xls')\n",
    "# or: 하나라도 True면 True 출력"
   ]
  },
  {
   "cell_type": "code",
   "execution_count": 34,
   "id": "52f02327",
   "metadata": {},
   "outputs": [
    {
     "data": {
      "text/plain": [
       "False"
      ]
     },
     "execution_count": 34,
     "metadata": {},
     "output_type": "execute_result"
    }
   ],
   "source": [
    "file_name = \"보고서.xlsx\"\n",
    "file_name.endswith('.xlsx' and 'xls')\n",
    "# and: 하나라도 False면 False 출력"
   ]
  },
  {
   "cell_type": "markdown",
   "id": "73cef21c",
   "metadata": {},
   "source": [
    "#### 046 startswith 메서드\n",
    "파일 이름이 문자열로 저장되어 있을 때 startswith 메서드를 사용해서 파일 이름이 '2020'로 시작하는지 확인해보세요.\n",
    "\n",
    "file_name = \"2020_보고서.xlsx\"\n",
    "\n",
    " "
   ]
  },
  {
   "cell_type": "code",
   "execution_count": 35,
   "id": "2913c37f",
   "metadata": {},
   "outputs": [
    {
     "data": {
      "text/plain": [
       "True"
      ]
     },
     "execution_count": 35,
     "metadata": {},
     "output_type": "execute_result"
    }
   ],
   "source": [
    "file_name = \"2020_보고서.xlsx\"\n",
    "\n",
    "file_name.startswith('2020')"
   ]
  },
  {
   "cell_type": "markdown",
   "id": "2c14e593",
   "metadata": {},
   "source": [
    "## Split Methods (var.split())\n",
    "\n",
    "- 문자열을 나눠서 리스트로 저장!"
   ]
  },
  {
   "cell_type": "markdown",
   "id": "db73a345",
   "metadata": {},
   "source": [
    "#### 047 split 메서드\n",
    "다음과 같은 문자열이 있을 때 공백을 기준으로 문자열을 나눠보세요. <br/>\n",
    " <br/>\n",
    "a = \"hello world\""
   ]
  },
  {
   "cell_type": "code",
   "execution_count": 37,
   "id": "8cceafd1",
   "metadata": {},
   "outputs": [
    {
     "name": "stdout",
     "output_type": "stream",
     "text": [
      "['hello', 'world']\n"
     ]
    }
   ],
   "source": [
    "a = \"hello world\"\n",
    "\n",
    "a = a.split(' ')\n",
    "print(a)"
   ]
  },
  {
   "cell_type": "markdown",
   "id": "927a4e6f",
   "metadata": {},
   "source": [
    "#### 048 split 메서드\n",
    "다음과 같이 문자열이 있을 때 btc와 krw로 나눠보세요. <br/>\n",
    " <br/>\n",
    "ticker = \"btc_krw\""
   ]
  },
  {
   "cell_type": "code",
   "execution_count": 38,
   "id": "f3704773",
   "metadata": {},
   "outputs": [
    {
     "name": "stdout",
     "output_type": "stream",
     "text": [
      "['btc', 'krw']\n"
     ]
    }
   ],
   "source": [
    "ticker = \"btc_krw\"\n",
    "ticker = ticker.split('_')\n",
    "print(ticker)"
   ]
  },
  {
   "cell_type": "markdown",
   "id": "4ea48d5b",
   "metadata": {},
   "source": [
    "#### 049 split 메서드\n",
    "다음과 같이 날짜를 표현하는 문자열이 있을 때 연도, 월, 일로 나눠보세요. <br/>\n",
    " <br/>\n",
    "date = \"2020-05-01\""
   ]
  },
  {
   "cell_type": "code",
   "execution_count": 39,
   "id": "4e9a1b60",
   "metadata": {},
   "outputs": [
    {
     "name": "stdout",
     "output_type": "stream",
     "text": [
      "['2020', '05', '01']\n"
     ]
    }
   ],
   "source": [
    "date = \"2020-05-01\"\n",
    "date = date.split('-')\n",
    "print(date)"
   ]
  }
 ],
 "metadata": {
  "colab": {
   "provenance": []
  },
  "kernelspec": {
   "display_name": "Python 3 (ipykernel)",
   "language": "python",
   "name": "python3"
  },
  "language_info": {
   "codemirror_mode": {
    "name": "ipython",
    "version": 3
   },
   "file_extension": ".py",
   "mimetype": "text/x-python",
   "name": "python",
   "nbconvert_exporter": "python",
   "pygments_lexer": "ipython3",
   "version": "3.10.9"
  }
 },
 "nbformat": 4,
 "nbformat_minor": 5
}

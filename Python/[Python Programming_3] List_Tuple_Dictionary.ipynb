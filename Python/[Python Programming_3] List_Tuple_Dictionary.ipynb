{
 "cells": [
  {
   "cell_type": "markdown",
   "id": "9529b1af",
   "metadata": {},
   "source": [
    "# List"
   ]
  },
  {
   "cell_type": "code",
   "execution_count": 1,
   "id": "87a97d3e",
   "metadata": {},
   "outputs": [],
   "source": [
    "list1 = []\n",
    "list1 = [1, ['a', 'A', 1.23], 'a', 'A', True] # list in list "
   ]
  },
  {
   "cell_type": "code",
   "execution_count": 2,
   "id": "c6478e0f",
   "metadata": {},
   "outputs": [
    {
     "data": {
      "text/plain": [
       "['a', 'A', 1.23]"
      ]
     },
     "execution_count": 2,
     "metadata": {},
     "output_type": "execute_result"
    }
   ],
   "source": [
    "list1[1]"
   ]
  },
  {
   "cell_type": "code",
   "execution_count": 3,
   "id": "29b6f223",
   "metadata": {},
   "outputs": [
    {
     "data": {
      "text/plain": [
       "'A'"
      ]
     },
     "execution_count": 3,
     "metadata": {},
     "output_type": "execute_result"
    }
   ],
   "source": [
    "list1[1][1] # 'A' in the list[1]"
   ]
  },
  {
   "cell_type": "markdown",
   "id": "cc799c25",
   "metadata": {
    "id": "cc799c25"
   },
   "source": [
    "#### 051 리스트 생성\n",
    "2016년 11월 영화 예매 순위 기준 top3는 다음과 같습니다.  <br/>\n",
    "영화 제목을 movie_rank 이름의 리스트에 저장해보세요.  <br/>\n",
    "(순위 정보는 저장하지 않습니다.) <br/>\n",
    " <br/>\n",
    "영화 순위\t <br/>\n",
    "1 닥터 스트레인지 <br/>\n",
    "2 스플릿 <br/>\n",
    "3 럭키"
   ]
  },
  {
   "cell_type": "code",
   "execution_count": 4,
   "id": "ed6cba2f",
   "metadata": {
    "id": "ed6cba2f"
   },
   "outputs": [
    {
     "data": {
      "text/plain": [
       "['닥터 스트레인지', '스플릿', '럭키']"
      ]
     },
     "execution_count": 4,
     "metadata": {},
     "output_type": "execute_result"
    }
   ],
   "source": [
    "movie_rank = []\n",
    "\n",
    "movie_rank.append('닥터 스트레인지')\n",
    "movie_rank.append('스플릿')\n",
    "movie_rank.append('럭키')\n",
    "# movie.rank.extend(['닥터 스트레인지', '스플릿', '럭키'])\n",
    "\n",
    "movie_rank"
   ]
  },
  {
   "cell_type": "markdown",
   "id": "00d410e8",
   "metadata": {
    "id": "00d410e8"
   },
   "source": [
    "#### 052 리스트에 원소 추가\n",
    "051의 movie_rank 리스트에 \"배트맨\"을 추가하라."
   ]
  },
  {
   "cell_type": "code",
   "execution_count": 5,
   "id": "45a15894",
   "metadata": {
    "id": "45a15894"
   },
   "outputs": [
    {
     "data": {
      "text/plain": [
       "['닥터 스트레인지', '스플릿', '럭키', '배트맨']"
      ]
     },
     "execution_count": 5,
     "metadata": {},
     "output_type": "execute_result"
    }
   ],
   "source": [
    "movie_rank.append('배트맨')\n",
    "# movie.rank.extend(['배트맨'])\n",
    "\n",
    "movie_rank"
   ]
  },
  {
   "cell_type": "markdown",
   "id": "555a0e13",
   "metadata": {
    "id": "555a0e13"
   },
   "source": [
    "#### 053 movie_rank 리스트에는 아래와 같이 네 개의 영화 제목이 바인딩되어 있다.   <br/>\n",
    "\"슈퍼맨\"을 \"닥터 스트레인지\"와 \"스플릿\" 사이에 추가하라.  <br/>\n",
    "  <br/>\n",
    "movie_rank = ['닥터 스트레인지', '스플릿', '럭키', '배트맨']"
   ]
  },
  {
   "cell_type": "code",
   "execution_count": 6,
   "id": "6a4cf546",
   "metadata": {
    "id": "6a4cf546"
   },
   "outputs": [
    {
     "data": {
      "text/plain": [
       "['닥터 스트레인지', '슈퍼맨', '스플릿', '럭키', '배트맨']"
      ]
     },
     "execution_count": 6,
     "metadata": {},
     "output_type": "execute_result"
    }
   ],
   "source": [
    "movie_rank.insert(1, '슈퍼맨')\n",
    "movie_rank"
   ]
  },
  {
   "cell_type": "markdown",
   "id": "5075b888",
   "metadata": {
    "id": "5075b888"
   },
   "source": [
    "#### 054 movie_rank 리스트에서 '럭키'를 삭제하라.  <br/>\n",
    "  <br/>\n",
    "movie_rank = ['닥터 스트레인지', '슈퍼맨', '스플릿', '럭키', '배트맨']"
   ]
  },
  {
   "cell_type": "code",
   "execution_count": 7,
   "id": "837133fb",
   "metadata": {
    "id": "837133fb"
   },
   "outputs": [
    {
     "data": {
      "text/plain": [
       "['닥터 스트레인지', '슈퍼맨', '스플릿', '배트맨']"
      ]
     },
     "execution_count": 7,
     "metadata": {},
     "output_type": "execute_result"
    }
   ],
   "source": [
    "movie_rank.remove('럭키')\n",
    "movie_rank"
   ]
  },
  {
   "cell_type": "markdown",
   "id": "4ad56e16",
   "metadata": {
    "id": "4ad56e16"
   },
   "source": [
    "#### 056 lang1과 lang2 리스트가 있을 때 lang1과 lang2의 원소를 모두 갖고 있는 langs 리스트를 만들어라.  <br/>\n",
    "  <br/>\n",
    "lang1 = [\"C\", \"C++\", \"JAVA\"]  <br/>\n",
    "lang2 = [\"Python\", \"Go\", \"C#\"]  <br/>\n",
    "  <br/>\n",
    "실행 예:  <br/>\n",
    "print(langs)  <br/>\n",
    "['C', 'C++', 'JAVA', 'Python', 'Go', 'C#']"
   ]
  },
  {
   "cell_type": "code",
   "execution_count": 8,
   "id": "d768bd61",
   "metadata": {
    "id": "d768bd61"
   },
   "outputs": [
    {
     "data": {
      "text/plain": [
       "['C', 'C++', 'JAVA', 'Python', 'Go', 'C#']"
      ]
     },
     "execution_count": 8,
     "metadata": {},
     "output_type": "execute_result"
    }
   ],
   "source": [
    "lang1 = [\"C\", \"C++\", \"JAVA\"]\n",
    "lang2 = [\"Python\", \"Go\", \"C#\"]\n",
    "\n",
    "langs = lang1 + lang2\n",
    "langs"
   ]
  },
  {
   "cell_type": "markdown",
   "id": "7d265a61",
   "metadata": {
    "id": "7d265a61"
   },
   "source": [
    "#### 057. 다음 리스트에서 최댓값과 최솟값을 출력하라. (힌트: min(), max() 함수 사용)  <br/>\n",
    "  <br/>\n",
    "nums = [1, 2, 3, 4, 5, 6, 7]  <br/>\n",
    "  <br/>\n",
    "실행 예:  <br/>\n",
    "max:  7  <br/>\n",
    "min:  1"
   ]
  },
  {
   "cell_type": "code",
   "execution_count": 9,
   "id": "d546942a",
   "metadata": {
    "id": "d546942a"
   },
   "outputs": [
    {
     "name": "stdout",
     "output_type": "stream",
     "text": [
      "max: 7 min:  1\n"
     ]
    }
   ],
   "source": [
    "nums = [1, 2, 3, 4, 5, 6, 7]\n",
    "\n",
    "print('max:', max(nums), 'min: ', min(nums))"
   ]
  },
  {
   "cell_type": "markdown",
   "id": "c9e94387",
   "metadata": {
    "id": "c9e94387"
   },
   "source": [
    "#### 058. 다음 리스트의 합을 출력하라.  <br/>\n",
    "  <br/>\n",
    "nums = [1, 2, 3, 4, 5]  <br/>\n",
    "  <br/>\n",
    "실행 예: 15  <br/>"
   ]
  },
  {
   "cell_type": "code",
   "execution_count": 10,
   "id": "efa091f8",
   "metadata": {
    "id": "efa091f8"
   },
   "outputs": [
    {
     "name": "stdout",
     "output_type": "stream",
     "text": [
      "15\n"
     ]
    }
   ],
   "source": [
    "nums = [1, 2, 3, 4, 5]\n",
    "print(sum(nums))"
   ]
  },
  {
   "cell_type": "markdown",
   "id": "8cabe197",
   "metadata": {
    "id": "8cabe197"
   },
   "source": [
    "#### 059. 다음 리스트에 저장된 데이터의 개수를 화면에 구하하라.\n",
    "\n",
    "cook = [\"피자\", \"김밥\", \"만두\", \"양념치킨\", \"족발\", \"피자\", \"김치만두\", \"쫄면\", \"소시지\", \"라면\", \"팥빙수\", \"김치전\"]\n"
   ]
  },
  {
   "cell_type": "code",
   "execution_count": 11,
   "id": "705eb104",
   "metadata": {},
   "outputs": [
    {
     "data": {
      "text/plain": [
       "12"
      ]
     },
     "execution_count": 11,
     "metadata": {},
     "output_type": "execute_result"
    }
   ],
   "source": [
    "cook = [\"피자\", \"김밥\", \"만두\", \"양념치킨\", \"족발\", \"피자\", \"김치만두\", \"쫄면\", \"소시지\", \"라면\", \"팥빙수\", \"김치전\"]\n",
    "\n",
    "len(cook)"
   ]
  },
  {
   "cell_type": "markdown",
   "id": "5fd7c3bb",
   "metadata": {
    "id": "5fd7c3bb"
   },
   "source": [
    "#### 060. 다음 리스트의 평균을 출력하라.  <br/>\n",
    "  <br/>\n",
    "nums = [1, 2, 3, 4, 5]  <br/>\n",
    "  <br/>\n",
    "실행 예: 3.0"
   ]
  },
  {
   "cell_type": "code",
   "execution_count": 12,
   "id": "b5ac39fb",
   "metadata": {},
   "outputs": [
    {
     "name": "stdout",
     "output_type": "stream",
     "text": [
      "3.0\n"
     ]
    }
   ],
   "source": [
    "# mean(nums) 안되네용\n",
    "print(sum(nums) / len(nums))"
   ]
  },
  {
   "cell_type": "code",
   "execution_count": 13,
   "id": "161f8094",
   "metadata": {},
   "outputs": [
    {
     "data": {
      "text/plain": [
       "3.0"
      ]
     },
     "execution_count": 13,
     "metadata": {},
     "output_type": "execute_result"
    }
   ],
   "source": [
    "import numpy as np\n",
    "nums = [1,2,3,4,5]\n",
    "np.mean(nums)"
   ]
  },
  {
   "cell_type": "code",
   "execution_count": 14,
   "id": "15b0d8c6",
   "metadata": {},
   "outputs": [
    {
     "data": {
      "text/plain": [
       "3"
      ]
     },
     "execution_count": 14,
     "metadata": {},
     "output_type": "execute_result"
    }
   ],
   "source": [
    "import statistics\n",
    "statistics.mean(nums)"
   ]
  },
  {
   "cell_type": "markdown",
   "id": "6ae56c90",
   "metadata": {
    "id": "cc799c25"
   },
   "source": [
    "#### 061. price 변수에는 날짜와 종가 정보가 저장돼 있다. 날짜 정보를 제외하고 가격 정보만을 출력하라. (힌트 : 슬라이싱)\n",
    "\n",
    "price = ['20180728', 100, 130, 140, 150, 160, 170] <br/>\n",
    " <br/>\n",
    "출력 예시: <br/>\n",
    "[100, 130, 140, 150, 160, 170]"
   ]
  },
  {
   "cell_type": "code",
   "execution_count": 15,
   "id": "03c397ef",
   "metadata": {
    "id": "ed6cba2f"
   },
   "outputs": [
    {
     "name": "stdout",
     "output_type": "stream",
     "text": [
      "[100, 130, 140, 150, 160, 170]\n"
     ]
    }
   ],
   "source": [
    "price = ['20180728', 100, 130, 140, 150, 160, 170]\n",
    "\n",
    "print(price[1:])"
   ]
  },
  {
   "cell_type": "markdown",
   "id": "d410f1ca",
   "metadata": {
    "id": "00d410e8"
   },
   "source": [
    "#### 062. 슬라이싱을 사용해서 홀수만 출력하라. <br/>\n",
    "nums = [1, 2, 3, 4, 5, 6, 7, 8, 9, 10] <br/>\n",
    " <br/>\n",
    "실행 예:  <br/>\n",
    " [1, 3, 5, 7, 9]"
   ]
  },
  {
   "cell_type": "code",
   "execution_count": 16,
   "id": "3618608b",
   "metadata": {
    "id": "45a15894"
   },
   "outputs": [
    {
     "data": {
      "text/plain": [
       "[1, 3, 5, 7, 9]"
      ]
     },
     "execution_count": 16,
     "metadata": {},
     "output_type": "execute_result"
    }
   ],
   "source": [
    "nums = [1, 2, 3, 4, 5, 6, 7, 8, 9, 10]\n",
    "\n",
    "nums[::2]"
   ]
  },
  {
   "cell_type": "markdown",
   "id": "09021c75",
   "metadata": {
    "id": "555a0e13"
   },
   "source": [
    "#### 063. 슬라이싱을 사용해서 짝수만 출력하라. <br/>\n",
    "\n",
    "nums = [1, 2, 3, 4, 5, 6, 7, 8, 9, 10] <br/>\n",
    " <br/>\n",
    "실행 예:  <br/>\n",
    " [2, 4, 6, 8, 10]"
   ]
  },
  {
   "cell_type": "code",
   "execution_count": 17,
   "id": "e161b0ba",
   "metadata": {
    "id": "6a4cf546"
   },
   "outputs": [
    {
     "data": {
      "text/plain": [
       "[2, 4, 6, 8, 10]"
      ]
     },
     "execution_count": 17,
     "metadata": {},
     "output_type": "execute_result"
    }
   ],
   "source": [
    "nums[1::2]"
   ]
  },
  {
   "cell_type": "markdown",
   "id": "8b4f82d9",
   "metadata": {
    "id": "5075b888"
   },
   "source": [
    "#### 064. 슬라이싱을 사용해서 리스트의 숫자를 역 방향으로 출력하라. <br/>\n",
    "\n",
    "nums = [1, 2, 3, 4, 5] <br/>\n",
    " <br/>\n",
    "실행 예:  <br/>\n",
    "[5, 4, 3, 2, 1]"
   ]
  },
  {
   "cell_type": "code",
   "execution_count": 18,
   "id": "1a854b15",
   "metadata": {
    "id": "837133fb"
   },
   "outputs": [
    {
     "data": {
      "text/plain": [
       "[5, 4, 3, 2, 1]"
      ]
     },
     "execution_count": 18,
     "metadata": {},
     "output_type": "execute_result"
    }
   ],
   "source": [
    "nums = [1, 2, 3, 4, 5]\n",
    "\n",
    "nums[::-1]"
   ]
  },
  {
   "cell_type": "markdown",
   "id": "ca70e0a9",
   "metadata": {},
   "source": [
    "## Join Method"
   ]
  },
  {
   "cell_type": "markdown",
   "id": "18a38676",
   "metadata": {
    "id": "18a38676"
   },
   "source": [
    "#### 065. interest 리스트에는 아래의 데이터가 바인딩되어 있다.\n",
    "\n",
    "- interest = ['삼성전자', 'LG전자', 'Naver']\n",
    "#### interest 리스트를 사용하여 아래와 같이 화면에 출력하라.\n",
    "\n",
    "- 출력 예시:삼성전자 Naver"
   ]
  },
  {
   "cell_type": "code",
   "execution_count": 19,
   "id": "bdca6b37",
   "metadata": {
    "id": "bdca6b37"
   },
   "outputs": [
    {
     "name": "stdout",
     "output_type": "stream",
     "text": [
      "['삼성전자', 'Naver']\n",
      "삼성전자 Naver\n",
      "삼성전자 Naver\n"
     ]
    }
   ],
   "source": [
    "interest = ['삼성전자', 'LG전자', 'Naver']\n",
    "\n",
    "print(interest[::2])\n",
    "\n",
    "print(interest[0], interest[2])\n",
    "\n",
    "print(' '.join(interest[::2]))"
   ]
  },
  {
   "cell_type": "markdown",
   "id": "991519f8",
   "metadata": {
    "id": "7d265a61"
   },
   "source": [
    "#### 066 join 메서드  <br/>\n",
    "interest = ['삼성전자', 'LG전자', 'Naver', 'SK하이닉스', '미래에셋대우']  <br/>\n",
    "출력 예시:   <br/>\n",
    "삼성전자 LG전자 Naver SK하이닉스 미래에셋대우"
   ]
  },
  {
   "cell_type": "code",
   "execution_count": 20,
   "id": "cfNr6o0lQTYf",
   "metadata": {
    "id": "cfNr6o0lQTYf"
   },
   "outputs": [
    {
     "name": "stdout",
     "output_type": "stream",
     "text": [
      "삼성전자 LG전자 Naver SK하이닉스 미래에셋대우\n",
      "삼성전자 LG전자 Naver SK하이닉스 미래에셋대우\n"
     ]
    }
   ],
   "source": [
    "interest = ['삼성전자', 'LG전자', 'Naver', 'SK하이닉스', '미래에셋대우']\n",
    "\n",
    "print(interest[0], interest[1], interest[2], interest[3], interest[4])\n",
    "\n",
    "print(' '.join(interest))"
   ]
  },
  {
   "cell_type": "markdown",
   "id": "6DhYBANjQWjy",
   "metadata": {
    "id": "6DhYBANjQWjy"
   },
   "source": [
    "#### 067 join 메서드  <br/>\n",
    "interest = ['삼성전자', 'LG전자', 'Naver', 'SK하이닉스', '미래에셋대우']  <br/>\n",
    "출력 예시:  <br/>\n",
    " 삼성전자/LG전자/Naver/SK하이닉스/미래에셋대우\n"
   ]
  },
  {
   "cell_type": "code",
   "execution_count": 21,
   "id": "XBGQogh8QQ9A",
   "metadata": {
    "id": "XBGQogh8QQ9A"
   },
   "outputs": [
    {
     "name": "stdout",
     "output_type": "stream",
     "text": [
      "삼성전자/LG전자/Naver/SK하이닉스/미래에셋대우\n"
     ]
    }
   ],
   "source": [
    "print('/'.join(interest))"
   ]
  },
  {
   "cell_type": "markdown",
   "id": "f3963288",
   "metadata": {
    "id": "c9e94387"
   },
   "source": [
    "#### 068 join 메서드  <br/>\n",
    "interest = ['삼성전자', 'LG전자', 'Naver', 'SK하이닉스', '미래에셋대우']  <br/>\n",
    "- 출력 예시:  <br/>\n",
    "삼성전자  <br/>\n",
    "LG전자  <br/>\n",
    "Naver  <br/>\n",
    "SK하이닉스  <br/>\n",
    "미래에셋대우"
   ]
  },
  {
   "cell_type": "code",
   "execution_count": 22,
   "id": "0cea9d4a",
   "metadata": {},
   "outputs": [
    {
     "name": "stdout",
     "output_type": "stream",
     "text": [
      "삼성전자\n",
      "LG전자\n",
      "Naver\n",
      "SK하이닉스\n",
      "미래에셋대우\n"
     ]
    }
   ],
   "source": [
    "print(\"\\n\".join(interest))"
   ]
  },
  {
   "cell_type": "markdown",
   "id": "5d75ac86",
   "metadata": {},
   "source": [
    "## Split Method"
   ]
  },
  {
   "cell_type": "markdown",
   "id": "2fed215c",
   "metadata": {
    "id": "8cabe197"
   },
   "source": [
    "#### 069 문자열 split 메서드  <br/>\n",
    "회사 이름이 슬래시 ('/')로 구분되어 하나의 문자열로 저장되어 있다.  <br/>\n",
    "  <br/>\n",
    "string = \"삼성전자/LG전자/Naver\"  <br/>\n",
    "  <br/>\n",
    "이를 interest 이름의 리스트로 분리 저장하라.  <br/>\n",
    "  <br/>\n",
    "실행 예시 :  <br/>\n",
    " ['삼성전자', 'LG전자', 'Naver']"
   ]
  },
  {
   "cell_type": "code",
   "execution_count": 23,
   "id": "cd65cf20",
   "metadata": {
    "id": "cd65cf20"
   },
   "outputs": [
    {
     "name": "stdout",
     "output_type": "stream",
     "text": [
      "['삼성전자', 'LG전자', 'Naver']\n"
     ]
    }
   ],
   "source": [
    "string = \"삼성전자/LG전자/Naver\"\n",
    "\n",
    "string = string.split('/')\n",
    "\n",
    "print(string)"
   ]
  },
  {
   "cell_type": "markdown",
   "id": "2df39026",
   "metadata": {
    "id": "5fd7c3bb"
   },
   "source": [
    "#### 070 리스트 정렬  <br/>\n",
    "리스트에 있는 값을 오름차순으로 정렬하세요.  <br/>\n",
    "  <br/>\n",
    "data = [2, 4, 3, 1, 5, 10, 9]"
   ]
  },
  {
   "cell_type": "code",
   "execution_count": 24,
   "id": "2ca112d6",
   "metadata": {
    "id": "cd65cf20"
   },
   "outputs": [
    {
     "data": {
      "text/plain": [
       "[10, 9, 5, 4, 3, 2, 1]"
      ]
     },
     "execution_count": 24,
     "metadata": {},
     "output_type": "execute_result"
    }
   ],
   "source": [
    "data = [2, 4, 3, 1, 5, 10, 9]\n",
    "data.sort(reverse=True)\n",
    "  #reverse=True : 오름차순\n",
    "  #reverse=False : 내림차순\n",
    "data"
   ]
  },
  {
   "cell_type": "markdown",
   "id": "1753a3b7",
   "metadata": {},
   "source": [
    "# Tuple"
   ]
  },
  {
   "cell_type": "code",
   "execution_count": 25,
   "id": "1abb1100",
   "metadata": {},
   "outputs": [
    {
     "name": "stdout",
     "output_type": "stream",
     "text": [
      "tuple1: (1, ['a', 'A', 1.23], 'a', 'A', 2, 2, 1.23, True)\n",
      "tuple2: (1, 'a', 'A', 2, 2, 1.23, True)\n",
      "type(tuple1): <class 'tuple'>\n"
     ]
    }
   ],
   "source": [
    "tuple1 = (1, [\"a\", \"A\", 1.23], \"a\",\"A\", 2, 2,  1.23, True)\n",
    "tuple2 = (1, \"a\",\"A\", 2, 2,  1.23, True)\n",
    "print('tuple1:', tuple1)\n",
    "print('tuple2:', tuple2)\n",
    "print('type(tuple1):', type(tuple1))\n"
   ]
  },
  {
   "cell_type": "code",
   "execution_count": 26,
   "id": "f22a9096",
   "metadata": {},
   "outputs": [
    {
     "data": {
      "text/plain": [
       "(1, ['a', 'A', 1.23], 'a', 'A', 2, 2, 1.23, True)"
      ]
     },
     "execution_count": 26,
     "metadata": {},
     "output_type": "execute_result"
    }
   ],
   "source": [
    "tuple1[:]"
   ]
  },
  {
   "cell_type": "code",
   "execution_count": 27,
   "id": "0a925caa",
   "metadata": {},
   "outputs": [
    {
     "data": {
      "text/plain": [
       "(['a', 'A', 1.23], 'a')"
      ]
     },
     "execution_count": 27,
     "metadata": {},
     "output_type": "execute_result"
    }
   ],
   "source": [
    "tuple1[1:3]"
   ]
  },
  {
   "cell_type": "code",
   "execution_count": 28,
   "id": "0ee5b622",
   "metadata": {},
   "outputs": [
    {
     "name": "stdout",
     "output_type": "stream",
     "text": [
      "'a' index, 'a' location:  2\n",
      "6\n"
     ]
    }
   ],
   "source": [
    "print(\"'a' index, 'a' location: \", tuple1.index('a'))\n",
    "print(tuple1.index(1.23))"
   ]
  },
  {
   "cell_type": "code",
   "execution_count": 29,
   "id": "6c372dfd",
   "metadata": {},
   "outputs": [
    {
     "name": "stdout",
     "output_type": "stream",
     "text": [
      "2\n",
      "1\n"
     ]
    }
   ],
   "source": [
    "print(tuple1.count(2))\n",
    "print(tuple1.count('a'))"
   ]
  },
  {
   "cell_type": "markdown",
   "id": "14932947",
   "metadata": {
    "id": "00d410e8"
   },
   "source": [
    "#### 072. 2016년 11월 영화 예매 순위 기준 top3는 다음과 같다. <br/>\n",
    "#### 영화 제목을 movie_rank 이름의 튜플에 저장하라.  <br/>\n",
    "(순위 정보는 저장하지 않는다.) <br/>\n",
    " <br/>\n",
    "#### 순위\t영화 <br/>\n",
    "1\t닥터 스트레인지 <br/>\n",
    "2\t스플릿 <br/>\n",
    "3\t럭키 <br/>"
   ]
  },
  {
   "cell_type": "code",
   "execution_count": 30,
   "id": "e6682bf0",
   "metadata": {
    "id": "45a15894"
   },
   "outputs": [
    {
     "data": {
      "text/plain": [
       "()"
      ]
     },
     "execution_count": 30,
     "metadata": {},
     "output_type": "execute_result"
    }
   ],
   "source": [
    "movie_rank = ()\n",
    "\n",
    "movie_rank"
   ]
  },
  {
   "cell_type": "code",
   "execution_count": 31,
   "id": "03dd7094",
   "metadata": {},
   "outputs": [
    {
     "data": {
      "text/plain": [
       "('doctor', 'split', 'lucky')"
      ]
     },
     "execution_count": 31,
     "metadata": {},
     "output_type": "execute_result"
    }
   ],
   "source": [
    "movie_rank = ('doctor', 'split', 'lucky')\n",
    "\n",
    "movie_rank"
   ]
  },
  {
   "cell_type": "markdown",
   "id": "792ef12c",
   "metadata": {
    "id": "5075b888"
   },
   "source": [
    "#### 074. 다음 코드를 실행해보고 오류가 발생하는 원인을 설명하라.\n",
    " <br/>\n",
    "t = (1, 2, 3) <br/>\n",
    "t[0] = 'a' "
   ]
  },
  {
   "cell_type": "code",
   "execution_count": 32,
   "id": "f4d311a2",
   "metadata": {
    "id": "837133fb"
   },
   "outputs": [
    {
     "data": {
      "text/plain": [
       "1"
      ]
     },
     "execution_count": 32,
     "metadata": {},
     "output_type": "execute_result"
    }
   ],
   "source": [
    "t = (1,2,3)\n",
    "t[0]\n",
    "# t[0] = 'a'\n",
    "# 튜플은 한 번 생성되면 변경 불가능"
   ]
  },
  {
   "cell_type": "markdown",
   "id": "b9557f23",
   "metadata": {
    "id": "18a38676"
   },
   "source": [
    "#### 075 아래와 같이 t에는 1, 2, 3, 4 데이터가 바인딩되어 있다. <br/>\n",
    "t가 바인딩하는 데이터 타입은 무엇인가? <br/>\n",
    " <br/>\n",
    "t = 1, 2, 3, 4"
   ]
  },
  {
   "cell_type": "code",
   "execution_count": 33,
   "id": "b0113b46",
   "metadata": {
    "id": "bdca6b37"
   },
   "outputs": [
    {
     "data": {
      "text/plain": [
       "tuple"
      ]
     },
     "execution_count": 33,
     "metadata": {},
     "output_type": "execute_result"
    }
   ],
   "source": [
    "t = 1, 2, 3, 4\n",
    "type(t)"
   ]
  },
  {
   "cell_type": "markdown",
   "id": "a85e1ab5",
   "metadata": {
    "id": "8cabe197"
   },
   "source": [
    "#### 079. 튜플 언팩킹\n",
    "다음 코드의 실행 결과를 예상하라. <br/>\n",
    " <br/>\n",
    "temp = ('apple', 'banana', 'cake') <br/>\n",
    "a, b, c = temp <br/>\n",
    "print(a, b, c)"
   ]
  },
  {
   "cell_type": "code",
   "execution_count": 34,
   "id": "4e0461a5",
   "metadata": {
    "id": "cd65cf20"
   },
   "outputs": [
    {
     "name": "stdout",
     "output_type": "stream",
     "text": [
      "apple banana cake\n"
     ]
    }
   ],
   "source": [
    "temp = ('apple', 'banana', 'cake')\n",
    "a, b, c = temp\n",
    "print(a, b, c)"
   ]
  },
  {
   "cell_type": "markdown",
   "id": "a4f47725",
   "metadata": {
    "id": "5fd7c3bb"
   },
   "source": [
    "#### 080. range 함수\n",
    "1 부터 99까지의 정수 중 짝수만 저장된 튜플을 생성하라.\n",
    "\n",
    "(2, 4, 6, 8 ... 98)"
   ]
  },
  {
   "cell_type": "code",
   "execution_count": 35,
   "id": "244a018e",
   "metadata": {},
   "outputs": [
    {
     "name": "stdout",
     "output_type": "stream",
     "text": [
      "(2, 4, 6, 8, 10, 12, 14, 16, 18, 20, 22, 24, 26, 28, 30, 32, 34, 36, 38, 40, 42, 44, 46, 48, 50, 52, 54, 56, 58, 60, 62, 64, 66, 68, 70, 72, 74, 76, 78, 80, 82, 84, 86, 88, 90, 92, 94, 96, 98)\n"
     ]
    }
   ],
   "source": [
    "nums = tuple(range(2, 100, 2))\n",
    "print(nums)"
   ]
  },
  {
   "cell_type": "markdown",
   "id": "971c6a3a",
   "metadata": {
    "id": "971c6a3a"
   },
   "source": [
    "\n",
    "## 06. 파이썬 딕셔너리\n",
    "### 파이썬 딕셔너리는 순서는 없지만 key와 value 형태로 데이터를 저장합니다. 특히 key는 데이터의 레이블(label)을 지정하는 용도로 자주 사용됩니다."
   ]
  },
  {
   "cell_type": "code",
   "execution_count": 36,
   "id": "a1346ad6",
   "metadata": {},
   "outputs": [
    {
     "name": "stdout",
     "output_type": "stream",
     "text": [
      "type(dict4):  <class 'dict'>\n",
      "True\n",
      "a\n",
      "dict_keys(['a', 'b'])\n",
      "dict_values([1, 2])\n",
      "dict_items([('a', 1), ('b', 2)])\n"
     ]
    },
    {
     "data": {
      "text/plain": [
       "\"\\n  >>> dict_items([('a', 1), ('b', 2)])\\n\""
      ]
     },
     "execution_count": 36,
     "metadata": {},
     "output_type": "execute_result"
    }
   ],
   "source": [
    "dict1 = {\"a\": 1, \"b\": 2} #key:value\n",
    "dict2 = {1: \"a\", 2: \"b\"}\n",
    "dict3 = {1: True, 2: False}\n",
    "dict4 = {\"a\":[True, False], \"b\":[0, 1]}\n",
    "dict4\n",
    "\n",
    "print('type(dict4): ', type(dict4))\n",
    "print(dict3[1])\n",
    "print(dict2[1]) #key의 value값\n",
    "\n",
    "# dict 인덱스 [:] 사용불가\n",
    "\n",
    "\n",
    "print(dict1.keys()) #key만 모아오기\n",
    "print(dict1.values()) #value만 모아오기\n",
    "print(dict1.items()) #키랑 밸류가 튜플형태로 묶여서 나옴\n",
    "\"\"\"\n",
    "  >>> dict_items([('a', 1), ('b', 2)])\n",
    "\"\"\"\n"
   ]
  },
  {
   "cell_type": "markdown",
   "id": "be35decc",
   "metadata": {
    "id": "be35decc"
   },
   "source": [
    "#### 081. 별 표현식\n",
    "기본적으로 데이터 언패킹은 좌변의 변수와 우변 데이터 개수가 같아야 합니다. <br/>\n",
    "하지만 star expression을 사용하면 변수의 개수가 달라도 데이터 언패킹을 할 수 있습니다.  <br/>\n",
    "튜플에 저장된 데이터 중에서 앞에 있는 두 개의 데이터만 필요할 경우 나머지 데이터의 언패킹 코드를 작성할 필요가 없습니다. <br/>\n",
    " <br/>\n",
    "a, b, *c = (0, 1, 2, 3, 4, 5) <br/>\n",
    "print(a) <br/>\n",
    "print(b) <br/>\n",
    "print(c) <br/>\n"
   ]
  },
  {
   "cell_type": "code",
   "execution_count": 37,
   "id": "slQivMWJW3_V",
   "metadata": {
    "id": "slQivMWJW3_V"
   },
   "outputs": [
    {
     "name": "stdout",
     "output_type": "stream",
     "text": [
      "0\n",
      "1\n",
      "[2, 3, 4, 5]\n"
     ]
    }
   ],
   "source": [
    "a, b, *c = (0, 1, 2, 3, 4, 5)\n",
    "print(a)\n",
    "print(b)\n",
    "print(c)"
   ]
  },
  {
   "cell_type": "markdown",
   "id": "f7ecd1b1",
   "metadata": {
    "id": "f7ecd1b1"
   },
   "source": [
    "#### 082.다음과 같이 10개의 값이 저장된 scores 리스트가 있을 때, start expression을 사용하여 우측 8개의 값을 valid_score 변수에 바인딩하여라.\n",
    "\n",
    "- scores = [8.8, 8.9, 8.7, 9.2, 9.3, 9.7, 9.9, 9.5, 7.8, 9.4]\n",
    "\n"
   ]
  },
  {
   "cell_type": "code",
   "execution_count": 38,
   "id": "dc10438f",
   "metadata": {
    "id": "dc10438f"
   },
   "outputs": [
    {
     "name": "stdout",
     "output_type": "stream",
     "text": [
      "[8.7, 9.2, 9.3, 9.7, 9.9, 9.5, 7.8, 9.4]\n"
     ]
    }
   ],
   "source": [
    "# 우측 8개 값\n",
    "scores = [8.8, 8.9, 8.7, 9.2, 9.3, 9.7, 9.9, 9.5, 7.8, 9.4]\n",
    "a, b, *valid_score = scores\n",
    "\n",
    "print(valid_score)"
   ]
  },
  {
   "cell_type": "code",
   "execution_count": 39,
   "id": "7b5e2abb",
   "metadata": {},
   "outputs": [
    {
     "name": "stdout",
     "output_type": "stream",
     "text": [
      "[8.9, 8.7, 9.2, 9.3, 9.7, 9.9, 9.5, 7.8]\n"
     ]
    }
   ],
   "source": [
    "# 가운데 8개 값\n",
    "\n",
    "scores = [8.8, 8.9, 8.7, 9.2, 9.3, 9.7, 9.9, 9.5, 7.8, 9.4]\n",
    "a, *valid_score, c = scores\n",
    "print(valid_score)"
   ]
  },
  {
   "cell_type": "markdown",
   "id": "cdabfd63",
   "metadata": {
    "id": "cdabfd63"
   },
   "source": [
    "#### 084. 비어있는 딕셔너리 temp 이름의 비어있는 딕셔너리를 만들라.\n",
    "\n",
    "\n"
   ]
  },
  {
   "cell_type": "code",
   "execution_count": 40,
   "id": "f22bd850",
   "metadata": {
    "id": "f22bd850"
   },
   "outputs": [
    {
     "data": {
      "text/plain": [
       "{}"
      ]
     },
     "execution_count": 40,
     "metadata": {},
     "output_type": "execute_result"
    }
   ],
   "source": [
    "temp = {}\n",
    "\n",
    "temp"
   ]
  },
  {
   "cell_type": "markdown",
   "id": "82307f1c",
   "metadata": {
    "id": "82307f1c"
   },
   "source": [
    "#### 085. 다음 아이스크림 이름과 희망 가격을 딕셔너리로 구성하라.\n",
    "\n",
    "- 이름\t희망가격\n",
    "- 메로나\t1000\n",
    "- 폴라포\t1200\n",
    "- 빵빠레\t1800\n",
    "\n",
    "\n",
    "\n",
    " \n",
    "\n"
   ]
  },
  {
   "cell_type": "code",
   "execution_count": 41,
   "id": "e0082580",
   "metadata": {
    "id": "e0082580"
   },
   "outputs": [],
   "source": [
    "icecream = {\"메로나\": 1000, \"폴라포\": 1200, \"빵빠레\" : 1800}"
   ]
  },
  {
   "cell_type": "markdown",
   "id": "233e1ec7",
   "metadata": {
    "id": "233e1ec7"
   },
   "source": [
    "#### 086. 085 번의 딕셔너리에 아래 아이스크림 가격정보를 추가하라.\n",
    "\n",
    "- 이름\t희망 가격\n",
    "- 죠스바\t1200\n",
    "- 월드콘\t1500"
   ]
  },
  {
   "cell_type": "code",
   "execution_count": 42,
   "id": "a71e1c7b",
   "metadata": {
    "id": "a71e1c7b"
   },
   "outputs": [
    {
     "data": {
      "text/plain": [
       "{'메로나': 1000, '폴라포': 1200, '빵빠레': 1800, '죠스바': 1200, '월드콘': 1500}"
      ]
     },
     "execution_count": 42,
     "metadata": {},
     "output_type": "execute_result"
    }
   ],
   "source": [
    "icecream[\"죠스바\"] = 1200\n",
    "icecream[\"월드콘\"] = 1500\n",
    "\n",
    "icecream"
   ]
  },
  {
   "cell_type": "markdown",
   "id": "99d7223f",
   "metadata": {
    "id": "99d7223f"
   },
   "source": [
    "#### 087. 다음 딕셔너리를 사용하여 메로나 가격을 출력하라.\n",
    "\n",
    "ice = {'메로나': 1000,\n",
    "       '폴로포': 1200,\n",
    "       '빵빠레': 1800,\n",
    "       '죠스바': 1200,\n",
    "       '월드콘': 1500}\n",
    "- 실행 예: 메로나 가격: 1000\n",
    "\n",
    "\n",
    "\n"
   ]
  },
  {
   "cell_type": "code",
   "execution_count": 43,
   "id": "8a188289",
   "metadata": {
    "id": "8a188289"
   },
   "outputs": [
    {
     "name": "stdout",
     "output_type": "stream",
     "text": [
      "메로나 price:  1000\n"
     ]
    }
   ],
   "source": [
    "ice = {'메로나': 1000, '폴로포': 1200, '빵빠레': 1800, '죠스바': 1200, '월드콘': 1500}\n",
    "print(list(ice.keys())[0], \"price: \", ice['메로나'])"
   ]
  },
  {
   "cell_type": "markdown",
   "id": "c0a003a5",
   "metadata": {
    "id": "c0a003a5"
   },
   "source": [
    "#### 088. 다음 딕셔너리에서 메로나의 가격을 1300으로 수정하라. <br/>\n",
    "<br/>\n",
    "ice = {'메로나': 1000,<br/>\n",
    "       '폴로포': 1200,<br/>\n",
    "       '빵빠레': 1800,<br/>\n",
    "       '죠스바': 1200,<br/>\n",
    "       '월드콘': 1500}<br/>\n",
    "\n"
   ]
  },
  {
   "cell_type": "code",
   "execution_count": 44,
   "id": "ad6b43de",
   "metadata": {
    "id": "ad6b43de"
   },
   "outputs": [
    {
     "data": {
      "text/plain": [
       "{'메로나': 1300, '폴로포': 1200, '빵빠레': 1800, '죠스바': 1200, '월드콘': 1500}"
      ]
     },
     "execution_count": 44,
     "metadata": {},
     "output_type": "execute_result"
    }
   ],
   "source": [
    "ice['메로나'] = 1300\n",
    "\n",
    "ice"
   ]
  },
  {
   "cell_type": "markdown",
   "id": "4e59489c",
   "metadata": {
    "id": "4e59489c"
   },
   "source": [
    "#### 089. 다음 딕셔너리에서 메로나를 삭제하라.\n",
    "\n",
    "ice = {'메로나': 1000,\n",
    "       '폴로포': 1200,\n",
    "       '빵빠레': 1800,\n",
    "       '죠스바': 1200,\n",
    "       '월드콘': 1500}"
   ]
  },
  {
   "cell_type": "code",
   "execution_count": 45,
   "id": "6b7e66cf",
   "metadata": {
    "id": "6b7e66cf"
   },
   "outputs": [
    {
     "data": {
      "text/plain": [
       "{'폴로포': 1200, '빵빠레': 1800, '죠스바': 1200, '월드콘': 1500}"
      ]
     },
     "execution_count": 45,
     "metadata": {},
     "output_type": "execute_result"
    }
   ],
   "source": [
    "del(ice['메로나'])\n",
    "ice"
   ]
  },
  {
   "cell_type": "markdown",
   "id": "2b808a24",
   "metadata": {
    "id": "2b808a24"
   },
   "source": [
    "#### 090.다음 코드에서 에러가 발생한 원인을 설명하라.\n",
    "\n",
    "- icecream = {'폴라포': 1200, '빵빠레': 1800, '월드콘': 1500, '메로나': 1000}\n",
    "- icecream['누가바']\n",
    "-- Traceback (most recent call last):\n",
    "  File \"<pyshell#69>\", line 1, in <module>\n",
    "    icecream['누가바']\n",
    "KeyError: '누가바'\n"
   ]
  },
  {
   "cell_type": "code",
   "execution_count": 46,
   "id": "eddb656e",
   "metadata": {},
   "outputs": [],
   "source": [
    "icecream = {'폴라포': 1200, '빵빠레': 1800, '월드콘': 1500, '메로나': 1000}\n",
    "# icecream['누가바']\n",
    "# 누가바가 없어서 에러"
   ]
  },
  {
   "cell_type": "markdown",
   "id": "87aadea8",
   "metadata": {
    "id": "be35decc"
   },
   "source": [
    "#### 091 딕셔너리 생성\n",
    "아래의 표에서, 아이스크림 이름을 키값으로, (가격, 재고) 리스트를 딕셔너리의 값으로 저장하라. <br/>\n",
    "딕셔너리의 이름은 inventory로 한다.\n",
    "\n",
    "| 이름\t  | 가격 | 재고  |\n",
    "| ------  |-----:|------:| \n",
    "| 메로나\t|  300 |    20 |\n",
    "| 비비빅\t|  400 |     3 |\n",
    "| 죠스바\t|  250 |   100 |\n"
   ]
  },
  {
   "cell_type": "code",
   "execution_count": 47,
   "id": "b221ac38",
   "metadata": {
    "executionInfo": {
     "elapsed": 426,
     "status": "ok",
     "timestamp": 1682258389792,
     "user": {
      "displayName": "이병관",
      "userId": "12031744978394489288"
     },
     "user_tz": -540
    },
    "id": "dc10438f"
   },
   "outputs": [
    {
     "data": {
      "text/plain": [
       "{'메로나': [300, 20], '비비빅': [400, 3], '죠스바': [250, 100]}"
      ]
     },
     "execution_count": 47,
     "metadata": {},
     "output_type": "execute_result"
    }
   ],
   "source": [
    "inventory = {'메로나': [300, 20],\n",
    "             '비비빅': [400, 3],\n",
    "             '죠스바': [250, 100]}\n",
    "\n",
    "inventory"
   ]
  },
  {
   "cell_type": "markdown",
   "id": "4b5ac80e",
   "metadata": {
    "id": "f7ecd1b1"
   },
   "source": [
    "#### 92 딕셔너리 인덱싱\n",
    "inventory 딕셔너리에서 메로나의 가격을 화면에 출력하라.\n",
    "\n",
    "inventory = {\"메로나\": [300, 20],\n",
    "              \"비비빅\": [400, 3],\n",
    "              \"죠스바\": [250, 100]} <br/>\n",
    "               <br/>\n",
    "실행 예시:  <br/>\n",
    "300 원\n",
    "\n"
   ]
  },
  {
   "cell_type": "code",
   "execution_count": 48,
   "id": "03f827cb",
   "metadata": {
    "executionInfo": {
     "elapsed": 28,
     "status": "ok",
     "timestamp": 1682258389793,
     "user": {
      "displayName": "이병관",
      "userId": "12031744978394489288"
     },
     "user_tz": -540
    },
    "id": "03f827cb"
   },
   "outputs": [
    {
     "name": "stdout",
     "output_type": "stream",
     "text": [
      "300 원\n"
     ]
    }
   ],
   "source": [
    "print(inventory['메로나'][0],\"원\")"
   ]
  },
  {
   "cell_type": "markdown",
   "id": "388278da",
   "metadata": {
    "id": "388278da"
   },
   "source": [
    "#### 093 딕셔너리 인덱싱\n",
    "inventory 딕셔너리에서 메로나의 재고를 화면에 출력하라.\n",
    "\n",
    "inventory = {\"메로나\": [300, 20],\n",
    "              \"비비빅\": [400, 3],\n",
    "              \"죠스바\": [250, 100]}\n",
    "- 실행 예시: 20 개\n",
    "\n"
   ]
  },
  {
   "cell_type": "code",
   "execution_count": 49,
   "id": "05f8148f",
   "metadata": {
    "executionInfo": {
     "elapsed": 26,
     "status": "ok",
     "timestamp": 1682258389795,
     "user": {
      "displayName": "이병관",
      "userId": "12031744978394489288"
     },
     "user_tz": -540
    },
    "id": "05f8148f"
   },
   "outputs": [
    {
     "name": "stdout",
     "output_type": "stream",
     "text": [
      "20 개\n"
     ]
    }
   ],
   "source": [
    "print(inventory['메로나'][1], '개')"
   ]
  },
  {
   "cell_type": "markdown",
   "id": "5dd714f0",
   "metadata": {
    "id": "cdabfd63"
   },
   "source": [
    "#### 094 딕셔너리 추가\n",
    "inventory 딕셔너리에 아래 데이터를 추가하라.  <br/>\n",
    "inventory = {\"메로나\": [300, 20],\n",
    "              \"비비빅\": [400, 3],\n",
    "              \"죠스바\": [250, 100]}  <br/>\n",
    "\n",
    "| 이름  |  가격 \t| 재고 | \n",
    "|------ |--- ----:|-----:| \n",
    "| 월드콘|   500 \t| 7    | <br/>\n",
    " <br/>\n",
    "\n",
    "실행 예시:  <br/>\n",
    "print(inventory)  <br/>\n",
    "{'메로나': [300, 20], '비비빅': [400, 3], '죠스바': [250, 100], '월드콘': [500, 7]}\n",
    "\n"
   ]
  },
  {
   "cell_type": "code",
   "execution_count": 50,
   "id": "93dbec7f",
   "metadata": {
    "executionInfo": {
     "elapsed": 24,
     "status": "ok",
     "timestamp": 1682258389795,
     "user": {
      "displayName": "이병관",
      "userId": "12031744978394489288"
     },
     "user_tz": -540
    },
    "id": "f22bd850"
   },
   "outputs": [
    {
     "data": {
      "text/plain": [
       "{'메로나': [300, 20], '비비빅': [400, 3], '죠스바': [250, 100], '월드콘': [500, 7]}"
      ]
     },
     "execution_count": 50,
     "metadata": {},
     "output_type": "execute_result"
    }
   ],
   "source": [
    "inventory['월드콘'] = [500, 7]\n",
    "\n",
    "inventory"
   ]
  },
  {
   "cell_type": "markdown",
   "id": "239b1e46",
   "metadata": {
    "id": "82307f1c"
   },
   "source": [
    "#### 095 딕셔너리 keys() 메서드\n",
    "다음의 딕셔너리로부터 key 값으로만 구성된 리스트를 생성하라.\n",
    "\n",
    "icecream = {'탱크보이': 1200, '폴라포': 1200, '빵빠레': 1800, '월드콘': 1500, '메로나': 1000}\n",
    "\n",
    " \n",
    "\n"
   ]
  },
  {
   "cell_type": "code",
   "execution_count": 51,
   "id": "579aea36",
   "metadata": {
    "executionInfo": {
     "elapsed": 24,
     "status": "ok",
     "timestamp": 1682258389796,
     "user": {
      "displayName": "이병관",
      "userId": "12031744978394489288"
     },
     "user_tz": -540
    },
    "id": "e0082580"
   },
   "outputs": [
    {
     "name": "stdout",
     "output_type": "stream",
     "text": [
      "['탱크보이', '폴라포', '빵빠레', '월드콘', '메로나']\n"
     ]
    }
   ],
   "source": [
    "icecream = {'탱크보이': 1200, '폴라포': 1200, '빵빠레': 1800, '월드콘': 1500, '메로나': 1000}\n",
    "print(list(icecream.keys()))"
   ]
  },
  {
   "cell_type": "markdown",
   "id": "0715550e",
   "metadata": {
    "id": "233e1ec7"
   },
   "source": [
    "####  096 딕셔너리 values() 메서드\n",
    "다음의 딕셔너리에서 values 값으로만 구성된 리스트를 생성하라.\n",
    "\n",
    "icecream = {'탱크보이': 1200, '폴라포': 1200, '빵빠레': 1800, '월드콘': 1500, '메로나': 1000}\n"
   ]
  },
  {
   "cell_type": "code",
   "execution_count": 52,
   "id": "c498e5cb",
   "metadata": {
    "executionInfo": {
     "elapsed": 25,
     "status": "ok",
     "timestamp": 1682258389797,
     "user": {
      "displayName": "이병관",
      "userId": "12031744978394489288"
     },
     "user_tz": -540
    },
    "id": "a71e1c7b"
   },
   "outputs": [
    {
     "name": "stdout",
     "output_type": "stream",
     "text": [
      "[1200, 1200, 1800, 1500, 1000]\n"
     ]
    }
   ],
   "source": [
    "print(list(icecream.values()))"
   ]
  },
  {
   "cell_type": "markdown",
   "id": "37c53d1f",
   "metadata": {
    "id": "99d7223f"
   },
   "source": [
    "#### 097 딕셔너리 values() 메서드\n",
    "icecream 딕셔너리에서 아이스크림 판매 금액의 총합을 출력하라.\n",
    "\n",
    "icecream = {'탱크보이': 1200, '폴라포': 1200, '빵빠레': 1800, '월드콘': 1500, '메로나': 1000} <br/>\n",
    " <br/>\n",
    "출력 예시: <br/>\n",
    "6700\n",
    "\n"
   ]
  },
  {
   "cell_type": "code",
   "execution_count": 53,
   "id": "2294e2f4",
   "metadata": {
    "executionInfo": {
     "elapsed": 24,
     "status": "ok",
     "timestamp": 1682258389797,
     "user": {
      "displayName": "이병관",
      "userId": "12031744978394489288"
     },
     "user_tz": -540
    },
    "id": "8a188289"
   },
   "outputs": [
    {
     "data": {
      "text/plain": [
       "6700"
      ]
     },
     "execution_count": 53,
     "metadata": {},
     "output_type": "execute_result"
    }
   ],
   "source": [
    "icecream = {'탱크보이': 1200, '폴라포': 1200, '빵빠레': 1800, '월드콘': 1500, '메로나': 1000}\n",
    "\n",
    "sum(icecream.values())"
   ]
  },
  {
   "cell_type": "markdown",
   "id": "3cd87f56",
   "metadata": {
    "id": "c0a003a5"
   },
   "source": [
    "#### 098 딕셔너리 update 메서드\n",
    "아래의 new_product 딕셔너리를 다음 icecream 딕셔너리에 추가하라.\n",
    "\n",
    "icecream = {'탱크보이': 1200, '폴라포': 1200, '빵빠레': 1800, '월드콘': 1500, '메로나': 1000} <br/>\n",
    "new_product = {'팥빙수':2700, '아맛나':1000} <br/>\n",
    " <br/>\n",
    "실행 예시: <br/>\n",
    "print(icecream) <br/>\n",
    "{탱크보이': 1200,  '폴라포': 1200,  '빵빠레': 1800,  '월드콘': 1500,  '메로나': 1000,  '팥빙수':2700, '아맛나':1000}"
   ]
  },
  {
   "cell_type": "code",
   "execution_count": 54,
   "id": "be70f35c",
   "metadata": {
    "executionInfo": {
     "elapsed": 23,
     "status": "ok",
     "timestamp": 1682258389798,
     "user": {
      "displayName": "이병관",
      "userId": "12031744978394489288"
     },
     "user_tz": -540
    },
    "id": "ad6b43de"
   },
   "outputs": [
    {
     "name": "stdout",
     "output_type": "stream",
     "text": [
      "{'탱크보이': 1200, '폴라포': 1200, '빵빠레': 1800, '월드콘': 1500, '메로나': 1000, '팥빙수': 2700, '아맛나': 1000}\n"
     ]
    }
   ],
   "source": [
    "icecream = {'탱크보이': 1200, '폴라포': 1200, '빵빠레': 1800, '월드콘': 1500, '메로나': 1000}\n",
    "new_product = {'팥빙수':2700, '아맛나':1000}\n",
    "\n",
    "icecream.update(new_product)\n",
    "\n",
    "print(icecream)"
   ]
  },
  {
   "cell_type": "markdown",
   "id": "94424d07",
   "metadata": {
    "id": "4e59489c"
   },
   "source": [
    "#### 099 zip과 dict\n",
    "아래 두 개의 튜플을 하나의 딕셔너리로 변환하라. keys를 키로, vals를 값으로 result 이름의 딕셔너리로 저장한다. <br/>\n",
    " <br/>\n",
    "keys = (\"apple\", \"pear\", \"peach\") <br/>\n",
    "vals = (300, 250, 400) <br/>\n",
    " <br/>\n",
    "실행 예시: <br/>\n",
    "print(result) <br/>\n",
    " {'apple': 300, 'pear': 250, 'peach': 400}"
   ]
  },
  {
   "cell_type": "code",
   "execution_count": 55,
   "id": "dfa16573",
   "metadata": {
    "executionInfo": {
     "elapsed": 22,
     "status": "ok",
     "timestamp": 1682258389798,
     "user": {
      "displayName": "이병관",
      "userId": "12031744978394489288"
     },
     "user_tz": -540
    },
    "id": "6b7e66cf"
   },
   "outputs": [
    {
     "name": "stdout",
     "output_type": "stream",
     "text": [
      "{'apple': 300, 'pear': 250, 'peach': 400}\n"
     ]
    }
   ],
   "source": [
    "keys = (\"apple\", \"pear\", \"peach\")\n",
    "vals = (300, 250, 400)\n",
    "\n",
    "result = dict(zip(keys, vals))\n",
    "\n",
    "print(result)"
   ]
  },
  {
   "cell_type": "markdown",
   "id": "1d177391",
   "metadata": {
    "id": "2b808a24"
   },
   "source": [
    "#### 100 zip과 dict\n",
    "date와 close_price 두 개의 리스트를 close_table 이름의 딕셔너리로 생성하라. <br/>\n",
    "\n",
    "date = ['09/05', '09/06', '09/07', '09/08', '09/09'] <br/>\n",
    "close_price = [10500, 10300, 10100, 10800, 11000] <br/>\n",
    " <br/>\n",
    "실행 예시: <br/>\n",
    " print(close_table) <br/>\n",
    " {'09/05': 10500, '09/06': 10300, '09/07': 10100, '09/08': 10800, '09/09': 11000}"
   ]
  },
  {
   "cell_type": "code",
   "execution_count": 56,
   "id": "1bd2a31c",
   "metadata": {},
   "outputs": [
    {
     "name": "stdout",
     "output_type": "stream",
     "text": [
      "{'09/05': 10500, '09/06': 10300, '09/07': 10100, '09/08': 10800, '09/09': 11000}\n"
     ]
    }
   ],
   "source": [
    "date = ['09/05', '09/06', '09/07', '09/08', '09/09']\n",
    "close_price = [10500, 10300, 10100, 10800, 11000]\n",
    "\n",
    "close_table = dict(zip(date, close_price))\n",
    "print(close_table)"
   ]
  }
 ],
 "metadata": {
  "kernelspec": {
   "display_name": "Python 3 (ipykernel)",
   "language": "python",
   "name": "python3"
  },
  "language_info": {
   "codemirror_mode": {
    "name": "ipython",
    "version": 3
   },
   "file_extension": ".py",
   "mimetype": "text/x-python",
   "name": "python",
   "nbconvert_exporter": "python",
   "pygments_lexer": "ipython3",
   "version": "3.10.9"
  }
 },
 "nbformat": 4,
 "nbformat_minor": 5
}

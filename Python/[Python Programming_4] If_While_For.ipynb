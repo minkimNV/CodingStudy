{
  "cells": [
    {
      "cell_type": "code",
      "source": [
        "\"\"\"\n",
        "if 조건문 (True/False):\n",
        "  실행문 (True)\n",
        "\"\"\"\n",
        "if 4 < 5 :\n",
        "  print('True')"
      ],
      "metadata": {
        "colab": {
          "base_uri": "https://localhost:8080/"
        },
        "id": "aArzVHF7OeUS",
        "outputId": "b47a9029-b524-4743-d3a6-faa30235d2a9"
      },
      "id": "aArzVHF7OeUS",
      "execution_count": 50,
      "outputs": [
        {
          "output_type": "stream",
          "name": "stdout",
          "text": [
            "True\n"
          ]
        }
      ]
    },
    {
      "cell_type": "code",
      "source": [
        "\"\"\"\n",
        "if:\n",
        "\n",
        "else:\n",
        "\"\"\"\n",
        "if 4 > 5 :\n",
        "  print('True')\n",
        "else:\n",
        "  print('False')\n"
      ],
      "metadata": {
        "colab": {
          "base_uri": "https://localhost:8080/"
        },
        "id": "ehE_rzNZJfwV",
        "outputId": "06df541c-1a4d-4fdb-8eb1-32c6565b9a65"
      },
      "id": "ehE_rzNZJfwV",
      "execution_count": 51,
      "outputs": [
        {
          "output_type": "stream",
          "name": "stdout",
          "text": [
            "False\n"
          ]
        }
      ]
    },
    {
      "cell_type": "code",
      "source": [
        "x = 95\n",
        "\n",
        "if x >= 90:\n",
        "  print(\"pass\")\n",
        "\n",
        "for x in range (100):\n",
        "  if x >=90:\n",
        "    print(\"x\")\n",
        "  else:\n",
        "    pass"
      ],
      "metadata": {
        "colab": {
          "base_uri": "https://localhost:8080/"
        },
        "id": "8fIvN_x9PpwS",
        "outputId": "98b926a1-22f9-4476-9c53-314bc7b56456"
      },
      "id": "8fIvN_x9PpwS",
      "execution_count": 52,
      "outputs": [
        {
          "output_type": "stream",
          "name": "stdout",
          "text": [
            "pass\n",
            "x\n",
            "x\n",
            "x\n",
            "x\n",
            "x\n",
            "x\n",
            "x\n",
            "x\n",
            "x\n",
            "x\n"
          ]
        }
      ]
    },
    {
      "cell_type": "code",
      "source": [
        "\"\"\"\n",
        "if:\n",
        "\n",
        "elif:\n",
        "...\n",
        "\n",
        "else:\n",
        "\"\"\"\n",
        "\n",
        "x = 75\n",
        "if x >= 90:\n",
        "  print(\"Very good!\")\n",
        "elif (x >= 80) and (x < 90):\n",
        "  print(\"Good!\")\n",
        "elif x >= 70 and x < 80:\n",
        "  print(\"Enough\")\n",
        "else:\n",
        "  print(bad)\n"
      ],
      "metadata": {
        "colab": {
          "base_uri": "https://localhost:8080/"
        },
        "id": "FN6rBoN-Jbim",
        "outputId": "b7a50765-5481-491c-bf73-d105138b32fb"
      },
      "id": "FN6rBoN-Jbim",
      "execution_count": 53,
      "outputs": [
        {
          "output_type": "stream",
          "name": "stdout",
          "text": [
            "Enough\n"
          ]
        }
      ]
    },
    {
      "cell_type": "code",
      "source": [
        "x = 69\n",
        "if x >= 90:\n",
        "  if x == 100:\n",
        "    print(\"Perfect!\")\n",
        "  else:\n",
        "    print(\"Very Good!\")\n",
        "elif x >= 80 and x < 90:\n",
        "  print(\"Good\")\n",
        "elif x >= 70 and x < 80:\n",
        "  print(\"Enough\")\n",
        "else:\n",
        "  print(\"Should you improve\")\n",
        "\n"
      ],
      "metadata": {
        "colab": {
          "base_uri": "https://localhost:8080/"
        },
        "id": "o4zmnPpgJZBb",
        "outputId": "94545d15-e495-47a1-843b-1fd29ff7eefd"
      },
      "id": "o4zmnPpgJZBb",
      "execution_count": 54,
      "outputs": [
        {
          "output_type": "stream",
          "name": "stdout",
          "text": [
            "Should you improve\n"
          ]
        }
      ]
    },
    {
      "cell_type": "code",
      "source": [
        "# for var in list/tuple/set/dictionary:\n",
        "#   if :\n",
        "#   else :\n"
      ],
      "metadata": {
        "id": "0wKtbsd5SrRQ"
      },
      "id": "0wKtbsd5SrRQ",
      "execution_count": 55,
      "outputs": []
    },
    {
      "cell_type": "code",
      "source": [
        "print(list(range(0, 10, 1))) # 0 - 10까지 1만큼씩 건너뛰면서..\n",
        "\n",
        "var_list = list(range(0, 10, 1))\n",
        "print(var_list)\n",
        "\n",
        "for a in range (0, 10, 1): #range(10)으로 퉁쳐~!\n",
        "# for a in range(10):\n",
        "  print(a)\n",
        "\n",
        "#range(0, 10)\n",
        "#range(0, 10, 1)\n",
        "#range(10)\n",
        "# 동일\n",
        "\n",
        "#var_index[0:10:1]\n",
        "#var_index[0:10]\n",
        "#var_index[:10]\n",
        "#var_index[:]\n",
        "# 동일\n",
        "\n",
        "\n",
        "# range(-10, 0, 1)\n",
        "\n",
        "print(var_list.reverse())\n",
        "var_list = var_list[::-1]\n",
        "print(var_list)"
      ],
      "metadata": {
        "colab": {
          "base_uri": "https://localhost:8080/"
        },
        "id": "Ay6NCu8lSzSF",
        "outputId": "0fe5ec25-dee8-499a-a101-9fbc324b967a"
      },
      "id": "Ay6NCu8lSzSF",
      "execution_count": 56,
      "outputs": [
        {
          "output_type": "stream",
          "name": "stdout",
          "text": [
            "[0, 1, 2, 3, 4, 5, 6, 7, 8, 9]\n",
            "[0, 1, 2, 3, 4, 5, 6, 7, 8, 9]\n",
            "0\n",
            "1\n",
            "2\n",
            "3\n",
            "4\n",
            "5\n",
            "6\n",
            "7\n",
            "8\n",
            "9\n",
            "None\n",
            "[0, 1, 2, 3, 4, 5, 6, 7, 8, 9]\n"
          ]
        }
      ]
    },
    {
      "cell_type": "code",
      "source": [
        "print(\"start\")\n",
        "x_list = ['1', '2']\n",
        "y_list = ['a', 'b']\n",
        "\n",
        "for x in x_list:\n",
        "  print(x)\n",
        "  for y in y_list:\n",
        "    print(y)"
      ],
      "metadata": {
        "colab": {
          "base_uri": "https://localhost:8080/"
        },
        "id": "IVKMkaqfJ_Np",
        "outputId": "645e75e7-40e2-4cc4-c811-474cff576e8d"
      },
      "id": "IVKMkaqfJ_Np",
      "execution_count": 57,
      "outputs": [
        {
          "output_type": "stream",
          "name": "stdout",
          "text": [
            "start\n",
            "1\n",
            "a\n",
            "b\n",
            "2\n",
            "a\n",
            "b\n"
          ]
        }
      ]
    },
    {
      "cell_type": "code",
      "source": [
        "names = ['James', 'Robert', 'Lisa', 'Mary']\n",
        "scores = [95, 96, 97, 94]\n",
        "\n",
        "for k in range(len(names)):\n",
        "  print(names[k], scores[k])\n",
        "\n",
        "\n",
        "for name, score in zip(names, scores):\n",
        "  print(name, score)"
      ],
      "metadata": {
        "colab": {
          "base_uri": "https://localhost:8080/"
        },
        "id": "o374DColVeMs",
        "outputId": "86f5f9dc-f81e-4b73-a781-609c6464376d"
      },
      "id": "o374DColVeMs",
      "execution_count": 58,
      "outputs": [
        {
          "output_type": "stream",
          "name": "stdout",
          "text": [
            "James 95\n",
            "Robert 96\n",
            "Lisa 97\n",
            "Mary 94\n",
            "James 95\n",
            "Robert 96\n",
            "Lisa 97\n",
            "Mary 94\n"
          ]
        }
      ]
    },
    {
      "cell_type": "code",
      "source": [
        "i = 0\n",
        "sum = 0\n",
        "\n",
        "while sum < 20:\n",
        "  i = i + 1\n",
        "  sum = sum + i\n",
        "  print(i, sum)\n"
      ],
      "metadata": {
        "colab": {
          "base_uri": "https://localhost:8080/"
        },
        "id": "Dy0Hfg58WmWI",
        "outputId": "7541282e-7e54-407a-dbd4-4e4372ecf63e"
      },
      "id": "Dy0Hfg58WmWI",
      "execution_count": 59,
      "outputs": [
        {
          "output_type": "stream",
          "name": "stdout",
          "text": [
            "1 1\n",
            "2 3\n",
            "3 6\n",
            "4 10\n",
            "5 15\n",
            "6 21\n"
          ]
        }
      ]
    },
    {
      "cell_type": "code",
      "source": [
        "k = 0\n",
        "\n",
        "while True:\n",
        "  k = k + 1 #k는 1씩 증가\n",
        "\n",
        "  if k > 3: #k가 3보다 크면\n",
        "    break # 끝내고\n",
        "\n",
        "  print(k) #지금까지 조건문에 맞았던 것들만 프린트 해주렴\n",
        "\n",
        "print(k) #조건문에 맞았던 거 다 프린트하고 나왔더니 최종k값이 나와써 k=4일때 while문 break했으니까 ...."
      ],
      "metadata": {
        "colab": {
          "base_uri": "https://localhost:8080/"
        },
        "id": "QcbnhJaFXkFa",
        "outputId": "63644b59-600f-4604-acff-519f232c05b5"
      },
      "id": "QcbnhJaFXkFa",
      "execution_count": 60,
      "outputs": [
        {
          "output_type": "stream",
          "name": "stdout",
          "text": [
            "1\n",
            "2\n",
            "3\n",
            "4\n"
          ]
        }
      ]
    },
    {
      "cell_type": "code",
      "source": [
        "for k in range(5):\n",
        "  if k == 2:\n",
        "    continue\n",
        "  print(k)"
      ],
      "metadata": {
        "colab": {
          "base_uri": "https://localhost:8080/"
        },
        "id": "GHT2Gf51YzDX",
        "outputId": "d2ce04b4-c9eb-4a0b-c01e-065f69072906"
      },
      "id": "GHT2Gf51YzDX",
      "execution_count": 61,
      "outputs": [
        {
          "output_type": "stream",
          "name": "stdout",
          "text": [
            "0\n",
            "1\n",
            "3\n",
            "4\n"
          ]
        }
      ]
    },
    {
      "cell_type": "code",
      "source": [
        "k = 0\n",
        "\n",
        "while True:\n",
        "  k = k + 1\n",
        "\n",
        "  if k == 2:\n",
        "    print(\"continue next!\")\n",
        "    continue\n",
        "\n",
        "  if k > 4:\n",
        "    break\n",
        "\n",
        "  print(k)"
      ],
      "metadata": {
        "colab": {
          "base_uri": "https://localhost:8080/"
        },
        "id": "ChvLbzprY_Ev",
        "outputId": "65e397c1-19d0-4ec2-b082-fbe5eb16806e"
      },
      "id": "ChvLbzprY_Ev",
      "execution_count": 62,
      "outputs": [
        {
          "output_type": "stream",
          "name": "stdout",
          "text": [
            "1\n",
            "continue next!\n",
            "3\n",
            "4\n"
          ]
        }
      ]
    },
    {
      "cell_type": "code",
      "source": [
        "numbers = [1,2,3,4,5]\n",
        "square = []\n",
        "\n",
        "for i in numbers:\n",
        "  square.append(i**2)\n",
        "\n",
        "print(square)\n",
        "\n",
        "\n",
        "\n",
        "\n",
        "square1 = [i**2 for i in numbers]\n",
        "\n",
        "print(square1)\n",
        "\n",
        "\n",
        "square2 = [i**2 for i in numbers if i >= 3]\n",
        "\n",
        "print(square2)"
      ],
      "metadata": {
        "colab": {
          "base_uri": "https://localhost:8080/"
        },
        "id": "Jzh6Mqf5ZnOK",
        "outputId": "8bd0c848-04ac-406f-9f6a-026056843052"
      },
      "id": "Jzh6Mqf5ZnOK",
      "execution_count": 63,
      "outputs": [
        {
          "output_type": "stream",
          "name": "stdout",
          "text": [
            "[1, 4, 9, 16, 25]\n",
            "[1, 4, 9, 16, 25]\n",
            "[9, 16, 25]\n"
          ]
        }
      ]
    },
    {
      "cell_type": "markdown",
      "id": "b481d8d2",
      "metadata": {
        "id": "b481d8d2"
      },
      "source": [
        "\n",
        "### 파이썬은 if라는 키워드를 통해 분기문을 만들 수 있습니다."
      ]
    },
    {
      "cell_type": "markdown",
      "id": "cc799c25",
      "metadata": {
        "id": "cc799c25"
      },
      "source": [
        "#### 101. 파이썬에서 True 혹은 False를 갖는 데이터 타입은 무엇인가?"
      ]
    },
    {
      "cell_type": "code",
      "execution_count": 64,
      "id": "5fafc030",
      "metadata": {
        "id": "5fafc030"
      },
      "outputs": [],
      "source": [
        "#boolean"
      ]
    },
    {
      "cell_type": "markdown",
      "id": "00d410e8",
      "metadata": {
        "id": "00d410e8"
      },
      "source": [
        "#### 102. 아래 코드의 출력 결과를 예상하라\n",
        "\n",
        "print(3 == 5)"
      ]
    },
    {
      "cell_type": "code",
      "execution_count": 65,
      "id": "45a15894",
      "metadata": {
        "colab": {
          "base_uri": "https://localhost:8080/"
        },
        "id": "45a15894",
        "outputId": "e2c5796a-ec80-4fd4-def8-7a3e2687010b"
      },
      "outputs": [
        {
          "output_type": "stream",
          "name": "stdout",
          "text": [
            "False\n"
          ]
        }
      ],
      "source": [
        "print(3 == 5)\n",
        "#false"
      ]
    },
    {
      "cell_type": "markdown",
      "id": "35d02fdc",
      "metadata": {
        "id": "35d02fdc"
      },
      "source": [
        "#### 103. 아래 코드의 출력 결과를 예상하라\n",
        "print(3 < 5)"
      ]
    },
    {
      "cell_type": "code",
      "execution_count": 66,
      "id": "f154ebb6",
      "metadata": {
        "id": "f154ebb6",
        "colab": {
          "base_uri": "https://localhost:8080/"
        },
        "outputId": "34aad1c0-6387-44c4-eb5f-c3f7e7630b52"
      },
      "outputs": [
        {
          "output_type": "stream",
          "name": "stdout",
          "text": [
            "True\n"
          ]
        }
      ],
      "source": [
        "print(3 < 5)\n",
        "#true"
      ]
    },
    {
      "cell_type": "markdown",
      "id": "72327e11",
      "metadata": {
        "id": "72327e11"
      },
      "source": [
        "#### 104. 아래 코드의 결과를 예상하라.\n",
        "\n",
        "- x = 4\n",
        "- print(1 < x < 5)"
      ]
    },
    {
      "cell_type": "code",
      "execution_count": 67,
      "id": "d4dd8fb8",
      "metadata": {
        "colab": {
          "base_uri": "https://localhost:8080/"
        },
        "id": "d4dd8fb8",
        "outputId": "879dc2ea-4d88-41dd-8c5c-092df17c36e2"
      },
      "outputs": [
        {
          "output_type": "stream",
          "name": "stdout",
          "text": [
            "True\n"
          ]
        }
      ],
      "source": [
        "\n",
        "x = 4\n",
        "print(1 < x < 5)\n",
        "#true"
      ]
    },
    {
      "cell_type": "markdown",
      "id": "18a38676",
      "metadata": {
        "id": "18a38676"
      },
      "source": [
        "#### 105. 아래 코드의 결과를 예상하라.\n",
        "\n",
        "print ((3 == 3) and (4 != 3))"
      ]
    },
    {
      "cell_type": "code",
      "execution_count": 68,
      "id": "bdca6b37",
      "metadata": {
        "colab": {
          "base_uri": "https://localhost:8080/"
        },
        "id": "bdca6b37",
        "outputId": "5701b8fb-3ee7-4598-b420-c993538fadf5"
      },
      "outputs": [
        {
          "output_type": "stream",
          "name": "stdout",
          "text": [
            "True\n"
          ]
        }
      ],
      "source": [
        "print ((3 == 3) and (4 != 3))\n",
        "#true"
      ]
    },
    {
      "cell_type": "markdown",
      "id": "4ad56e16",
      "metadata": {
        "id": "4ad56e16"
      },
      "source": [
        "#### 106. 아래 코드에서 에러가 발생하는 원인에 대해 설명하라.\n",
        "\n",
        "print(3 => 4)\n",
        "\n",
        "\n",
        "\n",
        "\n",
        "\n"
      ]
    },
    {
      "cell_type": "code",
      "execution_count": 69,
      "id": "d768bd61",
      "metadata": {
        "id": "d768bd61",
        "colab": {
          "base_uri": "https://localhost:8080/"
        },
        "outputId": "14ba1b62-ebda-4237-973b-54b8b4775fae"
      },
      "outputs": [
        {
          "output_type": "stream",
          "name": "stdout",
          "text": [
            "False\n"
          ]
        }
      ],
      "source": [
        "print(3 >= 4)\n",
        "#false"
      ]
    },
    {
      "cell_type": "markdown",
      "id": "7d265a61",
      "metadata": {
        "id": "7d265a61"
      },
      "source": [
        "#### 107. 아래 코드의 출력 결과를 예상하라\n",
        "\n",
        "- if 4 < 3:\n",
        "-     print(\"Hello World\")\n",
        "\n"
      ]
    },
    {
      "cell_type": "code",
      "execution_count": 70,
      "id": "d546942a",
      "metadata": {
        "id": "d546942a"
      },
      "outputs": [],
      "source": [
        "if 4 < 3:\n",
        "  print(\"Hello World\")\n",
        "\n",
        "#indent spaces\n",
        "# false니까 아무것도 출력 안됨"
      ]
    },
    {
      "cell_type": "markdown",
      "id": "c9e94387",
      "metadata": {
        "id": "c9e94387"
      },
      "source": [
        "#### 108. 아래 코드의 출력 결과를 예상하라\n",
        "\n",
        "- if 4 < 3:\n",
        ">    print(\"Hello World.\")\n",
        "- else:\n",
        ">    print(\"Hi, there.\")"
      ]
    },
    {
      "cell_type": "code",
      "execution_count": 71,
      "id": "efa091f8",
      "metadata": {
        "colab": {
          "base_uri": "https://localhost:8080/"
        },
        "id": "efa091f8",
        "outputId": "6f32b030-f903-44d1-e919-ee2a1818eca0"
      },
      "outputs": [
        {
          "output_type": "stream",
          "name": "stdout",
          "text": [
            "Hi, there\n"
          ]
        }
      ],
      "source": [
        "if 4 < 3:\n",
        "  print(\"Hello World.\")\n",
        "else:\n",
        "  print(\"Hi, there\")\n",
        "\n",
        "# hi there"
      ]
    },
    {
      "cell_type": "markdown",
      "id": "8cabe197",
      "metadata": {
        "id": "8cabe197"
      },
      "source": [
        "#### 109. 아래 코드의 출력 결과를 예상하라\n",
        "\n",
        "- if True :\n",
        ">    print (\"1\"),\n",
        ">    print (\"2\")\n",
        "- else :\n",
        ">    print(\"3\")\n",
        "- print(\"4\")"
      ]
    },
    {
      "cell_type": "code",
      "execution_count": 72,
      "id": "cd65cf20",
      "metadata": {
        "colab": {
          "base_uri": "https://localhost:8080/"
        },
        "id": "cd65cf20",
        "outputId": "94d7510f-6a01-42f1-dbab-38c63dfbe66c"
      },
      "outputs": [
        {
          "output_type": "stream",
          "name": "stdout",
          "text": [
            "1\n",
            "2\n",
            "4\n"
          ]
        }
      ],
      "source": [
        "if True:\n",
        "  print (\"1\"), print(\"2\")\n",
        "\n",
        "else:\n",
        "  print(\"3\")\n",
        "\n",
        "print(\"4\")"
      ]
    },
    {
      "cell_type": "markdown",
      "id": "5fd7c3bb",
      "metadata": {
        "id": "5fd7c3bb"
      },
      "source": [
        "#### 110. 아래 코드의 출력 결과를 예상하라\n",
        "\n",
        "- if True :\n",
        ">    if False:\n",
        "        print(\"1\")\n",
        "        print(\"2\")\n",
        ">    else:\n",
        "        print(\"3\")\n",
        "- else :\n",
        "    print(\"4\")\n",
        "- print(\"5\")\n"
      ]
    },
    {
      "cell_type": "code",
      "execution_count": 73,
      "id": "5e5b2a69",
      "metadata": {
        "colab": {
          "base_uri": "https://localhost:8080/"
        },
        "id": "5e5b2a69",
        "outputId": "0f823de0-c677-4e76-ff38-ca3ac88e78ff"
      },
      "outputs": [
        {
          "output_type": "stream",
          "name": "stdout",
          "text": [
            "3\n",
            "5\n"
          ]
        }
      ],
      "source": [
        "if True:\n",
        "  if False:\n",
        "    print(\"1\")\n",
        "    print(\"2\")\n",
        "  else:\n",
        "    print(\"3\")\n",
        "else:\n",
        "  print(\"4\")\n",
        "\n",
        "print(\"5\")"
      ]
    },
    {
      "cell_type": "markdown",
      "id": "28cd8342",
      "metadata": {
        "id": "28cd8342"
      },
      "source": [
        "#### 111. 사용자로부터 입력받은 문자열을 두 번 출력하라. 아래는 사용자가 \"안녕하세요\"를 입력한 경우의 출력 결과이다.\n",
        "\n",
        "- 안녕하세요\n",
        "- 안녕하세요안녕하세요"
      ]
    },
    {
      "cell_type": "code",
      "execution_count": 74,
      "id": "924553ff",
      "metadata": {
        "colab": {
          "base_uri": "https://localhost:8080/"
        },
        "id": "924553ff",
        "outputId": "eb8495f3-c3bd-4ddd-c2e3-e232e3624a34"
      },
      "outputs": [
        {
          "output_type": "stream",
          "name": "stdout",
          "text": [
            "안녕하세요\n",
            "안녕하세요안녕하세요\n"
          ]
        }
      ],
      "source": [
        "if input() == \"안녕하세요\":\n",
        "  print(\"안녕하세요안녕하세요\")"
      ]
    },
    {
      "cell_type": "code",
      "source": [
        "answer = input()\n",
        "print(answer * 2)"
      ],
      "metadata": {
        "colab": {
          "base_uri": "https://localhost:8080/"
        },
        "id": "-JtlW93AgcKS",
        "outputId": "952cbcdb-ea56-4ff4-dbbd-3fcf9efa244d"
      },
      "id": "-JtlW93AgcKS",
      "execution_count": 75,
      "outputs": [
        {
          "output_type": "stream",
          "name": "stdout",
          "text": [
            "ㅎㅎ\n",
            "ㅎㅎㅎㅎ\n"
          ]
        }
      ]
    },
    {
      "cell_type": "markdown",
      "id": "de312537",
      "metadata": {
        "id": "de312537"
      },
      "source": [
        "#### 112. 사용자로부터 하나의 숫자를 입력받고, 입력 받은 숫자에 10을 더해 출력하라.\n",
        "\n",
        "- 숫자를 입력하세요: 30\n",
        "> 출력값 : 40"
      ]
    },
    {
      "cell_type": "code",
      "execution_count": 76,
      "id": "b8dc6834",
      "metadata": {
        "colab": {
          "base_uri": "https://localhost:8080/"
        },
        "id": "b8dc6834",
        "outputId": "80a4a7e5-ab28-47a4-c4ba-2bfca07c9304"
      },
      "outputs": [
        {
          "output_type": "stream",
          "name": "stdout",
          "text": [
            "숫자를 입력하세요: 30\n",
            "40\n"
          ]
        }
      ],
      "source": [
        "answer = input(\"숫자를 입력하세요: \")\n",
        "print(int(answer) + 10)"
      ]
    },
    {
      "cell_type": "markdown",
      "id": "c411bb39",
      "metadata": {
        "id": "c411bb39"
      },
      "source": [
        "#### 113. 사용자로부터 하나의 숫자를 입력 받고 짝수/홀수를 판별하라.\n",
        "\n",
        "- 30\n",
        "> 출력값 : 짝수"
      ]
    },
    {
      "cell_type": "code",
      "execution_count": 77,
      "id": "732c96fa",
      "metadata": {
        "colab": {
          "base_uri": "https://localhost:8080/"
        },
        "id": "732c96fa",
        "outputId": "21d141c9-d4e5-4cca-a973-85b10db4856f"
      },
      "outputs": [
        {
          "output_type": "stream",
          "name": "stdout",
          "text": [
            "42\n",
            "짝수\n"
          ]
        }
      ],
      "source": [
        "answer = int(input())\n",
        "if answer % 2 == 0:\n",
        "  print(\"짝수\")\n",
        "else:\n",
        "  print(\"홀수\")"
      ]
    },
    {
      "cell_type": "markdown",
      "id": "f50e0c17",
      "metadata": {
        "id": "f50e0c17"
      },
      "source": [
        "#### 114. 사용자로부터 값을 입력받은 후 해당 값에 20을 더한 값을 출력하라. 단 사용자가 입력한 값과 20을 더한 계산 값이 255를 초과하는 경우 255를 출력해야 한다.\n",
        "\n",
        "- 입력값: 200\n",
        "> 출력값: 220\n",
        "- 입력값: 240\n",
        "> 출력값: 255"
      ]
    },
    {
      "cell_type": "code",
      "execution_count": 78,
      "id": "aea5035d",
      "metadata": {
        "colab": {
          "base_uri": "https://localhost:8080/"
        },
        "id": "aea5035d",
        "outputId": "b16f084b-40ca-47e6-ea64-9deb57aee850"
      },
      "outputs": [
        {
          "output_type": "stream",
          "name": "stdout",
          "text": [
            "입력값: 240\n",
            "255\n"
          ]
        }
      ],
      "source": [
        "answer = int(input(\"입력값: \"))\n",
        "\n",
        "if answer + 20 > 255:\n",
        "  print(\"255\")\n",
        "else:\n",
        "  print(answer + 20)\n"
      ]
    },
    {
      "cell_type": "markdown",
      "id": "6e4066d2",
      "metadata": {
        "id": "6e4066d2"
      },
      "source": [
        "#### 115. 사용자로부터 하나의 값을 입력받은 후 해당 값에 20을 뺀 값을 출력하라. 단 출력 값의 범위는 0~255이다. 예를 들어 결괏값이 0보다 작은 값이되는 경우 0을 출력하고 255보다 큰 값이 되는 경우 255를 출력해야 한다.\n",
        "\n",
        "- 입력값: 200\n",
        "> 출력값: 180\n",
        "- 입력값: 15\n",
        ">출력값: 0"
      ]
    },
    {
      "cell_type": "code",
      "execution_count": 79,
      "id": "87b8f1a9",
      "metadata": {
        "colab": {
          "base_uri": "https://localhost:8080/"
        },
        "id": "87b8f1a9",
        "outputId": "5cf37093-91dd-4bd2-dc9e-abe12aa08e18"
      },
      "outputs": [
        {
          "output_type": "stream",
          "name": "stdout",
          "text": [
            "입력값: 200\n",
            "180\n"
          ]
        }
      ],
      "source": [
        "answer = int(input(\"입력값: \"))\n",
        "if answer - 20 < 0:\n",
        "  print(\"0\")\n",
        "elif answer - 20 > 0 and answer - 20 <= 255:\n",
        "  print(answer - 20)\n",
        "elif answer - 20 > 255:\n",
        "  print(\"255\")"
      ]
    },
    {
      "cell_type": "markdown",
      "id": "3cf842fc",
      "metadata": {
        "id": "3cf842fc"
      },
      "source": [
        "#### 116. 사용자로부터 입력 받은 시간이 정각인지 판별하라.\n",
        "\n",
        "- 현재시간:02:00\n",
        ">정각 입니다.\n",
        "- 현재시간:03:10\n",
        ">정각이 아닙니다\n",
        "\n",
        "\n",
        "\n",
        "\n"
      ]
    },
    {
      "cell_type": "code",
      "source": [
        "time = [300, 200, 100, 1, 2, 3]\n",
        "\n",
        "time[3:]"
      ],
      "metadata": {
        "colab": {
          "base_uri": "https://localhost:8080/"
        },
        "id": "wjH_owqJjGIR",
        "outputId": "400b2acc-fc4a-4248-ea20-452547a420eb"
      },
      "id": "wjH_owqJjGIR",
      "execution_count": 80,
      "outputs": [
        {
          "output_type": "execute_result",
          "data": {
            "text/plain": [
              "[1, 2, 3]"
            ]
          },
          "metadata": {},
          "execution_count": 80
        }
      ]
    },
    {
      "cell_type": "code",
      "execution_count": 81,
      "id": "dc96999b",
      "metadata": {
        "colab": {
          "base_uri": "https://localhost:8080/"
        },
        "id": "dc96999b",
        "outputId": "cab77aab-2b97-4a4e-f871-60285dcc6753"
      },
      "outputs": [
        {
          "output_type": "stream",
          "name": "stdout",
          "text": [
            "현재시간: 3:10\n",
            "정각이 아닙니다.\n"
          ]
        }
      ],
      "source": [
        "answer = input(\"현재시간: \")\n",
        "\n",
        "if answer[2:] == \"00\":\n",
        "  print(\"정각 입니다.\")\n",
        "else:\n",
        "  print(\"정각이 아닙니다.\")\n"
      ]
    },
    {
      "cell_type": "markdown",
      "id": "224672b1",
      "metadata": {
        "id": "224672b1"
      },
      "source": [
        "#### 117. 사용자로 입력받은 단어가 아래 fruit 리스트에 포함되어 있는지를 확인하라. 포함되었다면 \"정답입니다\"를 아닐 경우 \"오답입니다\" 출력하라.\n",
        "\n",
        "- fruit = [\"사과\", \"포도\", \"홍시\"]\n",
        "> 좋아하는 과일은? 사과\n",
        ">> 정답입니다."
      ]
    },
    {
      "cell_type": "code",
      "execution_count": 82,
      "id": "18021e55",
      "metadata": {
        "colab": {
          "base_uri": "https://localhost:8080/"
        },
        "id": "18021e55",
        "outputId": "e87951dc-880f-4668-8f39-54dc73e516c3"
      },
      "outputs": [
        {
          "output_type": "stream",
          "name": "stdout",
          "text": [
            "좋아하는 과일은? : 사과\n",
            "정답입니다.\n"
          ]
        }
      ],
      "source": [
        "fruit = [\"사과\", \"포도\", \"홍시\"]\n",
        "\n",
        "answer = input(\"좋아하는 과일은? : \")\n",
        "if answer in fruit:\n",
        "  print(\"정답입니다.\")\n",
        "else:\n",
        "  print(\"정답이 아닙니다.\")\n"
      ]
    },
    {
      "cell_type": "markdown",
      "id": "1749a819",
      "metadata": {
        "id": "1749a819"
      },
      "source": [
        "#### 118. 투자 경고 종목 리스트가 있을 때 사용자로부터 종목명을 입력 받은 후 해당 종목이 투자 경고 종목이라면 '투자 경고 종목입니다'를 아니면 \"투자 경고 종목이 아닙니다.\"를 출력하는 프로그램을 작성하라.\n",
        "\n",
        "- warn_investment_list = [\"Microsoft\", \"Google\", \"Naver\", \"Kakao\", \"SAMSUNG\", \"LG\"]"
      ]
    },
    {
      "cell_type": "code",
      "execution_count": 83,
      "id": "162c8cac",
      "metadata": {
        "colab": {
          "base_uri": "https://localhost:8080/"
        },
        "id": "162c8cac",
        "outputId": "a5343a63-4639-4ca5-860e-7f6433c2fa9a"
      },
      "outputs": [
        {
          "output_type": "stream",
          "name": "stdout",
          "text": [
            "투자종목: Google\n",
            "투자 경고 종목입니다.\n"
          ]
        }
      ],
      "source": [
        "warn_investment_list = [\"Microsoft\", \"Google\", \"Naver\", \"Kakao\", \"SAMSUNG\", \"LG\"]\n",
        "\n",
        "answer = input(\"투자종목: \")\n",
        "\n",
        "if answer in warn_investment_list:\n",
        "  print(\"투자 경고 종목입니다.\")\n",
        "else:\n",
        "  print(\"투자 경고 종목이 아닙니다.\")\n",
        "\n"
      ]
    },
    {
      "cell_type": "markdown",
      "id": "871bece9",
      "metadata": {
        "id": "871bece9"
      },
      "source": [
        "#### 119. 아래와 같이 fruit 딕셔너리가 정의되어 있다. 사용자가 입력한 값이 딕셔너리 키 (key) 값에 포함되었다면 \"정답입니다\"를 아닐 경우 \"오답입니다\" 출력하라.\n",
        "\n",
        "- fruit = {\"봄\" : \"딸기\", \"여름\" : \"토마토\", \"가을\" : \"사과\"}\n",
        "> 제가좋아하는계절은: 봄\n",
        ">>정답입니다."
      ]
    },
    {
      "cell_type": "code",
      "execution_count": 84,
      "id": "37f676b7",
      "metadata": {
        "colab": {
          "base_uri": "https://localhost:8080/"
        },
        "id": "37f676b7",
        "outputId": "bda02c1a-8b61-4025-f0fa-a066a0bc2e2e"
      },
      "outputs": [
        {
          "output_type": "stream",
          "name": "stdout",
          "text": [
            "가장 좋아하는 계절은? : 봄\n",
            "정답입니다.\n"
          ]
        }
      ],
      "source": [
        "fruit = {\"봄\" : \"딸기\", \"여름\" : \"토마토\", \"가을\" : \"사과\"}\n",
        "\n",
        "answer = input(\"가장 좋아하는 계절은? : \")\n",
        "\n",
        "if answer in list(fruit.keys()):\n",
        "  print(\"정답입니다.\")\n",
        "else:\n",
        "  print(\"오답입니다.\")"
      ]
    },
    {
      "cell_type": "markdown",
      "id": "afa2521d",
      "metadata": {
        "id": "afa2521d"
      },
      "source": [
        "#### 120. 아래와 같이 fruit 딕셔너리가 정의되어 있다. 사용자가 입력한 값이 딕셔너리 값 (value)에 포함되었다면 \"정답입니다\"를 아닐 경우 \"오답입니다\" 출력하라.\n",
        "\n",
        "- fruit = {\"봄\" : \"딸기\", \"여름\" : \"토마토\", \"가을\" : \"사과\"}\n",
        "> 좋아하는과일은? 한라봉\n",
        ">>오답입니다."
      ]
    },
    {
      "cell_type": "code",
      "execution_count": 85,
      "id": "74350868",
      "metadata": {
        "colab": {
          "base_uri": "https://localhost:8080/"
        },
        "id": "74350868",
        "outputId": "a2782b4c-8c0d-4fff-d7f7-16beeda82022"
      },
      "outputs": [
        {
          "output_type": "stream",
          "name": "stdout",
          "text": [
            "가장 좋아하는 과일은? : 한라봉\n",
            "오답입니다.\n"
          ]
        }
      ],
      "source": [
        "fruit = {\"봄\" : \"딸기\", \"여름\" : \"토마토\", \"가을\" : \"사과\"}\n",
        "\n",
        "answer = input(\"가장 좋아하는 과일은? : \")\n",
        "\n",
        "if answer in list(fruit.values()):\n",
        "  print(\"정답입니다.\")\n",
        "else:\n",
        "  print(\"오답입니다.\")"
      ]
    },
    {
      "cell_type": "markdown",
      "id": "63ffd306",
      "metadata": {
        "id": "63ffd306"
      },
      "source": [
        "#### 121. 사용자로부터 문자 한 개를 입력 받고, 소문자일 경우 대문자로, 대문자 일 경우, 소문자로 변경해서 출력하라.\n",
        "\n",
        "- a\n",
        "- A\n",
        "- 힌트-1 : islower() 함수는 문자의 소문자 여부를 판별합니다. 만약 소문자일 경우 True, 대문자일 경우 False를 반환합니다. 힌트-2 : upper() 함수는 대문자로, lower() 함수는 소문자로 변경합니다."
      ]
    },
    {
      "cell_type": "code",
      "execution_count": 86,
      "id": "101e73f3",
      "metadata": {
        "colab": {
          "base_uri": "https://localhost:8080/"
        },
        "id": "101e73f3",
        "outputId": "d3768193-b34d-4be3-cf32-ed0d5943f4d2"
      },
      "outputs": [
        {
          "output_type": "stream",
          "name": "stdout",
          "text": [
            "string input: a\n",
            "A\n"
          ]
        }
      ],
      "source": [
        "answer = input(\"string input: \")\n",
        "\n",
        "if answer.islower():\n",
        "  print(answer.upper())\n",
        "else:\n",
        "  print(answer.lower())\n"
      ]
    },
    {
      "cell_type": "markdown",
      "id": "62ec49bc",
      "metadata": {
        "id": "62ec49bc"
      },
      "source": [
        "#### 122. 점수 구간에 해당하는 학점이 아래와 같이 정의되어 있다. 사용자로부터 score를 입력받아 학점을 출력하라.\n",
        "\n",
        "점수\t| 학점\n",
        "------|------\n",
        "81~100 |\tA\n",
        "61~80\t|B\n",
        "41~60\t|C\n",
        "21~40\t|D\n",
        "0~20\t| E\n",
        "\n",
        "- score: 83\n",
        "- grade is A"
      ]
    },
    {
      "cell_type": "code",
      "execution_count": 87,
      "id": "68abd9cf",
      "metadata": {
        "colab": {
          "base_uri": "https://localhost:8080/"
        },
        "id": "68abd9cf",
        "outputId": "908cd49a-c75b-4ea6-9f59-3987ee7c8f3f"
      },
      "outputs": [
        {
          "output_type": "stream",
          "name": "stdout",
          "text": [
            "score: 83\n",
            "grade is A\n"
          ]
        }
      ],
      "source": [
        "answer = int(input(\"score: \"))\n",
        "\n",
        "if answer > 80 and answer <= 100:\n",
        "  print(\"grade is A\")\n",
        "elif answer > 60 and answer <= 80:\n",
        "  print(\"grade is B\")\n",
        "elif answer > 40 and answer <= 60:\n",
        "  print(\"grade is C\")\n",
        "elif answer > 20 and answer <= 40:\n",
        "  print(\"grade is D\")\n",
        "else:\n",
        "  print(\"grade is E\")"
      ]
    },
    {
      "cell_type": "code",
      "source": [
        "answer = int(input(\"score: \"))\n",
        "\n",
        "if answer > 80 and answer <= 100:\n",
        "  grade = \"A\"\n",
        "elif answer > 60 and answer <= 80:\n",
        "  grade = \"B\"\n",
        "elif answer > 40 and answer <= 60:\n",
        "  grade = \"C\"\n",
        "elif answer > 20 and answer <= 40:\n",
        "  grade = \"D\"\n",
        "else:\n",
        "  grade = \"E\"\n",
        "print(f\"grade is {grade}\")"
      ],
      "metadata": {
        "colab": {
          "base_uri": "https://localhost:8080/"
        },
        "id": "zHSHEjnJqpW2",
        "outputId": "248923e3-9c6d-4cb7-b599-23d73a01b6f9"
      },
      "id": "zHSHEjnJqpW2",
      "execution_count": 88,
      "outputs": [
        {
          "output_type": "stream",
          "name": "stdout",
          "text": [
            "score: 50\n",
            "grade is C\n"
          ]
        }
      ]
    },
    {
      "cell_type": "markdown",
      "id": "8d104bb8",
      "metadata": {
        "id": "8d104bb8"
      },
      "source": [
        "#### 123. 사용자로부터 달러, 엔, 유로, 또는 위안 금액을 입력받은 후 이를 원으로 변환하는 프로그램을 작성하라. 각 통화별 환율은 다음과 같다. 사용자는 100 달러, 1000 엔, 13 유로, 100 위안과 같이 금액과 통화명 사이에 공백을 넣어 입력한다고 가정한다.\n",
        "\n",
        "통화명\t| 환율\n",
        "-------|-------\n",
        "달러\t |  1167\n",
        "엔\t  | 1.096\n",
        "유로\t |  1268\n",
        "위안\t |   171\n",
        "\n",
        "- 입력: 100 달러\n",
        "- 116700.00 원"
      ]
    },
    {
      "cell_type": "code",
      "execution_count": 89,
      "id": "2244ffb6",
      "metadata": {
        "colab": {
          "base_uri": "https://localhost:8080/"
        },
        "id": "2244ffb6",
        "outputId": "93168e12-0222-4b4b-8916-ef48c6fc06f2"
      },
      "outputs": [
        {
          "output_type": "stream",
          "name": "stdout",
          "text": [
            "금액: 100 달러\n",
            "116700.0 원\n"
          ]
        }
      ],
      "source": [
        "answer = input(\"금액: \")\n",
        "\n",
        "환율 = {\"달러\": 1167,\n",
        "      \"엔\": 1.096,\n",
        "      \"유로\": 1268,\n",
        "      \"위안\": 171}\n",
        "\n",
        "amount, currency = answer.split()\n",
        "print(float(amount) * 환율[currency], \"원\")"
      ]
    },
    {
      "cell_type": "markdown",
      "id": "4293fafa",
      "metadata": {
        "id": "4293fafa"
      },
      "source": [
        "#### 124. 사용자로부터 세 개의 숫자를 입력 받은 후 가장 큰 숫자를 출력하라.\n",
        "\n",
        "- input number1: 10\n",
        "- input number2: 9\n",
        "- input number3: 20\n",
        "> 20"
      ]
    },
    {
      "cell_type": "code",
      "execution_count": 90,
      "id": "969a34f9",
      "metadata": {
        "colab": {
          "base_uri": "https://localhost:8080/"
        },
        "id": "969a34f9",
        "outputId": "ce386054-25e8-4d6d-ccfb-7b8d6ce0e062"
      },
      "outputs": [
        {
          "output_type": "stream",
          "name": "stdout",
          "text": [
            "number1 :10\n",
            "number2 :9\n",
            "number3 :20\n",
            "20\n"
          ]
        }
      ],
      "source": [
        "user_input = []\n",
        "user1 = int(input(\"number1 :\"))\n",
        "user_input.append(user1)\n",
        "user2 = int(input(\"number2 :\"))\n",
        "user_input.append(user2)\n",
        "user3 = int(input(\"number3 :\"))\n",
        "user_input.append(user3)\n",
        "\n",
        "print(max(user_input))\n",
        "\n",
        "\n"
      ]
    },
    {
      "cell_type": "markdown",
      "id": "1a1414c0",
      "metadata": {
        "id": "1a1414c0"
      },
      "source": [
        "#### 125. 휴대폰 번호 앞자리에 따라 통신사는 아래와 같이 구분된다. 사용자로부터 휴대전화 번호를 입력 받고, 통신사를 출력하는 프로그램을 작성하라.\n",
        "\n",
        "번호\t| 통신사\n",
        "------|-------\n",
        "011\t| SKT\n",
        "016\t| KT\n",
        "019\t| LGU\n",
        "010\t| 알수없음\n",
        "\n",
        "- 휴대전화 번호 입력: 011-345-1922\n",
        "- 당신은 SKT 사용자입니다."
      ]
    },
    {
      "cell_type": "code",
      "execution_count": 91,
      "id": "a3b0925e",
      "metadata": {
        "colab": {
          "base_uri": "https://localhost:8080/"
        },
        "id": "a3b0925e",
        "outputId": "f10532b1-b6a7-47a8-ed00-27f393794794"
      },
      "outputs": [
        {
          "output_type": "stream",
          "name": "stdout",
          "text": [
            "휴대전화 번호 입력: 011-345-1922\n",
            "당신은 SKT 사용자 입니다.\n"
          ]
        }
      ],
      "source": [
        "user = input(\"휴대전화 번호 입력: \")\n",
        "\n",
        "phone = user.split(\"-\")[0]\n",
        "\n",
        "if phone == \"011\":\n",
        "  out = \"SKT\"\n",
        "elif phone == \"016\":\n",
        "  out = \"KT\"\n",
        "elif phone == \"019\":\n",
        "  out = \"LGU\"\n",
        "else:\n",
        "  out = \"NONE\"\n",
        "print(f\"당신은 {out} 사용자 입니다.\")"
      ]
    },
    {
      "cell_type": "markdown",
      "id": "fa5ae329",
      "metadata": {
        "id": "fa5ae329"
      },
      "source": [
        "#### 126. 우편번호는 5자리로 구성되는데, 앞의 세자리는 구를 나타낸다. 예를들어, 강북구의 경우 010, 011, 012 세 자리로 시작한다.\n",
        "\n",
        " '-' | 0\t   | 1\t  | 2\t | 3\t    | 4\t   | 5\t  | 6\t | 7\t    | 8\t   | 9\n",
        "-------------------- | --------------------\n",
        "01 | 강북구 | 강북구 | 강북구 | 도봉구 | 도봉구 | 도봉구 | 노원구 | 노원구 | 노원구 | 노원구\n",
        "\n",
        "- 사용자로 부터 5자리 우편번호를 입력받고 구를 판별하라\n",
        "- 우편번호: 01400\n",
        "- 도봉구\n",
        "\n",
        "\n",
        "\n",
        "\n",
        "\n"
      ]
    },
    {
      "cell_type": "code",
      "execution_count": 92,
      "id": "02237bf3",
      "metadata": {
        "colab": {
          "base_uri": "https://localhost:8080/"
        },
        "id": "02237bf3",
        "outputId": "c2e054d1-9b9a-4ef4-96c3-9e8808e0e37e"
      },
      "outputs": [
        {
          "output_type": "stream",
          "name": "stdout",
          "text": [
            "우편번호: 01400\n",
            "도봉구\n"
          ]
        }
      ],
      "source": [
        "user = input(\"우편번호: \")\n",
        "\n",
        "user = user[:3]\n",
        "\n",
        "if user in ['010', '011', '012']:\n",
        "  lo = \"강북구\"\n",
        "elif user in ['013', '014', '015']:\n",
        "  lo = \"도봉구\"\n",
        "else:\n",
        "  lo = \"노원구\"\n",
        "print(f\"{lo}\")\n"
      ]
    },
    {
      "cell_type": "code",
      "source": [
        "post_num = {\"강북구\": ['010','011','012'],\n",
        "            \"도봉구\": ['013','014','015'],\n",
        "            \"노원구\": ['016','017','018','019']}"
      ],
      "metadata": {
        "id": "eQYRTuZstByD"
      },
      "id": "eQYRTuZstByD",
      "execution_count": 94,
      "outputs": []
    },
    {
      "cell_type": "markdown",
      "id": "34a93639",
      "metadata": {
        "id": "34a93639"
      },
      "source": [
        "#### 127. 주민등록번호 뒷 자리 7자리 중 첫째 자리는 성별을 나타내는데, 1, 3은 남자 2, 4는 여자를 의미한다. 사용자로부터 13자리의 주민등록번호를 입력 받은 후 성별 (남자, 여자)를 출력하는 프로그램을 작성하라.\n",
        "\n",
        "- 주민등록번호: 821010-1635210\n",
        "- 남자\n"
      ]
    },
    {
      "cell_type": "code",
      "execution_count": 95,
      "id": "d1a470e8",
      "metadata": {
        "colab": {
          "base_uri": "https://localhost:8080/"
        },
        "id": "d1a470e8",
        "outputId": "ea95bebf-d96b-4bc6-b142-7184d51314be"
      },
      "outputs": [
        {
          "output_type": "stream",
          "name": "stdout",
          "text": [
            "주민등록번호: 821010-1635210\n",
            "Male\n"
          ]
        }
      ],
      "source": [
        "user = input(\"주민등록번호: \")\n",
        "id = user.split(\"-\")[1]\n",
        "\n",
        "if id[0] == \"1\" or id[0] == \"3\":\n",
        "  print(\"Male\")\n",
        "elif id[0] == \"2\" or id[0] == \"4\":\n",
        "  print(\"Female\")\n",
        "else:\n",
        "  print(\"re-enter your id number\")\n"
      ]
    },
    {
      "cell_type": "markdown",
      "id": "64c86f6f",
      "metadata": {
        "id": "64c86f6f"
      },
      "source": [
        "#### 128. 주민등록번호의 뒷 자리 7자리 중 두번째와 세번째는 지역코드를 의미한다. 주민 등록 번호를 입력 받은 후 출생지가 서울인지 아닌지 판단하는 코드를 작성하라\n",
        "\n",
        "지역코드\t| 출생지\n",
        "--------|--------\n",
        "00 ~ 08\t|서울\n",
        "09 ~ 12\t|부산\n",
        "\n",
        "- 주민등록번호: 821010-1635210\n",
        "> 서울이 아닙니다.\n",
        "- 주민등록번호: 861010-1015210\n",
        "> 서울 입니다."
      ]
    },
    {
      "cell_type": "code",
      "execution_count": 96,
      "id": "f083653d",
      "metadata": {
        "colab": {
          "base_uri": "https://localhost:8080/"
        },
        "id": "f083653d",
        "outputId": "55253298-225e-459b-edae-48fb0a4ea191"
      },
      "outputs": [
        {
          "output_type": "stream",
          "name": "stdout",
          "text": [
            "주민등록번호: 861010-1015210\n",
            "Seoul\n"
          ]
        }
      ],
      "source": [
        "user = input(\"주민등록번호: \")\n",
        "id = user.split(\"-\")[1]\n",
        "\n",
        "if 0 <= int(id[1:3]) <= 8:\n",
        "  print(\"Seoul\")\n",
        "else:\n",
        "  print(\"Other\")\n",
        "\n"
      ]
    },
    {
      "cell_type": "markdown",
      "id": "a59db0ca",
      "metadata": {
        "id": "a59db0ca"
      },
      "source": [
        "#### 129. 주민등록번호는 13자리로 구성되는데 마지막 자리수는 주민등록번호의 유효성을 체크하는데 사용된다. 먼저 앞에서부터 12자리의 숫자에 2, 3, 4, 5, 6, 7, 8, 9, 2, 3, 4, 5를 차례로 곱한 뒤 그 값을 전부 더한다. 연산 결과 값을 11로 나누면 나머지가 나오는데 11에서 나머지를 뺀 값이 주민등록번호의 마지막 번호가 된다.\n",
        "\n",
        "- 8 2 1 0 1 0 - 1 6 3 5 2 1 0\n",
        "- x 2 3 4 5 6 7   8 9 2 3 4 5\n",
        "- -----------------------------\n",
        "- 1차 계산: (8*2 + 2*3 + 1*4 + 0*5 + 1*6 + 0*7 + 1*8 + 6*9 + 3*2 + 5*3 + 2*4 + 1*5) = (128 % 11) = 7\n",
        "- 2차 계산: 11 -7 = 4\n",
        "- 위와 같이 821010-1635210에 대해서 계산을 해보면 마지막 자리는 4가 되어야 함을 알 수 있다. 즉, 821010-1635210은 유효하지 않은 주민등록번호임을 알 수 있다.\n",
        "\n",
        "- 다음과 같이 사용자로부터 주민등록번호를 입력받은 후 주민등록번호가 유효한지를 출력하는 프로그램을 작성하라.\n",
        "\n",
        "- 주민등록번호: 821010-1635210\n",
        "- 유효하지 않은 주민등록번호입니다."
      ]
    },
    {
      "cell_type": "code",
      "execution_count": 97,
      "id": "a31aea58",
      "metadata": {
        "colab": {
          "base_uri": "https://localhost:8080/"
        },
        "id": "a31aea58",
        "outputId": "36be932a-6060-4b1a-a274-1a3fcd4786db"
      },
      "outputs": [
        {
          "output_type": "stream",
          "name": "stdout",
          "text": [
            "주민등록번호: 821010-1635210\n",
            "무효\n"
          ]
        }
      ],
      "source": [
        "num = input(\"주민등록번호: \")\n",
        "\n",
        "cal_1 = int(num[0]) * 2 + int(num[1]) * 3 + int(num[2]) * 4 + int(num[3]) * 5 + \\\n",
        "        int(num[4]) * 6 + int(num[5]) * 7 + int(num[7]) * 8 + int(num[8]) * 9 + \\\n",
        "        int(num[9]) * 2 + int(num[10]) * 3 + int(num[11]) * 4 + int(num[12]) * 5\n",
        "cal_2 = 11 - (cal_1 % 11)\n",
        "result = str(cal_2)\n",
        "\n",
        "if num[-1] == result[-1]:\n",
        "  print(\"유효\")\n",
        "else:\n",
        "  print(\"무효\")\n"
      ]
    },
    {
      "cell_type": "markdown",
      "id": "d889c2ec",
      "metadata": {
        "id": "d889c2ec"
      },
      "source": [
        "#### 130. 아래 코드는 비트코인의 가격 정보를 딕셔너리로 가져오는 코드이다.\n",
        "\n",
        "- import requests\n",
        "- btc = requests.get(\"https://api.bithumb.com/public/ticker/\").json()['data']\n",
        "- btc 딕셔너리 안에는 시가, 종가, 최고가, 최저가 등이 저장되어 있다. 최고가와 최저가의 차이를 변동폭으로 정의할 때 (시가 + 변동폭)이 최고가 보다 높을 경우 \"상승장\", 그렇지 않은 경우 \"하락장\" 문자열을 출력하라.\n",
        "\n",
        "- Key Name\tDescription\n",
        "\n",
        "> opening_price : 최근 24시간 내 시작 거래금액\n",
        "\n",
        "> closing_price : 최근 24시간 내 마지막 거래금액\n",
        "\n",
        "> min_price\t : 최근 24시간 내 최저 거래금액\n",
        "\n",
        "> max_price\t : 최근 24시간 내 최고 거래금액"
      ]
    },
    {
      "cell_type": "code",
      "execution_count": null,
      "id": "fae8f4f9",
      "metadata": {
        "id": "fae8f4f9"
      },
      "outputs": [],
      "source": []
    },
    {
      "cell_type": "markdown",
      "metadata": {
        "id": "ocdQXrHiLngH"
      },
      "source": [
        "\n",
        "### 파이썬 for 문은 횟수가 정해져 있거나 상대적으로 횟수가 적은 경우에 대한 반복에 주로 사용됩니다. 파이썬 while문은 횟수가 상대적으로 크거나 무한 루프 형태의 반복문에 사용됩니다."
      ],
      "id": "ocdQXrHiLngH"
    },
    {
      "cell_type": "markdown",
      "metadata": {
        "id": "HCVo77RYLngP"
      },
      "source": [
        "#### 131. for문의 실행결과를 예측하라.\n",
        "\n",
        "> 과일 = [\"사과\", \"귤\", \"수박\"]\n",
        "\n",
        "> for 변수 in 과일:\n",
        "    print(변수)"
      ],
      "id": "HCVo77RYLngP"
    },
    {
      "cell_type": "code",
      "execution_count": 98,
      "metadata": {
        "colab": {
          "base_uri": "https://localhost:8080/"
        },
        "id": "39e94ecd",
        "outputId": "6f0203f1-07db-4ad3-b6b1-0a389a9441e9"
      },
      "outputs": [
        {
          "output_type": "stream",
          "name": "stdout",
          "text": [
            "사과\n",
            "귤\n",
            "수박\n"
          ]
        }
      ],
      "source": [
        "fruits = [\"사과\", \"귤\", \"수박\"]\n",
        "\n",
        "for fruit in fruits:\n",
        "  print(fruit)"
      ],
      "id": "39e94ecd"
    },
    {
      "cell_type": "markdown",
      "metadata": {
        "id": "woSvn0ECLngQ"
      },
      "source": [
        "#### 132. for문의 실행결과를 예측하라.\n",
        "\n",
        "> 과일 = [\"사과\", \"귤\", \"수박\"]\n",
        "\n",
        "> for 변수 in 과일:\n",
        ">>  print(\"#####\")"
      ],
      "id": "woSvn0ECLngQ"
    },
    {
      "cell_type": "code",
      "execution_count": 99,
      "metadata": {
        "colab": {
          "base_uri": "https://localhost:8080/"
        },
        "id": "FmSOjrMhLngQ",
        "outputId": "909cbc54-7892-4b57-b1b7-5539f7af39fb"
      },
      "outputs": [
        {
          "output_type": "stream",
          "name": "stdout",
          "text": [
            "####\n",
            "####\n",
            "####\n"
          ]
        }
      ],
      "source": [
        "fruits = [\"사과\", \"귤\", \"수박\"]\n",
        "\n",
        "for fruit in fruits:\n",
        "  print(\"####\")"
      ],
      "id": "FmSOjrMhLngQ"
    },
    {
      "cell_type": "markdown",
      "metadata": {
        "id": "RyRrJchCLngQ"
      },
      "source": [
        "#### 133.다음 for 문과 동일한 기능을 수행하는 코드를 작성하세요.\n",
        "\n",
        "> for 변수 in [\"A\", \"B\", \"C\"]:\n",
        ">>  print(변수)"
      ],
      "id": "RyRrJchCLngQ"
    },
    {
      "cell_type": "code",
      "execution_count": 100,
      "metadata": {
        "colab": {
          "base_uri": "https://localhost:8080/"
        },
        "outputId": "12e327fd-ba4c-4520-a945-e4dee5f3e4b7",
        "id": "05n35M-hLngQ"
      },
      "outputs": [
        {
          "output_type": "stream",
          "name": "stdout",
          "text": [
            "a\n",
            "b\n",
            "c\n"
          ]
        }
      ],
      "source": [
        "for var in [\"a\", \"b\", \"c\"]:\n",
        "  print(var)"
      ],
      "id": "05n35M-hLngQ"
    },
    {
      "cell_type": "markdown",
      "metadata": {
        "id": "Kuj7KWD_LngQ"
      },
      "source": [
        "#### 134. for문을 풀어서 동일한 동작을하는 코드를 작성하라.\n",
        "\n",
        "> for 변수 in [\"A\", \"B\", \"C\"]:\n",
        ">>  print(\"출력:\", 변수)"
      ],
      "id": "Kuj7KWD_LngQ"
    },
    {
      "cell_type": "code",
      "execution_count": 101,
      "metadata": {
        "colab": {
          "base_uri": "https://localhost:8080/"
        },
        "outputId": "0a97dd24-43d9-46e4-a26a-35aa06921a7e",
        "id": "HyhEcNzkLngQ"
      },
      "outputs": [
        {
          "output_type": "stream",
          "name": "stdout",
          "text": [
            "output: a\n",
            "output: b\n",
            "output: c\n"
          ]
        }
      ],
      "source": [
        "for var in [\"a\", \"b\", \"c\"]:\n",
        "  print(\"output:\", var)"
      ],
      "id": "HyhEcNzkLngQ"
    },
    {
      "cell_type": "markdown",
      "metadata": {
        "id": "zHSjFhjaLngQ"
      },
      "source": [
        "#### 135. for문을 풀어서 동일한 동작을 하는 코드를 작성하라.\n",
        "\n",
        "> for 변수 in [\"A\", \"B\", \"C\"]:\n",
        ">>  b = 변수.lower()\n",
        "\n",
        ">>  print(\"변환:\", b)"
      ],
      "id": "zHSjFhjaLngQ"
    },
    {
      "cell_type": "code",
      "execution_count": 102,
      "metadata": {
        "colab": {
          "base_uri": "https://localhost:8080/"
        },
        "outputId": "58ddd9ec-f799-48ac-d752-c7e1d04ddb3a",
        "id": "aj4CGJ3zLngQ"
      },
      "outputs": [
        {
          "output_type": "stream",
          "name": "stdout",
          "text": [
            "transformation:  A\n",
            "transformation:  B\n",
            "transformation:  C\n"
          ]
        }
      ],
      "source": [
        "for var in [\"a\", \"b\", \"c\"]:\n",
        "  b = var.upper()\n",
        "  print(\"transformation: \", b)"
      ],
      "id": "aj4CGJ3zLngQ"
    },
    {
      "cell_type": "markdown",
      "metadata": {
        "id": "1wcWPBScLngQ"
      },
      "source": [
        "#### 136. 다음 코드를 for문으로 작성하라.\n",
        "\n",
        "> 변수 = 10\n",
        "\n",
        "> print(변수)\n",
        "\n",
        "> 변수 = 20\n",
        "\n",
        "> print(변수)\n",
        "\n",
        "> 변수 = 30\n",
        "\n",
        "> print(변수)\n",
        "\n",
        "\n",
        "\n",
        "\n"
      ],
      "id": "1wcWPBScLngQ"
    },
    {
      "cell_type": "code",
      "execution_count": 103,
      "metadata": {
        "colab": {
          "base_uri": "https://localhost:8080/"
        },
        "outputId": "e8b25d02-998d-4842-80a3-9585e4579319",
        "id": "hfefu9UHLngQ"
      },
      "outputs": [
        {
          "output_type": "stream",
          "name": "stdout",
          "text": [
            "10\n",
            "20\n",
            "30\n"
          ]
        }
      ],
      "source": [
        "var = 10\n",
        "print(var)\n",
        "\n",
        "var = 20\n",
        "print(var)\n",
        "\n",
        "var = 30\n",
        "print(var)"
      ],
      "id": "hfefu9UHLngQ"
    },
    {
      "cell_type": "code",
      "execution_count": 104,
      "metadata": {
        "colab": {
          "base_uri": "https://localhost:8080/"
        },
        "id": "cfc64577",
        "outputId": "4e7193da-bdf9-479f-8485-49d206028fea"
      },
      "outputs": [
        {
          "output_type": "stream",
          "name": "stdout",
          "text": [
            "10\n",
            "20\n",
            "30\n"
          ]
        }
      ],
      "source": [
        "for var in [10, 20, 30]:\n",
        "  print(var)"
      ],
      "id": "cfc64577"
    },
    {
      "cell_type": "markdown",
      "metadata": {
        "id": "Rcwf7oMnLngR"
      },
      "source": [
        "#### 137. 다음 코드를 for문으로 작성하라.\n",
        "\n",
        "> print(10)\n",
        "\n",
        "> print(20)\n",
        "\n",
        "> print(30)\n",
        "\n"
      ],
      "id": "Rcwf7oMnLngR"
    },
    {
      "cell_type": "code",
      "execution_count": 105,
      "metadata": {
        "colab": {
          "base_uri": "https://localhost:8080/"
        },
        "outputId": "b449fc8e-6e41-43df-ac9b-57ba196a0186",
        "id": "gGkYWKmLLngR"
      },
      "outputs": [
        {
          "output_type": "stream",
          "name": "stdout",
          "text": [
            "10\n",
            "20\n",
            "30\n"
          ]
        }
      ],
      "source": [
        "for var in range(0, 40, 10):\n",
        "  if var == 0:\n",
        "    pass\n",
        "  else:\n",
        "    print(var)"
      ],
      "id": "gGkYWKmLLngR"
    },
    {
      "cell_type": "markdown",
      "metadata": {
        "id": "FNS6ZuQ4LngR"
      },
      "source": [
        "#### 138. 다음 코드를 for문으로 작성하라.\n",
        "\n",
        "> print(10)\n",
        "\n",
        "> print(\"-------\")\n",
        "\n",
        "> print(20)\n",
        "\n",
        "> print(\"-------\")\n",
        "\n",
        "> print(30)\n",
        "\n",
        "> print(\"-------\")"
      ],
      "id": "FNS6ZuQ4LngR"
    },
    {
      "cell_type": "code",
      "execution_count": 106,
      "metadata": {
        "colab": {
          "base_uri": "https://localhost:8080/"
        },
        "outputId": "ac86533a-a32c-4589-d16d-c5389f9af7f8",
        "id": "PoyDsz9aLngR"
      },
      "outputs": [
        {
          "output_type": "stream",
          "name": "stdout",
          "text": [
            "10\n",
            "-----\n",
            "20\n",
            "-----\n",
            "30\n",
            "-----\n"
          ]
        }
      ],
      "source": [
        "for var in range(0, 40, 10):\n",
        "  if var == 0:\n",
        "    pass\n",
        "  else:\n",
        "    print(var)\n",
        "    print(\"-----\")"
      ],
      "id": "PoyDsz9aLngR"
    },
    {
      "cell_type": "markdown",
      "metadata": {
        "id": "FwknMJ85LngR"
      },
      "source": [
        "#### 139. 다음 코드를 for문으로 작성하라.\n",
        "\n",
        "- print(\"++++\")\n",
        "- print(10)\n",
        "- print(20)\n",
        "- print(30)"
      ],
      "id": "FwknMJ85LngR"
    },
    {
      "cell_type": "code",
      "execution_count": 107,
      "metadata": {
        "colab": {
          "base_uri": "https://localhost:8080/"
        },
        "outputId": "5615967d-52fc-469d-f5c6-07734198f5e6",
        "id": "s3tSR_VDLngR"
      },
      "outputs": [
        {
          "output_type": "stream",
          "name": "stdout",
          "text": [
            "++++\n",
            "10\n",
            "20\n",
            "30\n"
          ]
        }
      ],
      "source": [
        "for var in range(0, 40, 10):\n",
        "  if var == 0:\n",
        "    print(\"++++\")\n",
        "  else:\n",
        "    print(var)"
      ],
      "id": "s3tSR_VDLngR"
    },
    {
      "cell_type": "markdown",
      "metadata": {
        "id": "dXA3tWjXLngR"
      },
      "source": [
        "#### 140. 다음 코드를 for문으로 작성하라.\n",
        "\n",
        "> print(\"-------\")\n",
        "\n",
        "> print(\"-------\")\n",
        "\n",
        "> print(\"-------\")\n",
        "\n",
        "> print(\"-------\")"
      ],
      "id": "dXA3tWjXLngR"
    },
    {
      "cell_type": "code",
      "execution_count": 108,
      "metadata": {
        "colab": {
          "base_uri": "https://localhost:8080/"
        },
        "id": "lKjac9HwLngR",
        "outputId": "cbdd3eb1-1f41-4213-adc0-dd69c89c7325"
      },
      "outputs": [
        {
          "output_type": "stream",
          "name": "stdout",
          "text": [
            "------\n",
            "------\n",
            "------\n"
          ]
        }
      ],
      "source": [
        "for var in range(0, 40, 10):\n",
        "  if var == 0:\n",
        "    pass\n",
        "  else:\n",
        "    print(\"------\")"
      ],
      "id": "lKjac9HwLngR"
    },
    {
      "cell_type": "markdown",
      "metadata": {
        "id": "6STe75x1LngR"
      },
      "source": [
        "#### 141. 다음과 같이 판매가가 저장된 리스트가 있을 때 부가세가 포함된 가격을 for 문을 사용해서 화면에 출력하라. 단 부가세는 10원으로 가정한다.\n",
        "\n",
        "> 리스트 = [100, 200, 300]\n",
        "\n",
        "> 110\n",
        "\n",
        "> 210\n",
        "\n",
        "> 310"
      ],
      "id": "6STe75x1LngR"
    },
    {
      "cell_type": "code",
      "execution_count": 155,
      "metadata": {
        "colab": {
          "base_uri": "https://localhost:8080/"
        },
        "outputId": "efe23567-0b33-44d6-d73f-b6103602cbfb",
        "id": "gptMvuSULngR"
      },
      "outputs": [
        {
          "output_type": "stream",
          "name": "stdout",
          "text": [
            "110\n",
            "210\n",
            "310\n"
          ]
        }
      ],
      "source": [
        "ls = [100, 200, 300]\n",
        "\n",
        "for var in range(10, 400, 100):\n",
        "  if var == 10:\n",
        "    pass\n",
        "  else:\n",
        "    print(var)"
      ],
      "id": "gptMvuSULngR"
    },
    {
      "cell_type": "markdown",
      "metadata": {
        "id": "xcqHPDw8LngR"
      },
      "source": [
        "#### 142. for 문을 사용해서 리스트에 저장된 값을 다음과 같이 출력하라.\n",
        "\n",
        "> 리스트 = [\"김밥\", \"라면\", \"튀김\"]\n",
        "\n",
        "> 오늘의 메뉴: 김밥\n",
        "\n",
        "> 오늘의 메뉴: 라면\n",
        "\n",
        "> 오늘의 메뉴: 튀김"
      ],
      "id": "xcqHPDw8LngR"
    },
    {
      "cell_type": "code",
      "execution_count": 110,
      "metadata": {
        "colab": {
          "base_uri": "https://localhost:8080/"
        },
        "outputId": "68ee34f8-2257-4bde-9a91-dfff685214b6",
        "id": "Avn-ylKALngS"
      },
      "outputs": [
        {
          "output_type": "stream",
          "name": "stdout",
          "text": [
            "today's menu:  menu1\n",
            "today's menu:  menu2\n",
            "today's menu:  menu3\n"
          ]
        }
      ],
      "source": [
        "menus = ['menu1', 'menu2', 'menu3']\n",
        "for menu in menus:\n",
        "  print(\"today's menu: \", menu)"
      ],
      "id": "Avn-ylKALngS"
    },
    {
      "cell_type": "markdown",
      "metadata": {
        "id": "OECs9lmmLngS"
      },
      "source": [
        "#### 143. 리스트에 주식 종목이름이 저장돼 있다.\n",
        "\n",
        "- 리스트 = [\"SK하이닉스\", \"삼성전자\", \"LG전자\"]\n",
        "- 저장된 문자열의 길이를 다음과 같이 출력하라.\n",
        "\n",
        "> 6\n",
        "\n",
        "> 4\n",
        "\n",
        "> 4"
      ],
      "id": "OECs9lmmLngS"
    },
    {
      "cell_type": "code",
      "execution_count": 156,
      "metadata": {
        "colab": {
          "base_uri": "https://localhost:8080/"
        },
        "outputId": "53a3531b-83eb-4254-8950-ec390a015737",
        "id": "JdgFo9JhLngS"
      },
      "outputs": [
        {
          "output_type": "stream",
          "name": "stdout",
          "text": [
            "6\n",
            "4\n",
            "4\n"
          ]
        }
      ],
      "source": [
        "ls = [\"SK하이닉스\", \"삼성전자\", \"LG전자\"]\n",
        "\n",
        "for letters in ls:\n",
        "  letters = len(letters)\n",
        "  print(letters)"
      ],
      "id": "JdgFo9JhLngS"
    },
    {
      "cell_type": "markdown",
      "metadata": {
        "id": "6FcxhU9GLngS"
      },
      "source": [
        "#### 144. 리스트에는 동물이름이 문자열로 저장돼 있다.\n",
        "\n",
        "- 리스트 = ['dog', 'cat', 'parrot']\n",
        "- 동물 이름과 글자수를 다음과 같이 출력하라.\n",
        "\n",
        "> dog 3\n",
        "\n",
        "> cat 3\n",
        "\n",
        "> parrot 6"
      ],
      "id": "6FcxhU9GLngS"
    },
    {
      "cell_type": "code",
      "execution_count": 112,
      "metadata": {
        "colab": {
          "base_uri": "https://localhost:8080/"
        },
        "outputId": "1edaaefd-fb5b-455e-ea88-774ebfdae50c",
        "id": "ny-PSo0pLngS"
      },
      "outputs": [
        {
          "output_type": "stream",
          "name": "stdout",
          "text": [
            "dog 3\n",
            "cat 3\n",
            "parrot 6\n"
          ]
        }
      ],
      "source": [
        "pets = ['dog', 'cat', 'parrot']\n",
        "\n",
        "for pet in pets:\n",
        "  lengths = len(pet)\n",
        "  print(pet, lengths)"
      ],
      "id": "ny-PSo0pLngS"
    },
    {
      "cell_type": "markdown",
      "metadata": {
        "id": "1nfIuE0fLngS"
      },
      "source": [
        "#### 145. 리스트에 동물 이름 저장돼 있다.\n",
        "\n",
        "- 리스트 = ['dog', 'cat', 'parrot']\n",
        "- for문을 사용해서 동물 이름의 첫 글자만 출력하라.\n",
        "\n",
        "> d\n",
        "\n",
        "> c\n",
        "\n",
        "> p"
      ],
      "id": "1nfIuE0fLngS"
    },
    {
      "cell_type": "code",
      "execution_count": 113,
      "metadata": {
        "colab": {
          "base_uri": "https://localhost:8080/"
        },
        "outputId": "fbdd9c12-1dc5-4bc5-de54-1525e3006b2f",
        "id": "imWfX9POLngS"
      },
      "outputs": [
        {
          "output_type": "stream",
          "name": "stdout",
          "text": [
            "d\n",
            "c\n",
            "p\n"
          ]
        }
      ],
      "source": [
        "pets = ['dog', 'cat', 'parrot']\n",
        "\n",
        "for pet in pets:\n",
        "  first_letter = pet[0]\n",
        "  print(first_letter)"
      ],
      "id": "imWfX9POLngS"
    },
    {
      "cell_type": "markdown",
      "metadata": {
        "id": "DBHh2nRnLngS"
      },
      "source": [
        "#### 146\n",
        "- 리스트에는 세 개의 숫자가 바인딩돼 있다.\n",
        "\n",
        "- 리스트 = [1, 2, 3]\n",
        "- for문을 사용해서 다음과 같이 출력하라.\n",
        "\n",
        "> 3 x 1\n",
        "\n",
        "> 3 x 2\n",
        "\n",
        "> 3 x 3"
      ],
      "id": "DBHh2nRnLngS"
    },
    {
      "cell_type": "code",
      "execution_count": 157,
      "metadata": {
        "colab": {
          "base_uri": "https://localhost:8080/"
        },
        "outputId": "404e355d-530b-48b4-ec8b-00c69ccddc41",
        "id": "crkqFZFlLngS"
      },
      "outputs": [
        {
          "output_type": "stream",
          "name": "stdout",
          "text": [
            "3 x 1\n",
            "3 x 2\n",
            "3 x 3\n"
          ]
        }
      ],
      "source": [
        "ls = [1,2,3]\n",
        "\n",
        "for num in ls:\n",
        "  print(\"3 x\", num)"
      ],
      "id": "crkqFZFlLngS"
    },
    {
      "cell_type": "markdown",
      "metadata": {
        "id": "4101e8ad"
      },
      "source": [
        "#### 147\n",
        "- 리스트에는 세 개의 숫자가 바인딩돼 있다.\n",
        "\n",
        "- 리스트 = [1, 2, 3]\n",
        "- for문을 사용해서 다음과 같이 출력하라.\n",
        "\n",
        "- 3 x 1 = 3\n",
        "- 3 x 2 = 6\n",
        "- 3 x 3 = 9"
      ],
      "id": "4101e8ad"
    },
    {
      "cell_type": "code",
      "execution_count": 158,
      "metadata": {
        "colab": {
          "base_uri": "https://localhost:8080/"
        },
        "id": "f88a8a1a",
        "outputId": "807dad1b-895a-46b5-cf19-ffeb5d59ff1a"
      },
      "outputs": [
        {
          "output_type": "stream",
          "name": "stdout",
          "text": [
            "3 x 1  =  3\n",
            "3 x 2  =  6\n",
            "3 x 3  =  9\n"
          ]
        }
      ],
      "source": [
        "ls = [1,2,3]\n",
        "\n",
        "for num in ls:\n",
        "  cal = num * 3\n",
        "  print(\"3 x\", num, \" = \", cal)"
      ],
      "id": "f88a8a1a"
    },
    {
      "cell_type": "markdown",
      "metadata": {
        "id": "32520706"
      },
      "source": [
        "#### 148. 리스트에는 네 개의 문자열이 바인딩돼 있다.\n",
        "\n",
        "- 리스트 = [\"가\", \"나\", \"다\", \"라\"]\n",
        "- for문을 사용해서 다음과 같이 출력하라.\n",
        "\n",
        "- 나\n",
        "- 다\n",
        "- 라"
      ],
      "id": "32520706"
    },
    {
      "cell_type": "code",
      "execution_count": 159,
      "metadata": {
        "colab": {
          "base_uri": "https://localhost:8080/"
        },
        "id": "cb10aeb3",
        "outputId": "dea8a573-f028-4dc2-e0af-bb521f9907b1"
      },
      "outputs": [
        {
          "output_type": "stream",
          "name": "stdout",
          "text": [
            "나\n",
            "다\n",
            "라\n"
          ]
        }
      ],
      "source": [
        "ls = [\"가\", \"나\", \"다\", \"라\"]\n",
        "\n",
        "for letter in ls:\n",
        "  if letter == \"가\":\n",
        "    pass\n",
        "  else:\n",
        "    print(letter)"
      ],
      "id": "cb10aeb3"
    },
    {
      "cell_type": "markdown",
      "metadata": {
        "id": "17bff52f"
      },
      "source": [
        "#### 149. 리스트에는 네 개의 문자열이 바인딩돼 있다.\n",
        "\n",
        "- 리스트 = [\"가\", \"나\", \"다\", \"라\"]\n",
        "for문을 사용해서 다음과 같이 출력하라.\n",
        "\n",
        "- 가\n",
        "- 다"
      ],
      "id": "17bff52f"
    },
    {
      "cell_type": "code",
      "execution_count": 160,
      "metadata": {
        "colab": {
          "base_uri": "https://localhost:8080/"
        },
        "id": "a534f177",
        "outputId": "0218c321-bfa2-4e9e-ecdc-5672a4782c07"
      },
      "outputs": [
        {
          "output_type": "stream",
          "name": "stdout",
          "text": [
            "가\n",
            "다\n"
          ]
        }
      ],
      "source": [
        "ls = [\"가\", \"나\", \"다\", \"라\"]\n",
        "\n",
        "for letter in ls:\n",
        "  if letter == \"나\":\n",
        "    pass\n",
        "  elif letter == \"라\":\n",
        "    pass\n",
        "  else:\n",
        "    print(letter)"
      ],
      "id": "a534f177"
    },
    {
      "cell_type": "code",
      "source": [
        "ls = [\"가\", \"나\", \"다\", \"라\"]\n",
        "\n",
        "for letter in ls[: :2]: #2개씩 건너뛰라는 표시인가?\n",
        "    print(letter)"
      ],
      "metadata": {
        "colab": {
          "base_uri": "https://localhost:8080/"
        },
        "id": "-QCUPU7cCI4i",
        "outputId": "8ac6ded8-1915-458d-aa12-90c0730d30ed"
      },
      "execution_count": 161,
      "outputs": [
        {
          "output_type": "stream",
          "name": "stdout",
          "text": [
            "가\n",
            "다\n"
          ]
        }
      ],
      "id": "-QCUPU7cCI4i"
    },
    {
      "cell_type": "markdown",
      "metadata": {
        "id": "41fc73a9"
      },
      "source": [
        "#### 150. 리스트에는 네 개의 문자열이 바인딩돼 있다.\n",
        "\n",
        "- 리스트 = [\"가\", \"나\", \"다\", \"라\"]\n",
        "- for문을 사용해서 다음과 같이 출력하라.\n",
        "\n",
        "- 라\n",
        "- 다\n",
        "- 나\n",
        "- 가"
      ],
      "id": "41fc73a9"
    },
    {
      "cell_type": "code",
      "execution_count": 162,
      "metadata": {
        "colab": {
          "base_uri": "https://localhost:8080/"
        },
        "id": "d72651b9",
        "outputId": "d11e8d57-8760-4086-f30b-23ef5291b4aa"
      },
      "outputs": [
        {
          "output_type": "stream",
          "name": "stdout",
          "text": [
            "라\n",
            "다\n",
            "나\n",
            "가\n"
          ]
        }
      ],
      "source": [
        "ls = [\"가\", \"나\", \"다\", \"라\"]\n",
        "reversed_list = ls[::-1]\n",
        "\n",
        "for letter in reversed_list:\n",
        "    print(letter)"
      ],
      "id": "d72651b9"
    },
    {
      "cell_type": "markdown",
      "metadata": {
        "id": "3466b2d2"
      },
      "source": [
        "#### 151. 리스트에는 네 개의 정수가 저장돼 있다.\n",
        "\n",
        "- 리스트 = [3, -20, -3, 44]\n",
        "- for문을 사용해서 리스트의 음수를 출력하라.\n",
        "\n",
        "> 20\n",
        "\n",
        "> 3"
      ],
      "id": "3466b2d2"
    },
    {
      "cell_type": "code",
      "execution_count": 163,
      "metadata": {
        "id": "649e86de",
        "colab": {
          "base_uri": "https://localhost:8080/"
        },
        "outputId": "1c8e2bf9-5d84-4c9a-c4cc-4b9a639f1e74"
      },
      "outputs": [
        {
          "output_type": "stream",
          "name": "stdout",
          "text": [
            "20\n",
            "3\n"
          ]
        }
      ],
      "source": [
        "ls = [3, -20, -3, 44]\n",
        "\n",
        "for i in ls:\n",
        "  if i < 0:\n",
        "    print(abs(i))\n",
        "  else:\n",
        "    pass\n"
      ],
      "id": "649e86de"
    },
    {
      "cell_type": "markdown",
      "metadata": {
        "id": "d997974a"
      },
      "source": [
        "#### 152. for문을 사용해서 3의 배수만을 출력하라.\n",
        "\n",
        "- 리스트 = [3, 100, 23, 44]\n",
        "> 3"
      ],
      "id": "d997974a"
    },
    {
      "cell_type": "code",
      "execution_count": 164,
      "metadata": {
        "id": "1f46485a",
        "colab": {
          "base_uri": "https://localhost:8080/"
        },
        "outputId": "34bf06c1-33de-468b-abf8-95b50cfe2da2"
      },
      "outputs": [
        {
          "output_type": "stream",
          "name": "stdout",
          "text": [
            "3\n"
          ]
        }
      ],
      "source": [
        "li = [3, 100, 23, 44]\n",
        "\n",
        "for i in li:\n",
        "  if i % 3 == 0:\n",
        "    print(i)\n"
      ],
      "id": "1f46485a"
    },
    {
      "cell_type": "markdown",
      "metadata": {
        "id": "3128923d"
      },
      "source": [
        "#### 153. 리스트에서 20 보다 작은 3의 배수를 출력하라\n",
        "\n",
        "- 리스트 = [13, 21, 12, 14, 30, 18]\n",
        "\n",
        "> 12\n",
        "\n",
        "> 18"
      ],
      "id": "3128923d"
    },
    {
      "cell_type": "code",
      "execution_count": 166,
      "metadata": {
        "id": "b89489e8",
        "colab": {
          "base_uri": "https://localhost:8080/"
        },
        "outputId": "85686777-c89f-4564-c196-7040988ef74a"
      },
      "outputs": [
        {
          "output_type": "stream",
          "name": "stdout",
          "text": [
            "12\n",
            "18\n"
          ]
        }
      ],
      "source": [
        "ls = [13, 21, 12, 14, 30, 18]\n",
        "\n",
        "for i in ls:\n",
        "  if i < 20 and i % 3 == 0:\n",
        "    print(i)\n"
      ],
      "id": "b89489e8"
    },
    {
      "cell_type": "markdown",
      "metadata": {
        "id": "89ecd942"
      },
      "source": [
        "#### 154. 리스트에서 세 글자 이상의 문자를 화면에 출력하라\n",
        "\n",
        "- 리스트 = [\"I\", \"study\", \"python\", \"language\", \"!\"]\n",
        "- study\n",
        "- python\n",
        "- language"
      ],
      "id": "89ecd942"
    },
    {
      "cell_type": "code",
      "execution_count": 167,
      "metadata": {
        "id": "f6963680",
        "colab": {
          "base_uri": "https://localhost:8080/"
        },
        "outputId": "8212973c-7e9e-4444-efc8-fc8ef4dfb552"
      },
      "outputs": [
        {
          "output_type": "stream",
          "name": "stdout",
          "text": [
            "study\n",
            "python\n",
            "language\n"
          ]
        }
      ],
      "source": [
        "li = [\"I\", \"study\", \"python\", \"language\", \"!\"]\n",
        "\n",
        "for word in li:\n",
        "  if len(word) >= 3:\n",
        "    print(word)"
      ],
      "id": "f6963680"
    },
    {
      "cell_type": "markdown",
      "metadata": {
        "id": "0ac1fcff"
      },
      "source": [
        "#### 155. 리스트에서 대문자만 화면에 출력하라.\n",
        "\n",
        "- 리스트 = [\"A\", \"b\", \"c\", \"D\"]\n",
        "- A\n",
        "- D\n",
        "- (참고) isupper() 메서드는 대문자 여부를 판별합니다.\n",
        "\n",
        "> 변수 = \"A\"\n",
        "\n",
        "> 변수.isupper()\n",
        "\n",
        "> True\n",
        "\n",
        "> 변수 = \"a\"\n",
        "\n",
        "> 변수.isupper()\n",
        "\n",
        "> False"
      ],
      "id": "0ac1fcff"
    },
    {
      "cell_type": "code",
      "execution_count": 168,
      "metadata": {
        "id": "b5492d82",
        "colab": {
          "base_uri": "https://localhost:8080/"
        },
        "outputId": "7cc416e3-046b-4b3f-b224-1e0f2bb27730"
      },
      "outputs": [
        {
          "output_type": "stream",
          "name": "stdout",
          "text": [
            "A\n",
            "D\n",
            "A True\n",
            "b False\n",
            "c False\n",
            "D True\n"
          ]
        }
      ],
      "source": [
        "li = [\"A\", \"b\", \"c\", \"D\"]\n",
        "\n",
        "for i in li:\n",
        "  if i.isupper() == True:\n",
        "    print(i)\n",
        "\n",
        "\n",
        "for i in li:\n",
        "  if i.isupper() == True:\n",
        "    print(i, True)\n",
        "  else:\n",
        "    print (i, False)"
      ],
      "id": "b5492d82"
    },
    {
      "cell_type": "markdown",
      "metadata": {
        "id": "55e9cd50"
      },
      "source": [
        "#### 156. 리스트에서 소문자만 화면에 출력하라.\n",
        "\n",
        "- 리스트 = [\"A\", \"b\", \"c\", \"D\"]\n",
        "- b\n",
        "- c"
      ],
      "id": "55e9cd50"
    },
    {
      "cell_type": "code",
      "execution_count": 169,
      "metadata": {
        "id": "b96e50ed",
        "colab": {
          "base_uri": "https://localhost:8080/"
        },
        "outputId": "2d9ee27e-6e2f-45a5-d7e9-a92cef1c8e6b"
      },
      "outputs": [
        {
          "output_type": "stream",
          "name": "stdout",
          "text": [
            "b\n",
            "c\n"
          ]
        }
      ],
      "source": [
        "li = [\"A\", \"b\", \"c\", \"D\"]\n",
        "for i in li:\n",
        "  if i.islower() == True:\n",
        "    print(i)"
      ],
      "id": "b96e50ed"
    },
    {
      "cell_type": "markdown",
      "metadata": {
        "id": "0a7a6d6b"
      },
      "source": [
        "#### 157. 이름의 첫 글자를 대문자로 변경해서 출력하라.\n",
        "\n",
        "- 리스트 = ['dog', 'cat', 'parrot']\n",
        "- Dog\n",
        "- Cat\n",
        "- Parrot\n",
        "- (참고) upper() 메서드는 문자열을 대문자로 변경합니다.\n",
        "\n",
        "> 변수 = \"a\"\n",
        "\n",
        "> a.upper()\n",
        "\n",
        "> A\n",
        "\n",
        "> 변수 = \"abc\"\n",
        "\n",
        "> 변수.upper()\n",
        "\n",
        "> ABC"
      ],
      "id": "0a7a6d6b"
    },
    {
      "cell_type": "code",
      "execution_count": 170,
      "metadata": {
        "id": "98030a99",
        "colab": {
          "base_uri": "https://localhost:8080/"
        },
        "outputId": "95d4e4b5-3c57-4078-9eca-bf7b723fd852"
      },
      "outputs": [
        {
          "output_type": "stream",
          "name": "stdout",
          "text": [
            "Dog\n",
            "Cat\n",
            "Parrot\n"
          ]
        }
      ],
      "source": [
        "list1 = ['dog', 'cat', 'parrot']\n",
        "\n",
        "for pet in list1:\n",
        "  pet = pet.capitalize()\n",
        "  print(pet)"
      ],
      "id": "98030a99"
    },
    {
      "cell_type": "markdown",
      "metadata": {
        "id": "9bff28dd"
      },
      "source": [
        "#### 158. 파일 이름이 저장된 리스트에서 확장자를 제거하고 파일 이름만 화면에 출력하라. (힌트: split() 메서드)\n",
        "\n",
        "- 리스트 = ['hello.py', 'ex01.py', 'intro.hwp']\n",
        "- hello\n",
        "- ex01\n",
        "- intro"
      ],
      "id": "9bff28dd"
    },
    {
      "cell_type": "code",
      "execution_count": 171,
      "metadata": {
        "id": "19125588",
        "colab": {
          "base_uri": "https://localhost:8080/"
        },
        "outputId": "4f68de6a-2916-44d9-96d9-98c9a4b6ddd2"
      },
      "outputs": [
        {
          "output_type": "stream",
          "name": "stdout",
          "text": [
            "hello\n",
            "ex01\n",
            "intro\n"
          ]
        }
      ],
      "source": [
        "list1 = ['hello.py', 'ex01.py', 'intro.hwp']\n",
        "for item in list1:\n",
        "  item = item.split(\".\")\n",
        "  print(item[0])"
      ],
      "id": "19125588"
    },
    {
      "cell_type": "markdown",
      "metadata": {
        "id": "5612862e"
      },
      "source": [
        "#### 159. 파일 이름이 저장된 리스트에서 확장자가 .h인 파일 이름을 출력하라.\n",
        "\n",
        "- 리스트 = ['intra.h', 'intra.c', 'define.h', 'run.py']\n",
        "- intra.h\n",
        "- define.h"
      ],
      "id": "5612862e"
    },
    {
      "cell_type": "code",
      "execution_count": 172,
      "metadata": {
        "id": "e3b41fd6",
        "colab": {
          "base_uri": "https://localhost:8080/"
        },
        "outputId": "1e664329-0d17-4453-cb70-3ff8233b299f"
      },
      "outputs": [
        {
          "output_type": "stream",
          "name": "stdout",
          "text": [
            "intra.h\n",
            "define.h\n"
          ]
        }
      ],
      "source": [
        "list1 = ['intra.h', 'intra.c', 'define.h', 'run.py']\n",
        "\n",
        "for item in list1:\n",
        "  new_item = item.split(\".\")\n",
        "  if new_item[1] == \"h\":\n",
        "    print(item)"
      ],
      "id": "e3b41fd6"
    },
    {
      "cell_type": "markdown",
      "metadata": {
        "id": "bf25da9c"
      },
      "source": [
        "#### 160. 파일 이름이 저장된 리스트에서 확장자가 .h나 .c인 파일을 화면에 출력하라.\n",
        "\n",
        "- 리스트 = ['intra.h', 'intra.c', 'define.h', 'run.py']\n",
        "- intra.h\n",
        "- intra.c\n",
        "- define.h"
      ],
      "id": "bf25da9c"
    },
    {
      "cell_type": "code",
      "execution_count": 173,
      "metadata": {
        "id": "7f7ef42f",
        "colab": {
          "base_uri": "https://localhost:8080/"
        },
        "outputId": "c82b55e3-f762-42ea-e899-649dad903cf4"
      },
      "outputs": [
        {
          "output_type": "stream",
          "name": "stdout",
          "text": [
            "intra.h\n",
            "intra.c\n",
            "define.h\n"
          ]
        }
      ],
      "source": [
        "list1 = ['intra.h', 'intra.c', 'define.h', 'run.py']\n",
        "\n",
        "for item in list1:\n",
        "  new_item = item.split(\".\")\n",
        "  if new_item[1] == \"h\":\n",
        "    print(item)\n",
        "  elif new_item[1] == \"c\":\n",
        "    print(item)"
      ],
      "id": "7f7ef42f"
    },
    {
      "cell_type": "markdown",
      "metadata": {
        "id": "1aa31940"
      },
      "source": [
        "#### 161. for문과 range 구문을 사용해서 0~99까지 한 라인에 하나씩 순차적으로 출력하는 프로그램을 작성하라."
      ],
      "id": "1aa31940"
    },
    {
      "cell_type": "code",
      "execution_count": 130,
      "metadata": {
        "id": "c847950a",
        "colab": {
          "base_uri": "https://localhost:8080/"
        },
        "outputId": "847b6800-b2a0-4df7-9b8a-71de21646575"
      },
      "outputs": [
        {
          "output_type": "stream",
          "name": "stdout",
          "text": [
            "0\n",
            "1\n",
            "2\n",
            "3\n",
            "4\n",
            "5\n",
            "6\n",
            "7\n",
            "8\n",
            "9\n",
            "10\n",
            "11\n",
            "12\n",
            "13\n",
            "14\n",
            "15\n",
            "16\n",
            "17\n",
            "18\n",
            "19\n",
            "20\n",
            "21\n",
            "22\n",
            "23\n",
            "24\n",
            "25\n",
            "26\n",
            "27\n",
            "28\n",
            "29\n",
            "30\n",
            "31\n",
            "32\n",
            "33\n",
            "34\n",
            "35\n",
            "36\n",
            "37\n",
            "38\n",
            "39\n",
            "40\n",
            "41\n",
            "42\n",
            "43\n",
            "44\n",
            "45\n",
            "46\n",
            "47\n",
            "48\n",
            "49\n",
            "50\n",
            "51\n",
            "52\n",
            "53\n",
            "54\n",
            "55\n",
            "56\n",
            "57\n",
            "58\n",
            "59\n",
            "60\n",
            "61\n",
            "62\n",
            "63\n",
            "64\n",
            "65\n",
            "66\n",
            "67\n",
            "68\n",
            "69\n",
            "70\n",
            "71\n",
            "72\n",
            "73\n",
            "74\n",
            "75\n",
            "76\n",
            "77\n",
            "78\n",
            "79\n",
            "80\n",
            "81\n",
            "82\n",
            "83\n",
            "84\n",
            "85\n",
            "86\n",
            "87\n",
            "88\n",
            "89\n",
            "90\n",
            "91\n",
            "92\n",
            "93\n",
            "94\n",
            "95\n",
            "96\n",
            "97\n",
            "98\n",
            "99\n"
          ]
        }
      ],
      "source": [
        "for i in range(100):\n",
        "  print(i)"
      ],
      "id": "c847950a"
    },
    {
      "cell_type": "markdown",
      "metadata": {
        "id": "cebd33a9"
      },
      "source": [
        "#### 162. 월드컵은 4년에 한 번 개최된다. range()를 사용하여 2002~2050년까지 중 월드컵이 개최되는 연도를 출력하라.\n",
        "\n",
        "- 2002\n",
        "- 2006\n",
        "- 2010\n",
        "- ...\n",
        "- 2042\n",
        "- 2046\n",
        "- 2050\n",
        "- 참고) range의 세번 째 파라미터는 증감폭을 결정합니다.\n",
        "\n",
        "> print(list(range(0, 10, 2)))\n",
        "\n",
        "> [0, 2, 4, 6, 8]"
      ],
      "id": "cebd33a9"
    },
    {
      "cell_type": "code",
      "execution_count": 131,
      "metadata": {
        "id": "c0b232db",
        "colab": {
          "base_uri": "https://localhost:8080/"
        },
        "outputId": "c41f0bc9-69a9-4575-b2de-79915e7cb7b9"
      },
      "outputs": [
        {
          "output_type": "stream",
          "name": "stdout",
          "text": [
            "2002\n",
            "2006\n",
            "2010\n",
            "2014\n",
            "2018\n",
            "2022\n",
            "2026\n",
            "2030\n",
            "2034\n",
            "2038\n",
            "2042\n",
            "2046\n",
            "2050\n"
          ]
        }
      ],
      "source": [
        "for worldcup_year in range (2002, 2051, 4):\n",
        "  print(worldcup_year)"
      ],
      "id": "c0b232db"
    },
    {
      "cell_type": "markdown",
      "metadata": {
        "id": "748d0002"
      },
      "source": [
        "#### 163. 1부터 30까지의 숫자 중 3의 배수를 출력하라.\n",
        "\n",
        "- 3\n",
        "- 6\n",
        "- 9\n",
        "- 12\n",
        "- 15\n",
        "- 18\n",
        "- 21\n",
        "- 24\n",
        "- 27\n",
        "- 30"
      ],
      "id": "748d0002"
    },
    {
      "cell_type": "code",
      "execution_count": 132,
      "metadata": {
        "id": "64696ec6",
        "colab": {
          "base_uri": "https://localhost:8080/"
        },
        "outputId": "98e71589-9c99-4f08-8f37-81dcf08c6dc8"
      },
      "outputs": [
        {
          "output_type": "stream",
          "name": "stdout",
          "text": [
            "3\n",
            "6\n",
            "9\n",
            "12\n",
            "15\n",
            "18\n",
            "21\n",
            "24\n",
            "27\n",
            "30\n"
          ]
        }
      ],
      "source": [
        "for i in range (0, 31, 3):\n",
        "  if i == 0:\n",
        "    pass\n",
        "  else:\n",
        "    print(i)"
      ],
      "id": "64696ec6"
    },
    {
      "cell_type": "markdown",
      "metadata": {
        "id": "e667b49d"
      },
      "source": [
        "#### 164. 99부터 0까지 1씩 감소하는 숫자들을, 한 라인에 하나씩 출력하라."
      ],
      "id": "e667b49d"
    },
    {
      "cell_type": "code",
      "execution_count": 133,
      "metadata": {
        "id": "f9fffc8e",
        "colab": {
          "base_uri": "https://localhost:8080/"
        },
        "outputId": "b613a5ac-3605-474e-f676-4b5bc5c8789c"
      },
      "outputs": [
        {
          "output_type": "stream",
          "name": "stdout",
          "text": [
            "99\n",
            "98\n",
            "97\n",
            "96\n",
            "95\n",
            "94\n",
            "93\n",
            "92\n",
            "91\n",
            "90\n",
            "89\n",
            "88\n",
            "87\n",
            "86\n",
            "85\n",
            "84\n",
            "83\n",
            "82\n",
            "81\n",
            "80\n",
            "79\n",
            "78\n",
            "77\n",
            "76\n",
            "75\n",
            "74\n",
            "73\n",
            "72\n",
            "71\n",
            "70\n",
            "69\n",
            "68\n",
            "67\n",
            "66\n",
            "65\n",
            "64\n",
            "63\n",
            "62\n",
            "61\n",
            "60\n",
            "59\n",
            "58\n",
            "57\n",
            "56\n",
            "55\n",
            "54\n",
            "53\n",
            "52\n",
            "51\n",
            "50\n",
            "49\n",
            "48\n",
            "47\n",
            "46\n",
            "45\n",
            "44\n",
            "43\n",
            "42\n",
            "41\n",
            "40\n",
            "39\n",
            "38\n",
            "37\n",
            "36\n",
            "35\n",
            "34\n",
            "33\n",
            "32\n",
            "31\n",
            "30\n",
            "29\n",
            "28\n",
            "27\n",
            "26\n",
            "25\n",
            "24\n",
            "23\n",
            "22\n",
            "21\n",
            "20\n",
            "19\n",
            "18\n",
            "17\n",
            "16\n",
            "15\n",
            "14\n",
            "13\n",
            "12\n",
            "11\n",
            "10\n",
            "9\n",
            "8\n",
            "7\n",
            "6\n",
            "5\n",
            "4\n",
            "3\n",
            "2\n",
            "1\n",
            "0\n"
          ]
        }
      ],
      "source": [
        "for i in range(100):\n",
        "    print(99 - i)"
      ],
      "id": "f9fffc8e"
    },
    {
      "cell_type": "markdown",
      "metadata": {
        "id": "1b5d6c3d"
      },
      "source": [
        "#### 165. for문을 사용해서 아래와 같이 출력하라.\n",
        "\n",
        "- 0.0\n",
        "- 0.1\n",
        "- 0.2\n",
        "- 0.3\n",
        "- 0.4\n",
        "- 0.5\n",
        "- ...\n",
        "- 0.9"
      ],
      "id": "1b5d6c3d"
    },
    {
      "cell_type": "code",
      "execution_count": 134,
      "metadata": {
        "id": "e98653f0",
        "colab": {
          "base_uri": "https://localhost:8080/"
        },
        "outputId": "5045436b-2b5a-4ee2-f511-330210430058"
      },
      "outputs": [
        {
          "output_type": "stream",
          "name": "stdout",
          "text": [
            "0.0\n",
            "0.1\n",
            "0.2\n",
            "0.3\n",
            "0.4\n",
            "0.5\n",
            "0.6\n",
            "0.7\n",
            "0.8\n",
            "0.9\n"
          ]
        }
      ],
      "source": [
        "for num in range(10) :\n",
        "    print(num / 10)"
      ],
      "id": "e98653f0"
    },
    {
      "cell_type": "markdown",
      "metadata": {
        "id": "c04f2f1e"
      },
      "source": [
        "#### 166. 구구단 3단을 출력하라.\n",
        "\n",
        "- 3x1 = 3\n",
        "- 3x2 = 6\n",
        "- 3x3 = 9\n",
        "- 3x4 = 12\n",
        "- 3x5 = 15\n",
        "- 3x6 = 18\n",
        "- 3x7 = 21\n",
        "- 3x8 = 24\n",
        "- 3x9 = 27"
      ],
      "id": "c04f2f1e"
    },
    {
      "cell_type": "code",
      "execution_count": 135,
      "metadata": {
        "id": "2d7b8626",
        "colab": {
          "base_uri": "https://localhost:8080/"
        },
        "outputId": "51f19fa4-fce3-49da-9f9b-d1c18c4582dc"
      },
      "outputs": [
        {
          "output_type": "stream",
          "name": "stdout",
          "text": [
            "3 x 1  =  3\n",
            "3 x 2  =  6\n",
            "3 x 3  =  9\n",
            "3 x 4  =  12\n",
            "3 x 5  =  15\n",
            "3 x 6  =  18\n",
            "3 x 7  =  21\n",
            "3 x 8  =  24\n",
            "3 x 9  =  27\n"
          ]
        }
      ],
      "source": [
        "for i in range(1, 10):\n",
        "  print(\"3 x\", i, \" = \", 3 * i)"
      ],
      "id": "2d7b8626"
    },
    {
      "cell_type": "markdown",
      "metadata": {
        "id": "agAYsd_hLngW"
      },
      "source": [
        "#### 167. 구구단 3단을 출력하라. 단 홀수 번째만 출력한다.\n",
        "\n",
        "- 3x1 = 3\n",
        "- 3x3 = 9\n",
        "- 3x5 = 15\n",
        "- 3x7 = 21\n",
        "- 3x9 = 27"
      ],
      "id": "agAYsd_hLngW"
    },
    {
      "cell_type": "code",
      "execution_count": 136,
      "metadata": {
        "colab": {
          "base_uri": "https://localhost:8080/"
        },
        "outputId": "57bb2ed5-ecac-4c26-d584-abd7e6fec07d",
        "id": "vtYnnrEJLngW"
      },
      "outputs": [
        {
          "output_type": "stream",
          "name": "stdout",
          "text": [
            "3 x 1  =  3\n",
            "3 x 3  =  9\n",
            "3 x 5  =  15\n",
            "3 x 7  =  21\n",
            "3 x 9  =  27\n"
          ]
        }
      ],
      "source": [
        "for i in range(1, 10, 2):\n",
        "  print(\"3 x\", i, \" = \", 3 * i)"
      ],
      "id": "vtYnnrEJLngW"
    },
    {
      "cell_type": "markdown",
      "metadata": {
        "id": "8SRi6OnCLngW"
      },
      "source": [
        "#### 168. 1~10까지의 숫자에 대해 모두 더한 값을 출력하는 프로그램을 for 문을 사용하여 작성하라.\n",
        "\n",
        "- 합 : 55"
      ],
      "id": "8SRi6OnCLngW"
    },
    {
      "cell_type": "code",
      "execution_count": 137,
      "metadata": {
        "colab": {
          "base_uri": "https://localhost:8080/"
        },
        "outputId": "3c595a5d-c544-4f72-bdde-36a733839f84",
        "id": "QirvtishLngW"
      },
      "outputs": [
        {
          "output_type": "stream",
          "name": "stdout",
          "text": [
            "55\n"
          ]
        }
      ],
      "source": [
        "sum = 0\n",
        "for i in range(10):\n",
        "  i = i + 1\n",
        "  sum = sum + i\n",
        "print(sum)"
      ],
      "id": "QirvtishLngW"
    },
    {
      "cell_type": "markdown",
      "metadata": {
        "id": "Zw213_G_LngW"
      },
      "source": [
        "#### 169. 1~10까지의 숫자 중 모든 홀수의 합을 출력하는 프로그램을 for 문을 사용하여 작성하라.\n",
        "\n",
        "- 합: 25"
      ],
      "id": "Zw213_G_LngW"
    },
    {
      "cell_type": "code",
      "execution_count": 138,
      "metadata": {
        "colab": {
          "base_uri": "https://localhost:8080/"
        },
        "outputId": "46280d79-a09d-4e79-9ed6-ea4b32820df2",
        "id": "22WZkHh8LngW"
      },
      "outputs": [
        {
          "output_type": "stream",
          "name": "stdout",
          "text": [
            "25\n"
          ]
        }
      ],
      "source": [
        "sum = 0\n",
        "for i in range(0, 10, 2):\n",
        "  i = i + 1\n",
        "  sum = sum + i\n",
        "print(sum)"
      ],
      "id": "22WZkHh8LngW"
    },
    {
      "cell_type": "markdown",
      "metadata": {
        "id": "9Lp3fqLxLngW"
      },
      "source": [
        "#### 170. 1~10까지의 숫자를 모두 곱한 값을 출력하는 프로그램을 for 문을 사용하여 작성하라."
      ],
      "id": "9Lp3fqLxLngW"
    },
    {
      "cell_type": "code",
      "execution_count": 139,
      "metadata": {
        "colab": {
          "base_uri": "https://localhost:8080/"
        },
        "outputId": "ae6b83d7-7161-4919-b563-3232c8d95ac7",
        "id": "uRJMAEwGLngW"
      },
      "outputs": [
        {
          "output_type": "stream",
          "name": "stdout",
          "text": [
            "3628800\n",
            "3628800\n"
          ]
        }
      ],
      "source": [
        "multiply = 1\n",
        "for i in range(10):\n",
        "  i = i + 1\n",
        "  multiply = multiply * i\n",
        "\n",
        "print(multiply)\n",
        "\n",
        "\n",
        "print(1*2*3*4*5*6*7*8*9*10)"
      ],
      "id": "uRJMAEwGLngW"
    },
    {
      "cell_type": "markdown",
      "metadata": {
        "id": "e02bd495"
      },
      "source": [
        "#### 171. 아래와 같이 리스트의 데이터를 출력하라. 단, for문과 range문을 사용하라.\n",
        "\n",
        "- price_list = [32100, 32150, 32000, 32500]\n",
        "- 32100\n",
        "- 32150\n",
        "- 32000\n",
        "- 32500"
      ],
      "id": "e02bd495"
    },
    {
      "cell_type": "code",
      "execution_count": 140,
      "metadata": {
        "id": "c90d6bc9",
        "colab": {
          "base_uri": "https://localhost:8080/"
        },
        "outputId": "19f13cf2-48a9-4a06-c9c9-5ec44eb9e39a"
      },
      "outputs": [
        {
          "output_type": "stream",
          "name": "stdout",
          "text": [
            "32100\n",
            "32150\n",
            "32000\n",
            "32500\n"
          ]
        }
      ],
      "source": [
        "price_list = [32100, 32150, 32000, 32500]\n",
        "\n",
        "for price in range(len(price_list)):\n",
        "  print(price_list[price])"
      ],
      "id": "c90d6bc9"
    },
    {
      "cell_type": "markdown",
      "metadata": {
        "id": "2197e88f"
      },
      "source": [
        "#### 172. 아래와 같이 리스트의 데이터를 출력하라. 단, for문과 range문을 사용하라.\n",
        "\n",
        "- price_list = [32100, 32150, 32000, 32500]\n",
        "- 0 32100\n",
        "- 1 32150\n",
        "- 2 32000\n",
        "- 3 32500"
      ],
      "id": "2197e88f"
    },
    {
      "cell_type": "code",
      "execution_count": 141,
      "metadata": {
        "id": "b638072d",
        "colab": {
          "base_uri": "https://localhost:8080/"
        },
        "outputId": "52b1d2fc-c4e4-4f22-8287-0253be08c0dc"
      },
      "outputs": [
        {
          "output_type": "stream",
          "name": "stdout",
          "text": [
            "0 32100\n",
            "1 32150\n",
            "2 32000\n",
            "3 32500\n"
          ]
        }
      ],
      "source": [
        "price_list = [32100, 32150, 32000, 32500]\n",
        "\n",
        "for price in range(len(price_list)):\n",
        "  print(price, price_list[price])"
      ],
      "id": "b638072d"
    },
    {
      "cell_type": "markdown",
      "metadata": {
        "id": "5713c921"
      },
      "source": [
        "#### 173. 아래와 같이 리스트의 데이터를 출력하라. 단, for문과 range문을 사용하라.\n",
        "\n",
        "- price_list = [32100, 32150, 32000, 32500]\n",
        "- 3 32100\n",
        "- 2 32150\n",
        "- 1 32000\n",
        "- 0 32500"
      ],
      "id": "5713c921"
    },
    {
      "cell_type": "code",
      "execution_count": 142,
      "metadata": {
        "id": "d06ab794",
        "colab": {
          "base_uri": "https://localhost:8080/"
        },
        "outputId": "8ef682c5-ed80-4505-b669-02d4b18000d9"
      },
      "outputs": [
        {
          "output_type": "stream",
          "name": "stdout",
          "text": [
            "3 32500\n",
            "2 32000\n",
            "1 32150\n",
            "0 32100\n"
          ]
        }
      ],
      "source": [
        "price_list = [32100, 32150, 32000, 32500]\n",
        "\n",
        "for order in range(len(price_list)):\n",
        "  order = 3 - order\n",
        "  print(order, price_list[order])"
      ],
      "id": "d06ab794"
    },
    {
      "cell_type": "markdown",
      "metadata": {
        "id": "40721405"
      },
      "source": [
        "#### 174. 아래와 같이 리스트의 데이터를 출력하라. 단, for문과 range문을 사용하라.\n",
        "\n",
        "- price_list = [32100, 32150, 32000, 32500]\n",
        "- 100 32150\n",
        "- 110 32000\n",
        "- 120 32500"
      ],
      "id": "40721405"
    },
    {
      "cell_type": "code",
      "execution_count": 143,
      "metadata": {
        "id": "cc03f4f1",
        "colab": {
          "base_uri": "https://localhost:8080/"
        },
        "outputId": "ba3e5d2c-7ba4-435d-d861-f6b1c16a9084"
      },
      "outputs": [
        {
          "output_type": "stream",
          "name": "stdout",
          "text": [
            "100 32150\n",
            "110 32000\n",
            "120 32500\n"
          ]
        }
      ],
      "source": [
        "price_list = [32100, 32150, 32000, 32500]\n",
        "for i in range (1, len(price_list) ) :\n",
        "    print(100 + (i - 1) * 10, price_list[i])"
      ],
      "id": "cc03f4f1"
    },
    {
      "cell_type": "code",
      "source": [
        "for i in range(1, len(price_list)):\n",
        "  print(100 + (i - 1) * 10, price_list[i])"
      ],
      "metadata": {
        "colab": {
          "base_uri": "https://localhost:8080/"
        },
        "id": "pm2Z14EzKGL_",
        "outputId": "6d6a173b-e41d-4701-bda5-1847fade13ab"
      },
      "execution_count": 144,
      "outputs": [
        {
          "output_type": "stream",
          "name": "stdout",
          "text": [
            "100 32150\n",
            "110 32000\n",
            "120 32500\n"
          ]
        }
      ],
      "id": "pm2Z14EzKGL_"
    },
    {
      "cell_type": "markdown",
      "metadata": {
        "id": "1fc673a2"
      },
      "source": [
        "#### 175. my_list를 아래와 같이 출력하라.\n",
        "\n",
        "- my_list = [\"가\", \"나\", \"다\", \"라\"]\n",
        "- 가 나\n",
        "- 나 다\n",
        "- 다 라"
      ],
      "id": "1fc673a2"
    },
    {
      "cell_type": "code",
      "execution_count": 145,
      "metadata": {
        "id": "ef0bb735",
        "colab": {
          "base_uri": "https://localhost:8080/"
        },
        "outputId": "e29cf333-baf6-4079-a134-8b0c7ab3e44b"
      },
      "outputs": [
        {
          "output_type": "stream",
          "name": "stdout",
          "text": [
            "가 나\n",
            "나 다\n",
            "다 라\n"
          ]
        }
      ],
      "source": [
        "my_list = [\"가\", \"나\", \"다\", \"라\"]\n",
        "letter = \"\"\n",
        "for i in range(1, len(my_list)):\n",
        "  letter = my_list[i-1] + \" \" + my_list[i]\n",
        "  print(letter)\n"
      ],
      "id": "ef0bb735"
    },
    {
      "cell_type": "markdown",
      "metadata": {
        "id": "7f301e43"
      },
      "source": [
        "#### 176. 리스트를 아래와 같이 출력하라.\n",
        "\n",
        "- my_list = [\"가\", \"나\", \"다\", \"라\", \"마\"]\n",
        "- 가 나 다\n",
        "- 나 다 라\n",
        "- 다 라 마"
      ],
      "id": "7f301e43"
    },
    {
      "cell_type": "code",
      "execution_count": 149,
      "metadata": {
        "id": "e6aa9a67",
        "colab": {
          "base_uri": "https://localhost:8080/"
        },
        "outputId": "83856684-a1dd-4b3b-f9f6-8ffc2ec7def2"
      },
      "outputs": [
        {
          "output_type": "stream",
          "name": "stdout",
          "text": [
            "가 나 다\n",
            "나 다 라\n",
            "다 라 마\n"
          ]
        }
      ],
      "source": [
        "my_list = [\"가\", \"나\", \"다\", \"라\", \"마\"]\n",
        "\n",
        "letter  = \"\"\n",
        "\n",
        "for i in range(2, len(my_list)):\n",
        "  letter = my_list[i-2] + \" \" + my_list[i-1] + \" \" + my_list[i]\n",
        "  print(letter)"
      ],
      "id": "e6aa9a67"
    },
    {
      "cell_type": "markdown",
      "metadata": {
        "id": "26940800"
      },
      "source": [
        "#### 177. 복문과 range 함수를 사용해서 my_list를 아래와 같이 출력하라.\n",
        "\n",
        "- my_list = [\"가\", \"나\", \"다\", \"라\"]\n",
        "- 라 다\n",
        "- 다 나\n",
        "- 나 가"
      ],
      "id": "26940800"
    },
    {
      "cell_type": "code",
      "execution_count": 177,
      "metadata": {
        "id": "eadc51c6",
        "colab": {
          "base_uri": "https://localhost:8080/"
        },
        "outputId": "8c365266-1fb5-4a4b-ac72-36cd9cb0b736"
      },
      "outputs": [
        {
          "output_type": "stream",
          "name": "stdout",
          "text": [
            "라 다\n",
            "다 나\n",
            "나 가\n"
          ]
        }
      ],
      "source": [
        "my_list = [\"가\", \"나\", \"다\", \"라\"]\n",
        "letter = \"\"\n",
        "\n",
        "for i in range(len(my_list)-1, 0, -1):\n",
        "  letter = my_list[i] + \" \" + my_list[i-1]\n",
        "  print(letter)\n"
      ],
      "id": "eadc51c6"
    },
    {
      "cell_type": "markdown",
      "metadata": {
        "id": "81013de2"
      },
      "source": [
        "#### 178. 리스트에는 네 개의 정수가 저장되어 있다. 각각의 데이터에 대해서 자신과 우측값과의 차분값을 화면에 출력하라.\n",
        "\n",
        "- my_list = [100, 200, 400, 800]\n",
        "- 예를들어 100을 기준으로 우측에 위치한 200과의 차분 값를 화면에 출력하고, 200을 기준으로 우측에 위치한 400과의 차분값을 화면에 출력한다. 이어서 400을 기준으로 우측에 위치한 800과의 차분값을 화면에 출력한다.\n",
        "\n",
        "- 100\n",
        "- 200\n",
        "- 400"
      ],
      "id": "81013de2"
    },
    {
      "cell_type": "code",
      "execution_count": 179,
      "metadata": {
        "id": "ccdaa311",
        "colab": {
          "base_uri": "https://localhost:8080/"
        },
        "outputId": "c0fd943b-d3c4-4daf-81ee-58f66b1dca6a"
      },
      "outputs": [
        {
          "output_type": "stream",
          "name": "stdout",
          "text": [
            "100\n",
            "200\n",
            "400\n"
          ]
        }
      ],
      "source": [
        "my_list = [100, 200, 400, 800]\n",
        "\n",
        "for i in range(1, len(my_list)):\n",
        "  minus_v = my_list[i] - my_list[i-1]\n",
        "  print(minus_v)"
      ],
      "id": "ccdaa311"
    },
    {
      "cell_type": "markdown",
      "metadata": {
        "id": "1cb3d280"
      },
      "source": [
        "#### 179. 리스트에는 6일 간의 종가 데이터가 저장되어 있다. 종가 데이터의 3일 이동 평균을 계산하고 이를 화면에 출력하라.\n",
        "\n",
        "- my_list = [100, 200, 400, 800, 1000, 1300]\n",
        "- 첫 번째 줄에는 100, 200, 400의 평균값이 출력된다. 두 번째 줄에는 200, 400, 800의 평균값이 출력된다. 같은 방식으로 나머지 데이터의 평균을 출력한다.\n",
        "\n",
        "- 233.33333333333334\n",
        "- 466.6666666666667\n",
        "- 733.3333333333334\n",
        "- 1033.3333333333333"
      ],
      "id": "1cb3d280"
    },
    {
      "cell_type": "code",
      "execution_count": 186,
      "metadata": {
        "id": "803a1bdc",
        "colab": {
          "base_uri": "https://localhost:8080/"
        },
        "outputId": "457acc57-c9bd-4f8b-976d-9aa4ce40e9d1"
      },
      "outputs": [
        {
          "output_type": "stream",
          "name": "stdout",
          "text": [
            "233.33333333333334\n",
            "466.6666666666667\n",
            "733.3333333333334\n",
            "1033.3333333333333\n"
          ]
        }
      ],
      "source": [
        "my_list = [100, 200, 400, 800, 1000, 1300]\n",
        "\n",
        "for i in range(2, len(my_list)):\n",
        "  avr = (my_list[i-2] + my_list[i-1] + my_list[i]) / 3\n",
        "  print(avr)"
      ],
      "id": "803a1bdc"
    },
    {
      "cell_type": "markdown",
      "metadata": {
        "id": "1f897e74"
      },
      "source": [
        "#### 180. 리스트에 5일간의 저가, 고가 정보가 저장돼 있다. 고가와 저가의 차를 변동폭이라고 정의할 때, low, high 두 개의 리스트를 사용해서 5일간의 변동폭을 volatility 리스트에 저장하라.\n",
        "\n",
        "- low_prices  = [100, 200, 400, 800, 1000]\n",
        "- high_prices = [150, 300, 430, 880, 1000]"
      ],
      "id": "1f897e74"
    },
    {
      "cell_type": "code",
      "execution_count": 195,
      "metadata": {
        "id": "b62fb738",
        "colab": {
          "base_uri": "https://localhost:8080/"
        },
        "outputId": "d297f293-8a88-4942-bfe9-c469faa32280"
      },
      "outputs": [
        {
          "output_type": "stream",
          "name": "stdout",
          "text": [
            "[50, 100, 30, 80, 0]\n",
            "[50, 100, 30, 80, 0]\n"
          ]
        }
      ],
      "source": [
        "low_prices = [100, 200, 400, 800, 1000]\n",
        "high_prices = [150, 300, 430, 880, 1000]\n",
        "\n",
        "volatility = []\n",
        "for low, high in zip(low_prices, high_prices):\n",
        "  volatility.append(abs(low-high))\n",
        "print(volatility)\n",
        "\n",
        "\n",
        "volatility = []\n",
        "for i in range(len(low_prices)) :\n",
        "    volatility.append(high_prices[i] - low_prices[i])\n",
        "print(volatility)"
      ],
      "id": "b62fb738"
    },
    {
      "cell_type": "markdown",
      "metadata": {
        "id": "169d15f1"
      },
      "source": [
        "#### 181. 아래 표에서 하나의 행을 하나의 리스트로, 총 3개의 리스트를 갖는 이차원 리스트 apart를 정의하라.\n",
        "\n",
        "- 101호 |\t102호\n",
        "- 201호 |\t202호\n",
        "- 301호 |\t302호"
      ],
      "id": "169d15f1"
    },
    {
      "cell_type": "code",
      "execution_count": 197,
      "metadata": {
        "id": "662fb84e"
      },
      "outputs": [],
      "source": [
        "apart = [[\"101호\", \"102호\"], [\"201호\", \"202호\"], [\"301호\", \"302호\"]]"
      ],
      "id": "662fb84e"
    },
    {
      "cell_type": "markdown",
      "metadata": {
        "id": "7f0000bf"
      },
      "source": [
        "#### 182. 아래 표에서 하나의 열을 하나의 리스트로, 총 2개의 리스트를 갖는 이차원 리스트 stock을 정의하라.\n",
        "\n",
        "- 시가\t종가\n",
        "- 100\t80\n",
        "- 200\t210\n",
        "- 300\t330"
      ],
      "id": "7f0000bf"
    },
    {
      "cell_type": "code",
      "execution_count": 196,
      "metadata": {
        "id": "fe0d2a57"
      },
      "outputs": [],
      "source": [
        "stock = [[\"시가\", 100, 200, 300], [\"종가\", 80, 210, 330]]"
      ],
      "id": "fe0d2a57"
    },
    {
      "cell_type": "markdown",
      "metadata": {
        "id": "f5a295d6"
      },
      "source": [
        "#### 183. 아래 표를 stock 이름의 딕셔너리로 표현하라.시가를 key로 저장하고, 나머지 같은 열의 데이터를 리스트로 저장해서 value로 저장한다. 종가 역시 key로 저장하고 나머지 같은 열의 데이터를 리스트로 저장해서 value로 저장한다.\n",
        "\n",
        "- 시가\t종가\n",
        "- 100\t80\n",
        "- 200\t210\n",
        "- 300\t330"
      ],
      "id": "f5a295d6"
    },
    {
      "cell_type": "code",
      "execution_count": 199,
      "metadata": {
        "id": "411af977"
      },
      "outputs": [],
      "source": [
        "stock = {\"시가\": [100, 200, 300],\n",
        "         \"종가\": [80, 210, 330]}"
      ],
      "id": "411af977"
    },
    {
      "cell_type": "markdown",
      "metadata": {
        "id": "b2161b30"
      },
      "source": [
        "#### 184. 아래 표를 stock 이라는 이름의 딕셔너리로 표현하라. 날짜를 key로 저장하고, 나머지 같은 행의 데이터를 리스트로 저장해서 value로 저장한다. 첫 열이 날짜이다.\n",
        "\n",
        "- 10/10\t80\t110\t70\t90\n",
        "- 10/11\t210\t230\t190\t200"
      ],
      "id": "b2161b30"
    },
    {
      "cell_type": "code",
      "execution_count": 200,
      "metadata": {
        "id": "f7241bed"
      },
      "outputs": [],
      "source": [
        "stock = {\"10/10\": [80, 110, 70, 90],\n",
        "         \"10/11\": [210, 230, 190, 200]}"
      ],
      "id": "f7241bed"
    },
    {
      "cell_type": "markdown",
      "metadata": {
        "id": "9a9134f3"
      },
      "source": [
        "#### 185. 리스트에 저장된 데이터를 아래와 같이 출력하라.\n",
        "\n",
        "- apart = [ [101, 102], [201, 202], [301, 302] ]\n",
        "- 101 호\n",
        "- 102 호\n",
        "- 201 호\n",
        "- 202 호\n",
        "- 301 호\n",
        "- 302 호"
      ],
      "id": "9a9134f3"
    },
    {
      "cell_type": "code",
      "execution_count": 209,
      "metadata": {
        "id": "5f20e71f",
        "colab": {
          "base_uri": "https://localhost:8080/"
        },
        "outputId": "812ee9a1-53ac-4ef7-ca95-1e2a29ff5be2"
      },
      "outputs": [
        {
          "output_type": "stream",
          "name": "stdout",
          "text": [
            "101 호\n",
            "102 호\n",
            "201 호\n",
            "202 호\n",
            "301 호\n",
            "302 호\n"
          ]
        }
      ],
      "source": [
        "apart = [ [101, 102], [201, 202], [301, 302] ]\n",
        "\n",
        "for row in apart:\n",
        "    for col in row:\n",
        "        print(col, \"호\")\n"
      ],
      "id": "5f20e71f"
    },
    {
      "cell_type": "markdown",
      "metadata": {
        "id": "5319e3ac"
      },
      "source": [
        "#### 186. 리스트에 저장된 데이터를 아래와 같이 출력하라.\n",
        "\n",
        "- apart = [ [101, 102], [201, 202], [301, 302] ]\n",
        "- 301 호\n",
        "- 302 호\n",
        "- 201 호\n",
        "- 202 호\n",
        "- 101 호\n",
        "- 102 호"
      ],
      "id": "5319e3ac"
    },
    {
      "cell_type": "code",
      "execution_count": 214,
      "metadata": {
        "id": "2e8ba2f4",
        "colab": {
          "base_uri": "https://localhost:8080/"
        },
        "outputId": "8d747bc5-a660-4cbd-b2a5-e86d4dddcba4"
      },
      "outputs": [
        {
          "output_type": "stream",
          "name": "stdout",
          "text": [
            "301 호\n",
            "302 호\n",
            "201 호\n",
            "202 호\n",
            "101 호\n",
            "102 호\n"
          ]
        }
      ],
      "source": [
        "apart = [ [101, 102], [201, 202], [301, 302] ]\n",
        "\n",
        "for row in apart[::-1]:\n",
        "  for col in row:\n",
        "    print(col, \"호\")"
      ],
      "id": "2e8ba2f4"
    },
    {
      "cell_type": "markdown",
      "metadata": {
        "id": "af928ed3"
      },
      "source": [
        "#### 187. 리스트에 저장된 데이터를 아래와 같이 출력하라.\n",
        "\n",
        "- apart = [ [101, 102], [201, 202], [301, 302] ]\n",
        "- 302 호\n",
        "- 301 호\n",
        "- 202 호\n",
        "- 201 호\n",
        "- 102 호\n",
        "- 101 호"
      ],
      "id": "af928ed3"
    },
    {
      "cell_type": "code",
      "execution_count": 215,
      "metadata": {
        "id": "76e2a383",
        "colab": {
          "base_uri": "https://localhost:8080/"
        },
        "outputId": "058117ae-d118-430c-8673-fd1dc79606d0"
      },
      "outputs": [
        {
          "output_type": "stream",
          "name": "stdout",
          "text": [
            "302 호\n",
            "301 호\n",
            "202 호\n",
            "201 호\n",
            "102 호\n",
            "101 호\n"
          ]
        }
      ],
      "source": [
        "apart = [ [101, 102], [201, 202], [301, 302] ]\n",
        "\n",
        "for row in apart[::-1]:\n",
        "  for col in row[::-1]:\n",
        "    print(col, \"호\")"
      ],
      "id": "76e2a383"
    },
    {
      "cell_type": "markdown",
      "metadata": {
        "id": "1a507329"
      },
      "source": [
        "#### 188. 리스트에 저장된 데이터를 아래와 같이 출력하라.\n",
        "\n",
        "- apart = [ [101, 102], [201, 202], [301, 302] ]\n",
        "- 101 호\n",
        "- -----\n",
        "- 102 호\n",
        "- -----\n",
        "- 201 호\n",
        "- -----\n",
        "- 202 호\n",
        "- -----\n",
        "- 301 호\n",
        "- -----\n",
        "- 302 호\n",
        "- -----"
      ],
      "id": "1a507329"
    },
    {
      "cell_type": "code",
      "execution_count": 217,
      "metadata": {
        "id": "58f92f6b",
        "colab": {
          "base_uri": "https://localhost:8080/"
        },
        "outputId": "9a303000-b9e1-47cb-de5d-29c946ae4a5e"
      },
      "outputs": [
        {
          "output_type": "stream",
          "name": "stdout",
          "text": [
            "101 호\n",
            "------\n",
            "102 호\n",
            "------\n",
            "201 호\n",
            "------\n",
            "202 호\n",
            "------\n",
            "301 호\n",
            "------\n",
            "302 호\n",
            "------\n"
          ]
        }
      ],
      "source": [
        "apart = [ [101, 102], [201, 202], [301, 302] ]\n",
        "\n",
        "for row in apart:\n",
        "    for col in row:\n",
        "        print(col, \"호\")\n",
        "        print(\"------\")\n",
        "        # print(\"-\" * 5)\n"
      ],
      "id": "58f92f6b"
    },
    {
      "cell_type": "markdown",
      "metadata": {
        "id": "33b97b65"
      },
      "source": [
        "#### 189. 리스트에 저장된 데이터를 아래와 같이 출력하라.\n",
        "\n",
        "- apart = [ [101, 102], [201, 202], [301, 302] ]\n",
        "- 101 호\n",
        "- 102 호\n",
        "- -----\n",
        "- 201 호\n",
        "- 202 호\n",
        "- -----\n",
        "- 301 호\n",
        "- 302 호\n",
        "- -----"
      ],
      "id": "33b97b65"
    },
    {
      "cell_type": "code",
      "execution_count": 218,
      "metadata": {
        "id": "db4128f5",
        "colab": {
          "base_uri": "https://localhost:8080/"
        },
        "outputId": "e01dddbd-c041-499a-f914-5b209e19e752"
      },
      "outputs": [
        {
          "output_type": "stream",
          "name": "stdout",
          "text": [
            "101 호\n",
            "102 호\n",
            "-----\n",
            "201 호\n",
            "202 호\n",
            "-----\n",
            "301 호\n",
            "302 호\n",
            "-----\n"
          ]
        }
      ],
      "source": [
        "apart = [ [101, 102], [201, 202], [301, 302] ]\n",
        "\n",
        "for row in apart:\n",
        "    for col in row:\n",
        "        print(col, \"호\")\n",
        "\n",
        "    print(\"-\" * 5)\n"
      ],
      "id": "db4128f5"
    },
    {
      "cell_type": "markdown",
      "metadata": {
        "id": "792ddcf0"
      },
      "source": [
        "#### 190. 리스트에 저장된 데이터를 아래와 같이 출력하라.\n",
        "\n",
        "- apart = [ [101, 102], [201, 202], [301, 302] ]\n",
        "- 101 호\n",
        "- 102 호\n",
        "- 201 호\n",
        "- 202 호\n",
        "- 301 호\n",
        "- 302 호\n",
        "- -----"
      ],
      "id": "792ddcf0"
    },
    {
      "cell_type": "code",
      "execution_count": 219,
      "metadata": {
        "id": "e9454246",
        "colab": {
          "base_uri": "https://localhost:8080/"
        },
        "outputId": "61f7cfa6-8d88-40a3-ca80-09de012341fd"
      },
      "outputs": [
        {
          "output_type": "stream",
          "name": "stdout",
          "text": [
            "101 호\n",
            "102 호\n",
            "201 호\n",
            "202 호\n",
            "301 호\n",
            "302 호\n",
            "-----\n"
          ]
        }
      ],
      "source": [
        "for row in apart:\n",
        "    for col in row:\n",
        "        print(col, \"호\")\n",
        "\n",
        "print(\"-\" * 5)"
      ],
      "id": "e9454246"
    },
    {
      "cell_type": "markdown",
      "metadata": {
        "id": "d13728e8"
      },
      "source": [
        "#### 191. data에는 매수한 종목들의 OHLC (open/high/low/close) 가격 정보가 바인딩 되어있다.\n",
        "\n",
        "data = [\n",
        "    [ 2000,  3050,  2050,  1980],\n",
        "    [ 7500,  2050,  2050,  1980],\n",
        "    [15450, 15050, 15550, 14900]\n",
        "]\n",
        "#### 수수료를 0.014 %로 가정할 때, 각 가격에 수수료를 포함한 가격을 한라인에 하나씩 출력하라.\n",
        "\n",
        "- 2000.28\n",
        "- 3050.427\n",
        "- 2050.2870000000003\n",
        "- ..."
      ],
      "id": "d13728e8"
    },
    {
      "cell_type": "code",
      "execution_count": 221,
      "metadata": {
        "id": "013ee1e4",
        "colab": {
          "base_uri": "https://localhost:8080/"
        },
        "outputId": "0d1fc5f7-b4ff-453b-d129-85a9c1ed304e"
      },
      "outputs": [
        {
          "output_type": "stream",
          "name": "stdout",
          "text": [
            "2000.28\n",
            "3050.427\n",
            "2050.2870000000003\n",
            "1980.2772\n",
            "7501.05\n",
            "2050.2870000000003\n",
            "2050.2870000000003\n",
            "1980.2772\n",
            "15452.163\n",
            "15052.107\n",
            "15552.177\n",
            "14902.086000000001\n"
          ]
        }
      ],
      "source": [
        "data = [[2000, 3050, 2050, 1980],\n",
        "        [7500, 2050, 2050, 1980],\n",
        "        [15450, 15050, 15550, 14900]]\n",
        "\n",
        "\n",
        "for row in data:\n",
        "  for col in row:\n",
        "    print(col * 1.00014)"
      ],
      "id": "013ee1e4"
    },
    {
      "cell_type": "markdown",
      "metadata": {
        "id": "dd638bd5"
      },
      "source": [
        "#### 192. 191번의 출력 결과에 행단위로 \"----\" 구분자를 추가하라.\n",
        "\n",
        "- 2000.28\n",
        "- 3050.427\n",
        "- 2050.2870000000003\n",
        "- 1980.2772\n",
        "- ----\n",
        "- 7501.05\n",
        "- 2050.2870000000003\n",
        "- 2050.2870000000003\n",
        "- 1980.2772\n",
        "- ----\n",
        "- 15452.163\n",
        "- 15052.107\n",
        "- 15552.177\n",
        "- 14902.086000000001\n",
        "- ----"
      ],
      "id": "dd638bd5"
    },
    {
      "cell_type": "code",
      "execution_count": 223,
      "metadata": {
        "id": "d998d2c1",
        "colab": {
          "base_uri": "https://localhost:8080/"
        },
        "outputId": "30b2aeb4-da10-4cdd-bac6-a47296776146"
      },
      "outputs": [
        {
          "output_type": "stream",
          "name": "stdout",
          "text": [
            "2000.28\n",
            "3050.427\n",
            "2050.2870000000003\n",
            "1980.2772\n",
            "-----\n",
            "7501.05\n",
            "2050.2870000000003\n",
            "2050.2870000000003\n",
            "1980.2772\n",
            "-----\n",
            "15452.163\n",
            "15052.107\n",
            "15552.177\n",
            "14902.086000000001\n",
            "-----\n"
          ]
        }
      ],
      "source": [
        "for row in data:\n",
        "  for col in row:\n",
        "    print(col * 1.00014)\n",
        "  print(\"-\" * 5)"
      ],
      "id": "d998d2c1"
    },
    {
      "cell_type": "markdown",
      "metadata": {
        "id": "66407b9f"
      },
      "source": [
        "#### 193. 192 번 문제의 결과값을 result 이름의 리스트에 1차원 배열로 저장하라.\n",
        "\n",
        "> print(result)\n",
        "\n",
        "> [2000.28, 3050.427, 2050.2870000000003, 1980.2772, 7501.05, 2050.2870000000003, 2050.2870000000003, ...]"
      ],
      "id": "66407b9f"
    },
    {
      "cell_type": "code",
      "execution_count": 225,
      "metadata": {
        "id": "9d248f95",
        "colab": {
          "base_uri": "https://localhost:8080/"
        },
        "outputId": "d98fa004-c601-4dd0-be28-62b952c58ae0"
      },
      "outputs": [
        {
          "output_type": "stream",
          "name": "stdout",
          "text": [
            "[2000.28, 3050.427, 2050.2870000000003, 1980.2772, 7501.05, 2050.2870000000003, 2050.2870000000003, 1980.2772, 15452.163, 15052.107, 15552.177, 14902.086000000001]\n"
          ]
        }
      ],
      "source": [
        "result = []\n",
        "for row in data:\n",
        "  for col in row:\n",
        "    result.append(col * 1.00014)\n",
        "\n",
        "print(result)"
      ],
      "id": "9d248f95"
    },
    {
      "cell_type": "markdown",
      "metadata": {
        "id": "a939cda0"
      },
      "source": [
        "#### 194. 191번 문제의 결괏값을 result 이름의 리스트에 2차원 배열로 저장하라. 저장 포맷은 아래와 같다. 각 행에 대한 데이터끼리 리스트에 저장되어야 한다.\n",
        "\n",
        "> print(result)\n",
        "- [\n",
        " [2000.28, 3050.427, 2050.2870000000003, 1980.2772],\n",
        " [7501.05, 2050.2870000000003, 2050.2870000000003, 1980.2772],\n",
        " [15452.163, 15052.107, 15552.177, 14902.086000000001]\n",
        "]"
      ],
      "id": "a939cda0"
    },
    {
      "cell_type": "code",
      "execution_count": 230,
      "metadata": {
        "id": "87879703",
        "colab": {
          "base_uri": "https://localhost:8080/"
        },
        "outputId": "33ee7e76-1ef4-45ce-f925-653876a66a08"
      },
      "outputs": [
        {
          "output_type": "stream",
          "name": "stdout",
          "text": [
            "[[2000.28, 3050.427, 2050.2870000000003, 1980.2772], [7501.05, 2050.2870000000003, 2050.2870000000003, 1980.2772], [15452.163, 15052.107, 15552.177, 14902.086000000001]]\n"
          ]
        }
      ],
      "source": [
        "result = []\n",
        "# sub = [] 여기다가 정의하면 이해 못하나봄; 이거 사용할 포문 바로 위에 정의해줘야 하나봄;\n",
        "for row in data:\n",
        "  sub = []\n",
        "  for col in row:\n",
        "    sub.append(col * 1.00014)\n",
        "  result.append(sub)\n",
        "print(result)\n",
        "\n"
      ],
      "id": "87879703"
    },
    {
      "cell_type": "markdown",
      "metadata": {
        "id": "0477f55f"
      },
      "source": [
        "#### 195. ohlc 리스트에는 시가(open), 고가 (high), 저가 (low) , 종가(close)가 날짜별로 저장돼 있다. 화면에 종가데이터를 출력하라.\n",
        "\n",
        "- ohlc = [[\"open\", \"high\", \"low\", \"close\"],\n",
        "        [100, 110, 70, 100],\n",
        "        [200, 210, 180, 190],\n",
        "        [300, 310, 300, 310]]\n",
        "- 100\n",
        "- 190\n",
        "- 310"
      ],
      "id": "0477f55f"
    },
    {
      "cell_type": "code",
      "execution_count": 233,
      "metadata": {
        "id": "d62d0c62",
        "colab": {
          "base_uri": "https://localhost:8080/"
        },
        "outputId": "fe0ec907-7d6f-4955-b3d7-3b1458f6b442"
      },
      "outputs": [
        {
          "output_type": "stream",
          "name": "stdout",
          "text": [
            "100\n",
            "190\n",
            "310\n"
          ]
        }
      ],
      "source": [
        "ohlc = [[\"open\", \"high\", \"low\", \"close\"],\n",
        "        [100, 110, 70, 100],\n",
        "        [200, 210, 180, 190],\n",
        "        [300, 310, 300, 310]]\n",
        "for row in ohlc[1:]:\n",
        "  print(row[3])\n"
      ],
      "id": "d62d0c62"
    },
    {
      "cell_type": "markdown",
      "metadata": {
        "id": "19d7d7f6"
      },
      "source": [
        "#### 196. ohlc 리스트에는 시가(open), 고가 (high), 저가 (low) , 종가(close)가 날짜별로 저장돼 있다. 종가가 150원보다 큰경우에만 종가를 출력하라.\n",
        "\n",
        "- ohlc = [[\"open\", \"high\", \"low\", \"close\"],\n",
        "        [100, 110, 70, 100],\n",
        "        [200, 210, 180, 190],\n",
        "        [300, 310, 300, 310]]\n",
        "- 190\n",
        "- 310"
      ],
      "id": "19d7d7f6"
    },
    {
      "cell_type": "code",
      "execution_count": 234,
      "metadata": {
        "id": "63acf167",
        "colab": {
          "base_uri": "https://localhost:8080/"
        },
        "outputId": "6863e970-38a2-4804-8c5e-9bb935cb91b9"
      },
      "outputs": [
        {
          "output_type": "stream",
          "name": "stdout",
          "text": [
            "190\n",
            "310\n"
          ]
        }
      ],
      "source": [
        "ohlc = [[\"open\", \"high\", \"low\", \"close\"],\n",
        "        [100, 110, 70, 100],\n",
        "        [200, 210, 180, 190],\n",
        "        [300, 310, 300, 310]]\n",
        "\n",
        "\n",
        "for row in ohlc[1:]:\n",
        "  if row[3] >= 150:\n",
        "    print(row[3])\n"
      ],
      "id": "63acf167"
    },
    {
      "cell_type": "markdown",
      "metadata": {
        "id": "4c367697"
      },
      "source": [
        "#### 197. ohlc 리스트에는 시가(open), 고가 (high), 저가 (low) , 종가(close)가 날짜별로 저장돼 있다. 종가가 시가 보다 크거나 같은 경우에만 종가를 출력하라.\n",
        "\n",
        "- ohlc = [[\"open\", \"high\", \"low\", \"close\"],\n",
        "        [100, 110, 70, 100],\n",
        "        [200, 210, 180, 190],\n",
        "        [300, 310, 300, 310]]\n",
        "- 100\n",
        "- 310"
      ],
      "id": "4c367697"
    },
    {
      "cell_type": "code",
      "execution_count": 235,
      "metadata": {
        "id": "94addac7",
        "colab": {
          "base_uri": "https://localhost:8080/"
        },
        "outputId": "d2486e7b-8c03-4eaf-901c-89f06eb64f15"
      },
      "outputs": [
        {
          "output_type": "stream",
          "name": "stdout",
          "text": [
            "100\n",
            "310\n"
          ]
        }
      ],
      "source": [
        "ohlc = [[\"open\", \"high\", \"low\", \"close\"],\n",
        "        [100, 110, 70, 100],\n",
        "        [200, 210, 180, 190],\n",
        "        [300, 310, 300, 310]]\n",
        "\n",
        "\n",
        "for row in ohlc[1:]:\n",
        "  if row[3] >= row[0]:\n",
        "    print(row[3])\n"
      ],
      "id": "94addac7"
    },
    {
      "cell_type": "markdown",
      "metadata": {
        "id": "98508056"
      },
      "source": [
        "#### 198. ohlc 리스트에는 시가(open), 고가 (high), 저가 (low) , 종가(close)가 날짜별로 저장돼 있다. 고가와 저가의 차이를 변동폭으로 정의할 때 변동폭을 volatility 이름의 리스트에 저장하라.\n",
        "\n",
        "> ohlc = [[\"open\", \"high\", \"low\", \"close\"],\n",
        "        [100, 110, 70, 100],\n",
        "        [200, 210, 180, 190],\n",
        "        [300, 310, 300, 310]]\n",
        "\n",
        "> print(volatility)\n",
        "\n",
        ">[40, 30, 10]"
      ],
      "id": "98508056"
    },
    {
      "cell_type": "code",
      "execution_count": 237,
      "metadata": {
        "id": "1d5b8bbc",
        "colab": {
          "base_uri": "https://localhost:8080/"
        },
        "outputId": "e4ce398b-30dd-414e-c927-fcf68215b33c"
      },
      "outputs": [
        {
          "output_type": "stream",
          "name": "stdout",
          "text": [
            "[40, 30, 10]\n"
          ]
        }
      ],
      "source": [
        "ohlc = [[\"open\", \"high\", \"low\", \"close\"],\n",
        "        [100, 110, 70, 100],\n",
        "        [200, 210, 180, 190],\n",
        "        [300, 310, 300, 310]]\n",
        "\n",
        "vol = []\n",
        "for row in ohlc[1:]:\n",
        "  vol.append(abs(row[1]-row[2]))\n",
        "print(vol)"
      ],
      "id": "1d5b8bbc"
    },
    {
      "cell_type": "markdown",
      "metadata": {
        "id": "4b51b8f4"
      },
      "source": [
        "#### 199. 리스트에는 3일 간의 ohlc 데이터가 저장돼 있다. 종가가 시가보다 높은 날의 변동성 (고가 - 저가)을 화면에 출력하라.\n",
        "\n",
        "- ohlc = [[\"open\", \"high\", \"low\", \"close\"],\n",
        "        [100, 110, 70, 100],\n",
        "        [200, 210, 180, 190],\n",
        "        [300, 310, 300, 310]]\n",
        "- 종가가 시가보다 높은 거래일의 OHLC는 [300, 310, 300, 310] 이다. 따라서 이 거래일의 변동성은 10 (310 - 300)이다.\n",
        "\n",
        "- 10"
      ],
      "id": "4b51b8f4"
    },
    {
      "cell_type": "code",
      "execution_count": 238,
      "metadata": {
        "id": "2ce59f13",
        "colab": {
          "base_uri": "https://localhost:8080/"
        },
        "outputId": "f096fb5a-219b-4f1f-f0ae-ace117c37f8b"
      },
      "outputs": [
        {
          "output_type": "stream",
          "name": "stdout",
          "text": [
            "10\n"
          ]
        }
      ],
      "source": [
        "ohlc = [[\"open\", \"high\", \"low\", \"close\"],\n",
        "        [100, 110, 70, 100],\n",
        "        [200, 210, 180, 190],\n",
        "        [300, 310, 300, 310]]\n",
        "\n",
        "\n",
        "for row in ohlc[1:]:\n",
        "  if row[3] > row[0]:\n",
        "    print(abs(row[1]-row[2]))"
      ],
      "id": "2ce59f13"
    },
    {
      "cell_type": "markdown",
      "metadata": {
        "id": "69b858b8"
      },
      "source": [
        "#### 200. 리스트에는 3일 간의 ohlc 데이터가 저장돼 있다. 시가에 매수해서 종가에 매도 했을 경우 총 수익금을 계산하라.\n",
        "\n",
        "- ohlc = [[\"open\", \"high\", \"low\", \"close\"],\n",
        "        [100, 110, 70, 100],\n",
        "        [200, 210, 180, 190],\n",
        "        [300, 310, 300, 310]]\n",
        "- 1일차 수익 0원 (100 - 100)\n",
        "- 2일차 수익 -10원 (190 - 200)\n",
        "- 3일차 수익 10원 (310 - 300) 이다.\n",
        "\n",
        "- 0"
      ],
      "id": "69b858b8"
    },
    {
      "cell_type": "code",
      "execution_count": 240,
      "metadata": {
        "id": "c673d682",
        "colab": {
          "base_uri": "https://localhost:8080/"
        },
        "outputId": "f04b0cdb-190d-417d-8712-ac091af8d53e"
      },
      "outputs": [
        {
          "output_type": "stream",
          "name": "stdout",
          "text": [
            "0\n",
            "-10\n",
            "10\n"
          ]
        }
      ],
      "source": [
        "ohlc = [[\"open\", \"high\", \"low\", \"close\"],\n",
        "        [100, 110, 70, 100],\n",
        "        [200, 210, 180, 190],\n",
        "        [300, 310, 300, 310]]\n",
        "\n",
        "for row in ohlc[1:]:\n",
        "  print(row[3]-row[0])"
      ],
      "id": "c673d682"
    }
  ],
  "metadata": {
    "kernelspec": {
      "display_name": "Python 3",
      "language": "python",
      "name": "python3"
    },
    "language_info": {
      "codemirror_mode": {
        "name": "ipython",
        "version": 3
      },
      "file_extension": ".py",
      "mimetype": "text/x-python",
      "name": "python",
      "nbconvert_exporter": "python",
      "pygments_lexer": "ipython3",
      "version": "3.8.8"
    },
    "colab": {
      "provenance": []
    }
  },
  "nbformat": 4,
  "nbformat_minor": 5
}
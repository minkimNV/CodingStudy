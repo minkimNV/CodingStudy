{
 "cells": [
  {
   "cell_type": "markdown",
   "id": "8d678165-ac1b-4ee6-9f34-c4f7eea7b89b",
   "metadata": {
    "tags": []
   },
   "source": [
    "# 1. List\n",
    "\n",
    "`list.append(value)`<br>\n",
    "`list.extend([value])`<br>\n",
    "`list.insert(idx, value)`<br>\n",
    "`list.remove(value)`<br>"
   ]
  },
  {
   "cell_type": "markdown",
   "id": "9f537312-c605-4055-966d-0faecae796d2",
   "metadata": {
    "jp-MarkdownHeadingCollapsed": true,
    "tags": []
   },
   "source": [
    "## 1-1. Basic\n",
    "\n",
    "`min(int_list)`<br>\n",
    "`max(int_list)`<br>\n",
    "`sum(int_list)`<br>\n",
    "<br>\n",
    "`mean(int_list)` - 불가능.<br>\n",
    "- `sum(int_list) / len(int_list)`\n",
    "- `np.mean(int_list)`\n",
    "- `stat.mean(int_list)`\n",
    "\n",
    "`list1 + list2 = list`\n"
   ]
  },
  {
   "cell_type": "code",
   "execution_count": 10,
   "id": "d050764c-f395-438a-89f6-f0b27adef746",
   "metadata": {
    "tags": []
   },
   "outputs": [
    {
     "name": "stdout",
     "output_type": "stream",
     "text": [
      "[1, 2, 3, 4, 5, 6, 7, 8, 9]\n",
      "[1, 2, 3, 4, 5, 6, 7, 8, 9, 10]\n",
      "[1, 2, 3, 4, 5, 6, 7, 8, 9, 10, 11]\n",
      "[0, 1, 2, 3, 4, 5, 6, 7, 8, 9, 10, 11]\n"
     ]
    }
   ],
   "source": [
    "int_list = [1,2,3,4,5,6,7,8,9]\n",
    "\n",
    "print(int_list)\n",
    "\n",
    "int_list.append(10)\n",
    "print(int_list)\n",
    "\n",
    "int_list.extend([11])\n",
    "print(int_list)\n",
    "\n",
    "int_list.insert(0, 0)\n",
    "print(int_list)\n",
    "\n",
    "# list.remove(11)\n",
    "    # 리스트 원소가 int 타입이면 .remove 실행 안됨.\n"
   ]
  },
  {
   "cell_type": "code",
   "execution_count": 2,
   "id": "1daa2a40-8262-4882-9b30-918650de700f",
   "metadata": {
    "tags": []
   },
   "outputs": [
    {
     "name": "stdout",
     "output_type": "stream",
     "text": [
      "0\n",
      "11\n",
      "66\n"
     ]
    }
   ],
   "source": [
    "print(min(int_list))\n",
    "print(max(int_list))\n",
    "print(sum(int_list))"
   ]
  },
  {
   "cell_type": "code",
   "execution_count": 3,
   "id": "c55d2637-ed6e-4abb-aeb1-cf47bc2fc235",
   "metadata": {
    "tags": []
   },
   "outputs": [
    {
     "name": "stdout",
     "output_type": "stream",
     "text": [
      "5.5\n",
      "5.5\n",
      "5.5\n"
     ]
    }
   ],
   "source": [
    "# print(mean(int_list)) 불가능.\n",
    "print(sum(int_list) / len(int_list))\n",
    "\n",
    "import numpy as np\n",
    "print(np.mean(int_list))\n",
    "\n",
    "import statistics as stat\n",
    "print(stat.mean(int_list))"
   ]
  },
  {
   "cell_type": "code",
   "execution_count": 4,
   "id": "c64b058f-fb38-4da6-ab18-8b28f661bfc0",
   "metadata": {
    "tags": []
   },
   "outputs": [
    {
     "name": "stdout",
     "output_type": "stream",
     "text": [
      "['C', 'C++', 'JAVA', 'Python', 'Go', 'C#']\n",
      "['C', 'C++', 'JAVA', 'Python', 'Go', 'C#', 'do you like them?']\n",
      "['C', 'C++', 'JAVA', 'Python', 'Go', 'C#', 'do you like them?', \"I don't like them..\"]\n",
      "['programming language', 'C', 'C++', 'JAVA', 'Python', 'Go', 'C#', 'do you like them?', \"I don't like them..\"]\n",
      "['programming language', 'C', 'C++', 'JAVA', 'Python', 'Go', 'C#', 'do you like them?']\n"
     ]
    }
   ],
   "source": [
    "str_list = ['C', 'C++', 'JAVA', 'Python', 'Go', 'C#']\n",
    "\n",
    "print(str_list)\n",
    "\n",
    "str_list.append('do you like them?')\n",
    "print(str_list)\n",
    "\n",
    "str_list.extend(['I don\\'t like them..'])\n",
    "print(str_list)\n",
    "\n",
    "str_list.insert(0, 'programming language')\n",
    "print(str_list)\n",
    "\n",
    "str_list.remove('I don\\'t like them..')\n",
    "    # 문자열 리스트에서만 가능.\n",
    "print(str_list)"
   ]
  },
  {
   "cell_type": "code",
   "execution_count": 11,
   "id": "a0795a06-f623-4bfa-98b8-ef04195e4b04",
   "metadata": {
    "tags": []
   },
   "outputs": [
    {
     "name": "stdout",
     "output_type": "stream",
     "text": [
      "[0, 1, 2, 3, 4, 5, 6, 7, 8, 9, 10, 11, 'programming language', 'C', 'C++', 'JAVA', 'Python', 'Go', 'C#', 'do you like them?']\n"
     ]
    }
   ],
   "source": [
    "ls = int_list + str_list\n",
    "print(ls)"
   ]
  },
  {
   "cell_type": "markdown",
   "id": "49d26d12-9021-48f9-a09c-7d84fbb0503c",
   "metadata": {
    "jp-MarkdownHeadingCollapsed": true,
    "tags": []
   },
   "source": [
    "## 1-2. Methods\n",
    "\n",
    "**.join() method: 리스트를 하나의 문자열 형태로**<br>\n",
    "`''.join(list)`<br>\n",
    "\n",
    "**.split() method: 문자열을 하나의 리스트 형태로**<br>\n",
    "`list.split('')`<br>\n"
   ]
  },
  {
   "cell_type": "code",
   "execution_count": 14,
   "id": "6c367ee0-0c3e-4a09-a443-32177c897c90",
   "metadata": {
    "tags": []
   },
   "outputs": [
    {
     "name": "stdout",
     "output_type": "stream",
     "text": [
      "['삼성전자', 'LG전자', 'Naver', 'SK하이닉스', '미래에셋대우']\n",
      "삼성전자 LG전자 Naver SK하이닉스 미래에셋대우\n",
      "삼성전자/LG전자/Naver/SK하이닉스/미래에셋대우\n",
      "삼성전자\n",
      "LG전자\n",
      "Naver\n",
      "SK하이닉스\n",
      "미래에셋대우\n",
      "삼성전자_LG전자_Naver_SK하이닉스_미래에셋대우\n"
     ]
    }
   ],
   "source": [
    "# join\n",
    "\n",
    "interest = ['삼성전자', 'LG전자', 'Naver', 'SK하이닉스', '미래에셋대우']\n",
    "\n",
    "print(interest)\n",
    "print(' '.join(interest)) # 띄어쓰기 기준으로 리스트 합친다.\n",
    "print('/'.join(interest)) # 슬래쉬(slash) 기준으로 리스트 합친다.\n",
    "print('\\n'.join(interest)) # 엔터키.. 기준으로 리스트 합친다.\n",
    "print('_'.join(interest)) # underbar 기준으로 리스트 합친다.\n"
   ]
  },
  {
   "cell_type": "code",
   "execution_count": 16,
   "id": "6188d6fe-2cdb-49e3-a28f-6134109009af",
   "metadata": {
    "tags": []
   },
   "outputs": [
    {
     "name": "stdout",
     "output_type": "stream",
     "text": [
      "삼성전자/LG전자/Naver\n",
      "['삼성전자', 'LG전자', 'Naver']\n"
     ]
    }
   ],
   "source": [
    "# split\n",
    "\n",
    "str_var = \"삼성전자/LG전자/Naver\"\n",
    "\n",
    "print(str_var)\n",
    "print(str_var.split('/')) # 슬래쉬(slash) 기준으로 문자열을 나누어 리스트로 반환"
   ]
  },
  {
   "cell_type": "markdown",
   "id": "6150ed58-181a-4e31-94b7-4048125df07b",
   "metadata": {
    "jp-MarkdownHeadingCollapsed": true,
    "tags": []
   },
   "source": [
    "## 1-3. Indexing"
   ]
  },
  {
   "cell_type": "code",
   "execution_count": 36,
   "id": "8ba7f808-aca5-423c-b515-919604850fbc",
   "metadata": {
    "tags": []
   },
   "outputs": [
    {
     "name": "stdout",
     "output_type": "stream",
     "text": [
      "[0, 1, 2, 3, 4, 5, 6, 7, 8, 9, 10, 11]\n",
      "0\n",
      "11\n",
      "[1, 2, 3, 4, 5, 6, 7, 8, 9, 10, 11]\n",
      "[0, 1, 2, 3]\n",
      "4\n",
      "[1, 2, 3, 4, 5, 6, 7, 8, 9, 10, 11]\n",
      "[0, 2, 4, 6, 8, 10]\n",
      "[1, 3, 5, 7, 9, 11]\n",
      "[1, 2]\n",
      "11\n",
      "11\n",
      "[8, 9, 10, 11]\n",
      "[11, 10, 9, 8, 7, 6, 5, 4, 3, 2, 1, 0]\n"
     ]
    }
   ],
   "source": [
    "print(int_list)\n",
    "\n",
    "print(int_list[0])\n",
    "print(int_list[11])\n",
    "print(int_list[1:]) # 1번부터 쭉 뽑아라\n",
    "print(int_list[:4]) # 앞에서 4개 뽑아줘\n",
    "print(int_list[4]) # 인덱스 4번을 뽑아줘 (네번째자리에 있는거 아님)\n",
    "\n",
    "\n",
    "print(int_list[1::])\n",
    "print(int_list[::2]) # 0번부터 두칸씩 걸러 뽑아라\n",
    "print(int_list[1::2]) \n",
    "\n",
    "print(int_list[1:3]) # 1번부터 3번째전까지 뽑아라.\n",
    "\n",
    "print(int_list[11]) # 앞부터 세면 인덱스 0 부터 시작하는데 \n",
    "print(int_list[-1]) # 뒤부터 세면 인덱스 -1 부터 시작\n",
    "\n",
    "print(int_list[-4:]) # 뒤에서 4개 뽑아줘\n",
    "print(int_list[::-1]) # 리스트 reverse 해서 뽑아라."
   ]
  },
  {
   "cell_type": "markdown",
   "id": "c85bf67e-7123-43e8-84c1-c473a6b3821c",
   "metadata": {
    "jp-MarkdownHeadingCollapsed": true,
    "tags": []
   },
   "source": [
    "## 1-4. sorting\n",
    "\n",
    "`list.sort()`\n",
    "- `list.sort(reverse = True)`\n",
    "- `list.sort(reverse = False)`"
   ]
  },
  {
   "cell_type": "code",
   "execution_count": 42,
   "id": "47e30a9d-5151-423b-a5b7-3e5ca3fa4321",
   "metadata": {
    "tags": []
   },
   "outputs": [
    {
     "name": "stdout",
     "output_type": "stream",
     "text": [
      "[10, 9, 5, 4, 3, 2, 1]\n",
      "[1, 2, 3, 4, 5, 9, 10]\n",
      "[1, 2, 3, 4, 5, 9, 10]\n"
     ]
    }
   ],
   "source": [
    "# sort()\n",
    "\n",
    "\n",
    "data = [2, 4, 3, 1, 5, 10, 9]\n",
    "\n",
    "data.sort(reverse=True)\n",
    "print(data)\n",
    "\n",
    "data.sort()\n",
    "print(data)\n",
    "\n",
    "data.sort(reverse=False)\n",
    "print(data)"
   ]
  },
  {
   "cell_type": "markdown",
   "id": "ac8ecdbb-c159-41c1-ae85-793b86357f58",
   "metadata": {
    "jp-MarkdownHeadingCollapsed": true,
    "tags": []
   },
   "source": [
    "## 1-5. reverse() / reversed()\n",
    "\n",
    "1. `list.reverse()`를 객체 정의 후에 `print(list)` = reversed list 출력\n",
    "    - 객체 정의 안해주면 소용없고 함수 그대로 (`print(list.reverse())`) 출력하려고 해도 소용없음.\n",
    "<br><br>\n",
    "2. `reversed(list)`\n",
    "    - tuple, set에서도 사용가능\n",
    "    - reversed한 리스트 내의 객체를 반환한다.\n",
    "    - 리스트로 받아보고 싶다면 `list(reversed(list))`\n",
    "    - tuple, set 에서도 똑같다."
   ]
  },
  {
   "cell_type": "code",
   "execution_count": 64,
   "id": "e068ce01-1e4a-4ffa-88ac-146614d3c36b",
   "metadata": {
    "tags": []
   },
   "outputs": [
    {
     "name": "stdout",
     "output_type": "stream",
     "text": [
      "None\n",
      "[2, 4, 3, 1, 5, 10, 9]\n",
      "[9, 10, 5, 1, 3, 4, 2]\n"
     ]
    }
   ],
   "source": [
    "# reverse\n",
    "\n",
    "data = [2, 4, 3, 1, 5, 10, 9]\n",
    "print(data.reverse()) # None\n",
    "\n",
    "data.reverse()\n",
    "print(data) # data를 reverse 없이 그대로 반환해준다.\n",
    "\n",
    "data_rev = data.reverse() #.reverse() 객체에 정의 해주면\n",
    "print(data) # data를 reverse 해서 반환해준다."
   ]
  },
  {
   "cell_type": "code",
   "execution_count": 61,
   "id": "ce0590eb-4988-4ac9-9ff6-2975af720aa9",
   "metadata": {
    "tags": []
   },
   "outputs": [
    {
     "name": "stdout",
     "output_type": "stream",
     "text": [
      "['a', 'b', 'c']\n",
      "None\n",
      "['c', 'b', 'a']\n"
     ]
    }
   ],
   "source": [
    "l = ['a', 'b', 'c']\n",
    "print(l)\n",
    "\n",
    "l_reverse = l.reverse()\n",
    "\n",
    "print(l_reverse)  # None\n",
    "print(l)  # ['c', 'b', 'a']"
   ]
  },
  {
   "cell_type": "code",
   "execution_count": 52,
   "id": "7fd29b5c-ef1d-4799-a2a2-737df9837e03",
   "metadata": {
    "tags": []
   },
   "outputs": [
    {
     "name": "stdout",
     "output_type": "stream",
     "text": [
      "<list_reverseiterator object at 0x7fd12913ce20>\n",
      "<reversed object at 0x7fd12913dde0>\n",
      "<reversed object at 0x7fd12913ce20>\n",
      "['c', 'b', 'a']\n",
      "('c', 'b', 'a')\n",
      "{'a', 'b', 'c'}\n"
     ]
    }
   ],
   "source": [
    "l = ['a', 'b', 'c']\n",
    "t = ('a', 'b', 'c')\n",
    "s = 'abc'\n",
    "\n",
    "print(reversed(l))  # <listreverseiterator object at 0x101053c10>\n",
    "print(reversed(t))  # <reversed object at 0x101053b50>\n",
    "print(reversed(s))  # <reversed object at 0x101053c10>\n",
    "\n",
    "# reversed(list/tuple/set) 은 reverse한 객체들을 반환한다.\n",
    "# 리스트로 받아보고 싶다면\n",
    "print(list(reversed(l)))\n",
    "print(tuple(reversed(t)))\n",
    "print(set(reversed(s)))"
   ]
  },
  {
   "cell_type": "markdown",
   "id": "0b8ea0f5-be24-4f40-86b8-68f0eec1a172",
   "metadata": {
    "jp-MarkdownHeadingCollapsed": true,
    "tags": []
   },
   "source": [
    "# 2. Dictionary\n",
    "\n",
    "`dictionary[key]` - return *value*<br>\n",
    "- append 기능도 있음\n",
    "\n",
    "\n",
    "`dictionary.keys()` - return *keys*<br>\n",
    "`dictionary.values()` - return *values*<br>\n",
    "`dictionary.items()` - return *(key, value)*<br>\n",
    "`del(dictionary[key])` - delete 지정 key:value <br>\n",
    "`dictionary.update({key: value, ..., key:value})`\n",
    "\n"
   ]
  },
  {
   "cell_type": "code",
   "execution_count": 69,
   "id": "7076d56d-b18c-4483-b87b-8ef3e4bf512b",
   "metadata": {
    "tags": []
   },
   "outputs": [
    {
     "name": "stdout",
     "output_type": "stream",
     "text": [
      "1\n",
      "{'a': 1, 'b': 2, 'c': 3}\n",
      "dict_keys(['a', 'b', 'c'])\n",
      "dict_values([1, 2, 3])\n",
      "dict_items([('a', 1), ('b', 2), ('c', 3)])\n"
     ]
    }
   ],
   "source": [
    "dict1 = {\"a\": 1, \"b\": 2}\n",
    "    # key: value, key: value, ... key: value\n",
    "\n",
    "print(dict1[\"a\"]) # \"a\" key 의 value 알려줘!!\n",
    "\n",
    "# print(dict1[1]) - 1은 value 값이라 에러 나와용.\n",
    "\n",
    "dict1[\"c\"] = 3 \n",
    "print(dict1)\n",
    "\n",
    "print(dict1.keys())\n",
    "print(dict1.values())\n",
    "print(dict1.items())"
   ]
  },
  {
   "cell_type": "code",
   "execution_count": 75,
   "id": "9e49f14d-72c1-403b-875f-5052802342f5",
   "metadata": {
    "tags": []
   },
   "outputs": [
    {
     "name": "stdout",
     "output_type": "stream",
     "text": [
      "{'메로나': 1000, '폴로포': 1200, '빵빠레': 1800, '죠스바': 1200, '월드콘': 1500}\n",
      "['메로나', '폴로포', '빵빠레', '죠스바', '월드콘']\n",
      "[1000, 1200, 1800, 1200, 1500]\n",
      "1000\n",
      "메로나\n",
      "{'폴로포': 1200, '빵빠레': 1800, '죠스바': 1200, '월드콘': 1500}\n"
     ]
    }
   ],
   "source": [
    "ice = {'메로나': 1000, '폴로포': 1200, '빵빠레': 1800, '죠스바': 1200, '월드콘': 1500}\n",
    "print(ice)\n",
    "\n",
    "\n",
    "ice_list = list(ice.keys())\n",
    "price_list = list(ice.values())\n",
    "print(ice_list)\n",
    "print(price_list)\n",
    "\n",
    "# 특정 키의 value를 보고 싶으면\n",
    "print(ice['메로나'])\n",
    "\n",
    "# 특정 키만 꺼내고 싶을 때\n",
    "# 1. 키값만 리스트화\n",
    "# 2. 리스트 인덱스 사용\n",
    "print(list(ice.keys())[0])\n",
    "\n",
    "del(ice['메로나'])\n",
    "print(ice)"
   ]
  },
  {
   "cell_type": "code",
   "execution_count": 78,
   "id": "262fd7dc-fe8c-4d92-a180-880fe7c5e68b",
   "metadata": {
    "tags": []
   },
   "outputs": [
    {
     "name": "stdout",
     "output_type": "stream",
     "text": [
      "[1000, 20]\n",
      "1000\n",
      "{'메로나': [1000, 20], '폴로포': 1200, '빵빠레': 1800, '죠스바': 1200, '월드콘': 1500, '팥빙수': 2700, '아맛나': 1000}\n"
     ]
    }
   ],
   "source": [
    "ice = {'메로나': [1000, 20], '폴로포': 1200, '빵빠레': 1800, '죠스바': 1200, '월드콘': 1500}\n",
    "\n",
    "\n",
    "print(ice['메로나'])\n",
    "print(ice['메로나'][0])\n",
    "\n",
    "ice.update({'팥빙수':2700, '아맛나':1000})\n",
    "print(ice)"
   ]
  },
  {
   "cell_type": "markdown",
   "id": "8a8ca4c2-c127-4059-b7a8-08755b31cf94",
   "metadata": {
    "tags": []
   },
   "source": [
    "# 3. zip / enumerate\n",
    "- 리스트, 딕셔너리, 튜플, 셋 모두에 다 가능.\n",
    "    - `zip` : 리스트 두개를 묶어준다\n",
    "    - `enumerate` : 리스트에 인덱스를 붙여서 묶어준다."
   ]
  },
  {
   "cell_type": "code",
   "execution_count": 87,
   "id": "d1ab760c-0927-4636-8fb1-b7acdbdad191",
   "metadata": {
    "tags": []
   },
   "outputs": [
    {
     "name": "stdout",
     "output_type": "stream",
     "text": [
      "{'09/05': 10500, '09/06': 10300, '09/07': 10100, '09/08': 10800, '09/09': 11000}\n",
      "[('09/05', 10500), ('09/06', 10300), ('09/07', 10100), ('09/08', 10800), ('09/09', 11000)]\n",
      "(('09/05', 10500), ('09/06', 10300), ('09/07', 10100), ('09/08', 10800), ('09/09', 11000))\n",
      "{('09/07', 10100), ('09/05', 10500), ('09/09', 11000), ('09/06', 10300), ('09/08', 10800)}\n"
     ]
    }
   ],
   "source": [
    "date = ['09/05', '09/06', '09/07', '09/08', '09/09']\n",
    "close_price = [10500, 10300, 10100, 10800, 11000]\n",
    "\n",
    "dict_close_table = dict(zip(date, close_price))\n",
    "ls_ = list(zip(date, close_price))\n",
    "tup_ = tuple(zip(date, close_price))\n",
    "set_ = set(zip(date, close_price))\n",
    "\n",
    "print(dict_close_table)\n",
    "print(ls_)\n",
    "print(tup_)\n",
    "print(set_)"
   ]
  },
  {
   "cell_type": "code",
   "execution_count": 80,
   "id": "40a461c8-9ac5-492f-a24f-323a9f56df7f",
   "metadata": {
    "tags": []
   },
   "outputs": [
    {
     "name": "stdout",
     "output_type": "stream",
     "text": [
      "09/05 10500\n",
      "09/06 10300\n",
      "09/07 10100\n",
      "09/08 10800\n",
      "09/09 11000\n"
     ]
    }
   ],
   "source": [
    "for date, close_price in zip(date, close_price):\n",
    "    print(date, close_price)"
   ]
  },
  {
   "cell_type": "code",
   "execution_count": 92,
   "id": "e1439972-1534-47f6-8fd2-4f71c61b96a8",
   "metadata": {
    "tags": []
   },
   "outputs": [
    {
     "name": "stdout",
     "output_type": "stream",
     "text": [
      "James 95\n",
      "Robert 96\n",
      "Lisa 97\n",
      "Mary 94\n",
      "James 95\n",
      "Robert 96\n",
      "Lisa 97\n",
      "Mary 94\n"
     ]
    }
   ],
   "source": [
    "names = ['James', 'Robert', 'Lisa', 'Mary']\n",
    "scores = [95, 96, 97, 94]\n",
    "\n",
    "for k in range(len(names)):\n",
    "    print(names[k], scores[k])\n",
    "# 인덱스로 불편하게 짝지어주지말고\n",
    "\n",
    "# 간편하게 zip 하세용~\n",
    "for name, score in zip(names, scores):\n",
    "    print(name, score)"
   ]
  },
  {
   "cell_type": "code",
   "execution_count": 89,
   "id": "30596310-9d27-4588-8ca3-0ef1ce24472e",
   "metadata": {
    "tags": []
   },
   "outputs": [
    {
     "name": "stdout",
     "output_type": "stream",
     "text": [
      "{0: 10500, 1: 10300, 2: 10100, 3: 10800, 4: 11000}\n",
      "[(0, 10500), (1, 10300), (2, 10100), (3, 10800), (4, 11000)]\n",
      "((0, 10500), (1, 10300), (2, 10100), (3, 10800), (4, 11000))\n",
      "{(2, 10100), (1, 10300), (3, 10800), (0, 10500), (4, 11000)}\n"
     ]
    }
   ],
   "source": [
    "close_price = [10500, 10300, 10100, 10800, 11000]\n",
    "dict_close_table = dict(enumerate(close_price))\n",
    "ls_ = list(enumerate(close_price))\n",
    "tup_ = tuple(enumerate(close_price))\n",
    "set_ = set(enumerate(close_price))\n",
    "\n",
    "print(dict_close_table)\n",
    "print(ls_)\n",
    "print(tup_)\n",
    "print(set_)"
   ]
  },
  {
   "cell_type": "code",
   "execution_count": 2,
   "id": "d6b4f8a9-26b9-480d-b883-ba7a2e31bf30",
   "metadata": {
    "tags": []
   },
   "outputs": [
    {
     "name": "stdout",
     "output_type": "stream",
     "text": [
      "[50, 100, 30, 80, 0]\n",
      "[50, 100, 30, 80, 0]\n"
     ]
    }
   ],
   "source": [
    "low_prices = [100, 200, 400, 800, 1000]\n",
    "high_prices = [150, 300, 430, 880, 1000]\n",
    "\n",
    "volatility = []\n",
    "for low, high in zip(low_prices, high_prices):\n",
    "    volatility.append(abs(low-high))\n",
    "print(volatility)\n",
    "\n",
    "\n",
    "volatility = []\n",
    "for i in range(len(low_prices)) :\n",
    "    volatility.append(high_prices[i] - low_prices[i])\n",
    "print(volatility)"
   ]
  },
  {
   "cell_type": "markdown",
   "id": "84a3d34b-33ab-4c65-9722-39255e68f930",
   "metadata": {},
   "source": [
    "# 웅.."
   ]
  },
  {
   "cell_type": "code",
   "execution_count": 6,
   "id": "09384a06-e722-4a90-a76d-981364199974",
   "metadata": {
    "tags": []
   },
   "outputs": [
    {
     "name": "stdout",
     "output_type": "stream",
     "text": [
      "101 호\n",
      "102 호\n",
      "201 호\n",
      "202 호\n",
      "301 호\n",
      "302 호\n"
     ]
    }
   ],
   "source": [
    "apart = [[101, 102], [201, 202], [301, 302]]\n",
    "\n",
    "for row in apart:\n",
    "    # apart[0], ..., apart[-1]\n",
    "    for col in row:\n",
    "        # apart[0][0], apart[0][1], ..., apart[1][0], ..., apart[-1][-1]\n",
    "        print(col, \"호\")"
   ]
  },
  {
   "cell_type": "code",
   "execution_count": 7,
   "id": "dab7dd1f-a2d1-4905-be6c-7e27575506fe",
   "metadata": {
    "tags": []
   },
   "outputs": [
    {
     "name": "stdout",
     "output_type": "stream",
     "text": [
      "301 호\n",
      "302 호\n",
      "201 호\n",
      "202 호\n",
      "101 호\n",
      "102 호\n"
     ]
    }
   ],
   "source": [
    "for row in apart[::-1]:\n",
    "    # apart[-1], apart[-2], ..., apart[0]\n",
    "    for col in row:\n",
    "        # apart[-1][0], apart[-1][1], ..., apart[0][0], apart[0][1]\n",
    "        print(col, \"호\")"
   ]
  },
  {
   "cell_type": "code",
   "execution_count": 5,
   "id": "dddfbe64-5420-48e7-82e4-ce153e08c8c3",
   "metadata": {
    "tags": []
   },
   "outputs": [
    {
     "name": "stdout",
     "output_type": "stream",
     "text": [
      "302 호\n",
      "301 호\n",
      "202 호\n",
      "201 호\n",
      "102 호\n",
      "101 호\n"
     ]
    }
   ],
   "source": [
    "for row in apart[::-1]:\n",
    "    # apart[-1], apart[-2], ..., apart[0]\n",
    "    for col in row[::-1]:\n",
    "        # apart[-1][-1], apart[-1][-2], ..., apart[-1][0], ..., apart[0][-1], ..., apart[0][0]\n",
    "        print(col, \"호\")"
   ]
  },
  {
   "cell_type": "code",
   "execution_count": 9,
   "id": "b5aac042-c509-4d15-a09d-8dcc695b085c",
   "metadata": {
    "tags": []
   },
   "outputs": [
    {
     "name": "stdout",
     "output_type": "stream",
     "text": [
      "101 호\n",
      "-----\n",
      "102 호\n",
      "-----\n",
      "201 호\n",
      "-----\n",
      "202 호\n",
      "-----\n",
      "301 호\n",
      "-----\n",
      "302 호\n",
      "-----\n"
     ]
    }
   ],
   "source": [
    "for row in apart:\n",
    "    for col in row:\n",
    "        print(col, \"호\")\n",
    "        print(\"-\" * 5)"
   ]
  },
  {
   "cell_type": "code",
   "execution_count": 10,
   "id": "1728b94f-82ef-4856-acc4-687a4ac284e5",
   "metadata": {
    "tags": []
   },
   "outputs": [
    {
     "name": "stdout",
     "output_type": "stream",
     "text": [
      "101 호\n",
      "102 호\n",
      "-----\n",
      "201 호\n",
      "202 호\n",
      "-----\n",
      "301 호\n",
      "302 호\n",
      "-----\n"
     ]
    }
   ],
   "source": [
    "for row in apart:\n",
    "    for col in row:\n",
    "        print(col, \"호\")\n",
    "    print(\"-\" * 5)"
   ]
  },
  {
   "cell_type": "code",
   "execution_count": 11,
   "id": "2d165c76-af30-4d26-a0c8-936580da2142",
   "metadata": {
    "tags": []
   },
   "outputs": [
    {
     "name": "stdout",
     "output_type": "stream",
     "text": [
      "101 호\n",
      "102 호\n",
      "201 호\n",
      "202 호\n",
      "301 호\n",
      "302 호\n",
      "-----\n"
     ]
    }
   ],
   "source": [
    "for row in apart:\n",
    "    for col in row:\n",
    "        print(col, \"호\")\n",
    "print(\"-\" * 5)"
   ]
  },
  {
   "cell_type": "code",
   "execution_count": null,
   "id": "541c5ddf-e08c-4ec6-81ce-083c964f9282",
   "metadata": {},
   "outputs": [],
   "source": []
  }
 ],
 "metadata": {
  "kernelspec": {
   "display_name": "Python 3 (ipykernel)",
   "language": "python",
   "name": "python3"
  },
  "language_info": {
   "codemirror_mode": {
    "name": "ipython",
    "version": 3
   },
   "file_extension": ".py",
   "mimetype": "text/x-python",
   "name": "python",
   "nbconvert_exporter": "python",
   "pygments_lexer": "ipython3",
   "version": "3.10.9"
  }
 },
 "nbformat": 4,
 "nbformat_minor": 5
}
